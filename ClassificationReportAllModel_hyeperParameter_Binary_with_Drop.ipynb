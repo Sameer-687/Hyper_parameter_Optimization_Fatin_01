{
 "cells": [
  {
   "cell_type": "code",
   "execution_count": 1,
   "id": "c655f787-3e33-425e-b7df-e26992eccea0",
   "metadata": {},
   "outputs": [],
   "source": [
    "import numpy as np\n",
    "import pandas as pd\n",
    "import matplotlib.pyplot as plt\n",
    "import seaborn as sns\n",
    "from sklearn.model_selection import StratifiedKFold\n",
    "folds = StratifiedKFold(n_splits=10)\n",
    "from sklearn.model_selection import cross_val_score\n",
    "from sklearn.metrics import confusion_matrix\n",
    "from sklearn.metrics import precision_score, recall_score,f1_score\n",
    "from sklearn.model_selection import train_test_split\n",
    "#import tensorflow as tf\n",
    "from sklearn.metrics import roc_auc_score\n",
    "import six\n",
    "import sys\n",
    "sys.modules['sklearn.externals.six'] = six\n",
    "from sklearn import preprocessing"
   ]
  },
  {
   "cell_type": "code",
   "execution_count": 2,
   "id": "349c65fe-548c-4c7b-ba07-986cadc9805b",
   "metadata": {},
   "outputs": [],
   "source": [
    "import numpy as np\n",
    "import matplotlib.pyplot as plt\n",
    "from itertools import cycle\n",
    "\n",
    "from sklearn import svm, datasets\n",
    "from sklearn.metrics import roc_curve, auc\n",
    "from sklearn.model_selection import train_test_split\n",
    "from sklearn.preprocessing import label_binarize\n",
    "from sklearn.multiclass import OneVsRestClassifier\n",
    "from sklearn.metrics import roc_auc_score\n",
    "from joblib import Parallel, delayed\n",
    "import joblib"
   ]
  },
  {
   "cell_type": "code",
   "execution_count": 3,
   "id": "9a50b0a3-2188-4c73-ab6b-26a5f74686f5",
   "metadata": {},
   "outputs": [
    {
     "data": {
      "text/html": [
       "<div>\n",
       "<style scoped>\n",
       "    .dataframe tbody tr th:only-of-type {\n",
       "        vertical-align: middle;\n",
       "    }\n",
       "\n",
       "    .dataframe tbody tr th {\n",
       "        vertical-align: top;\n",
       "    }\n",
       "\n",
       "    .dataframe thead th {\n",
       "        text-align: right;\n",
       "    }\n",
       "</style>\n",
       "<table border=\"1\" class=\"dataframe\">\n",
       "  <thead>\n",
       "    <tr style=\"text-align: right;\">\n",
       "      <th></th>\n",
       "      <th>id</th>\n",
       "      <th>dur</th>\n",
       "      <th>proto</th>\n",
       "      <th>service</th>\n",
       "      <th>state</th>\n",
       "      <th>spkts</th>\n",
       "      <th>dpkts</th>\n",
       "      <th>sbytes</th>\n",
       "      <th>dbytes</th>\n",
       "      <th>rate</th>\n",
       "      <th>...</th>\n",
       "      <th>ct_dst_sport_ltm</th>\n",
       "      <th>ct_dst_src_ltm</th>\n",
       "      <th>is_ftp_login</th>\n",
       "      <th>ct_ftp_cmd</th>\n",
       "      <th>ct_flw_http_mthd</th>\n",
       "      <th>ct_src_ltm</th>\n",
       "      <th>ct_srv_dst</th>\n",
       "      <th>is_sm_ips_ports</th>\n",
       "      <th>attack_cat</th>\n",
       "      <th>label</th>\n",
       "    </tr>\n",
       "  </thead>\n",
       "  <tbody>\n",
       "    <tr>\n",
       "      <th>0</th>\n",
       "      <td>1</td>\n",
       "      <td>0.121478</td>\n",
       "      <td>tcp</td>\n",
       "      <td>-</td>\n",
       "      <td>FIN</td>\n",
       "      <td>6</td>\n",
       "      <td>4</td>\n",
       "      <td>258</td>\n",
       "      <td>172</td>\n",
       "      <td>74.087490</td>\n",
       "      <td>...</td>\n",
       "      <td>1</td>\n",
       "      <td>1</td>\n",
       "      <td>0</td>\n",
       "      <td>0</td>\n",
       "      <td>0</td>\n",
       "      <td>1</td>\n",
       "      <td>1</td>\n",
       "      <td>0</td>\n",
       "      <td>Normal</td>\n",
       "      <td>0</td>\n",
       "    </tr>\n",
       "    <tr>\n",
       "      <th>1</th>\n",
       "      <td>2</td>\n",
       "      <td>0.649902</td>\n",
       "      <td>tcp</td>\n",
       "      <td>-</td>\n",
       "      <td>FIN</td>\n",
       "      <td>14</td>\n",
       "      <td>38</td>\n",
       "      <td>734</td>\n",
       "      <td>42014</td>\n",
       "      <td>78.473372</td>\n",
       "      <td>...</td>\n",
       "      <td>1</td>\n",
       "      <td>2</td>\n",
       "      <td>0</td>\n",
       "      <td>0</td>\n",
       "      <td>0</td>\n",
       "      <td>1</td>\n",
       "      <td>6</td>\n",
       "      <td>0</td>\n",
       "      <td>Normal</td>\n",
       "      <td>0</td>\n",
       "    </tr>\n",
       "    <tr>\n",
       "      <th>2</th>\n",
       "      <td>3</td>\n",
       "      <td>1.623129</td>\n",
       "      <td>tcp</td>\n",
       "      <td>-</td>\n",
       "      <td>FIN</td>\n",
       "      <td>8</td>\n",
       "      <td>16</td>\n",
       "      <td>364</td>\n",
       "      <td>13186</td>\n",
       "      <td>14.170161</td>\n",
       "      <td>...</td>\n",
       "      <td>1</td>\n",
       "      <td>3</td>\n",
       "      <td>0</td>\n",
       "      <td>0</td>\n",
       "      <td>0</td>\n",
       "      <td>2</td>\n",
       "      <td>6</td>\n",
       "      <td>0</td>\n",
       "      <td>Normal</td>\n",
       "      <td>0</td>\n",
       "    </tr>\n",
       "    <tr>\n",
       "      <th>3</th>\n",
       "      <td>4</td>\n",
       "      <td>1.681642</td>\n",
       "      <td>tcp</td>\n",
       "      <td>ftp</td>\n",
       "      <td>FIN</td>\n",
       "      <td>12</td>\n",
       "      <td>12</td>\n",
       "      <td>628</td>\n",
       "      <td>770</td>\n",
       "      <td>13.677108</td>\n",
       "      <td>...</td>\n",
       "      <td>1</td>\n",
       "      <td>3</td>\n",
       "      <td>1</td>\n",
       "      <td>1</td>\n",
       "      <td>0</td>\n",
       "      <td>2</td>\n",
       "      <td>1</td>\n",
       "      <td>0</td>\n",
       "      <td>Normal</td>\n",
       "      <td>0</td>\n",
       "    </tr>\n",
       "    <tr>\n",
       "      <th>4</th>\n",
       "      <td>5</td>\n",
       "      <td>0.449454</td>\n",
       "      <td>tcp</td>\n",
       "      <td>-</td>\n",
       "      <td>FIN</td>\n",
       "      <td>10</td>\n",
       "      <td>6</td>\n",
       "      <td>534</td>\n",
       "      <td>268</td>\n",
       "      <td>33.373826</td>\n",
       "      <td>...</td>\n",
       "      <td>1</td>\n",
       "      <td>40</td>\n",
       "      <td>0</td>\n",
       "      <td>0</td>\n",
       "      <td>0</td>\n",
       "      <td>2</td>\n",
       "      <td>39</td>\n",
       "      <td>0</td>\n",
       "      <td>Normal</td>\n",
       "      <td>0</td>\n",
       "    </tr>\n",
       "    <tr>\n",
       "      <th>...</th>\n",
       "      <td>...</td>\n",
       "      <td>...</td>\n",
       "      <td>...</td>\n",
       "      <td>...</td>\n",
       "      <td>...</td>\n",
       "      <td>...</td>\n",
       "      <td>...</td>\n",
       "      <td>...</td>\n",
       "      <td>...</td>\n",
       "      <td>...</td>\n",
       "      <td>...</td>\n",
       "      <td>...</td>\n",
       "      <td>...</td>\n",
       "      <td>...</td>\n",
       "      <td>...</td>\n",
       "      <td>...</td>\n",
       "      <td>...</td>\n",
       "      <td>...</td>\n",
       "      <td>...</td>\n",
       "      <td>...</td>\n",
       "      <td>...</td>\n",
       "    </tr>\n",
       "    <tr>\n",
       "      <th>257668</th>\n",
       "      <td>82328</td>\n",
       "      <td>0.000005</td>\n",
       "      <td>udp</td>\n",
       "      <td>-</td>\n",
       "      <td>INT</td>\n",
       "      <td>2</td>\n",
       "      <td>0</td>\n",
       "      <td>104</td>\n",
       "      <td>0</td>\n",
       "      <td>200000.005100</td>\n",
       "      <td>...</td>\n",
       "      <td>1</td>\n",
       "      <td>2</td>\n",
       "      <td>0</td>\n",
       "      <td>0</td>\n",
       "      <td>0</td>\n",
       "      <td>2</td>\n",
       "      <td>1</td>\n",
       "      <td>0</td>\n",
       "      <td>Normal</td>\n",
       "      <td>0</td>\n",
       "    </tr>\n",
       "    <tr>\n",
       "      <th>257669</th>\n",
       "      <td>82329</td>\n",
       "      <td>1.106101</td>\n",
       "      <td>tcp</td>\n",
       "      <td>-</td>\n",
       "      <td>FIN</td>\n",
       "      <td>20</td>\n",
       "      <td>8</td>\n",
       "      <td>18062</td>\n",
       "      <td>354</td>\n",
       "      <td>24.410067</td>\n",
       "      <td>...</td>\n",
       "      <td>1</td>\n",
       "      <td>1</td>\n",
       "      <td>0</td>\n",
       "      <td>0</td>\n",
       "      <td>0</td>\n",
       "      <td>3</td>\n",
       "      <td>2</td>\n",
       "      <td>0</td>\n",
       "      <td>Normal</td>\n",
       "      <td>0</td>\n",
       "    </tr>\n",
       "    <tr>\n",
       "      <th>257670</th>\n",
       "      <td>82330</td>\n",
       "      <td>0.000000</td>\n",
       "      <td>arp</td>\n",
       "      <td>-</td>\n",
       "      <td>INT</td>\n",
       "      <td>1</td>\n",
       "      <td>0</td>\n",
       "      <td>46</td>\n",
       "      <td>0</td>\n",
       "      <td>0.000000</td>\n",
       "      <td>...</td>\n",
       "      <td>1</td>\n",
       "      <td>1</td>\n",
       "      <td>0</td>\n",
       "      <td>0</td>\n",
       "      <td>0</td>\n",
       "      <td>1</td>\n",
       "      <td>1</td>\n",
       "      <td>1</td>\n",
       "      <td>Normal</td>\n",
       "      <td>0</td>\n",
       "    </tr>\n",
       "    <tr>\n",
       "      <th>257671</th>\n",
       "      <td>82331</td>\n",
       "      <td>0.000000</td>\n",
       "      <td>arp</td>\n",
       "      <td>-</td>\n",
       "      <td>INT</td>\n",
       "      <td>1</td>\n",
       "      <td>0</td>\n",
       "      <td>46</td>\n",
       "      <td>0</td>\n",
       "      <td>0.000000</td>\n",
       "      <td>...</td>\n",
       "      <td>1</td>\n",
       "      <td>1</td>\n",
       "      <td>0</td>\n",
       "      <td>0</td>\n",
       "      <td>0</td>\n",
       "      <td>1</td>\n",
       "      <td>1</td>\n",
       "      <td>1</td>\n",
       "      <td>Normal</td>\n",
       "      <td>0</td>\n",
       "    </tr>\n",
       "    <tr>\n",
       "      <th>257672</th>\n",
       "      <td>82332</td>\n",
       "      <td>0.000009</td>\n",
       "      <td>udp</td>\n",
       "      <td>-</td>\n",
       "      <td>INT</td>\n",
       "      <td>2</td>\n",
       "      <td>0</td>\n",
       "      <td>104</td>\n",
       "      <td>0</td>\n",
       "      <td>111111.107200</td>\n",
       "      <td>...</td>\n",
       "      <td>1</td>\n",
       "      <td>1</td>\n",
       "      <td>0</td>\n",
       "      <td>0</td>\n",
       "      <td>0</td>\n",
       "      <td>1</td>\n",
       "      <td>1</td>\n",
       "      <td>0</td>\n",
       "      <td>Normal</td>\n",
       "      <td>0</td>\n",
       "    </tr>\n",
       "  </tbody>\n",
       "</table>\n",
       "<p>257673 rows × 45 columns</p>\n",
       "</div>"
      ],
      "text/plain": [
       "           id       dur proto service state  spkts  dpkts  sbytes  dbytes  \\\n",
       "0           1  0.121478   tcp       -   FIN      6      4     258     172   \n",
       "1           2  0.649902   tcp       -   FIN     14     38     734   42014   \n",
       "2           3  1.623129   tcp       -   FIN      8     16     364   13186   \n",
       "3           4  1.681642   tcp     ftp   FIN     12     12     628     770   \n",
       "4           5  0.449454   tcp       -   FIN     10      6     534     268   \n",
       "...       ...       ...   ...     ...   ...    ...    ...     ...     ...   \n",
       "257668  82328  0.000005   udp       -   INT      2      0     104       0   \n",
       "257669  82329  1.106101   tcp       -   FIN     20      8   18062     354   \n",
       "257670  82330  0.000000   arp       -   INT      1      0      46       0   \n",
       "257671  82331  0.000000   arp       -   INT      1      0      46       0   \n",
       "257672  82332  0.000009   udp       -   INT      2      0     104       0   \n",
       "\n",
       "                 rate  ...  ct_dst_sport_ltm  ct_dst_src_ltm  is_ftp_login  \\\n",
       "0           74.087490  ...                 1               1             0   \n",
       "1           78.473372  ...                 1               2             0   \n",
       "2           14.170161  ...                 1               3             0   \n",
       "3           13.677108  ...                 1               3             1   \n",
       "4           33.373826  ...                 1              40             0   \n",
       "...               ...  ...               ...             ...           ...   \n",
       "257668  200000.005100  ...                 1               2             0   \n",
       "257669      24.410067  ...                 1               1             0   \n",
       "257670       0.000000  ...                 1               1             0   \n",
       "257671       0.000000  ...                 1               1             0   \n",
       "257672  111111.107200  ...                 1               1             0   \n",
       "\n",
       "        ct_ftp_cmd  ct_flw_http_mthd  ct_src_ltm  ct_srv_dst  is_sm_ips_ports  \\\n",
       "0                0                 0           1           1                0   \n",
       "1                0                 0           1           6                0   \n",
       "2                0                 0           2           6                0   \n",
       "3                1                 0           2           1                0   \n",
       "4                0                 0           2          39                0   \n",
       "...            ...               ...         ...         ...              ...   \n",
       "257668           0                 0           2           1                0   \n",
       "257669           0                 0           3           2                0   \n",
       "257670           0                 0           1           1                1   \n",
       "257671           0                 0           1           1                1   \n",
       "257672           0                 0           1           1                0   \n",
       "\n",
       "        attack_cat  label  \n",
       "0           Normal      0  \n",
       "1           Normal      0  \n",
       "2           Normal      0  \n",
       "3           Normal      0  \n",
       "4           Normal      0  \n",
       "...            ...    ...  \n",
       "257668      Normal      0  \n",
       "257669      Normal      0  \n",
       "257670      Normal      0  \n",
       "257671      Normal      0  \n",
       "257672      Normal      0  \n",
       "\n",
       "[257673 rows x 45 columns]"
      ]
     },
     "execution_count": 3,
     "metadata": {},
     "output_type": "execute_result"
    }
   ],
   "source": [
    "df = pd.read_csv(\"C__Users_Bob_Desktop_my_data.csv\")\n",
    "df"
   ]
  },
  {
   "cell_type": "code",
   "execution_count": 4,
   "id": "43e64451-00b6-4b1d-ac4c-d290fbb0d196",
   "metadata": {},
   "outputs": [],
   "source": [
    "from sklearn.utils import shuffle\n",
    "df = shuffle(df,random_state=50)"
   ]
  },
  {
   "cell_type": "code",
   "execution_count": 5,
   "id": "affe4525-eeb4-4042-a754-72953880098b",
   "metadata": {},
   "outputs": [
    {
     "data": {
      "text/plain": [
       "array([ 2,  4,  5,  7,  9,  8,  3,  0,  6, 10,  1])"
      ]
     },
     "execution_count": 5,
     "metadata": {},
     "output_type": "execute_result"
    }
   ],
   "source": [
    "from sklearn import preprocessing\n",
    "  \n",
    "# label_encoder object knows how to understand word labels.\n",
    "label_encoder1 = preprocessing.LabelEncoder()\n",
    "df['proto']= label_encoder1.fit_transform(df['proto'])\n",
    "  \n",
    "df['proto'].unique()\n",
    "label_encoder2 = preprocessing.LabelEncoder()\n",
    "df['attack_cat']= label_encoder2.fit_transform(df['attack_cat'])\n",
    "  \n",
    "df['attack_cat'].unique()\n",
    "\n",
    "label_encoder3 = preprocessing.LabelEncoder()\n",
    "df['service']= label_encoder3.fit_transform(df['service'])\n",
    "  \n",
    "df['service'].unique()\n",
    "label_encoder4 = preprocessing.LabelEncoder()\n",
    "df['state']= label_encoder4.fit_transform(df['state'])\n",
    "  \n",
    "df['state'].unique()"
   ]
  },
  {
   "cell_type": "code",
   "execution_count": 6,
   "id": "44e8ed80-a705-4717-96f7-b9b82eac0e35",
   "metadata": {},
   "outputs": [],
   "source": [
    "y=df['label']\n",
    "#y1=df.iloc[:,-1]\n",
    "x_k=df.drop(['label','attack_cat','id','dwin','sloss','stcpb','dtcpb','swin','response_body_len','ct_flw_http_mthd','trans_depth','is_sm_ips_ports','is_ftp_login','ct_ftp_cmd'],axis=1)\n",
    "#y= df['attack_cat']"
   ]
  },
  {
   "cell_type": "code",
   "execution_count": 7,
   "id": "d984713f-5030-4372-876e-edcc487dc2fd",
   "metadata": {},
   "outputs": [
    {
     "data": {
      "text/html": [
       "<div>\n",
       "<style scoped>\n",
       "    .dataframe tbody tr th:only-of-type {\n",
       "        vertical-align: middle;\n",
       "    }\n",
       "\n",
       "    .dataframe tbody tr th {\n",
       "        vertical-align: top;\n",
       "    }\n",
       "\n",
       "    .dataframe thead th {\n",
       "        text-align: right;\n",
       "    }\n",
       "</style>\n",
       "<table border=\"1\" class=\"dataframe\">\n",
       "  <thead>\n",
       "    <tr style=\"text-align: right;\">\n",
       "      <th></th>\n",
       "      <th>0</th>\n",
       "      <th>1</th>\n",
       "      <th>2</th>\n",
       "      <th>3</th>\n",
       "      <th>4</th>\n",
       "      <th>5</th>\n",
       "      <th>6</th>\n",
       "      <th>7</th>\n",
       "      <th>8</th>\n",
       "      <th>9</th>\n",
       "      <th>...</th>\n",
       "      <th>21</th>\n",
       "      <th>22</th>\n",
       "      <th>23</th>\n",
       "      <th>24</th>\n",
       "      <th>25</th>\n",
       "      <th>26</th>\n",
       "      <th>27</th>\n",
       "      <th>28</th>\n",
       "      <th>29</th>\n",
       "      <th>30</th>\n",
       "    </tr>\n",
       "  </thead>\n",
       "  <tbody>\n",
       "    <tr>\n",
       "      <th>0</th>\n",
       "      <td>2.881667e-05</td>\n",
       "      <td>0.901515</td>\n",
       "      <td>0.000000</td>\n",
       "      <td>0.2</td>\n",
       "      <td>0.000282</td>\n",
       "      <td>0.000363</td>\n",
       "      <td>0.000035</td>\n",
       "      <td>0.000021</td>\n",
       "      <td>0.004049</td>\n",
       "      <td>0.121569</td>\n",
       "      <td>...</td>\n",
       "      <td>0.071622</td>\n",
       "      <td>0.050667</td>\n",
       "      <td>0.161290</td>\n",
       "      <td>0.000000</td>\n",
       "      <td>0.034483</td>\n",
       "      <td>0.000000</td>\n",
       "      <td>0.000000</td>\n",
       "      <td>0.031250</td>\n",
       "      <td>0.067797</td>\n",
       "      <td>0.081967</td>\n",
       "    </tr>\n",
       "    <tr>\n",
       "      <th>1</th>\n",
       "      <td>3.751644e-02</td>\n",
       "      <td>0.856061</td>\n",
       "      <td>0.750000</td>\n",
       "      <td>0.4</td>\n",
       "      <td>0.008361</td>\n",
       "      <td>0.002723</td>\n",
       "      <td>0.006857</td>\n",
       "      <td>0.000153</td>\n",
       "      <td>0.000053</td>\n",
       "      <td>0.243137</td>\n",
       "      <td>...</td>\n",
       "      <td>0.722973</td>\n",
       "      <td>0.050000</td>\n",
       "      <td>0.000000</td>\n",
       "      <td>0.166667</td>\n",
       "      <td>0.000000</td>\n",
       "      <td>0.000000</td>\n",
       "      <td>0.000000</td>\n",
       "      <td>0.000000</td>\n",
       "      <td>0.000000</td>\n",
       "      <td>0.000000</td>\n",
       "    </tr>\n",
       "    <tr>\n",
       "      <th>2</th>\n",
       "      <td>3.369212e-02</td>\n",
       "      <td>0.856061</td>\n",
       "      <td>0.000000</td>\n",
       "      <td>0.2</td>\n",
       "      <td>0.000470</td>\n",
       "      <td>0.000182</td>\n",
       "      <td>0.000069</td>\n",
       "      <td>0.000006</td>\n",
       "      <td>0.000003</td>\n",
       "      <td>0.243137</td>\n",
       "      <td>...</td>\n",
       "      <td>0.097973</td>\n",
       "      <td>0.028667</td>\n",
       "      <td>0.016129</td>\n",
       "      <td>0.500000</td>\n",
       "      <td>0.034483</td>\n",
       "      <td>0.000000</td>\n",
       "      <td>0.000000</td>\n",
       "      <td>0.000000</td>\n",
       "      <td>0.000000</td>\n",
       "      <td>0.032787</td>\n",
       "    </tr>\n",
       "    <tr>\n",
       "      <th>3</th>\n",
       "      <td>5.000001e-08</td>\n",
       "      <td>0.901515</td>\n",
       "      <td>0.166667</td>\n",
       "      <td>0.5</td>\n",
       "      <td>0.000094</td>\n",
       "      <td>0.000000</td>\n",
       "      <td>0.000006</td>\n",
       "      <td>0.000000</td>\n",
       "      <td>0.333333</td>\n",
       "      <td>0.996078</td>\n",
       "      <td>...</td>\n",
       "      <td>0.022297</td>\n",
       "      <td>0.000000</td>\n",
       "      <td>0.467742</td>\n",
       "      <td>0.333333</td>\n",
       "      <td>0.068966</td>\n",
       "      <td>0.068966</td>\n",
       "      <td>0.088889</td>\n",
       "      <td>0.453125</td>\n",
       "      <td>0.084746</td>\n",
       "      <td>0.475410</td>\n",
       "    </tr>\n",
       "    <tr>\n",
       "      <th>4</th>\n",
       "      <td>2.057985e-02</td>\n",
       "      <td>0.856061</td>\n",
       "      <td>0.416667</td>\n",
       "      <td>0.4</td>\n",
       "      <td>0.001221</td>\n",
       "      <td>0.001634</td>\n",
       "      <td>0.000116</td>\n",
       "      <td>0.000694</td>\n",
       "      <td>0.000025</td>\n",
       "      <td>0.121569</td>\n",
       "      <td>...</td>\n",
       "      <td>0.064865</td>\n",
       "      <td>0.376667</td>\n",
       "      <td>0.016129</td>\n",
       "      <td>0.000000</td>\n",
       "      <td>0.103448</td>\n",
       "      <td>0.000000</td>\n",
       "      <td>0.000000</td>\n",
       "      <td>0.000000</td>\n",
       "      <td>0.033898</td>\n",
       "      <td>0.016393</td>\n",
       "    </tr>\n",
       "  </tbody>\n",
       "</table>\n",
       "<p>5 rows × 31 columns</p>\n",
       "</div>"
      ],
      "text/plain": [
       "             0         1         2    3         4         5         6   \\\n",
       "0  2.881667e-05  0.901515  0.000000  0.2  0.000282  0.000363  0.000035   \n",
       "1  3.751644e-02  0.856061  0.750000  0.4  0.008361  0.002723  0.006857   \n",
       "2  3.369212e-02  0.856061  0.000000  0.2  0.000470  0.000182  0.000069   \n",
       "3  5.000001e-08  0.901515  0.166667  0.5  0.000094  0.000000  0.000006   \n",
       "4  2.057985e-02  0.856061  0.416667  0.4  0.001221  0.001634  0.000116   \n",
       "\n",
       "         7         8         9   ...        21        22        23        24  \\\n",
       "0  0.000021  0.004049  0.121569  ...  0.071622  0.050667  0.161290  0.000000   \n",
       "1  0.000153  0.000053  0.243137  ...  0.722973  0.050000  0.000000  0.166667   \n",
       "2  0.000006  0.000003  0.243137  ...  0.097973  0.028667  0.016129  0.500000   \n",
       "3  0.000000  0.333333  0.996078  ...  0.022297  0.000000  0.467742  0.333333   \n",
       "4  0.000694  0.000025  0.121569  ...  0.064865  0.376667  0.016129  0.000000   \n",
       "\n",
       "         25        26        27        28        29        30  \n",
       "0  0.034483  0.000000  0.000000  0.031250  0.067797  0.081967  \n",
       "1  0.000000  0.000000  0.000000  0.000000  0.000000  0.000000  \n",
       "2  0.034483  0.000000  0.000000  0.000000  0.000000  0.032787  \n",
       "3  0.068966  0.068966  0.088889  0.453125  0.084746  0.475410  \n",
       "4  0.103448  0.000000  0.000000  0.000000  0.033898  0.016393  \n",
       "\n",
       "[5 rows x 31 columns]"
      ]
     },
     "execution_count": 7,
     "metadata": {},
     "output_type": "execute_result"
    }
   ],
   "source": [
    "from sklearn import preprocessing\n",
    "from sklearn.preprocessing import MinMaxScaler\n",
    "sc = MinMaxScaler()\n",
    "x_k_1= sc.fit_transform(x_k)\n",
    "\n",
    "x = pd.DataFrame(x_k_1)\n",
    "\n",
    "x.head()"
   ]
  },
  {
   "cell_type": "code",
   "execution_count": 8,
   "id": "6f8306bb-3f6d-4c0b-9f72-500382837b0f",
   "metadata": {},
   "outputs": [
    {
     "data": {
      "text/plain": [
       "200566    0\n",
       "226191    1\n",
       "245537    0\n",
       "198365    1\n",
       "200520    0\n",
       "Name: label, dtype: int64"
      ]
     },
     "execution_count": 8,
     "metadata": {},
     "output_type": "execute_result"
    }
   ],
   "source": [
    "y.head()"
   ]
  },
  {
   "cell_type": "code",
   "execution_count": 9,
   "id": "92ccd4a6-73f5-49be-871e-c6fbc1721687",
   "metadata": {},
   "outputs": [],
   "source": [
    "X_train, X_test, y_train, y_test = train_test_split(x, y, test_size=0.2, random_state=946,stratify=y)"
   ]
  },
  {
   "cell_type": "markdown",
   "id": "092de210-201a-46f8-96ea-aa6fe668a8a0",
   "metadata": {},
   "source": [
    "Train Model GaussianNB"
   ]
  },
  {
   "cell_type": "code",
   "execution_count": 11,
   "id": "47b7cef9-c4ea-4088-9be3-6d0dc3ba5f9d",
   "metadata": {},
   "outputs": [],
   "source": [
    "from sklearn.naive_bayes import GaussianNB\n",
    "Gnb = GaussianNB(var_smoothing=5e-08)"
   ]
  },
  {
   "cell_type": "code",
   "execution_count": 12,
   "id": "19d3ab43-11d8-4401-9d23-942172bcc518",
   "metadata": {},
   "outputs": [
    {
     "data": {
      "text/plain": [
       "GaussianNB(var_smoothing=5e-08)"
      ]
     },
     "execution_count": 12,
     "metadata": {},
     "output_type": "execute_result"
    }
   ],
   "source": [
    "Gnb.fit(X_train,y_train)"
   ]
  },
  {
   "cell_type": "code",
   "execution_count": 13,
   "id": "0dc76934-a26b-426a-8b9a-2c051f46a7a4",
   "metadata": {},
   "outputs": [
    {
     "data": {
      "text/plain": [
       "['UNSW_GaussianNaiveBayes_with_HyperParameter_Binary.pkl']"
      ]
     },
     "execution_count": 13,
     "metadata": {},
     "output_type": "execute_result"
    }
   ],
   "source": [
    "joblib.dump(Gnb, 'UNSW_GaussianNaiveBayes_with_HyperParameter_Binary.pkl')"
   ]
  },
  {
   "cell_type": "code",
   "execution_count": 14,
   "id": "64e70821-9ac6-4d84-bec8-2bc0fe8862f2",
   "metadata": {},
   "outputs": [],
   "source": [
    "from sklearn.ensemble import RandomForestClassifier\n",
    "RF = RandomForestClassifier(min_samples_split=4, n_estimators=95)"
   ]
  },
  {
   "cell_type": "code",
   "execution_count": 15,
   "id": "be45f30c-0fad-40bd-9367-b45180ddd616",
   "metadata": {},
   "outputs": [
    {
     "data": {
      "text/plain": [
       "RandomForestClassifier(min_samples_split=4, n_estimators=95)"
      ]
     },
     "execution_count": 15,
     "metadata": {},
     "output_type": "execute_result"
    }
   ],
   "source": [
    "RF.fit(X_train,y_train)"
   ]
  },
  {
   "cell_type": "code",
   "execution_count": 16,
   "id": "3ff73b01-9419-4646-80d5-93c0cc4c50a6",
   "metadata": {},
   "outputs": [
    {
     "data": {
      "text/plain": [
       "['UNSW_RandomForestClassifier_With_HyperParameter_Binary.pkl']"
      ]
     },
     "execution_count": 16,
     "metadata": {},
     "output_type": "execute_result"
    }
   ],
   "source": [
    "joblib.dump(RF, 'UNSW_RandomForestClassifier_With_HyperParameter_Binary.pkl')"
   ]
  },
  {
   "cell_type": "markdown",
   "id": "486b8a49-66a6-407c-95e3-a37151a10b7b",
   "metadata": {},
   "source": [
    "Train Model with Logistic Regression"
   ]
  },
  {
   "cell_type": "code",
   "execution_count": 17,
   "id": "037feb2b-849f-4ffe-915a-02fc68216626",
   "metadata": {},
   "outputs": [],
   "source": [
    "from sklearn.linear_model import LogisticRegression\n",
    "Lr = LogisticRegression(C=10, random_state=0, solver='newton-cg', tol=0.1)"
   ]
  },
  {
   "cell_type": "code",
   "execution_count": 18,
   "id": "c2e07563-b214-4b64-9a76-99029c374933",
   "metadata": {},
   "outputs": [
    {
     "data": {
      "text/plain": [
       "LogisticRegression(C=10, random_state=0, solver='newton-cg', tol=0.1)"
      ]
     },
     "execution_count": 18,
     "metadata": {},
     "output_type": "execute_result"
    }
   ],
   "source": [
    "Lr.fit(X_train,y_train)"
   ]
  },
  {
   "cell_type": "code",
   "execution_count": 19,
   "id": "4584abde-52b5-4e3a-93a8-a2f01023b74e",
   "metadata": {},
   "outputs": [
    {
     "data": {
      "text/plain": [
       "['UNSW_LogisticRegression_With_HyperParameter_binary.pkl']"
      ]
     },
     "execution_count": 19,
     "metadata": {},
     "output_type": "execute_result"
    }
   ],
   "source": [
    "joblib.dump(Lr, 'UNSW_LogisticRegression_With_HyperParameter_binary.pkl')"
   ]
  },
  {
   "cell_type": "markdown",
   "id": "451b1eb4-5b3e-435d-9f74-6b4ceb284653",
   "metadata": {},
   "source": [
    "Train Model with KNN Classifier"
   ]
  },
  {
   "cell_type": "code",
   "execution_count": 20,
   "id": "4dfb4fa0-1447-4174-9fdd-2ceec10991d6",
   "metadata": {},
   "outputs": [],
   "source": [
    "from sklearn.neighbors import KNeighborsClassifier\n",
    "Knn = KNeighborsClassifier(p=1)"
   ]
  },
  {
   "cell_type": "code",
   "execution_count": 21,
   "id": "4d9e2d1a-8f7d-40a3-865b-964f0853ea72",
   "metadata": {},
   "outputs": [
    {
     "data": {
      "text/plain": [
       "KNeighborsClassifier(p=1)"
      ]
     },
     "execution_count": 21,
     "metadata": {},
     "output_type": "execute_result"
    }
   ],
   "source": [
    "Knn.fit(X_train,y_train)"
   ]
  },
  {
   "cell_type": "code",
   "execution_count": 22,
   "id": "e80e8995-28cd-43e4-b18a-cb85305c2e7d",
   "metadata": {},
   "outputs": [
    {
     "data": {
      "text/plain": [
       "['UNSW_KNeighborsClassifier_With_HyperParameter_binary.pkl']"
      ]
     },
     "execution_count": 22,
     "metadata": {},
     "output_type": "execute_result"
    }
   ],
   "source": [
    "joblib.dump(Knn, 'UNSW_KNeighborsClassifier_With_HyperParameter_binary.pkl')"
   ]
  },
  {
   "cell_type": "code",
   "execution_count": 62,
   "id": "7e2dfb88-9c6f-4142-b673-0551d8a3a97d",
   "metadata": {},
   "outputs": [],
   "source": [
    "from sklearn.tree import DecisionTreeClassifier\n",
    "Dt = DecisionTreeClassifier(max_depth=25, min_samples_split=10)"
   ]
  },
  {
   "cell_type": "code",
   "execution_count": 63,
   "id": "91ae9a40-e3a6-482b-9c83-02f326374f89",
   "metadata": {},
   "outputs": [
    {
     "data": {
      "text/plain": [
       "DecisionTreeClassifier(max_depth=25, min_samples_split=10)"
      ]
     },
     "execution_count": 63,
     "metadata": {},
     "output_type": "execute_result"
    }
   ],
   "source": [
    "Dt.fit(X_train,y_train)"
   ]
  },
  {
   "cell_type": "code",
   "execution_count": 64,
   "id": "17327737-53af-4dd1-8d55-32bd231ea888",
   "metadata": {},
   "outputs": [
    {
     "data": {
      "text/plain": [
       "['UNSW_DecisionTreeClassifier_With_HyperParameter_binary.pkl']"
      ]
     },
     "execution_count": 64,
     "metadata": {},
     "output_type": "execute_result"
    }
   ],
   "source": [
    "joblib.dump(Dt, 'UNSW_DecisionTreeClassifier_With_HyperParameter_binary.pkl')"
   ]
  },
  {
   "cell_type": "markdown",
   "id": "bfb2c143-c9dd-48d5-b0b6-908c06dfac9c",
   "metadata": {},
   "source": [
    "Train Model with Decision Tree"
   ]
  },
  {
   "cell_type": "code",
   "execution_count": null,
   "id": "28cdd323-3895-4dd1-84fc-57d209a5c7b9",
   "metadata": {},
   "outputs": [],
   "source": []
  },
  {
   "cell_type": "markdown",
   "id": "1be0ddfc-ac91-4998-adf5-9d9916933c81",
   "metadata": {},
   "source": [
    "Train with XGB classifer"
   ]
  },
  {
   "cell_type": "code",
   "execution_count": 12,
   "id": "b707fce2-4699-4299-9763-5677987d04d1",
   "metadata": {},
   "outputs": [],
   "source": [
    "from xgboost import XGBClassifier\n",
    "import xgboost as xgb"
   ]
  },
  {
   "cell_type": "code",
   "execution_count": 14,
   "id": "3b3ad703-0416-46b8-a596-c9771691b571",
   "metadata": {},
   "outputs": [],
   "source": [
    "Xg = XGBClassifier(alpha=4, base_score=0.5, booster='gbtree', callbacks=None,\n",
    "              colsample_bylevel=1, colsample_bynode=1, colsample_bytree=0.5,\n",
    "              early_stopping_rounds=None, enable_categorical=False, eta=0.3,\n",
    "              eval_metric=None, gamma=0, gpu_id=-1, grow_policy='depthwise',\n",
    "              \n",
    "              learning_rate=0.300000012, max_bin=256, max_cat_to_onehot=4,\n",
    "              max_delta_step=0, max_depth=6, max_leaves=0, min_child_weight=1,\n",
    "               monotone_constraints='()', n_estimators=100,\n",
    "              n_jobs=0, num_parallel_tree=1, predictor='auto')"
   ]
  },
  {
   "cell_type": "code",
   "execution_count": 16,
   "id": "c67f90ca-cd93-442f-8dba-5efbff588831",
   "metadata": {},
   "outputs": [
    {
     "data": {
      "text/plain": [
       "XGBClassifier(alpha=4, base_score=0.5, booster='gbtree', callbacks=None,\n",
       "              colsample_bylevel=1, colsample_bynode=1, colsample_bytree=0.5,\n",
       "              early_stopping_rounds=None, enable_categorical=False, eta=0.3,\n",
       "              eval_metric=None, gamma=0, gpu_id=-1, grow_policy='depthwise',\n",
       "              importance_type=None, interaction_constraints='',\n",
       "              learning_rate=0.300000012, max_bin=256, max_cat_to_onehot=4,\n",
       "              max_delta_step=0, max_depth=6, max_leaves=0, min_child_weight=1,\n",
       "              missing=nan, monotone_constraints='()', n_estimators=100,\n",
       "              n_jobs=0, num_parallel_tree=1, predictor='auto', random_state=0, ...)"
      ]
     },
     "execution_count": 16,
     "metadata": {},
     "output_type": "execute_result"
    }
   ],
   "source": [
    "Xg.fit(X_train,y_train)"
   ]
  },
  {
   "cell_type": "code",
   "execution_count": 17,
   "id": "10c8c045-d192-487e-9422-9e93e8247593",
   "metadata": {},
   "outputs": [
    {
     "data": {
      "text/plain": [
       "['UNSW_XGBclassifer_With_HyperParameter_binary.pkl']"
      ]
     },
     "execution_count": 17,
     "metadata": {},
     "output_type": "execute_result"
    }
   ],
   "source": [
    "joblib.dump(Xg, 'UNSW_XGBclassifer_With_HyperParameter_binary.pkl')"
   ]
  },
  {
   "cell_type": "markdown",
   "id": "b6d55671-82e5-4e41-9889-9e26cb66e41d",
   "metadata": {},
   "source": [
    "Adaboost Classifier"
   ]
  },
  {
   "cell_type": "code",
   "execution_count": 23,
   "id": "dffb3929-1d33-4f7f-9f63-08aa1a50a2cc",
   "metadata": {},
   "outputs": [],
   "source": [
    "from sklearn.ensemble import AdaBoostClassifier\n",
    "Ada = AdaBoostClassifier(learning_rate=1.02, n_estimators=20, random_state=1)"
   ]
  },
  {
   "cell_type": "code",
   "execution_count": 24,
   "id": "7d18fc5e-06c9-4a32-b067-002f69f7c3f5",
   "metadata": {},
   "outputs": [
    {
     "data": {
      "text/plain": [
       "AdaBoostClassifier(learning_rate=1.02, n_estimators=20, random_state=1)"
      ]
     },
     "execution_count": 24,
     "metadata": {},
     "output_type": "execute_result"
    }
   ],
   "source": [
    "Ada.fit(X_train,y_train)"
   ]
  },
  {
   "cell_type": "code",
   "execution_count": 25,
   "id": "8c99e0d9-b38d-4d36-917f-c198b48c0c67",
   "metadata": {},
   "outputs": [
    {
     "data": {
      "text/plain": [
       "['UNSW_AdaBoostClassifier_With_HyperParameter_binary.pkl']"
      ]
     },
     "execution_count": 25,
     "metadata": {},
     "output_type": "execute_result"
    }
   ],
   "source": [
    "joblib.dump(Ada, 'UNSW_AdaBoostClassifier_With_HyperParameter_binary.pkl')"
   ]
  },
  {
   "cell_type": "code",
   "execution_count": 86,
   "id": "a2745fa6-8175-4bf8-8c4a-85d8eec14597",
   "metadata": {},
   "outputs": [],
   "source": [
    "from sklearn.ensemble import GradientBoostingClassifier\n",
    "gradboost=GradientBoostingClassifier(learning_rate=10000, n_estimators=150, subsample=1)"
   ]
  },
  {
   "cell_type": "code",
   "execution_count": 87,
   "id": "337b3817-9146-426a-a0c6-1cb850f11b81",
   "metadata": {},
   "outputs": [
    {
     "data": {
      "text/plain": [
       "GradientBoostingClassifier(learning_rate=10000, n_estimators=150, subsample=1)"
      ]
     },
     "execution_count": 87,
     "metadata": {},
     "output_type": "execute_result"
    }
   ],
   "source": [
    "gradboost.fit(X_train,y_train)"
   ]
  },
  {
   "cell_type": "code",
   "execution_count": 88,
   "id": "252daefd-83f1-4567-8f0e-974639286175",
   "metadata": {},
   "outputs": [
    {
     "data": {
      "text/plain": [
       "['UNSW_GradientBoostingClassifier_With_HyperParameter_binary.pkl']"
      ]
     },
     "execution_count": 88,
     "metadata": {},
     "output_type": "execute_result"
    }
   ],
   "source": [
    "joblib.dump(gradboost,'UNSW_GradientBoostingClassifier_With_HyperParameter_binary.pkl')"
   ]
  },
  {
   "cell_type": "markdown",
   "id": "9f395ab8-b120-48e2-b830-32c822edecae",
   "metadata": {},
   "source": [
    "Extra Tree Classifer (Hyper Parameter None)"
   ]
  },
  {
   "cell_type": "code",
   "execution_count": 29,
   "id": "1dc8d9d2-a3d6-40da-9484-837e15f88eb4",
   "metadata": {},
   "outputs": [],
   "source": [
    "from sklearn.ensemble import ExtraTreesClassifier\n",
    "Ex_tree = ExtraTreesClassifier()"
   ]
  },
  {
   "cell_type": "code",
   "execution_count": 30,
   "id": "b84c5827-38d4-482d-aa11-58e634dd986d",
   "metadata": {},
   "outputs": [
    {
     "data": {
      "text/plain": [
       "ExtraTreesClassifier()"
      ]
     },
     "execution_count": 30,
     "metadata": {},
     "output_type": "execute_result"
    }
   ],
   "source": [
    "Ex_tree.fit(X_train,y_train)"
   ]
  },
  {
   "cell_type": "code",
   "execution_count": 31,
   "id": "a107224d-980f-41f5-a371-863b1a8542db",
   "metadata": {},
   "outputs": [
    {
     "data": {
      "text/plain": [
       "['UNSW_ExtraTreesClassifier_With_HyperParameter_binary.pkl']"
      ]
     },
     "execution_count": 31,
     "metadata": {},
     "output_type": "execute_result"
    }
   ],
   "source": [
    "joblib.dump(Ex_tree, 'UNSW_ExtraTreesClassifier_With_HyperParameter_binary.pkl')"
   ]
  },
  {
   "cell_type": "markdown",
   "id": "a5495f6e-881b-44a9-91a5-4f77ff2d4efe",
   "metadata": {},
   "source": [
    "Testing Data Loading"
   ]
  },
  {
   "cell_type": "markdown",
   "id": "67c648c2-34a1-4212-b6e8-610c08a6e015",
   "metadata": {},
   "source": [
    "Testing with Gaussian Naive Bayes"
   ]
  },
  {
   "cell_type": "code",
   "execution_count": 21,
   "id": "687118dd-212f-45cf-9983-5b10eb57bf3e",
   "metadata": {},
   "outputs": [],
   "source": [
    "def binary_roc_plotter(testX,testy,model,model_name):\n",
    "            yhat = model.predict_proba(testX)\n",
    "            # retrieve just the probabilities for the positive class\n",
    "            pos_probs = yhat[:, 1]\n",
    "            # plot no skill roc curve\n",
    "            plt.plot([0, 1], [0, 1], linestyle='--', label='No Skill')\n",
    "            # calculate roc curve for model\n",
    "            fpr, tpr, _ = roc_curve(testy, pos_probs)\n",
    "            # plot model roc curve\n",
    "            plt.plot(fpr, tpr, linestyle='--',label=model_name)\n",
    "            # axis labels\n",
    "            plt.xlabel('False Positive Rate')\n",
    "            plt.ylabel('True Positive Rate')\n",
    "            # show the legend\n",
    "            plt.legend()\n",
    "            # show the plot\n",
    "            plt.show()"
   ]
  },
  {
   "cell_type": "code",
   "execution_count": null,
   "id": "044a4e8e-153d-4035-a01f-493f8519b88e",
   "metadata": {},
   "outputs": [],
   "source": []
  },
  {
   "cell_type": "code",
   "execution_count": 33,
   "id": "cafa752e-9290-437c-a48a-e37fe280855f",
   "metadata": {},
   "outputs": [],
   "source": [
    "predict_gnb = Gnb.predict(X_test)"
   ]
  },
  {
   "cell_type": "code",
   "execution_count": 34,
   "id": "cb39b63f-c113-416b-b3be-127b28947983",
   "metadata": {},
   "outputs": [
    {
     "data": {
      "text/plain": [
       "0.762549723488891"
      ]
     },
     "execution_count": 34,
     "metadata": {},
     "output_type": "execute_result"
    }
   ],
   "source": [
    "Gnb.score(X_test,y_test)"
   ]
  },
  {
   "cell_type": "code",
   "execution_count": 20,
   "id": "e48e6421-6645-4742-b3e7-65e0990d9504",
   "metadata": {},
   "outputs": [],
   "source": [
    "from sklearn.metrics import classification_report"
   ]
  },
  {
   "cell_type": "code",
   "execution_count": 36,
   "id": "334cf0c9-bcc3-4266-bcb7-50fff2ccc801",
   "metadata": {},
   "outputs": [
    {
     "name": "stdout",
     "output_type": "stream",
     "text": [
      "Classification Report: GaussNB \n",
      "               precision    recall  f1-score   support\n",
      "\n",
      "           0    0.61881   0.89086   0.73033     18600\n",
      "           1    0.91801   0.69009   0.78789     32935\n",
      "\n",
      "    accuracy                        0.76255     51535\n",
      "   macro avg    0.76841   0.79047   0.75911     51535\n",
      "weighted avg    0.81002   0.76255   0.76712     51535\n",
      "\n"
     ]
    }
   ],
   "source": [
    "print(\"Classification Report: GaussNB \\n\", classification_report(y_test, predict_gnb,digits=5))"
   ]
  },
  {
   "cell_type": "code",
   "execution_count": 37,
   "id": "6db374af-bc8a-4416-b17c-ecbf535247d9",
   "metadata": {},
   "outputs": [
    {
     "data": {
      "image/png": "[encoded data removed]",
      "text/plain": [
       "<Figure size 432x288 with 1 Axes>"
      ]
     },
     "metadata": {
      "needs_background": "light"
     },
     "output_type": "display_data"
    }
   ],
   "source": [
    "binary_roc_plotter(X_test,y_test,Gnb,'GausianNB')"
   ]
  },
  {
   "cell_type": "code",
   "execution_count": 38,
   "id": "0aa47b02-d36d-4e28-8b39-99f8d4bbc4ef",
   "metadata": {},
   "outputs": [
    {
     "data": {
      "text/plain": [
       "0.8893646021570673"
      ]
     },
     "execution_count": 38,
     "metadata": {},
     "output_type": "execute_result"
    }
   ],
   "source": [
    "roc_auc_score(y_test, Gnb.predict_proba(X_test)[:, 1])"
   ]
  },
  {
   "cell_type": "code",
   "execution_count": 39,
   "id": "4c28a824-21c1-4a05-a7e7-934d48570406",
   "metadata": {},
   "outputs": [
    {
     "name": "stdout",
     "output_type": "stream",
     "text": [
      "Confusion Matrix: GaussNB_Multiclass \n",
      " [[16570  2030]\n",
      " [10207 22728]]\n"
     ]
    }
   ],
   "source": [
    "from sklearn.metrics import confusion_matrix\n",
    "CM_GaussNB_binary = confusion_matrix(y_test,predict_gnb)\n",
    "print('Confusion Matrix: GaussNB_Multiclass \\n',CM_GaussNB_binary)"
   ]
  },
  {
   "cell_type": "code",
   "execution_count": null,
   "id": "7f9e4dc0-19e3-46db-b790-2180d212aeeb",
   "metadata": {},
   "outputs": [],
   "source": []
  },
  {
   "cell_type": "code",
   "execution_count": 40,
   "id": "0e08f1f8-369e-4752-8e22-3ab10592101c",
   "metadata": {},
   "outputs": [
    {
     "data": {
      "text/plain": [
       "0.9513534491122538"
      ]
     },
     "execution_count": 40,
     "metadata": {},
     "output_type": "execute_result"
    }
   ],
   "source": [
    "predict_RF = RF.predict(X_test)\n",
    "RF.score(X_test,y_test)"
   ]
  },
  {
   "cell_type": "code",
   "execution_count": 41,
   "id": "d38e1cdb-86f8-45d2-965c-2b8e9faf0c1b",
   "metadata": {},
   "outputs": [
    {
     "name": "stdout",
     "output_type": "stream",
     "text": [
      "Classification Report: Random Forest \n",
      "               precision    recall  f1-score   support\n",
      "\n",
      "           0    0.93110   0.93435   0.93273     18600\n",
      "           1    0.96285   0.96095   0.96190     32935\n",
      "\n",
      "    accuracy                        0.95135     51535\n",
      "   macro avg    0.94698   0.94765   0.94731     51535\n",
      "weighted avg    0.95139   0.95135   0.95137     51535\n",
      "\n"
     ]
    }
   ],
   "source": [
    "print(\"Classification Report: Random Forest \\n\", classification_report(y_test, predict_RF,digits=5))"
   ]
  },
  {
   "cell_type": "code",
   "execution_count": 42,
   "id": "430e03d5-ffaa-483d-bee4-6237f6179398",
   "metadata": {},
   "outputs": [
    {
     "data": {
      "image/png": "[encoded data removed]",
      "text/plain": [
       "<Figure size 432x288 with 1 Axes>"
      ]
     },
     "metadata": {
      "needs_background": "light"
     },
     "output_type": "display_data"
    }
   ],
   "source": [
    "binary_roc_plotter(X_test,y_test,RF,'RandomForest')"
   ]
  },
  {
   "cell_type": "code",
   "execution_count": 43,
   "id": "11fd70e9-dcbd-45a4-a182-10efbe5daddb",
   "metadata": {},
   "outputs": [
    {
     "data": {
      "text/plain": [
       "0.9922660453712183"
      ]
     },
     "execution_count": 43,
     "metadata": {},
     "output_type": "execute_result"
    }
   ],
   "source": [
    "roc_auc_score(y_test, RF.predict_proba(X_test)[:, 1])"
   ]
  },
  {
   "cell_type": "code",
   "execution_count": 44,
   "id": "95f22902-c248-4f90-a7af-37c5eb4bfba4",
   "metadata": {},
   "outputs": [
    {
     "name": "stdout",
     "output_type": "stream",
     "text": [
      "Confusion Matrix: Random Forest binary \n",
      " [[17379  1221]\n",
      " [ 1286 31649]]\n"
     ]
    }
   ],
   "source": [
    "from sklearn.metrics import confusion_matrix\n",
    "CM_RF_binary = confusion_matrix(y_test,predict_RF)\n",
    "print('Confusion Matrix: Random Forest binary \\n',CM_RF_binary)"
   ]
  },
  {
   "cell_type": "code",
   "execution_count": null,
   "id": "019daae5-6030-4220-a01f-6f60e464394e",
   "metadata": {},
   "outputs": [],
   "source": []
  },
  {
   "cell_type": "code",
   "execution_count": 45,
   "id": "0925295b-85b8-436d-8e64-e6d391b7b945",
   "metadata": {},
   "outputs": [
    {
     "data": {
      "text/plain": [
       "0.8687105850392937"
      ]
     },
     "execution_count": 45,
     "metadata": {},
     "output_type": "execute_result"
    }
   ],
   "source": [
    "predict_lr = Lr.predict(X_test)\n",
    "Lr.score(X_test,y_test)"
   ]
  },
  {
   "cell_type": "code",
   "execution_count": 46,
   "id": "d995734a-6689-4fec-8f77-19b0d940db87",
   "metadata": {},
   "outputs": [
    {
     "name": "stdout",
     "output_type": "stream",
     "text": [
      "Classification Report: Logistic Regression \n",
      "               precision    recall  f1-score   support\n",
      "\n",
      "           0    0.89861   0.71715   0.79769     18600\n",
      "           1    0.85661   0.95430   0.90282     32935\n",
      "\n",
      "    accuracy                        0.86871     51535\n",
      "   macro avg    0.87761   0.83573   0.85026     51535\n",
      "weighted avg    0.87177   0.86871   0.86488     51535\n",
      "\n"
     ]
    }
   ],
   "source": [
    "print(\"Classification Report: Logistic Regression \\n\", classification_report(y_test, predict_lr,digits=5))"
   ]
  },
  {
   "cell_type": "code",
   "execution_count": 47,
   "id": "54f7818b-e7d1-42fb-b566-9a1e21fcfff9",
   "metadata": {},
   "outputs": [
    {
     "data": {
      "image/png": "[encoded data removed]",
      "text/plain": [
       "<Figure size 432x288 with 1 Axes>"
      ]
     },
     "metadata": {
      "needs_background": "light"
     },
     "output_type": "display_data"
    }
   ],
   "source": [
    "binary_roc_plotter(X_test,y_test,Lr,'LogisticRegression')"
   ]
  },
  {
   "cell_type": "code",
   "execution_count": 48,
   "id": "e8c95a01-90a8-4375-8d63-cf53864960ec",
   "metadata": {},
   "outputs": [
    {
     "data": {
      "text/plain": [
       "0.9371656537559319"
      ]
     },
     "execution_count": 48,
     "metadata": {},
     "output_type": "execute_result"
    }
   ],
   "source": [
    "roc_auc_score(y_test, Lr.predict_proba(X_test)[:, 1])"
   ]
  },
  {
   "cell_type": "code",
   "execution_count": 49,
   "id": "8e5c16f4-e2a2-4306-a187-cdd9296be1e2",
   "metadata": {},
   "outputs": [
    {
     "name": "stdout",
     "output_type": "stream",
     "text": [
      "Confusion Matrix: Logistic Regression binary \n",
      " [[13339  5261]\n",
      " [ 1505 31430]]\n"
     ]
    }
   ],
   "source": [
    "from sklearn.metrics import confusion_matrix\n",
    "CM_LR_binary = confusion_matrix(y_test,predict_lr)\n",
    "print('Confusion Matrix: Logistic Regression binary \\n',CM_LR_binary)"
   ]
  },
  {
   "cell_type": "code",
   "execution_count": null,
   "id": "b1a46af7-5427-4662-8ceb-caaae01b7eb5",
   "metadata": {},
   "outputs": [],
   "source": []
  },
  {
   "cell_type": "code",
   "execution_count": 50,
   "id": "a37646a4-3565-4ed9-8867-b275cbea89d9",
   "metadata": {},
   "outputs": [
    {
     "data": {
      "text/plain": [
       "0.9378480644222373"
      ]
     },
     "execution_count": 50,
     "metadata": {},
     "output_type": "execute_result"
    }
   ],
   "source": [
    "predict_knn = Knn.predict(X_test)\n",
    "Knn.score(X_test,y_test)"
   ]
  },
  {
   "cell_type": "code",
   "execution_count": 54,
   "id": "67916ea5-6217-44a2-b78a-4294b4c645df",
   "metadata": {},
   "outputs": [
    {
     "name": "stdout",
     "output_type": "stream",
     "text": [
      "Classification Report: KNN \n",
      "               precision    recall  f1-score   support\n",
      "\n",
      "           0    0.91026   0.91833   0.91428     18600\n",
      "           1    0.95365   0.94887   0.95125     32935\n",
      "\n",
      "    accuracy                        0.93785     51535\n",
      "   macro avg    0.93195   0.93360   0.93276     51535\n",
      "weighted avg    0.93799   0.93785   0.93791     51535\n",
      "\n"
     ]
    }
   ],
   "source": [
    "print(\"Classification Report: KNN \\n\", classification_report(y_test, predict_knn,digits=5))"
   ]
  },
  {
   "cell_type": "code",
   "execution_count": 55,
   "id": "e403c86b-3fba-4a10-8316-0ead16cd2925",
   "metadata": {},
   "outputs": [
    {
     "data": {
      "image/png": "[encoded data removed]",
      "text/plain": [
       "<Figure size 432x288 with 1 Axes>"
      ]
     },
     "metadata": {
      "needs_background": "light"
     },
     "output_type": "display_data"
    }
   ],
   "source": [
    "binary_roc_plotter(X_test,y_test,Knn,'KNN')"
   ]
  },
  {
   "cell_type": "code",
   "execution_count": 56,
   "id": "34fae6e1-007e-4e65-90e5-33177aa4610c",
   "metadata": {},
   "outputs": [
    {
     "data": {
      "text/plain": [
       "0.9805784324288146"
      ]
     },
     "execution_count": 56,
     "metadata": {},
     "output_type": "execute_result"
    }
   ],
   "source": [
    "roc_auc_score(y_test, Knn.predict_proba(X_test)[:, 1])"
   ]
  },
  {
   "cell_type": "code",
   "execution_count": 61,
   "id": "62d85fc2-0570-4f7e-a801-ea6448cbb5f5",
   "metadata": {},
   "outputs": [
    {
     "name": "stdout",
     "output_type": "stream",
     "text": [
      "Confusion Matrix: KNN binary \n",
      " [[17081  1519]\n",
      " [ 1684 31251]]\n"
     ]
    }
   ],
   "source": [
    "from sklearn.metrics import confusion_matrix\n",
    "CM_knn_binary = confusion_matrix(y_test,predict_knn)\n",
    "print('Confusion Matrix: KNN binary \\n',CM_knn_binary)"
   ]
  },
  {
   "cell_type": "code",
   "execution_count": null,
   "id": "a018a1f4-cc49-4019-9436-543f5d4fca90",
   "metadata": {},
   "outputs": [],
   "source": []
  },
  {
   "cell_type": "code",
   "execution_count": 65,
   "id": "1545fac7-d04f-4350-bde5-d3ceebb5c67a",
   "metadata": {},
   "outputs": [
    {
     "data": {
      "text/plain": [
       "0.9394392160667507"
      ]
     },
     "execution_count": 65,
     "metadata": {},
     "output_type": "execute_result"
    }
   ],
   "source": [
    "predict_dt = Dt.predict(X_test)\n",
    "Dt.score(X_test,y_test)"
   ]
  },
  {
   "cell_type": "code",
   "execution_count": 66,
   "id": "17d01c39-91b8-42b9-84da-4eaceda16964",
   "metadata": {},
   "outputs": [
    {
     "name": "stdout",
     "output_type": "stream",
     "text": [
      "Classification Report: Decision Tree \n",
      "               precision    recall  f1-score   support\n",
      "\n",
      "           0    0.90796   0.92608   0.91693     18600\n",
      "           1    0.95778   0.94699   0.95235     32935\n",
      "\n",
      "    accuracy                        0.93944     51535\n",
      "   macro avg    0.93287   0.93653   0.93464     51535\n",
      "weighted avg    0.93980   0.93944   0.93957     51535\n",
      "\n"
     ]
    }
   ],
   "source": [
    "print(\"Classification Report: Decision Tree \\n\", classification_report(y_test, predict_dt,digits=5))"
   ]
  },
  {
   "cell_type": "code",
   "execution_count": 67,
   "id": "a9fde043-ddfd-42bd-bcde-4336fafcfe58",
   "metadata": {},
   "outputs": [
    {
     "data": {
      "image/png": "[encoded data removed]",
      "text/plain": [
       "<Figure size 432x288 with 1 Axes>"
      ]
     },
     "metadata": {
      "needs_background": "light"
     },
     "output_type": "display_data"
    }
   ],
   "source": [
    "binary_roc_plotter(X_test,y_test,Dt,'Decision Tree')"
   ]
  },
  {
   "cell_type": "code",
   "execution_count": 68,
   "id": "bf19cf19-f109-4cc3-961c-48db06e5a849",
   "metadata": {},
   "outputs": [
    {
     "data": {
      "text/plain": [
       "0.9637674761790493"
      ]
     },
     "execution_count": 68,
     "metadata": {},
     "output_type": "execute_result"
    }
   ],
   "source": [
    "roc_auc_score(y_test, Dt.predict_proba(X_test)[:, 1])"
   ]
  },
  {
   "cell_type": "code",
   "execution_count": 69,
   "id": "d4888656-35e4-42c1-a7f4-314ef4cbcfd9",
   "metadata": {},
   "outputs": [
    {
     "name": "stdout",
     "output_type": "stream",
     "text": [
      "Confusion Matrix: Decision Tree binary \n",
      " [[17225  1375]\n",
      " [ 1746 31189]]\n"
     ]
    }
   ],
   "source": [
    "from sklearn.metrics import confusion_matrix\n",
    "CM_dt_binary = confusion_matrix(y_test,predict_dt)\n",
    "print('Confusion Matrix: Decision Tree binary \\n',CM_dt_binary)"
   ]
  },
  {
   "cell_type": "code",
   "execution_count": null,
   "id": "30b70c88-771c-4ae4-aabf-7cc8b3bc87f6",
   "metadata": {},
   "outputs": [],
   "source": []
  },
  {
   "cell_type": "code",
   "execution_count": 70,
   "id": "f64558bc-8dbf-4341-a63f-0002e273056a",
   "metadata": {},
   "outputs": [
    {
     "data": {
      "text/plain": [
       "0.91283593674202"
      ]
     },
     "execution_count": 70,
     "metadata": {},
     "output_type": "execute_result"
    }
   ],
   "source": [
    "predict_ada = Ada.predict(X_test)\n",
    "Ada.score(X_test,y_test)"
   ]
  },
  {
   "cell_type": "code",
   "execution_count": 71,
   "id": "a66f4300-a12f-411c-905e-59d9967b7124",
   "metadata": {},
   "outputs": [
    {
     "name": "stdout",
     "output_type": "stream",
     "text": [
      "Classification Report: Adaboost \n",
      "               precision    recall  f1-score   support\n",
      "\n",
      "           0    0.87158   0.88957   0.88048     18600\n",
      "           1    0.93690   0.92598   0.93141     32935\n",
      "\n",
      "    accuracy                        0.91284     51535\n",
      "   macro avg    0.90424   0.90777   0.90594     51535\n",
      "weighted avg    0.91332   0.91284   0.91303     51535\n",
      "\n"
     ]
    }
   ],
   "source": [
    "print(\"Classification Report: Adaboost \\n\", classification_report(y_test, predict_ada,digits=5))"
   ]
  },
  {
   "cell_type": "code",
   "execution_count": 72,
   "id": "24b26b91-73ea-48b1-8325-4c736178f248",
   "metadata": {},
   "outputs": [
    {
     "data": {
      "image/png": "[encoded data removed]",
      "text/plain": [
       "<Figure size 432x288 with 1 Axes>"
      ]
     },
     "metadata": {
      "needs_background": "light"
     },
     "output_type": "display_data"
    }
   ],
   "source": [
    "binary_roc_plotter(X_test,y_test,Ada,'Adaboost')"
   ]
  },
  {
   "cell_type": "code",
   "execution_count": 73,
   "id": "d3025a59-a4b9-461b-b86b-057698d7632a",
   "metadata": {},
   "outputs": [
    {
     "data": {
      "text/plain": [
       "0.9781584246258923"
      ]
     },
     "execution_count": 73,
     "metadata": {},
     "output_type": "execute_result"
    }
   ],
   "source": [
    "roc_auc_score(y_test, Ada.predict_proba(X_test)[:, 1])"
   ]
  },
  {
   "cell_type": "code",
   "execution_count": 74,
   "id": "039906cc-f719-4c40-b56f-f56933aab0c1",
   "metadata": {},
   "outputs": [
    {
     "name": "stdout",
     "output_type": "stream",
     "text": [
      "Confusion Matrix: Adaboost binary \n",
      " [[16546  2054]\n",
      " [ 2438 30497]]\n"
     ]
    }
   ],
   "source": [
    "from sklearn.metrics import confusion_matrix\n",
    "CM_ada_binary = confusion_matrix(y_test,predict_ada)\n",
    "print('Confusion Matrix: Adaboost binary \\n',CM_ada_binary)"
   ]
  },
  {
   "cell_type": "code",
   "execution_count": null,
   "id": "21cc26e3-ca8f-4b38-9054-661baf154120",
   "metadata": {},
   "outputs": [],
   "source": []
  },
  {
   "cell_type": "code",
   "execution_count": 89,
   "id": "bdf0cb84-ee65-43ad-b832-59a9ff358ecc",
   "metadata": {},
   "outputs": [
    {
     "data": {
      "text/plain": [
       "0.8903463665470069"
      ]
     },
     "execution_count": 89,
     "metadata": {},
     "output_type": "execute_result"
    }
   ],
   "source": [
    "predict_gradboost = gradboost.predict(X_test)\n",
    "gradboost.score(X_test,y_test)"
   ]
  },
  {
   "cell_type": "code",
   "execution_count": 90,
   "id": "51a3c88b-a6be-469e-9314-1abd9261aab6",
   "metadata": {},
   "outputs": [
    {
     "name": "stdout",
     "output_type": "stream",
     "text": [
      "Classification Report: GradientBoost \n",
      "               precision    recall  f1-score   support\n",
      "\n",
      "           0    0.81696   0.89720   0.85520     18600\n",
      "           1    0.93854   0.88647   0.91176     32935\n",
      "\n",
      "    accuracy                        0.89035     51535\n",
      "   macro avg    0.87775   0.89184   0.88348     51535\n",
      "weighted avg    0.89466   0.89035   0.89135     51535\n",
      "\n"
     ]
    }
   ],
   "source": [
    "print(\"Classification Report: GradientBoost \\n\", classification_report(y_test, predict_gradboost,digits=5))"
   ]
  },
  {
   "cell_type": "code",
   "execution_count": 91,
   "id": "e8591bc2-41a0-445d-9f0a-feee77e2af6c",
   "metadata": {},
   "outputs": [
    {
     "data": {
      "image/png": "[encoded data removed]",
      "text/plain": [
       "<Figure size 432x288 with 1 Axes>"
      ]
     },
     "metadata": {
      "needs_background": "light"
     },
     "output_type": "display_data"
    }
   ],
   "source": [
    "binary_roc_plotter(X_test,y_test,gradboost,'Gradientboost')"
   ]
  },
  {
   "cell_type": "code",
   "execution_count": 92,
   "id": "6bab3ea3-f63d-4641-b575-62888e32adeb",
   "metadata": {},
   "outputs": [
    {
     "data": {
      "text/plain": [
       "0.8918388288433882"
      ]
     },
     "execution_count": 92,
     "metadata": {},
     "output_type": "execute_result"
    }
   ],
   "source": [
    "roc_auc_score(y_test, gradboost.predict_proba(X_test)[:, 1])"
   ]
  },
  {
   "cell_type": "code",
   "execution_count": 93,
   "id": "ac0d170b-398d-48f6-b6f0-a40fe9fc7496",
   "metadata": {},
   "outputs": [
    {
     "name": "stdout",
     "output_type": "stream",
     "text": [
      "Confusion Matrix: Gradientboost binary \n",
      " [[16688  1912]\n",
      " [ 3739 29196]]\n"
     ]
    }
   ],
   "source": [
    "from sklearn.metrics import confusion_matrix\n",
    "CM_gradboost_binary = confusion_matrix(y_test,predict_gradboost)\n",
    "print('Confusion Matrix: Gradientboost binary \\n',CM_gradboost_binary)"
   ]
  },
  {
   "cell_type": "code",
   "execution_count": null,
   "id": "6727c6b0-a0ef-4981-a995-6103bb7ad67c",
   "metadata": {},
   "outputs": [],
   "source": []
  },
  {
   "cell_type": "code",
   "execution_count": 81,
   "id": "bd706f32-774b-4439-b3b5-6909cc0ff79f",
   "metadata": {},
   "outputs": [
    {
     "data": {
      "text/plain": [
       "0.948733870185311"
      ]
     },
     "execution_count": 81,
     "metadata": {},
     "output_type": "execute_result"
    }
   ],
   "source": [
    "predict_extree = Ex_tree.predict(X_test)\n",
    "Ex_tree.score(X_test,y_test)"
   ]
  },
  {
   "cell_type": "code",
   "execution_count": 82,
   "id": "b4502172-df58-4ce5-8524-8183dab0fe16",
   "metadata": {},
   "outputs": [
    {
     "name": "stdout",
     "output_type": "stream",
     "text": [
      "Classification Report: EXTRA tree  \n",
      "               precision    recall  f1-score   support\n",
      "\n",
      "           0    0.92723   0.93102   0.92912     18600\n",
      "           1    0.96095   0.95874   0.95984     32935\n",
      "\n",
      "    accuracy                        0.94873     51535\n",
      "   macro avg    0.94409   0.94488   0.94448     51535\n",
      "weighted avg    0.94878   0.94873   0.94876     51535\n",
      "\n"
     ]
    }
   ],
   "source": [
    "print(\"Classification Report: EXTRA tree  \\n\", classification_report(y_test, predict_extree,digits=5))"
   ]
  },
  {
   "cell_type": "code",
   "execution_count": 83,
   "id": "68ad5e47-3cd9-45b8-b971-d3514fe582bd",
   "metadata": {},
   "outputs": [
    {
     "data": {
      "image/png": "[encoded data removed]",
      "text/plain": [
       "<Figure size 432x288 with 1 Axes>"
      ]
     },
     "metadata": {
      "needs_background": "light"
     },
     "output_type": "display_data"
    }
   ],
   "source": [
    "binary_roc_plotter(X_test,y_test,Ex_tree,'EXTRA tree')"
   ]
  },
  {
   "cell_type": "code",
   "execution_count": 84,
   "id": "2f20c632-8ff3-48d0-ae5d-6cea883c3454",
   "metadata": {},
   "outputs": [
    {
     "data": {
      "text/plain": [
       "0.9899809938441799"
      ]
     },
     "execution_count": 84,
     "metadata": {},
     "output_type": "execute_result"
    }
   ],
   "source": [
    "roc_auc_score(y_test, Ex_tree.predict_proba(X_test)[:, 1])"
   ]
  },
  {
   "cell_type": "code",
   "execution_count": 85,
   "id": "67890916-dc0e-4d37-a900-8a50131eb843",
   "metadata": {},
   "outputs": [
    {
     "name": "stdout",
     "output_type": "stream",
     "text": [
      "Confusion Matrix: EXTRA tree binary \n",
      " [[17317  1283]\n",
      " [ 1359 31576]]\n"
     ]
    }
   ],
   "source": [
    "from sklearn.metrics import confusion_matrix\n",
    "CM_Ex_tree_binary = confusion_matrix(y_test,predict_extree)\n",
    "print('Confusion Matrix: EXTRA tree binary \\n',CM_Ex_tree_binary)"
   ]
  },
  {
   "cell_type": "code",
   "execution_count": null,
   "id": "4859211e-d06a-453e-896c-13b897fd0af5",
   "metadata": {},
   "outputs": [],
   "source": []
  },
  {
   "cell_type": "code",
   "execution_count": 18,
   "id": "b6f9c40f-1294-4800-81d5-171cc4de501e",
   "metadata": {},
   "outputs": [
    {
     "data": {
      "text/plain": [
       "0.9469874842340157"
      ]
     },
     "execution_count": 18,
     "metadata": {},
     "output_type": "execute_result"
    }
   ],
   "source": [
    "predict_xg = Xg.predict(X_test)\n",
    "Xg.score(X_test,y_test)"
   ]
  },
  {
   "cell_type": "code",
   "execution_count": 22,
   "id": "3498bb9e-691c-4f1e-b09b-84586adee1e9",
   "metadata": {},
   "outputs": [
    {
     "name": "stdout",
     "output_type": "stream",
     "text": [
      "Classification Report: \n",
      "               precision    recall  f1-score   support\n",
      "\n",
      "           0    0.91903   0.93554   0.92721     18600\n",
      "           1    0.96322   0.95345   0.95831     32935\n",
      "\n",
      "    accuracy                        0.94699     51535\n",
      "   macro avg    0.94113   0.94450   0.94276     51535\n",
      "weighted avg    0.94727   0.94699   0.94709     51535\n",
      "\n"
     ]
    }
   ],
   "source": [
    "print(\"Classification Report: \\n\", classification_report(y_test, predict_xg,digits=5))"
   ]
  },
  {
   "cell_type": "code",
   "execution_count": 23,
   "id": "b6b04c26-13d6-4802-bdcd-be1ec2e9dc31",
   "metadata": {},
   "outputs": [
    {
     "data": {
      "image/png": "[encoded data removed]",
      "text/plain": [
       "<Figure size 432x288 with 1 Axes>"
      ]
     },
     "metadata": {
      "needs_background": "light"
     },
     "output_type": "display_data"
    }
   ],
   "source": [
    "binary_roc_plotter(X_test,y_test,Xg,'XGboost')"
   ]
  },
  {
   "cell_type": "code",
   "execution_count": 24,
   "id": "f77dc98b-1f1b-4c61-858a-01da822fd0ce",
   "metadata": {},
   "outputs": [
    {
     "data": {
      "text/plain": [
       "0.9916384316779058"
      ]
     },
     "execution_count": 24,
     "metadata": {},
     "output_type": "execute_result"
    }
   ],
   "source": [
    "roc_auc_score(y_test, Xg.predict_proba(X_test)[:, 1])"
   ]
  },
  {
   "cell_type": "code",
   "execution_count": 25,
   "id": "d1ae07e6-0fc0-4de6-abf2-c16df2439dce",
   "metadata": {},
   "outputs": [
    {
     "name": "stdout",
     "output_type": "stream",
     "text": [
      "Confusion Matrix: XGboost binary \n",
      " [[17401  1199]\n",
      " [ 1533 31402]]\n"
     ]
    }
   ],
   "source": [
    "from sklearn.metrics import confusion_matrix\n",
    "CM_xgb_binary = confusion_matrix(y_test,predict_xg)\n",
    "print('Confusion Matrix: XGboost binary \\n',CM_xgb_binary)"
   ]
  },
  {
   "cell_type": "code",
   "execution_count": null,
   "id": "723b0905-c90d-458b-bc96-286e4c27d1b4",
   "metadata": {},
   "outputs": [],
   "source": []
  }
 ],
 "metadata": {
  "kernelspec": {
   "display_name": "Python 3 (ipykernel)",
   "language": "python",
   "name": "python3"
  },
  "language_info": {
   "codemirror_mode": {
    "name": "ipython",
    "version": 3
   },
   "file_extension": ".py",
   "mimetype": "text/x-python",
   "name": "python",
   "nbconvert_exporter": "python",
   "pygments_lexer": "ipython3",
   "version": "3.9.12"
  }
 },
 "nbformat": 4,
 "nbformat_minor": 5
}
