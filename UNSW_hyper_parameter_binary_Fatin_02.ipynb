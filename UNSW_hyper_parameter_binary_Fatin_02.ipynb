{
 "cells": [
  {
   "cell_type": "code",
   "execution_count": 4,
   "id": "57b13634-7754-43e2-bc80-f841b91a1a60",
   "metadata": {},
   "outputs": [],
   "source": [
    "import numpy as np\n",
    "import pandas as pd\n",
    "import matplotlib.pyplot as plt\n",
    "import seaborn as sns\n",
    "from sklearn.model_selection import StratifiedKFold\n",
    "folds = StratifiedKFold(n_splits=10)\n",
    "from sklearn.model_selection import cross_val_score\n",
    "from sklearn.metrics import confusion_matrix\n",
    "from sklearn.metrics import precision_score, recall_score,f1_score\n",
    "from sklearn.model_selection import train_test_split\n",
    "import tensorflow as tf\n",
    "from sklearn.metrics import roc_auc_score\n",
    "import six\n",
    "import sys\n",
    "sys.modules['sklearn.externals.six'] = six"
   ]
  },
  {
   "cell_type": "code",
   "execution_count": 5,
   "id": "ba37cad5-6dd0-4071-ab18-6a1f00cc9459",
   "metadata": {},
   "outputs": [
    {
     "data": {
      "text/html": [
       "<div>\n",
       "<style scoped>\n",
       "    .dataframe tbody tr th:only-of-type {\n",
       "        vertical-align: middle;\n",
       "    }\n",
       "\n",
       "    .dataframe tbody tr th {\n",
       "        vertical-align: top;\n",
       "    }\n",
       "\n",
       "    .dataframe thead th {\n",
       "        text-align: right;\n",
       "    }\n",
       "</style>\n",
       "<table border=\"1\" class=\"dataframe\">\n",
       "  <thead>\n",
       "    <tr style=\"text-align: right;\">\n",
       "      <th></th>\n",
       "      <th>Unnamed: 0</th>\n",
       "      <th>dur</th>\n",
       "      <th>proto</th>\n",
       "      <th>service</th>\n",
       "      <th>state</th>\n",
       "      <th>spkts</th>\n",
       "      <th>dpkts</th>\n",
       "      <th>sbytes</th>\n",
       "      <th>dbytes</th>\n",
       "      <th>rate</th>\n",
       "      <th>...</th>\n",
       "      <th>ct_dst_sport_ltm</th>\n",
       "      <th>ct_dst_src_ltm</th>\n",
       "      <th>is_ftp_login</th>\n",
       "      <th>ct_ftp_cmd</th>\n",
       "      <th>ct_flw_http_mthd</th>\n",
       "      <th>ct_src_ltm</th>\n",
       "      <th>ct_srv_dst</th>\n",
       "      <th>is_sm_ips_ports</th>\n",
       "      <th>attack_cat</th>\n",
       "      <th>label</th>\n",
       "    </tr>\n",
       "  </thead>\n",
       "  <tbody>\n",
       "    <tr>\n",
       "      <th>0</th>\n",
       "      <td>0</td>\n",
       "      <td>0.121478</td>\n",
       "      <td>tcp</td>\n",
       "      <td>-</td>\n",
       "      <td>FIN</td>\n",
       "      <td>6</td>\n",
       "      <td>4</td>\n",
       "      <td>258</td>\n",
       "      <td>172</td>\n",
       "      <td>74.087490</td>\n",
       "      <td>...</td>\n",
       "      <td>1</td>\n",
       "      <td>1</td>\n",
       "      <td>0</td>\n",
       "      <td>0</td>\n",
       "      <td>0</td>\n",
       "      <td>1</td>\n",
       "      <td>1</td>\n",
       "      <td>0</td>\n",
       "      <td>Normal</td>\n",
       "      <td>0</td>\n",
       "    </tr>\n",
       "    <tr>\n",
       "      <th>1</th>\n",
       "      <td>1</td>\n",
       "      <td>0.649902</td>\n",
       "      <td>tcp</td>\n",
       "      <td>-</td>\n",
       "      <td>FIN</td>\n",
       "      <td>14</td>\n",
       "      <td>38</td>\n",
       "      <td>734</td>\n",
       "      <td>42014</td>\n",
       "      <td>78.473372</td>\n",
       "      <td>...</td>\n",
       "      <td>1</td>\n",
       "      <td>2</td>\n",
       "      <td>0</td>\n",
       "      <td>0</td>\n",
       "      <td>0</td>\n",
       "      <td>1</td>\n",
       "      <td>6</td>\n",
       "      <td>0</td>\n",
       "      <td>Normal</td>\n",
       "      <td>0</td>\n",
       "    </tr>\n",
       "    <tr>\n",
       "      <th>2</th>\n",
       "      <td>2</td>\n",
       "      <td>1.623129</td>\n",
       "      <td>tcp</td>\n",
       "      <td>-</td>\n",
       "      <td>FIN</td>\n",
       "      <td>8</td>\n",
       "      <td>16</td>\n",
       "      <td>364</td>\n",
       "      <td>13186</td>\n",
       "      <td>14.170161</td>\n",
       "      <td>...</td>\n",
       "      <td>1</td>\n",
       "      <td>3</td>\n",
       "      <td>0</td>\n",
       "      <td>0</td>\n",
       "      <td>0</td>\n",
       "      <td>2</td>\n",
       "      <td>6</td>\n",
       "      <td>0</td>\n",
       "      <td>Normal</td>\n",
       "      <td>0</td>\n",
       "    </tr>\n",
       "    <tr>\n",
       "      <th>3</th>\n",
       "      <td>3</td>\n",
       "      <td>1.681642</td>\n",
       "      <td>tcp</td>\n",
       "      <td>ftp</td>\n",
       "      <td>FIN</td>\n",
       "      <td>12</td>\n",
       "      <td>12</td>\n",
       "      <td>628</td>\n",
       "      <td>770</td>\n",
       "      <td>13.677108</td>\n",
       "      <td>...</td>\n",
       "      <td>1</td>\n",
       "      <td>3</td>\n",
       "      <td>1</td>\n",
       "      <td>1</td>\n",
       "      <td>0</td>\n",
       "      <td>2</td>\n",
       "      <td>1</td>\n",
       "      <td>0</td>\n",
       "      <td>Normal</td>\n",
       "      <td>0</td>\n",
       "    </tr>\n",
       "    <tr>\n",
       "      <th>4</th>\n",
       "      <td>4</td>\n",
       "      <td>0.449454</td>\n",
       "      <td>tcp</td>\n",
       "      <td>-</td>\n",
       "      <td>FIN</td>\n",
       "      <td>10</td>\n",
       "      <td>6</td>\n",
       "      <td>534</td>\n",
       "      <td>268</td>\n",
       "      <td>33.373826</td>\n",
       "      <td>...</td>\n",
       "      <td>1</td>\n",
       "      <td>40</td>\n",
       "      <td>0</td>\n",
       "      <td>0</td>\n",
       "      <td>0</td>\n",
       "      <td>2</td>\n",
       "      <td>39</td>\n",
       "      <td>0</td>\n",
       "      <td>Normal</td>\n",
       "      <td>0</td>\n",
       "    </tr>\n",
       "    <tr>\n",
       "      <th>...</th>\n",
       "      <td>...</td>\n",
       "      <td>...</td>\n",
       "      <td>...</td>\n",
       "      <td>...</td>\n",
       "      <td>...</td>\n",
       "      <td>...</td>\n",
       "      <td>...</td>\n",
       "      <td>...</td>\n",
       "      <td>...</td>\n",
       "      <td>...</td>\n",
       "      <td>...</td>\n",
       "      <td>...</td>\n",
       "      <td>...</td>\n",
       "      <td>...</td>\n",
       "      <td>...</td>\n",
       "      <td>...</td>\n",
       "      <td>...</td>\n",
       "      <td>...</td>\n",
       "      <td>...</td>\n",
       "      <td>...</td>\n",
       "      <td>...</td>\n",
       "    </tr>\n",
       "    <tr>\n",
       "      <th>185995</th>\n",
       "      <td>185995</td>\n",
       "      <td>0.000008</td>\n",
       "      <td>udp</td>\n",
       "      <td>dns</td>\n",
       "      <td>INT</td>\n",
       "      <td>2</td>\n",
       "      <td>0</td>\n",
       "      <td>114</td>\n",
       "      <td>0</td>\n",
       "      <td>125000.000300</td>\n",
       "      <td>...</td>\n",
       "      <td>15</td>\n",
       "      <td>42</td>\n",
       "      <td>0</td>\n",
       "      <td>0</td>\n",
       "      <td>0</td>\n",
       "      <td>30</td>\n",
       "      <td>42</td>\n",
       "      <td>0</td>\n",
       "      <td>Generic</td>\n",
       "      <td>1</td>\n",
       "    </tr>\n",
       "    <tr>\n",
       "      <th>185996</th>\n",
       "      <td>185996</td>\n",
       "      <td>0.000008</td>\n",
       "      <td>udp</td>\n",
       "      <td>dns</td>\n",
       "      <td>INT</td>\n",
       "      <td>2</td>\n",
       "      <td>0</td>\n",
       "      <td>114</td>\n",
       "      <td>0</td>\n",
       "      <td>125000.000300</td>\n",
       "      <td>...</td>\n",
       "      <td>23</td>\n",
       "      <td>35</td>\n",
       "      <td>0</td>\n",
       "      <td>0</td>\n",
       "      <td>0</td>\n",
       "      <td>35</td>\n",
       "      <td>35</td>\n",
       "      <td>0</td>\n",
       "      <td>Generic</td>\n",
       "      <td>1</td>\n",
       "    </tr>\n",
       "    <tr>\n",
       "      <th>185997</th>\n",
       "      <td>185997</td>\n",
       "      <td>0.000008</td>\n",
       "      <td>udp</td>\n",
       "      <td>dns</td>\n",
       "      <td>INT</td>\n",
       "      <td>2</td>\n",
       "      <td>0</td>\n",
       "      <td>114</td>\n",
       "      <td>0</td>\n",
       "      <td>125000.000300</td>\n",
       "      <td>...</td>\n",
       "      <td>23</td>\n",
       "      <td>35</td>\n",
       "      <td>0</td>\n",
       "      <td>0</td>\n",
       "      <td>0</td>\n",
       "      <td>35</td>\n",
       "      <td>35</td>\n",
       "      <td>0</td>\n",
       "      <td>Generic</td>\n",
       "      <td>1</td>\n",
       "    </tr>\n",
       "    <tr>\n",
       "      <th>185998</th>\n",
       "      <td>185998</td>\n",
       "      <td>0.000008</td>\n",
       "      <td>udp</td>\n",
       "      <td>dns</td>\n",
       "      <td>INT</td>\n",
       "      <td>2</td>\n",
       "      <td>0</td>\n",
       "      <td>114</td>\n",
       "      <td>0</td>\n",
       "      <td>125000.000300</td>\n",
       "      <td>...</td>\n",
       "      <td>23</td>\n",
       "      <td>35</td>\n",
       "      <td>0</td>\n",
       "      <td>0</td>\n",
       "      <td>0</td>\n",
       "      <td>35</td>\n",
       "      <td>35</td>\n",
       "      <td>0</td>\n",
       "      <td>Generic</td>\n",
       "      <td>1</td>\n",
       "    </tr>\n",
       "    <tr>\n",
       "      <th>185999</th>\n",
       "      <td>185999</td>\n",
       "      <td>0.000008</td>\n",
       "      <td>udp</td>\n",
       "      <td>dns</td>\n",
       "      <td>INT</td>\n",
       "      <td>2</td>\n",
       "      <td>0</td>\n",
       "      <td>114</td>\n",
       "      <td>0</td>\n",
       "      <td>125000.000300</td>\n",
       "      <td>...</td>\n",
       "      <td>23</td>\n",
       "      <td>35</td>\n",
       "      <td>0</td>\n",
       "      <td>0</td>\n",
       "      <td>0</td>\n",
       "      <td>35</td>\n",
       "      <td>35</td>\n",
       "      <td>0</td>\n",
       "      <td>Generic</td>\n",
       "      <td>1</td>\n",
       "    </tr>\n",
       "  </tbody>\n",
       "</table>\n",
       "<p>186000 rows × 45 columns</p>\n",
       "</div>"
      ],
      "text/plain": [
       "        Unnamed: 0       dur proto service state  spkts  dpkts  sbytes  \\\n",
       "0                0  0.121478   tcp       -   FIN      6      4     258   \n",
       "1                1  0.649902   tcp       -   FIN     14     38     734   \n",
       "2                2  1.623129   tcp       -   FIN      8     16     364   \n",
       "3                3  1.681642   tcp     ftp   FIN     12     12     628   \n",
       "4                4  0.449454   tcp       -   FIN     10      6     534   \n",
       "...            ...       ...   ...     ...   ...    ...    ...     ...   \n",
       "185995      185995  0.000008   udp     dns   INT      2      0     114   \n",
       "185996      185996  0.000008   udp     dns   INT      2      0     114   \n",
       "185997      185997  0.000008   udp     dns   INT      2      0     114   \n",
       "185998      185998  0.000008   udp     dns   INT      2      0     114   \n",
       "185999      185999  0.000008   udp     dns   INT      2      0     114   \n",
       "\n",
       "        dbytes           rate  ...  ct_dst_sport_ltm  ct_dst_src_ltm  \\\n",
       "0          172      74.087490  ...                 1               1   \n",
       "1        42014      78.473372  ...                 1               2   \n",
       "2        13186      14.170161  ...                 1               3   \n",
       "3          770      13.677108  ...                 1               3   \n",
       "4          268      33.373826  ...                 1              40   \n",
       "...        ...            ...  ...               ...             ...   \n",
       "185995       0  125000.000300  ...                15              42   \n",
       "185996       0  125000.000300  ...                23              35   \n",
       "185997       0  125000.000300  ...                23              35   \n",
       "185998       0  125000.000300  ...                23              35   \n",
       "185999       0  125000.000300  ...                23              35   \n",
       "\n",
       "        is_ftp_login  ct_ftp_cmd  ct_flw_http_mthd  ct_src_ltm  ct_srv_dst  \\\n",
       "0                  0           0                 0           1           1   \n",
       "1                  0           0                 0           1           6   \n",
       "2                  0           0                 0           2           6   \n",
       "3                  1           1                 0           2           1   \n",
       "4                  0           0                 0           2          39   \n",
       "...              ...         ...               ...         ...         ...   \n",
       "185995             0           0                 0          30          42   \n",
       "185996             0           0                 0          35          35   \n",
       "185997             0           0                 0          35          35   \n",
       "185998             0           0                 0          35          35   \n",
       "185999             0           0                 0          35          35   \n",
       "\n",
       "        is_sm_ips_ports  attack_cat  label  \n",
       "0                     0      Normal      0  \n",
       "1                     0      Normal      0  \n",
       "2                     0      Normal      0  \n",
       "3                     0      Normal      0  \n",
       "4                     0      Normal      0  \n",
       "...                 ...         ...    ...  \n",
       "185995                0     Generic      1  \n",
       "185996                0     Generic      1  \n",
       "185997                0     Generic      1  \n",
       "185998                0     Generic      1  \n",
       "185999                0     Generic      1  \n",
       "\n",
       "[186000 rows x 45 columns]"
      ]
     },
     "execution_count": 5,
     "metadata": {},
     "output_type": "execute_result"
    }
   ],
   "source": [
    "df = pd.read_csv(\"UNSW_undersampled_and_reversed.csv\")\n",
    "df"
   ]
  },
  {
   "cell_type": "code",
   "execution_count": 6,
   "id": "93d980c1-8afa-439c-8526-fe2d2a15ed4c",
   "metadata": {},
   "outputs": [],
   "source": [
    "from sklearn.utils import shuffle\n",
    "df = shuffle(df,random_state=50)"
   ]
  },
  {
   "cell_type": "code",
   "execution_count": 7,
   "id": "f6dea62d-d5d2-4b09-9a42-fe5e9a01f258",
   "metadata": {},
   "outputs": [],
   "source": [
    "from sklearn import preprocessing"
   ]
  },
  {
   "cell_type": "code",
   "execution_count": 8,
   "id": "af59951f-8a73-4295-9afb-483cd2f1ca13",
   "metadata": {},
   "outputs": [
    {
     "data": {
      "text/plain": [
       "array([4, 3, 1, 6, 2, 7, 0, 5, 8, 9])"
      ]
     },
     "execution_count": 8,
     "metadata": {},
     "output_type": "execute_result"
    }
   ],
   "source": [
    "label_encoder1 = preprocessing.LabelEncoder()\n",
    "df['proto']= label_encoder1.fit_transform(df['proto'])\n",
    "  \n",
    "df['proto'].unique()\n",
    "label_encoder2 = preprocessing.LabelEncoder()\n",
    "df['attack_cat']= label_encoder2.fit_transform(df['attack_cat'])\n",
    "  \n",
    "df['attack_cat'].unique()\n",
    "label_encoder3 = preprocessing.LabelEncoder()\n",
    "df['service']= label_encoder3.fit_transform(df['service'])\n",
    "  \n",
    "df['service'].unique()\n",
    "label_encoder4 = preprocessing.LabelEncoder()\n",
    "df['state']= label_encoder4.fit_transform(df['state'])\n",
    "  \n",
    "df['state'].unique()"
   ]
  },
  {
   "cell_type": "code",
   "execution_count": 9,
   "id": "1fa6f068-ce3e-4733-9103-773d5aa48a06",
   "metadata": {},
   "outputs": [],
   "source": [
    "y=df['label']\n",
    "#y1=df.iloc[:,-1]\n",
    "x_k=df.drop(['label','attack_cat','Unnamed: 0'],axis=1)\n",
    "#y= df['attack_cat']"
   ]
  },
  {
   "cell_type": "code",
   "execution_count": 10,
   "id": "4a0e5006-e8db-41e6-95cb-b6f765ff1345",
   "metadata": {},
   "outputs": [
    {
     "data": {
      "text/plain": [
       "array([1, 0, 0, ..., 1, 1, 1], dtype=int64)"
      ]
     },
     "execution_count": 10,
     "metadata": {},
     "output_type": "execute_result"
    }
   ],
   "source": [
    "from sklearn import preprocessing\n",
    "le = preprocessing.LabelEncoder()\n",
    "y_l = le.fit_transform(y)\n",
    "y_l"
   ]
  },
  {
   "cell_type": "code",
   "execution_count": 11,
   "id": "5d5144c0-d63c-4652-a7cf-cefc2e6ccbaa",
   "metadata": {},
   "outputs": [
    {
     "data": {
      "text/html": [
       "<div>\n",
       "<style scoped>\n",
       "    .dataframe tbody tr th:only-of-type {\n",
       "        vertical-align: middle;\n",
       "    }\n",
       "\n",
       "    .dataframe tbody tr th {\n",
       "        vertical-align: top;\n",
       "    }\n",
       "\n",
       "    .dataframe thead th {\n",
       "        text-align: right;\n",
       "    }\n",
       "</style>\n",
       "<table border=\"1\" class=\"dataframe\">\n",
       "  <thead>\n",
       "    <tr style=\"text-align: right;\">\n",
       "      <th></th>\n",
       "      <th>0</th>\n",
       "      <th>1</th>\n",
       "      <th>2</th>\n",
       "      <th>3</th>\n",
       "      <th>4</th>\n",
       "      <th>5</th>\n",
       "      <th>6</th>\n",
       "      <th>7</th>\n",
       "      <th>8</th>\n",
       "      <th>9</th>\n",
       "      <th>...</th>\n",
       "      <th>32</th>\n",
       "      <th>33</th>\n",
       "      <th>34</th>\n",
       "      <th>35</th>\n",
       "      <th>36</th>\n",
       "      <th>37</th>\n",
       "      <th>38</th>\n",
       "      <th>39</th>\n",
       "      <th>40</th>\n",
       "      <th>41</th>\n",
       "    </tr>\n",
       "  </thead>\n",
       "  <tbody>\n",
       "    <tr>\n",
       "      <th>0</th>\n",
       "      <td>1.333334e-07</td>\n",
       "      <td>0.901515</td>\n",
       "      <td>0.2</td>\n",
       "      <td>0.444444</td>\n",
       "      <td>0.001451</td>\n",
       "      <td>0.000000</td>\n",
       "      <td>0.000265</td>\n",
       "      <td>0.000000</td>\n",
       "      <td>0.125000</td>\n",
       "      <td>0.996078</td>\n",
       "      <td>...</td>\n",
       "      <td>0.310345</td>\n",
       "      <td>0.275862</td>\n",
       "      <td>0.355556</td>\n",
       "      <td>0.532258</td>\n",
       "      <td>0.0</td>\n",
       "      <td>0.0</td>\n",
       "      <td>0.0</td>\n",
       "      <td>0.288136</td>\n",
       "      <td>0.524590</td>\n",
       "      <td>0.0</td>\n",
       "    </tr>\n",
       "    <tr>\n",
       "      <th>1</th>\n",
       "      <td>1.581304e-02</td>\n",
       "      <td>0.856061</td>\n",
       "      <td>0.0</td>\n",
       "      <td>0.333333</td>\n",
       "      <td>0.175617</td>\n",
       "      <td>0.073427</td>\n",
       "      <td>0.022980</td>\n",
       "      <td>0.006727</td>\n",
       "      <td>0.000260</td>\n",
       "      <td>0.121569</td>\n",
       "      <td>...</td>\n",
       "      <td>0.034483</td>\n",
       "      <td>0.000000</td>\n",
       "      <td>0.000000</td>\n",
       "      <td>0.000000</td>\n",
       "      <td>0.0</td>\n",
       "      <td>0.0</td>\n",
       "      <td>0.0</td>\n",
       "      <td>0.016949</td>\n",
       "      <td>0.180328</td>\n",
       "      <td>0.0</td>\n",
       "    </tr>\n",
       "    <tr>\n",
       "      <th>2</th>\n",
       "      <td>7.977668e-04</td>\n",
       "      <td>0.856061</td>\n",
       "      <td>0.0</td>\n",
       "      <td>0.333333</td>\n",
       "      <td>0.053701</td>\n",
       "      <td>0.023310</td>\n",
       "      <td>0.007119</td>\n",
       "      <td>0.008228</td>\n",
       "      <td>0.001609</td>\n",
       "      <td>0.121569</td>\n",
       "      <td>...</td>\n",
       "      <td>0.068966</td>\n",
       "      <td>0.000000</td>\n",
       "      <td>0.000000</td>\n",
       "      <td>0.016129</td>\n",
       "      <td>0.0</td>\n",
       "      <td>0.0</td>\n",
       "      <td>0.0</td>\n",
       "      <td>0.033898</td>\n",
       "      <td>0.245902</td>\n",
       "      <td>0.0</td>\n",
       "    </tr>\n",
       "    <tr>\n",
       "      <th>3</th>\n",
       "      <td>1.500000e-07</td>\n",
       "      <td>0.901515</td>\n",
       "      <td>0.2</td>\n",
       "      <td>0.444444</td>\n",
       "      <td>0.001451</td>\n",
       "      <td>0.000000</td>\n",
       "      <td>0.000265</td>\n",
       "      <td>0.000000</td>\n",
       "      <td>0.111111</td>\n",
       "      <td>0.996078</td>\n",
       "      <td>...</td>\n",
       "      <td>0.275862</td>\n",
       "      <td>0.258621</td>\n",
       "      <td>0.333333</td>\n",
       "      <td>0.532258</td>\n",
       "      <td>0.0</td>\n",
       "      <td>0.0</td>\n",
       "      <td>0.0</td>\n",
       "      <td>0.254237</td>\n",
       "      <td>0.524590</td>\n",
       "      <td>0.0</td>\n",
       "    </tr>\n",
       "    <tr>\n",
       "      <th>4</th>\n",
       "      <td>1.333334e-07</td>\n",
       "      <td>0.901515</td>\n",
       "      <td>0.0</td>\n",
       "      <td>0.444444</td>\n",
       "      <td>0.001451</td>\n",
       "      <td>0.000000</td>\n",
       "      <td>0.000425</td>\n",
       "      <td>0.000000</td>\n",
       "      <td>0.125000</td>\n",
       "      <td>0.996078</td>\n",
       "      <td>...</td>\n",
       "      <td>0.000000</td>\n",
       "      <td>0.000000</td>\n",
       "      <td>0.000000</td>\n",
       "      <td>0.000000</td>\n",
       "      <td>0.0</td>\n",
       "      <td>0.0</td>\n",
       "      <td>0.0</td>\n",
       "      <td>0.050847</td>\n",
       "      <td>0.000000</td>\n",
       "      <td>0.0</td>\n",
       "    </tr>\n",
       "  </tbody>\n",
       "</table>\n",
       "<p>5 rows × 42 columns</p>\n",
       "</div>"
      ],
      "text/plain": [
       "             0         1    2         3         4         5         6   \\\n",
       "0  1.333334e-07  0.901515  0.2  0.444444  0.001451  0.000000  0.000265   \n",
       "1  1.581304e-02  0.856061  0.0  0.333333  0.175617  0.073427  0.022980   \n",
       "2  7.977668e-04  0.856061  0.0  0.333333  0.053701  0.023310  0.007119   \n",
       "3  1.500000e-07  0.901515  0.2  0.444444  0.001451  0.000000  0.000265   \n",
       "4  1.333334e-07  0.901515  0.0  0.444444  0.001451  0.000000  0.000425   \n",
       "\n",
       "         7         8         9   ...        32        33        34        35  \\\n",
       "0  0.000000  0.125000  0.996078  ...  0.310345  0.275862  0.355556  0.532258   \n",
       "1  0.006727  0.000260  0.121569  ...  0.034483  0.000000  0.000000  0.000000   \n",
       "2  0.008228  0.001609  0.121569  ...  0.068966  0.000000  0.000000  0.016129   \n",
       "3  0.000000  0.111111  0.996078  ...  0.275862  0.258621  0.333333  0.532258   \n",
       "4  0.000000  0.125000  0.996078  ...  0.000000  0.000000  0.000000  0.000000   \n",
       "\n",
       "    36   37   38        39        40   41  \n",
       "0  0.0  0.0  0.0  0.288136  0.524590  0.0  \n",
       "1  0.0  0.0  0.0  0.016949  0.180328  0.0  \n",
       "2  0.0  0.0  0.0  0.033898  0.245902  0.0  \n",
       "3  0.0  0.0  0.0  0.254237  0.524590  0.0  \n",
       "4  0.0  0.0  0.0  0.050847  0.000000  0.0  \n",
       "\n",
       "[5 rows x 42 columns]"
      ]
     },
     "execution_count": 11,
     "metadata": {},
     "output_type": "execute_result"
    }
   ],
   "source": [
    "from sklearn import preprocessing\n",
    "from sklearn.preprocessing import MinMaxScaler\n",
    "sc = MinMaxScaler()\n",
    "x_k_1= sc.fit_transform(x_k)\n",
    "\n",
    "x = pd.DataFrame(x_k_1)\n",
    "\n",
    "x.head()"
   ]
  },
  {
   "cell_type": "code",
   "execution_count": 12,
   "id": "86598227-5a15-4820-bd24-946a5d92e687",
   "metadata": {},
   "outputs": [],
   "source": [
    "from sklearn.model_selection import train_test_split"
   ]
  },
  {
   "cell_type": "code",
   "execution_count": 13,
   "id": "74ee8926-8cc9-4762-b08e-565875cf4c30",
   "metadata": {},
   "outputs": [],
   "source": [
    "from sklearn.model_selection import RandomizedSearchCV"
   ]
  },
  {
   "cell_type": "code",
   "execution_count": 14,
   "id": "59097f21-c978-4bf0-98dc-43cf50c6302f",
   "metadata": {},
   "outputs": [],
   "source": [
    "from sklearn.ensemble import RandomForestClassifier"
   ]
  },
  {
   "cell_type": "code",
   "execution_count": 13,
   "id": "22a97fcd-6a88-44d4-befe-210ad571bb59",
   "metadata": {},
   "outputs": [
    {
     "name": "stdout",
     "output_type": "stream",
     "text": [
      "Fitting 5 folds for each of 10 candidates, totalling 50 fits\n"
     ]
    }
   ],
   "source": [
    "parameters_RF = {'n_estimators': (40,60,65,70,75,80,85,90,95,100,120),'min_samples_split' : (2,4,8,10,15,20,30)}\n",
    "                                                                                                                                     \n",
    "RF_grid  = RandomizedSearchCV( RandomForestClassifier(), param_distributions = parameters_RF, cv = 5, verbose = True,scoring='accuracy')\n",
    "result_RF=RF_grid.fit(x,y)\n",
    "  \n",
    "RF= result_RF.best_estimator_"
   ]
  },
  {
   "cell_type": "code",
   "execution_count": 14,
   "id": "75571647-e1d8-4fb1-b8ff-352ce8c007cc",
   "metadata": {},
   "outputs": [
    {
     "name": "stdout",
     "output_type": "stream",
     "text": [
      "RandomForestClassifier(min_samples_split=4, n_estimators=95)\n"
     ]
    }
   ],
   "source": [
    "RF_estimator_result =result_RF.best_estimator_\n",
    "print(RF_estimator_result)"
   ]
  },
  {
   "cell_type": "code",
   "execution_count": 15,
   "id": "a6820734-7258-4079-b054-4fc45fbb8047",
   "metadata": {},
   "outputs": [],
   "source": [
    "from sklearn.naive_bayes import GaussianNB"
   ]
  },
  {
   "cell_type": "code",
   "execution_count": 16,
   "id": "1d10792a-3432-4e71-bc8c-90bb0cf706fd",
   "metadata": {},
   "outputs": [
    {
     "name": "stdout",
     "output_type": "stream",
     "text": [
      "Fitting 5 folds for each of 10 candidates, totalling 50 fits\n"
     ]
    }
   ],
   "source": [
    "parameters_gb = {'var_smoothing': (1e-09,1e-08,1e-07,1e-06,1e-05,1e-04,1e-03,1e-02,1e-01,1,10,5e-09,5e-08,5e-07,5e-06,5e-05,\n",
    "                                5e-04,5e-03,5e-02,5e-01,5)}\n",
    "gb_grid  = RandomizedSearchCV( GaussianNB(), param_distributions = parameters_gb, cv = 5, verbose = True,scoring='accuracy')\n",
    "result_gb = gb_grid.fit(x,y)"
   ]
  },
  {
   "cell_type": "code",
   "execution_count": 17,
   "id": "ecc9457a-d885-4792-9645-212d01ffb151",
   "metadata": {},
   "outputs": [
    {
     "name": "stdout",
     "output_type": "stream",
     "text": [
      "GaussianNB(var_smoothing=5e-08)\n"
     ]
    }
   ],
   "source": [
    "gb_estimator_result =result_gb.best_estimator_\n",
    "print(gb_estimator_result)"
   ]
  },
  {
   "cell_type": "code",
   "execution_count": 16,
   "id": "53fc74a4-c66d-4131-be77-c2fab2ab68db",
   "metadata": {},
   "outputs": [],
   "source": [
    "from sklearn.linear_model import LogisticRegression"
   ]
  },
  {
   "cell_type": "code",
   "execution_count": 19,
   "id": "ecc87d34-163c-4bdb-bc1b-a0bce4b34073",
   "metadata": {},
   "outputs": [
    {
     "name": "stdout",
     "output_type": "stream",
     "text": [
      "Fitting 5 folds for each of 10 candidates, totalling 50 fits\n"
     ]
    }
   ],
   "source": [
    "parameters_lr = {'solver':('liblinear','newton-cg'),'random_state':(0,1),'C': (0.1,1,10),'tol': (0.01,0.001,0.0001,.1)}\n",
    "                                                                                                                                     \n",
    "lr_grid  = RandomizedSearchCV( LogisticRegression(), param_distributions = parameters_lr, cv = 5, verbose = True,scoring='accuracy')\n",
    "result_lr=lr_grid.fit(x,y)\n",
    "    \n",
    "LG_estimator_result = result_lr.best_estimator_"
   ]
  },
  {
   "cell_type": "code",
   "execution_count": 20,
   "id": "a3aa4012-4978-4cfd-b4e6-00ac2b2af1fc",
   "metadata": {},
   "outputs": [
    {
     "name": "stdout",
     "output_type": "stream",
     "text": [
      "LogisticRegression(C=10, random_state=0, solver='newton-cg', tol=0.1)\n"
     ]
    }
   ],
   "source": [
    "print(LG_estimator_result)"
   ]
  },
  {
   "cell_type": "code",
   "execution_count": 17,
   "id": "9d954039-8ecd-4faf-844b-1dc77181592d",
   "metadata": {},
   "outputs": [],
   "source": [
    "from sklearn.neighbors import KNeighborsClassifier"
   ]
  },
  {
   "cell_type": "code",
   "execution_count": 22,
   "id": "e0f48fc2-8c4c-4868-a718-170e2c692c24",
   "metadata": {},
   "outputs": [
    {
     "name": "stdout",
     "output_type": "stream",
     "text": [
      "Fitting 5 folds for each of 10 candidates, totalling 50 fits\n"
     ]
    }
   ],
   "source": [
    "parameters_knn = {'n_neighbors': (1,2,3,4,5),'leaf_size':(15,30,50,100),'p':(1,2,3)}\n",
    "knn_grid  = RandomizedSearchCV( KNeighborsClassifier(), param_distributions = parameters_knn, cv = 5, verbose = True,scoring='accuracy')\n",
    "result_knn=knn_grid.fit(x,y)\n",
    "knn_estimator_result = result_knn.best_estimator_"
   ]
  },
  {
   "cell_type": "code",
   "execution_count": 23,
   "id": "91f1f29c-0878-4db2-b72f-3c3cef226b4f",
   "metadata": {},
   "outputs": [
    {
     "name": "stdout",
     "output_type": "stream",
     "text": [
      "KNeighborsClassifier(p=1)\n"
     ]
    }
   ],
   "source": [
    "print(knn_estimator_result)"
   ]
  },
  {
   "cell_type": "code",
   "execution_count": 18,
   "id": "4300a20a-ba50-4733-b304-7ea4adaba344",
   "metadata": {},
   "outputs": [],
   "source": [
    "from sklearn.tree import DecisionTreeClassifier"
   ]
  },
  {
   "cell_type": "code",
   "execution_count": 25,
   "id": "6a515dbd-f7d0-4ed3-bd00-41a72fecdd53",
   "metadata": {},
   "outputs": [
    {
     "name": "stdout",
     "output_type": "stream",
     "text": [
      "Fitting 5 folds for each of 10 candidates, totalling 50 fits\n"
     ]
    }
   ],
   "source": [
    "parameters_dt = {'min_samples_split' : (2,4,6,10), 'max_depth':(3,4,5,6,7,8,9,10,11,12,16,25,50,100,200)}                                                                                                                            \n",
    "DT_grid  = RandomizedSearchCV( DecisionTreeClassifier(), param_distributions = parameters_dt, cv = 5, verbose = True,scoring='accuracy')\n",
    "result_dt=DT_grid.fit(x,y)\n",
    "    \n",
    "dt_estimator_result = result_dt.best_estimator_"
   ]
  },
  {
   "cell_type": "code",
   "execution_count": 26,
   "id": "82792426-da1e-49e5-882f-9be324dcd4db",
   "metadata": {},
   "outputs": [
    {
     "name": "stdout",
     "output_type": "stream",
     "text": [
      "DecisionTreeClassifier(max_depth=25, min_samples_split=10)\n"
     ]
    }
   ],
   "source": [
    "print(dt_estimator_result)"
   ]
  },
  {
   "cell_type": "code",
   "execution_count": 19,
   "id": "3be898b4-a9e4-4d1e-93b0-2ff597bf0c50",
   "metadata": {},
   "outputs": [],
   "source": [
    "from sklearn.ensemble import GradientBoostingClassifier"
   ]
  },
  {
   "cell_type": "code",
   "execution_count": 28,
   "id": "7ba499ab-d7bf-43d7-874e-8edac5156fab",
   "metadata": {},
   "outputs": [
    {
     "name": "stdout",
     "output_type": "stream",
     "text": [
      "Fitting 5 folds for each of 10 candidates, totalling 50 fits\n",
      "[CV 1/5; 1/10] START min_samples_split=2, n_estimators=150, subsample=1.........\n",
      "[CV 1/5; 1/10] END min_samples_split=2, n_estimators=150, subsample=1;, score=0.968 total time=  54.5s\n",
      "[CV 2/5; 1/10] START min_samples_split=2, n_estimators=150, subsample=1.........\n",
      "[CV 2/5; 1/10] END min_samples_split=2, n_estimators=150, subsample=1;, score=0.967 total time=  53.5s\n",
      "[CV 3/5; 1/10] START min_samples_split=2, n_estimators=150, subsample=1.........\n",
      "[CV 3/5; 1/10] END min_samples_split=2, n_estimators=150, subsample=1;, score=0.968 total time=  54.6s\n",
      "[CV 4/5; 1/10] START min_samples_split=2, n_estimators=150, subsample=1.........\n",
      "[CV 4/5; 1/10] END min_samples_split=2, n_estimators=150, subsample=1;, score=0.968 total time= 1.1min\n",
      "[CV 5/5; 1/10] START min_samples_split=2, n_estimators=150, subsample=1.........\n",
      "[CV 5/5; 1/10] END min_samples_split=2, n_estimators=150, subsample=1;, score=0.968 total time= 1.0min\n",
      "[CV 1/5; 2/10] START min_samples_split=4, n_estimators=140, subsample=0.1.......\n",
      "[CV 1/5; 2/10] END min_samples_split=4, n_estimators=140, subsample=0.1;, score=0.968 total time=  11.6s\n",
      "[CV 2/5; 2/10] START min_samples_split=4, n_estimators=140, subsample=0.1.......\n",
      "[CV 2/5; 2/10] END min_samples_split=4, n_estimators=140, subsample=0.1;, score=0.963 total time=  11.5s\n",
      "[CV 3/5; 2/10] START min_samples_split=4, n_estimators=140, subsample=0.1.......\n",
      "[CV 3/5; 2/10] END min_samples_split=4, n_estimators=140, subsample=0.1;, score=0.963 total time=  11.1s\n",
      "[CV 4/5; 2/10] START min_samples_split=4, n_estimators=140, subsample=0.1.......\n",
      "[CV 4/5; 2/10] END min_samples_split=4, n_estimators=140, subsample=0.1;, score=0.964 total time=  10.9s\n",
      "[CV 5/5; 2/10] START min_samples_split=4, n_estimators=140, subsample=0.1.......\n",
      "[CV 5/5; 2/10] END min_samples_split=4, n_estimators=140, subsample=0.1;, score=0.966 total time=  11.3s\n",
      "[CV 1/5; 3/10] START min_samples_split=2, n_estimators=100, subsample=0.1.......\n",
      "[CV 1/5; 3/10] END min_samples_split=2, n_estimators=100, subsample=0.1;, score=0.966 total time=   8.0s\n",
      "[CV 2/5; 3/10] START min_samples_split=2, n_estimators=100, subsample=0.1.......\n",
      "[CV 2/5; 3/10] END min_samples_split=2, n_estimators=100, subsample=0.1;, score=0.961 total time=   8.3s\n",
      "[CV 3/5; 3/10] START min_samples_split=2, n_estimators=100, subsample=0.1.......\n",
      "[CV 3/5; 3/10] END min_samples_split=2, n_estimators=100, subsample=0.1;, score=0.968 total time=   8.3s\n",
      "[CV 4/5; 3/10] START min_samples_split=2, n_estimators=100, subsample=0.1.......\n",
      "[CV 4/5; 3/10] END min_samples_split=2, n_estimators=100, subsample=0.1;, score=0.961 total time=   8.0s\n",
      "[CV 5/5; 3/10] START min_samples_split=2, n_estimators=100, subsample=0.1.......\n",
      "[CV 5/5; 3/10] END min_samples_split=2, n_estimators=100, subsample=0.1;, score=0.965 total time=   8.2s\n",
      "[CV 1/5; 4/10] START min_samples_split=2, n_estimators=50, subsample=1..........\n",
      "[CV 1/5; 4/10] END min_samples_split=2, n_estimators=50, subsample=1;, score=0.968 total time=  21.6s\n",
      "[CV 2/5; 4/10] START min_samples_split=2, n_estimators=50, subsample=1..........\n",
      "[CV 2/5; 4/10] END min_samples_split=2, n_estimators=50, subsample=1;, score=0.967 total time=  21.4s\n",
      "[CV 3/5; 4/10] START min_samples_split=2, n_estimators=50, subsample=1..........\n",
      "[CV 3/5; 4/10] END min_samples_split=2, n_estimators=50, subsample=1;, score=0.968 total time=  21.8s\n",
      "[CV 4/5; 4/10] START min_samples_split=2, n_estimators=50, subsample=1..........\n",
      "[CV 4/5; 4/10] END min_samples_split=2, n_estimators=50, subsample=1;, score=0.968 total time=  21.2s\n",
      "[CV 5/5; 4/10] START min_samples_split=2, n_estimators=50, subsample=1..........\n",
      "[CV 5/5; 4/10] END min_samples_split=2, n_estimators=50, subsample=1;, score=0.968 total time=  20.7s\n",
      "[CV 1/5; 5/10] START min_samples_split=4, n_estimators=50, subsample=0.5........\n",
      "[CV 1/5; 5/10] END min_samples_split=4, n_estimators=50, subsample=0.5;, score=0.967 total time=  11.7s\n",
      "[CV 2/5; 5/10] START min_samples_split=4, n_estimators=50, subsample=0.5........\n",
      "[CV 2/5; 5/10] END min_samples_split=4, n_estimators=50, subsample=0.5;, score=0.967 total time=  11.6s\n",
      "[CV 3/5; 5/10] START min_samples_split=4, n_estimators=50, subsample=0.5........\n",
      "[CV 3/5; 5/10] END min_samples_split=4, n_estimators=50, subsample=0.5;, score=0.967 total time=  11.1s\n",
      "[CV 4/5; 5/10] START min_samples_split=4, n_estimators=50, subsample=0.5........\n",
      "[CV 4/5; 5/10] END min_samples_split=4, n_estimators=50, subsample=0.5;, score=0.968 total time=  10.9s\n",
      "[CV 5/5; 5/10] START min_samples_split=4, n_estimators=50, subsample=0.5........\n",
      "[CV 5/5; 5/10] END min_samples_split=4, n_estimators=50, subsample=0.5;, score=0.968 total time=  11.0s\n",
      "[CV 1/5; 6/10] START min_samples_split=2, n_estimators=150, subsample=0.1.......\n",
      "[CV 1/5; 6/10] END min_samples_split=2, n_estimators=150, subsample=0.1;, score=0.967 total time=  11.5s\n",
      "[CV 2/5; 6/10] START min_samples_split=2, n_estimators=150, subsample=0.1.......\n",
      "[CV 2/5; 6/10] END min_samples_split=2, n_estimators=150, subsample=0.1;, score=0.967 total time=  11.6s\n",
      "[CV 3/5; 6/10] START min_samples_split=2, n_estimators=150, subsample=0.1.......\n",
      "[CV 3/5; 6/10] END min_samples_split=2, n_estimators=150, subsample=0.1;, score=0.965 total time=  11.5s\n",
      "[CV 4/5; 6/10] START min_samples_split=2, n_estimators=150, subsample=0.1.......\n",
      "[CV 4/5; 6/10] END min_samples_split=2, n_estimators=150, subsample=0.1;, score=0.964 total time=  11.5s\n",
      "[CV 5/5; 6/10] START min_samples_split=2, n_estimators=150, subsample=0.1.......\n",
      "[CV 5/5; 6/10] END min_samples_split=2, n_estimators=150, subsample=0.1;, score=0.963 total time=  11.6s\n",
      "[CV 1/5; 7/10] START min_samples_split=2, n_estimators=120, subsample=0.5.......\n",
      "[CV 1/5; 7/10] END min_samples_split=2, n_estimators=120, subsample=0.5;, score=0.968 total time=  28.2s\n",
      "[CV 2/5; 7/10] START min_samples_split=2, n_estimators=120, subsample=0.5.......\n",
      "[CV 2/5; 7/10] END min_samples_split=2, n_estimators=120, subsample=0.5;, score=0.967 total time=  28.0s\n",
      "[CV 3/5; 7/10] START min_samples_split=2, n_estimators=120, subsample=0.5.......\n",
      "[CV 3/5; 7/10] END min_samples_split=2, n_estimators=120, subsample=0.5;, score=0.968 total time=  26.9s\n",
      "[CV 4/5; 7/10] START min_samples_split=2, n_estimators=120, subsample=0.5.......\n",
      "[CV 4/5; 7/10] END min_samples_split=2, n_estimators=120, subsample=0.5;, score=0.964 total time=  26.3s\n",
      "[CV 5/5; 7/10] START min_samples_split=2, n_estimators=120, subsample=0.5.......\n",
      "[CV 5/5; 7/10] END min_samples_split=2, n_estimators=120, subsample=0.5;, score=0.968 total time=  25.6s\n",
      "[CV 1/5; 8/10] START min_samples_split=2, n_estimators=120, subsample=0.1.......\n",
      "[CV 1/5; 8/10] END min_samples_split=2, n_estimators=120, subsample=0.1;, score=0.960 total time=   9.0s\n",
      "[CV 2/5; 8/10] START min_samples_split=2, n_estimators=120, subsample=0.1.......\n",
      "[CV 2/5; 8/10] END min_samples_split=2, n_estimators=120, subsample=0.1;, score=0.967 total time=   9.0s\n",
      "[CV 3/5; 8/10] START min_samples_split=2, n_estimators=120, subsample=0.1.......\n",
      "[CV 3/5; 8/10] END min_samples_split=2, n_estimators=120, subsample=0.1;, score=0.965 total time=   9.2s\n",
      "[CV 4/5; 8/10] START min_samples_split=2, n_estimators=120, subsample=0.1.......\n",
      "[CV 4/5; 8/10] END min_samples_split=2, n_estimators=120, subsample=0.1;, score=0.968 total time=   9.6s\n",
      "[CV 5/5; 8/10] START min_samples_split=2, n_estimators=120, subsample=0.1.......\n",
      "[CV 5/5; 8/10] END min_samples_split=2, n_estimators=120, subsample=0.1;, score=0.965 total time=   9.5s\n",
      "[CV 1/5; 9/10] START min_samples_split=2, n_estimators=150, subsample=0.5.......\n",
      "[CV 1/5; 9/10] END min_samples_split=2, n_estimators=150, subsample=0.5;, score=0.968 total time=  34.3s\n",
      "[CV 2/5; 9/10] START min_samples_split=2, n_estimators=150, subsample=0.5.......\n",
      "[CV 2/5; 9/10] END min_samples_split=2, n_estimators=150, subsample=0.5;, score=0.967 total time=  35.3s\n",
      "[CV 3/5; 9/10] START min_samples_split=2, n_estimators=150, subsample=0.5.......\n",
      "[CV 3/5; 9/10] END min_samples_split=2, n_estimators=150, subsample=0.5;, score=0.968 total time=  33.5s\n",
      "[CV 4/5; 9/10] START min_samples_split=2, n_estimators=150, subsample=0.5.......\n",
      "[CV 4/5; 9/10] END min_samples_split=2, n_estimators=150, subsample=0.5;, score=0.966 total time=  31.1s\n",
      "[CV 5/5; 9/10] START min_samples_split=2, n_estimators=150, subsample=0.5.......\n",
      "[CV 5/5; 9/10] END min_samples_split=2, n_estimators=150, subsample=0.5;, score=0.968 total time=  32.3s\n",
      "[CV 1/5; 10/10] START min_samples_split=2, n_estimators=100, subsample=0.5......\n",
      "[CV 1/5; 10/10] END min_samples_split=2, n_estimators=100, subsample=0.5;, score=0.967 total time=  21.5s\n",
      "[CV 2/5; 10/10] START min_samples_split=2, n_estimators=100, subsample=0.5......\n",
      "[CV 2/5; 10/10] END min_samples_split=2, n_estimators=100, subsample=0.5;, score=0.969 total time=  22.6s\n",
      "[CV 3/5; 10/10] START min_samples_split=2, n_estimators=100, subsample=0.5......\n",
      "[CV 3/5; 10/10] END min_samples_split=2, n_estimators=100, subsample=0.5;, score=0.967 total time=  23.3s\n",
      "[CV 4/5; 10/10] START min_samples_split=2, n_estimators=100, subsample=0.5......\n",
      "[CV 4/5; 10/10] END min_samples_split=2, n_estimators=100, subsample=0.5;, score=0.966 total time=  22.3s\n",
      "[CV 5/5; 10/10] START min_samples_split=2, n_estimators=100, subsample=0.5......\n",
      "[CV 5/5; 10/10] END min_samples_split=2, n_estimators=100, subsample=0.5;, score=0.966 total time=  22.8s\n"
     ]
    }
   ],
   "source": [
    "parameters_grb = {'n_estimators': (50,100,120,140,150),'min_samples_split' : (2,4),'subsample' : (0.1,0.5,1)}\n",
    "                                                                                                                                     \n",
    "grb_grid  = RandomizedSearchCV( GradientBoostingClassifier(learning_rate=10000), param_distributions = parameters_grb, cv = 5, verbose = 50,scoring='accuracy')\n",
    "result=grb_grid.fit(x,y)\n",
    "    \n",
    "grb_estimator_result = result.best_estimator_"
   ]
  },
  {
   "cell_type": "code",
   "execution_count": 29,
   "id": "bd65b05c-2ce2-4123-8739-91307dc684c9",
   "metadata": {},
   "outputs": [
    {
     "name": "stdout",
     "output_type": "stream",
     "text": [
      "GradientBoostingClassifier(learning_rate=10000, n_estimators=150, subsample=1)\n"
     ]
    }
   ],
   "source": [
    "print(grb_estimator_result)"
   ]
  },
  {
   "cell_type": "code",
   "execution_count": 33,
   "id": "9e10cf33-387b-40e8-8081-c4e9c036042e",
   "metadata": {},
   "outputs": [
    {
     "name": "stdout",
     "output_type": "stream",
     "text": [
      "Requirement already satisfied: xgboost in c:\\users\\asus\\anaconda3\\lib\\site-packages (1.6.1)\n",
      "Requirement already satisfied: numpy in c:\\users\\asus\\anaconda3\\lib\\site-packages (from xgboost) (1.20.3)\n",
      "Requirement already satisfied: scipy in c:\\users\\asus\\anaconda3\\lib\\site-packages (from xgboost) (1.7.1)\n",
      "Note: you may need to restart the kernel to use updated packages.\n"
     ]
    }
   ],
   "source": [
    "pip install xgboost"
   ]
  },
  {
   "cell_type": "code",
   "execution_count": 1,
   "id": "e4ef50df-f37c-46c0-98c0-274f8ae3c57d",
   "metadata": {},
   "outputs": [],
   "source": [
    "from xgboost import XGBClassifier"
   ]
  },
  {
   "cell_type": "code",
   "execution_count": 2,
   "id": "b36c7ab1-0954-441c-95db-bfd134cf96ab",
   "metadata": {},
   "outputs": [],
   "source": [
    "import xgboost as xgb"
   ]
  },
  {
   "cell_type": "code",
   "execution_count": 20,
   "id": "0e052471-11c0-42be-b801-7971f2e412ad",
   "metadata": {},
   "outputs": [
    {
     "name": "stdout",
     "output_type": "stream",
     "text": [
      "Fitting 5 folds for each of 10 candidates, totalling 50 fits\n"
     ]
    }
   ],
   "source": [
    "parameters_xgb = {'alpha': (0.1,0.5,1,2,3,4,5),'eta': (0.3,0.001,0.1,0.5,1,3,5),'lambda': (0.1,1,5,3,0.5),\n",
    "'colsample_bytree': [0.1, 0.5, 0.8, 1], 'subsample': [0.1,0.5,1]}\n",
    "xgb_grid  = RandomizedSearchCV( XGBClassifier(), param_distributions = parameters_xgb, cv = 5, verbose = True,scoring='accuracy')\n",
    "result_xgb=xgb_grid.fit(x,y_l)\n",
    "    \n",
    "xgb_estimator_result = result_xgb.best_estimator_"
   ]
  },
  {
   "cell_type": "code",
   "execution_count": 21,
   "id": "72682ed5-9228-45fc-991e-cc27212f9ab0",
   "metadata": {},
   "outputs": [
    {
     "name": "stdout",
     "output_type": "stream",
     "text": [
      "XGBClassifier(alpha=4, base_score=0.5, booster='gbtree', callbacks=None,\n",
      "              colsample_bylevel=1, colsample_bynode=1, colsample_bytree=0.5,\n",
      "              early_stopping_rounds=None, enable_categorical=False, eta=0.3,\n",
      "              eval_metric=None, gamma=0, gpu_id=-1, grow_policy='depthwise',\n",
      "              importance_type=None, interaction_constraints='', lambda=1,\n",
      "              learning_rate=0.300000012, max_bin=256, max_cat_to_onehot=4,\n",
      "              max_delta_step=0, max_depth=6, max_leaves=0, min_child_weight=1,\n",
      "              missing=nan, monotone_constraints='()', n_estimators=100,\n",
      "              n_jobs=0, num_parallel_tree=1, predictor='auto', ...)\n"
     ]
    }
   ],
   "source": [
    "print(xgb_estimator_result)"
   ]
  },
  {
   "cell_type": "code",
   "execution_count": 22,
   "id": "3f4af1b3-f5b7-4445-9b80-ee1c3234cd49",
   "metadata": {},
   "outputs": [],
   "source": [
    "from sklearn.ensemble import AdaBoostClassifier"
   ]
  },
  {
   "cell_type": "code",
   "execution_count": 23,
   "id": "243a9830-6509-4db1-8b95-00edb6b37272",
   "metadata": {},
   "outputs": [
    {
     "name": "stdout",
     "output_type": "stream",
     "text": [
      "Fitting 5 folds for each of 10 candidates, totalling 50 fits\n",
      "[CV 1/5; 1/10] START algorithm=SAMME, learning_rate=1.01, n_estimators=12, random_state=1\n",
      "[CV 1/5; 1/10] END algorithm=SAMME, learning_rate=1.01, n_estimators=12, random_state=1;, score=0.958 total time=   2.0s\n",
      "[CV 2/5; 1/10] START algorithm=SAMME, learning_rate=1.01, n_estimators=12, random_state=1\n",
      "[CV 2/5; 1/10] END algorithm=SAMME, learning_rate=1.01, n_estimators=12, random_state=1;, score=0.959 total time=   1.8s\n",
      "[CV 3/5; 1/10] START algorithm=SAMME, learning_rate=1.01, n_estimators=12, random_state=1\n",
      "[CV 3/5; 1/10] END algorithm=SAMME, learning_rate=1.01, n_estimators=12, random_state=1;, score=0.958 total time=   1.8s\n",
      "[CV 4/5; 1/10] START algorithm=SAMME, learning_rate=1.01, n_estimators=12, random_state=1\n",
      "[CV 4/5; 1/10] END algorithm=SAMME, learning_rate=1.01, n_estimators=12, random_state=1;, score=0.959 total time=   1.9s\n",
      "[CV 5/5; 1/10] START algorithm=SAMME, learning_rate=1.01, n_estimators=12, random_state=1\n",
      "[CV 5/5; 1/10] END algorithm=SAMME, learning_rate=1.01, n_estimators=12, random_state=1;, score=0.958 total time=   2.0s\n",
      "[CV 1/5; 2/10] START algorithm=SAMME.R, learning_rate=0.98, n_estimators=8, random_state=2\n",
      "[CV 1/5; 2/10] END algorithm=SAMME.R, learning_rate=0.98, n_estimators=8, random_state=2;, score=0.947 total time=   1.4s\n",
      "[CV 2/5; 2/10] START algorithm=SAMME.R, learning_rate=0.98, n_estimators=8, random_state=2\n",
      "[CV 2/5; 2/10] END algorithm=SAMME.R, learning_rate=0.98, n_estimators=8, random_state=2;, score=0.948 total time=   1.3s\n",
      "[CV 3/5; 2/10] START algorithm=SAMME.R, learning_rate=0.98, n_estimators=8, random_state=2\n",
      "[CV 3/5; 2/10] END algorithm=SAMME.R, learning_rate=0.98, n_estimators=8, random_state=2;, score=0.948 total time=   1.4s\n",
      "[CV 4/5; 2/10] START algorithm=SAMME.R, learning_rate=0.98, n_estimators=8, random_state=2\n",
      "[CV 4/5; 2/10] END algorithm=SAMME.R, learning_rate=0.98, n_estimators=8, random_state=2;, score=0.949 total time=   1.4s\n",
      "[CV 5/5; 2/10] START algorithm=SAMME.R, learning_rate=0.98, n_estimators=8, random_state=2\n",
      "[CV 5/5; 2/10] END algorithm=SAMME.R, learning_rate=0.98, n_estimators=8, random_state=2;, score=0.947 total time=   1.4s\n",
      "[CV 1/5; 3/10] START algorithm=SAMME.R, learning_rate=1.02, n_estimators=20, random_state=1\n",
      "[CV 1/5; 3/10] END algorithm=SAMME.R, learning_rate=1.02, n_estimators=20, random_state=1;, score=0.973 total time=   3.4s\n",
      "[CV 2/5; 3/10] START algorithm=SAMME.R, learning_rate=1.02, n_estimators=20, random_state=1\n",
      "[CV 2/5; 3/10] END algorithm=SAMME.R, learning_rate=1.02, n_estimators=20, random_state=1;, score=0.973 total time=   3.4s\n",
      "[CV 3/5; 3/10] START algorithm=SAMME.R, learning_rate=1.02, n_estimators=20, random_state=1\n",
      "[CV 3/5; 3/10] END algorithm=SAMME.R, learning_rate=1.02, n_estimators=20, random_state=1;, score=0.973 total time=   3.4s\n",
      "[CV 4/5; 3/10] START algorithm=SAMME.R, learning_rate=1.02, n_estimators=20, random_state=1\n",
      "[CV 4/5; 3/10] END algorithm=SAMME.R, learning_rate=1.02, n_estimators=20, random_state=1;, score=0.974 total time=   3.4s\n",
      "[CV 5/5; 3/10] START algorithm=SAMME.R, learning_rate=1.02, n_estimators=20, random_state=1\n",
      "[CV 5/5; 3/10] END algorithm=SAMME.R, learning_rate=1.02, n_estimators=20, random_state=1;, score=0.974 total time=   3.5s\n",
      "[CV 1/5; 4/10] START algorithm=SAMME.R, learning_rate=1.0, n_estimators=2, random_state=2\n",
      "[CV 1/5; 4/10] END algorithm=SAMME.R, learning_rate=1.0, n_estimators=2, random_state=2;, score=0.956 total time=   0.3s\n",
      "[CV 2/5; 4/10] START algorithm=SAMME.R, learning_rate=1.0, n_estimators=2, random_state=2\n",
      "[CV 2/5; 4/10] END algorithm=SAMME.R, learning_rate=1.0, n_estimators=2, random_state=2;, score=0.956 total time=   0.3s\n",
      "[CV 3/5; 4/10] START algorithm=SAMME.R, learning_rate=1.0, n_estimators=2, random_state=2\n",
      "[CV 3/5; 4/10] END algorithm=SAMME.R, learning_rate=1.0, n_estimators=2, random_state=2;, score=0.956 total time=   0.3s\n",
      "[CV 4/5; 4/10] START algorithm=SAMME.R, learning_rate=1.0, n_estimators=2, random_state=2\n",
      "[CV 4/5; 4/10] END algorithm=SAMME.R, learning_rate=1.0, n_estimators=2, random_state=2;, score=0.954 total time=   0.3s\n",
      "[CV 5/5; 4/10] START algorithm=SAMME.R, learning_rate=1.0, n_estimators=2, random_state=2\n",
      "[CV 5/5; 4/10] END algorithm=SAMME.R, learning_rate=1.0, n_estimators=2, random_state=2;, score=0.956 total time=   0.3s\n",
      "[CV 1/5; 5/10] START algorithm=SAMME.R, learning_rate=0.99, n_estimators=8, random_state=1\n",
      "[CV 1/5; 5/10] END algorithm=SAMME.R, learning_rate=0.99, n_estimators=8, random_state=1;, score=0.965 total time=   1.3s\n",
      "[CV 2/5; 5/10] START algorithm=SAMME.R, learning_rate=0.99, n_estimators=8, random_state=1\n",
      "[CV 2/5; 5/10] END algorithm=SAMME.R, learning_rate=0.99, n_estimators=8, random_state=1;, score=0.948 total time=   1.3s\n",
      "[CV 3/5; 5/10] START algorithm=SAMME.R, learning_rate=0.99, n_estimators=8, random_state=1\n",
      "[CV 3/5; 5/10] END algorithm=SAMME.R, learning_rate=0.99, n_estimators=8, random_state=1;, score=0.950 total time=   1.3s\n",
      "[CV 4/5; 5/10] START algorithm=SAMME.R, learning_rate=0.99, n_estimators=8, random_state=1\n",
      "[CV 4/5; 5/10] END algorithm=SAMME.R, learning_rate=0.99, n_estimators=8, random_state=1;, score=0.949 total time=   1.2s\n",
      "[CV 5/5; 5/10] START algorithm=SAMME.R, learning_rate=0.99, n_estimators=8, random_state=1\n",
      "[CV 5/5; 5/10] END algorithm=SAMME.R, learning_rate=0.99, n_estimators=8, random_state=1;, score=0.947 total time=   1.3s\n",
      "[CV 1/5; 6/10] START algorithm=SAMME.R, learning_rate=1.02, n_estimators=3, random_state=0\n",
      "[CV 1/5; 6/10] END algorithm=SAMME.R, learning_rate=1.02, n_estimators=3, random_state=0;, score=0.926 total time=   0.4s\n",
      "[CV 2/5; 6/10] START algorithm=SAMME.R, learning_rate=1.02, n_estimators=3, random_state=0\n",
      "[CV 2/5; 6/10] END algorithm=SAMME.R, learning_rate=1.02, n_estimators=3, random_state=0;, score=0.926 total time=   0.4s\n",
      "[CV 3/5; 6/10] START algorithm=SAMME.R, learning_rate=1.02, n_estimators=3, random_state=0\n",
      "[CV 3/5; 6/10] END algorithm=SAMME.R, learning_rate=1.02, n_estimators=3, random_state=0;, score=0.925 total time=   0.4s\n",
      "[CV 4/5; 6/10] START algorithm=SAMME.R, learning_rate=1.02, n_estimators=3, random_state=0\n",
      "[CV 4/5; 6/10] END algorithm=SAMME.R, learning_rate=1.02, n_estimators=3, random_state=0;, score=0.926 total time=   0.4s\n",
      "[CV 5/5; 6/10] START algorithm=SAMME.R, learning_rate=1.02, n_estimators=3, random_state=0\n",
      "[CV 5/5; 6/10] END algorithm=SAMME.R, learning_rate=1.02, n_estimators=3, random_state=0;, score=0.925 total time=   0.4s\n",
      "[CV 1/5; 7/10] START algorithm=SAMME, learning_rate=0.97, n_estimators=10, random_state=1\n",
      "[CV 1/5; 7/10] END algorithm=SAMME, learning_rate=0.97, n_estimators=10, random_state=1;, score=0.960 total time=   1.5s\n",
      "[CV 2/5; 7/10] START algorithm=SAMME, learning_rate=0.97, n_estimators=10, random_state=1\n",
      "[CV 2/5; 7/10] END algorithm=SAMME, learning_rate=0.97, n_estimators=10, random_state=1;, score=0.961 total time=   1.5s\n",
      "[CV 3/5; 7/10] START algorithm=SAMME, learning_rate=0.97, n_estimators=10, random_state=1\n",
      "[CV 3/5; 7/10] END algorithm=SAMME, learning_rate=0.97, n_estimators=10, random_state=1;, score=0.960 total time=   1.5s\n",
      "[CV 4/5; 7/10] START algorithm=SAMME, learning_rate=0.97, n_estimators=10, random_state=1\n",
      "[CV 4/5; 7/10] END algorithm=SAMME, learning_rate=0.97, n_estimators=10, random_state=1;, score=0.960 total time=   1.5s\n",
      "[CV 5/5; 7/10] START algorithm=SAMME, learning_rate=0.97, n_estimators=10, random_state=1\n",
      "[CV 5/5; 7/10] END algorithm=SAMME, learning_rate=0.97, n_estimators=10, random_state=1;, score=0.960 total time=   1.5s\n",
      "[CV 1/5; 8/10] START algorithm=SAMME, learning_rate=1.0, n_estimators=3, random_state=1\n",
      "[CV 1/5; 8/10] END algorithm=SAMME, learning_rate=1.0, n_estimators=3, random_state=1;, score=0.942 total time=   0.4s\n",
      "[CV 2/5; 8/10] START algorithm=SAMME, learning_rate=1.0, n_estimators=3, random_state=1\n",
      "[CV 2/5; 8/10] END algorithm=SAMME, learning_rate=1.0, n_estimators=3, random_state=1;, score=0.943 total time=   0.4s\n",
      "[CV 3/5; 8/10] START algorithm=SAMME, learning_rate=1.0, n_estimators=3, random_state=1\n",
      "[CV 3/5; 8/10] END algorithm=SAMME, learning_rate=1.0, n_estimators=3, random_state=1;, score=0.943 total time=   0.4s\n",
      "[CV 4/5; 8/10] START algorithm=SAMME, learning_rate=1.0, n_estimators=3, random_state=1\n",
      "[CV 4/5; 8/10] END algorithm=SAMME, learning_rate=1.0, n_estimators=3, random_state=1;, score=0.944 total time=   0.4s\n",
      "[CV 5/5; 8/10] START algorithm=SAMME, learning_rate=1.0, n_estimators=3, random_state=1\n",
      "[CV 5/5; 8/10] END algorithm=SAMME, learning_rate=1.0, n_estimators=3, random_state=1;, score=0.943 total time=   0.4s\n",
      "[CV 1/5; 9/10] START algorithm=SAMME.R, learning_rate=0.98, n_estimators=11, random_state=1\n",
      "[CV 1/5; 9/10] END algorithm=SAMME.R, learning_rate=0.98, n_estimators=11, random_state=1;, score=0.962 total time=   1.7s\n",
      "[CV 2/5; 9/10] START algorithm=SAMME.R, learning_rate=0.98, n_estimators=11, random_state=1\n",
      "[CV 2/5; 9/10] END algorithm=SAMME.R, learning_rate=0.98, n_estimators=11, random_state=1;, score=0.961 total time=   1.7s\n",
      "[CV 3/5; 9/10] START algorithm=SAMME.R, learning_rate=0.98, n_estimators=11, random_state=1\n",
      "[CV 3/5; 9/10] END algorithm=SAMME.R, learning_rate=0.98, n_estimators=11, random_state=1;, score=0.961 total time=   1.7s\n",
      "[CV 4/5; 9/10] START algorithm=SAMME.R, learning_rate=0.98, n_estimators=11, random_state=1\n",
      "[CV 4/5; 9/10] END algorithm=SAMME.R, learning_rate=0.98, n_estimators=11, random_state=1;, score=0.961 total time=   1.8s\n",
      "[CV 5/5; 9/10] START algorithm=SAMME.R, learning_rate=0.98, n_estimators=11, random_state=1\n",
      "[CV 5/5; 9/10] END algorithm=SAMME.R, learning_rate=0.98, n_estimators=11, random_state=1;, score=0.962 total time=   1.8s\n",
      "[CV 1/5; 10/10] START algorithm=SAMME.R, learning_rate=1.0, n_estimators=10, random_state=1\n",
      "[CV 1/5; 10/10] END algorithm=SAMME.R, learning_rate=1.0, n_estimators=10, random_state=1;, score=0.964 total time=   1.6s\n",
      "[CV 2/5; 10/10] START algorithm=SAMME.R, learning_rate=1.0, n_estimators=10, random_state=1\n",
      "[CV 2/5; 10/10] END algorithm=SAMME.R, learning_rate=1.0, n_estimators=10, random_state=1;, score=0.965 total time=   1.6s\n",
      "[CV 3/5; 10/10] START algorithm=SAMME.R, learning_rate=1.0, n_estimators=10, random_state=1\n",
      "[CV 3/5; 10/10] END algorithm=SAMME.R, learning_rate=1.0, n_estimators=10, random_state=1;, score=0.963 total time=   1.6s\n",
      "[CV 4/5; 10/10] START algorithm=SAMME.R, learning_rate=1.0, n_estimators=10, random_state=1\n",
      "[CV 4/5; 10/10] END algorithm=SAMME.R, learning_rate=1.0, n_estimators=10, random_state=1;, score=0.963 total time=   1.6s\n",
      "[CV 5/5; 10/10] START algorithm=SAMME.R, learning_rate=1.0, n_estimators=10, random_state=1\n",
      "[CV 5/5; 10/10] END algorithm=SAMME.R, learning_rate=1.0, n_estimators=10, random_state=1;, score=0.966 total time=   1.6s\n",
      "AdaBoostClassifier(learning_rate=1.02, n_estimators=20, random_state=1)\n",
      "0.9732741935483871\n",
      "{'random_state': 1, 'n_estimators': 20, 'learning_rate': 1.02, 'algorithm': 'SAMME.R'}\n"
     ]
    }
   ],
   "source": [
    "parameters_adaboost = {\n",
    "    'n_estimators': [2, 3, 4, 5, 6, 7, 8, 9, 10, 11, 12, 20],\n",
    "    'learning_rate': [(0.97 + x / 100) for x in range(0, 8)],\n",
    "    'algorithm': ['SAMME', 'SAMME.R'],\n",
    "    'random_state': [0, 1, 2]\n",
    "}\n",
    "\n",
    "adaboost_rcv = RandomizedSearchCV(\n",
    "    AdaBoostClassifier(),\n",
    "    param_distributions=parameters_adaboost,\n",
    "    verbose=50,\n",
    "    cv=5,\n",
    "    scoring='accuracy'\n",
    ")\n",
    "\n",
    "adaboost_result = adaboost_rcv.fit(x, y_l)\n",
    "\n",
    "print(adaboost_result.best_estimator_)\n",
    "print(adaboost_result.best_score_)\n",
    "print(adaboost_result.best_params_)"
   ]
  },
  {
   "cell_type": "code",
   "execution_count": null,
   "id": "32c72f54-0ceb-43d0-aefa-5f5be13f20f5",
   "metadata": {},
   "outputs": [],
   "source": []
  }
 ],
 "metadata": {
  "kernelspec": {
   "display_name": "Python 3 (ipykernel)",
   "language": "python",
   "name": "python3"
  },
  "language_info": {
   "codemirror_mode": {
    "name": "ipython",
    "version": 3
   },
   "file_extension": ".py",
   "mimetype": "text/x-python",
   "name": "python",
   "nbconvert_exporter": "python",
   "pygments_lexer": "ipython3",
   "version": "3.9.7"
  }
 },
 "nbformat": 4,
 "nbformat_minor": 5
}
