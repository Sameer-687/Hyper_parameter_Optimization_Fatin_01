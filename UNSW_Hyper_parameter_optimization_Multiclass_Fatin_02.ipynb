{
 "cells": [
  {
   "cell_type": "code",
   "execution_count": 2,
   "id": "7bc091f5-f3d9-47f2-9b32-2d4ce6200384",
   "metadata": {},
   "outputs": [],
   "source": [
    "import numpy as np\n",
    "import pandas as pd\n",
    "import matplotlib.pyplot as plt\n",
    "import seaborn as sns\n",
    "from sklearn.model_selection import StratifiedKFold\n",
    "folds = StratifiedKFold(n_splits=10)\n",
    "from sklearn.model_selection import cross_val_score\n",
    "from sklearn.metrics import confusion_matrix\n",
    "from sklearn.metrics import precision_score, recall_score,f1_score\n",
    "from sklearn.model_selection import train_test_split\n",
    "import tensorflow as tf\n",
    "from sklearn.metrics import roc_auc_score\n",
    "import six\n",
    "import sys\n",
    "sys.modules['sklearn.externals.six'] = six"
   ]
  },
  {
   "cell_type": "code",
   "execution_count": 3,
   "id": "380b998e-8c1c-4ace-bebe-754b9215adf8",
   "metadata": {},
   "outputs": [
    {
     "data": {
      "text/html": [
       "<div>\n",
       "<style scoped>\n",
       "    .dataframe tbody tr th:only-of-type {\n",
       "        vertical-align: middle;\n",
       "    }\n",
       "\n",
       "    .dataframe tbody tr th {\n",
       "        vertical-align: top;\n",
       "    }\n",
       "\n",
       "    .dataframe thead th {\n",
       "        text-align: right;\n",
       "    }\n",
       "</style>\n",
       "<table border=\"1\" class=\"dataframe\">\n",
       "  <thead>\n",
       "    <tr style=\"text-align: right;\">\n",
       "      <th></th>\n",
       "      <th>Unnamed: 0</th>\n",
       "      <th>dur</th>\n",
       "      <th>proto</th>\n",
       "      <th>service</th>\n",
       "      <th>state</th>\n",
       "      <th>spkts</th>\n",
       "      <th>dpkts</th>\n",
       "      <th>sbytes</th>\n",
       "      <th>dbytes</th>\n",
       "      <th>rate</th>\n",
       "      <th>...</th>\n",
       "      <th>ct_dst_sport_ltm</th>\n",
       "      <th>ct_dst_src_ltm</th>\n",
       "      <th>is_ftp_login</th>\n",
       "      <th>ct_ftp_cmd</th>\n",
       "      <th>ct_flw_http_mthd</th>\n",
       "      <th>ct_src_ltm</th>\n",
       "      <th>ct_srv_dst</th>\n",
       "      <th>is_sm_ips_ports</th>\n",
       "      <th>attack_cat</th>\n",
       "      <th>label</th>\n",
       "    </tr>\n",
       "  </thead>\n",
       "  <tbody>\n",
       "    <tr>\n",
       "      <th>0</th>\n",
       "      <td>0</td>\n",
       "      <td>0.121478</td>\n",
       "      <td>tcp</td>\n",
       "      <td>-</td>\n",
       "      <td>FIN</td>\n",
       "      <td>6</td>\n",
       "      <td>4</td>\n",
       "      <td>258</td>\n",
       "      <td>172</td>\n",
       "      <td>74.087490</td>\n",
       "      <td>...</td>\n",
       "      <td>1</td>\n",
       "      <td>1</td>\n",
       "      <td>0</td>\n",
       "      <td>0</td>\n",
       "      <td>0</td>\n",
       "      <td>1</td>\n",
       "      <td>1</td>\n",
       "      <td>0</td>\n",
       "      <td>Normal</td>\n",
       "      <td>0</td>\n",
       "    </tr>\n",
       "    <tr>\n",
       "      <th>1</th>\n",
       "      <td>1</td>\n",
       "      <td>0.649902</td>\n",
       "      <td>tcp</td>\n",
       "      <td>-</td>\n",
       "      <td>FIN</td>\n",
       "      <td>14</td>\n",
       "      <td>38</td>\n",
       "      <td>734</td>\n",
       "      <td>42014</td>\n",
       "      <td>78.473372</td>\n",
       "      <td>...</td>\n",
       "      <td>1</td>\n",
       "      <td>2</td>\n",
       "      <td>0</td>\n",
       "      <td>0</td>\n",
       "      <td>0</td>\n",
       "      <td>1</td>\n",
       "      <td>6</td>\n",
       "      <td>0</td>\n",
       "      <td>Normal</td>\n",
       "      <td>0</td>\n",
       "    </tr>\n",
       "    <tr>\n",
       "      <th>2</th>\n",
       "      <td>2</td>\n",
       "      <td>1.623129</td>\n",
       "      <td>tcp</td>\n",
       "      <td>-</td>\n",
       "      <td>FIN</td>\n",
       "      <td>8</td>\n",
       "      <td>16</td>\n",
       "      <td>364</td>\n",
       "      <td>13186</td>\n",
       "      <td>14.170161</td>\n",
       "      <td>...</td>\n",
       "      <td>1</td>\n",
       "      <td>3</td>\n",
       "      <td>0</td>\n",
       "      <td>0</td>\n",
       "      <td>0</td>\n",
       "      <td>2</td>\n",
       "      <td>6</td>\n",
       "      <td>0</td>\n",
       "      <td>Normal</td>\n",
       "      <td>0</td>\n",
       "    </tr>\n",
       "    <tr>\n",
       "      <th>3</th>\n",
       "      <td>3</td>\n",
       "      <td>1.681642</td>\n",
       "      <td>tcp</td>\n",
       "      <td>ftp</td>\n",
       "      <td>FIN</td>\n",
       "      <td>12</td>\n",
       "      <td>12</td>\n",
       "      <td>628</td>\n",
       "      <td>770</td>\n",
       "      <td>13.677108</td>\n",
       "      <td>...</td>\n",
       "      <td>1</td>\n",
       "      <td>3</td>\n",
       "      <td>1</td>\n",
       "      <td>1</td>\n",
       "      <td>0</td>\n",
       "      <td>2</td>\n",
       "      <td>1</td>\n",
       "      <td>0</td>\n",
       "      <td>Normal</td>\n",
       "      <td>0</td>\n",
       "    </tr>\n",
       "    <tr>\n",
       "      <th>4</th>\n",
       "      <td>4</td>\n",
       "      <td>0.449454</td>\n",
       "      <td>tcp</td>\n",
       "      <td>-</td>\n",
       "      <td>FIN</td>\n",
       "      <td>10</td>\n",
       "      <td>6</td>\n",
       "      <td>534</td>\n",
       "      <td>268</td>\n",
       "      <td>33.373826</td>\n",
       "      <td>...</td>\n",
       "      <td>1</td>\n",
       "      <td>40</td>\n",
       "      <td>0</td>\n",
       "      <td>0</td>\n",
       "      <td>0</td>\n",
       "      <td>2</td>\n",
       "      <td>39</td>\n",
       "      <td>0</td>\n",
       "      <td>Normal</td>\n",
       "      <td>0</td>\n",
       "    </tr>\n",
       "    <tr>\n",
       "      <th>...</th>\n",
       "      <td>...</td>\n",
       "      <td>...</td>\n",
       "      <td>...</td>\n",
       "      <td>...</td>\n",
       "      <td>...</td>\n",
       "      <td>...</td>\n",
       "      <td>...</td>\n",
       "      <td>...</td>\n",
       "      <td>...</td>\n",
       "      <td>...</td>\n",
       "      <td>...</td>\n",
       "      <td>...</td>\n",
       "      <td>...</td>\n",
       "      <td>...</td>\n",
       "      <td>...</td>\n",
       "      <td>...</td>\n",
       "      <td>...</td>\n",
       "      <td>...</td>\n",
       "      <td>...</td>\n",
       "      <td>...</td>\n",
       "      <td>...</td>\n",
       "    </tr>\n",
       "    <tr>\n",
       "      <th>185995</th>\n",
       "      <td>185995</td>\n",
       "      <td>0.000008</td>\n",
       "      <td>udp</td>\n",
       "      <td>dns</td>\n",
       "      <td>INT</td>\n",
       "      <td>2</td>\n",
       "      <td>0</td>\n",
       "      <td>114</td>\n",
       "      <td>0</td>\n",
       "      <td>125000.000300</td>\n",
       "      <td>...</td>\n",
       "      <td>15</td>\n",
       "      <td>42</td>\n",
       "      <td>0</td>\n",
       "      <td>0</td>\n",
       "      <td>0</td>\n",
       "      <td>30</td>\n",
       "      <td>42</td>\n",
       "      <td>0</td>\n",
       "      <td>Generic</td>\n",
       "      <td>1</td>\n",
       "    </tr>\n",
       "    <tr>\n",
       "      <th>185996</th>\n",
       "      <td>185996</td>\n",
       "      <td>0.000008</td>\n",
       "      <td>udp</td>\n",
       "      <td>dns</td>\n",
       "      <td>INT</td>\n",
       "      <td>2</td>\n",
       "      <td>0</td>\n",
       "      <td>114</td>\n",
       "      <td>0</td>\n",
       "      <td>125000.000300</td>\n",
       "      <td>...</td>\n",
       "      <td>23</td>\n",
       "      <td>35</td>\n",
       "      <td>0</td>\n",
       "      <td>0</td>\n",
       "      <td>0</td>\n",
       "      <td>35</td>\n",
       "      <td>35</td>\n",
       "      <td>0</td>\n",
       "      <td>Generic</td>\n",
       "      <td>1</td>\n",
       "    </tr>\n",
       "    <tr>\n",
       "      <th>185997</th>\n",
       "      <td>185997</td>\n",
       "      <td>0.000008</td>\n",
       "      <td>udp</td>\n",
       "      <td>dns</td>\n",
       "      <td>INT</td>\n",
       "      <td>2</td>\n",
       "      <td>0</td>\n",
       "      <td>114</td>\n",
       "      <td>0</td>\n",
       "      <td>125000.000300</td>\n",
       "      <td>...</td>\n",
       "      <td>23</td>\n",
       "      <td>35</td>\n",
       "      <td>0</td>\n",
       "      <td>0</td>\n",
       "      <td>0</td>\n",
       "      <td>35</td>\n",
       "      <td>35</td>\n",
       "      <td>0</td>\n",
       "      <td>Generic</td>\n",
       "      <td>1</td>\n",
       "    </tr>\n",
       "    <tr>\n",
       "      <th>185998</th>\n",
       "      <td>185998</td>\n",
       "      <td>0.000008</td>\n",
       "      <td>udp</td>\n",
       "      <td>dns</td>\n",
       "      <td>INT</td>\n",
       "      <td>2</td>\n",
       "      <td>0</td>\n",
       "      <td>114</td>\n",
       "      <td>0</td>\n",
       "      <td>125000.000300</td>\n",
       "      <td>...</td>\n",
       "      <td>23</td>\n",
       "      <td>35</td>\n",
       "      <td>0</td>\n",
       "      <td>0</td>\n",
       "      <td>0</td>\n",
       "      <td>35</td>\n",
       "      <td>35</td>\n",
       "      <td>0</td>\n",
       "      <td>Generic</td>\n",
       "      <td>1</td>\n",
       "    </tr>\n",
       "    <tr>\n",
       "      <th>185999</th>\n",
       "      <td>185999</td>\n",
       "      <td>0.000008</td>\n",
       "      <td>udp</td>\n",
       "      <td>dns</td>\n",
       "      <td>INT</td>\n",
       "      <td>2</td>\n",
       "      <td>0</td>\n",
       "      <td>114</td>\n",
       "      <td>0</td>\n",
       "      <td>125000.000300</td>\n",
       "      <td>...</td>\n",
       "      <td>23</td>\n",
       "      <td>35</td>\n",
       "      <td>0</td>\n",
       "      <td>0</td>\n",
       "      <td>0</td>\n",
       "      <td>35</td>\n",
       "      <td>35</td>\n",
       "      <td>0</td>\n",
       "      <td>Generic</td>\n",
       "      <td>1</td>\n",
       "    </tr>\n",
       "  </tbody>\n",
       "</table>\n",
       "<p>186000 rows × 45 columns</p>\n",
       "</div>"
      ],
      "text/plain": [
       "        Unnamed: 0       dur proto service state  spkts  dpkts  sbytes  \\\n",
       "0                0  0.121478   tcp       -   FIN      6      4     258   \n",
       "1                1  0.649902   tcp       -   FIN     14     38     734   \n",
       "2                2  1.623129   tcp       -   FIN      8     16     364   \n",
       "3                3  1.681642   tcp     ftp   FIN     12     12     628   \n",
       "4                4  0.449454   tcp       -   FIN     10      6     534   \n",
       "...            ...       ...   ...     ...   ...    ...    ...     ...   \n",
       "185995      185995  0.000008   udp     dns   INT      2      0     114   \n",
       "185996      185996  0.000008   udp     dns   INT      2      0     114   \n",
       "185997      185997  0.000008   udp     dns   INT      2      0     114   \n",
       "185998      185998  0.000008   udp     dns   INT      2      0     114   \n",
       "185999      185999  0.000008   udp     dns   INT      2      0     114   \n",
       "\n",
       "        dbytes           rate  ...  ct_dst_sport_ltm  ct_dst_src_ltm  \\\n",
       "0          172      74.087490  ...                 1               1   \n",
       "1        42014      78.473372  ...                 1               2   \n",
       "2        13186      14.170161  ...                 1               3   \n",
       "3          770      13.677108  ...                 1               3   \n",
       "4          268      33.373826  ...                 1              40   \n",
       "...        ...            ...  ...               ...             ...   \n",
       "185995       0  125000.000300  ...                15              42   \n",
       "185996       0  125000.000300  ...                23              35   \n",
       "185997       0  125000.000300  ...                23              35   \n",
       "185998       0  125000.000300  ...                23              35   \n",
       "185999       0  125000.000300  ...                23              35   \n",
       "\n",
       "        is_ftp_login  ct_ftp_cmd  ct_flw_http_mthd  ct_src_ltm  ct_srv_dst  \\\n",
       "0                  0           0                 0           1           1   \n",
       "1                  0           0                 0           1           6   \n",
       "2                  0           0                 0           2           6   \n",
       "3                  1           1                 0           2           1   \n",
       "4                  0           0                 0           2          39   \n",
       "...              ...         ...               ...         ...         ...   \n",
       "185995             0           0                 0          30          42   \n",
       "185996             0           0                 0          35          35   \n",
       "185997             0           0                 0          35          35   \n",
       "185998             0           0                 0          35          35   \n",
       "185999             0           0                 0          35          35   \n",
       "\n",
       "        is_sm_ips_ports  attack_cat  label  \n",
       "0                     0      Normal      0  \n",
       "1                     0      Normal      0  \n",
       "2                     0      Normal      0  \n",
       "3                     0      Normal      0  \n",
       "4                     0      Normal      0  \n",
       "...                 ...         ...    ...  \n",
       "185995                0     Generic      1  \n",
       "185996                0     Generic      1  \n",
       "185997                0     Generic      1  \n",
       "185998                0     Generic      1  \n",
       "185999                0     Generic      1  \n",
       "\n",
       "[186000 rows x 45 columns]"
      ]
     },
     "execution_count": 3,
     "metadata": {},
     "output_type": "execute_result"
    }
   ],
   "source": [
    "df = pd.read_csv(\"UNSW_undersampled_and_reversed.csv\")\n",
    "df"
   ]
  },
  {
   "cell_type": "code",
   "execution_count": 4,
   "id": "33231769-1a80-4b33-a670-21084ad56240",
   "metadata": {},
   "outputs": [],
   "source": [
    "from sklearn.utils import shuffle\n",
    "df = shuffle(df,random_state=50)"
   ]
  },
  {
   "cell_type": "code",
   "execution_count": 5,
   "id": "0c6c5c4f-cbdd-42a9-94e3-1f61cf615f2d",
   "metadata": {},
   "outputs": [],
   "source": [
    "from sklearn import preprocessing"
   ]
  },
  {
   "cell_type": "code",
   "execution_count": 6,
   "id": "6ee571bb-9892-4057-8902-3ddb9eb0403a",
   "metadata": {},
   "outputs": [
    {
     "data": {
      "text/plain": [
       "array([4, 3, 1, 6, 2, 7, 0, 5, 8, 9])"
      ]
     },
     "execution_count": 6,
     "metadata": {},
     "output_type": "execute_result"
    }
   ],
   "source": [
    "label_encoder1 = preprocessing.LabelEncoder()\n",
    "df['proto']= label_encoder1.fit_transform(df['proto'])\n",
    "  \n",
    "df['proto'].unique()\n",
    "label_encoder2 = preprocessing.LabelEncoder()\n",
    "df['attack_cat']= label_encoder2.fit_transform(df['attack_cat'])\n",
    "  \n",
    "df['attack_cat'].unique()\n",
    "label_encoder3 = preprocessing.LabelEncoder()\n",
    "df['service']= label_encoder3.fit_transform(df['service'])\n",
    "  \n",
    "df['service'].unique()\n",
    "label_encoder4 = preprocessing.LabelEncoder()\n",
    "df['state']= label_encoder4.fit_transform(df['state'])\n",
    "  \n",
    "df['state'].unique()"
   ]
  },
  {
   "cell_type": "code",
   "execution_count": 7,
   "id": "03c26628-185e-49c9-9025-31398abfbf88",
   "metadata": {},
   "outputs": [],
   "source": [
    "y=df['attack_cat']\n",
    "#y1=df.iloc[:,-1]\n",
    "x_k=df.drop(['label','attack_cat','Unnamed: 0'],axis=1)\n",
    "#y= df['attack_cat']"
   ]
  },
  {
   "cell_type": "code",
   "execution_count": 8,
   "id": "769dfd66-1174-422c-b2d7-81270f8e5826",
   "metadata": {},
   "outputs": [
    {
     "data": {
      "text/plain": [
       "array([5, 6, 6, ..., 5, 0, 5], dtype=int64)"
      ]
     },
     "execution_count": 8,
     "metadata": {},
     "output_type": "execute_result"
    }
   ],
   "source": [
    "from sklearn import preprocessing\n",
    "le = preprocessing.LabelEncoder()\n",
    "y_l = le.fit_transform(y)\n",
    "y_l"
   ]
  },
  {
   "cell_type": "code",
   "execution_count": 9,
   "id": "00af9125-5080-4ded-97c2-068bd04e4c15",
   "metadata": {},
   "outputs": [
    {
     "data": {
      "text/plain": [
       "array([5, 6, 6, ..., 5, 0, 5], dtype=int64)"
      ]
     },
     "execution_count": 9,
     "metadata": {},
     "output_type": "execute_result"
    }
   ],
   "source": [
    "from sklearn import preprocessing\n",
    "le = preprocessing.LabelEncoder()\n",
    "y_l = le.fit_transform(y)\n",
    "y_l"
   ]
  },
  {
   "cell_type": "code",
   "execution_count": 10,
   "id": "7fc2f208-62a8-4c80-94e1-f59bacf22b63",
   "metadata": {},
   "outputs": [
    {
     "data": {
      "text/html": [
       "<div>\n",
       "<style scoped>\n",
       "    .dataframe tbody tr th:only-of-type {\n",
       "        vertical-align: middle;\n",
       "    }\n",
       "\n",
       "    .dataframe tbody tr th {\n",
       "        vertical-align: top;\n",
       "    }\n",
       "\n",
       "    .dataframe thead th {\n",
       "        text-align: right;\n",
       "    }\n",
       "</style>\n",
       "<table border=\"1\" class=\"dataframe\">\n",
       "  <thead>\n",
       "    <tr style=\"text-align: right;\">\n",
       "      <th></th>\n",
       "      <th>0</th>\n",
       "      <th>1</th>\n",
       "      <th>2</th>\n",
       "      <th>3</th>\n",
       "      <th>4</th>\n",
       "      <th>5</th>\n",
       "      <th>6</th>\n",
       "      <th>7</th>\n",
       "      <th>8</th>\n",
       "      <th>9</th>\n",
       "      <th>...</th>\n",
       "      <th>32</th>\n",
       "      <th>33</th>\n",
       "      <th>34</th>\n",
       "      <th>35</th>\n",
       "      <th>36</th>\n",
       "      <th>37</th>\n",
       "      <th>38</th>\n",
       "      <th>39</th>\n",
       "      <th>40</th>\n",
       "      <th>41</th>\n",
       "    </tr>\n",
       "  </thead>\n",
       "  <tbody>\n",
       "    <tr>\n",
       "      <th>0</th>\n",
       "      <td>1.333334e-07</td>\n",
       "      <td>0.901515</td>\n",
       "      <td>0.2</td>\n",
       "      <td>0.444444</td>\n",
       "      <td>0.001451</td>\n",
       "      <td>0.000000</td>\n",
       "      <td>0.000265</td>\n",
       "      <td>0.000000</td>\n",
       "      <td>0.125000</td>\n",
       "      <td>0.996078</td>\n",
       "      <td>...</td>\n",
       "      <td>0.310345</td>\n",
       "      <td>0.275862</td>\n",
       "      <td>0.355556</td>\n",
       "      <td>0.532258</td>\n",
       "      <td>0.0</td>\n",
       "      <td>0.0</td>\n",
       "      <td>0.0</td>\n",
       "      <td>0.288136</td>\n",
       "      <td>0.524590</td>\n",
       "      <td>0.0</td>\n",
       "    </tr>\n",
       "    <tr>\n",
       "      <th>1</th>\n",
       "      <td>1.581304e-02</td>\n",
       "      <td>0.856061</td>\n",
       "      <td>0.0</td>\n",
       "      <td>0.333333</td>\n",
       "      <td>0.175617</td>\n",
       "      <td>0.073427</td>\n",
       "      <td>0.022980</td>\n",
       "      <td>0.006727</td>\n",
       "      <td>0.000260</td>\n",
       "      <td>0.121569</td>\n",
       "      <td>...</td>\n",
       "      <td>0.034483</td>\n",
       "      <td>0.000000</td>\n",
       "      <td>0.000000</td>\n",
       "      <td>0.000000</td>\n",
       "      <td>0.0</td>\n",
       "      <td>0.0</td>\n",
       "      <td>0.0</td>\n",
       "      <td>0.016949</td>\n",
       "      <td>0.180328</td>\n",
       "      <td>0.0</td>\n",
       "    </tr>\n",
       "    <tr>\n",
       "      <th>2</th>\n",
       "      <td>7.977668e-04</td>\n",
       "      <td>0.856061</td>\n",
       "      <td>0.0</td>\n",
       "      <td>0.333333</td>\n",
       "      <td>0.053701</td>\n",
       "      <td>0.023310</td>\n",
       "      <td>0.007119</td>\n",
       "      <td>0.008228</td>\n",
       "      <td>0.001609</td>\n",
       "      <td>0.121569</td>\n",
       "      <td>...</td>\n",
       "      <td>0.068966</td>\n",
       "      <td>0.000000</td>\n",
       "      <td>0.000000</td>\n",
       "      <td>0.016129</td>\n",
       "      <td>0.0</td>\n",
       "      <td>0.0</td>\n",
       "      <td>0.0</td>\n",
       "      <td>0.033898</td>\n",
       "      <td>0.245902</td>\n",
       "      <td>0.0</td>\n",
       "    </tr>\n",
       "    <tr>\n",
       "      <th>3</th>\n",
       "      <td>1.500000e-07</td>\n",
       "      <td>0.901515</td>\n",
       "      <td>0.2</td>\n",
       "      <td>0.444444</td>\n",
       "      <td>0.001451</td>\n",
       "      <td>0.000000</td>\n",
       "      <td>0.000265</td>\n",
       "      <td>0.000000</td>\n",
       "      <td>0.111111</td>\n",
       "      <td>0.996078</td>\n",
       "      <td>...</td>\n",
       "      <td>0.275862</td>\n",
       "      <td>0.258621</td>\n",
       "      <td>0.333333</td>\n",
       "      <td>0.532258</td>\n",
       "      <td>0.0</td>\n",
       "      <td>0.0</td>\n",
       "      <td>0.0</td>\n",
       "      <td>0.254237</td>\n",
       "      <td>0.524590</td>\n",
       "      <td>0.0</td>\n",
       "    </tr>\n",
       "    <tr>\n",
       "      <th>4</th>\n",
       "      <td>1.333334e-07</td>\n",
       "      <td>0.901515</td>\n",
       "      <td>0.0</td>\n",
       "      <td>0.444444</td>\n",
       "      <td>0.001451</td>\n",
       "      <td>0.000000</td>\n",
       "      <td>0.000425</td>\n",
       "      <td>0.000000</td>\n",
       "      <td>0.125000</td>\n",
       "      <td>0.996078</td>\n",
       "      <td>...</td>\n",
       "      <td>0.000000</td>\n",
       "      <td>0.000000</td>\n",
       "      <td>0.000000</td>\n",
       "      <td>0.000000</td>\n",
       "      <td>0.0</td>\n",
       "      <td>0.0</td>\n",
       "      <td>0.0</td>\n",
       "      <td>0.050847</td>\n",
       "      <td>0.000000</td>\n",
       "      <td>0.0</td>\n",
       "    </tr>\n",
       "  </tbody>\n",
       "</table>\n",
       "<p>5 rows × 42 columns</p>\n",
       "</div>"
      ],
      "text/plain": [
       "             0         1    2         3         4         5         6   \\\n",
       "0  1.333334e-07  0.901515  0.2  0.444444  0.001451  0.000000  0.000265   \n",
       "1  1.581304e-02  0.856061  0.0  0.333333  0.175617  0.073427  0.022980   \n",
       "2  7.977668e-04  0.856061  0.0  0.333333  0.053701  0.023310  0.007119   \n",
       "3  1.500000e-07  0.901515  0.2  0.444444  0.001451  0.000000  0.000265   \n",
       "4  1.333334e-07  0.901515  0.0  0.444444  0.001451  0.000000  0.000425   \n",
       "\n",
       "         7         8         9   ...        32        33        34        35  \\\n",
       "0  0.000000  0.125000  0.996078  ...  0.310345  0.275862  0.355556  0.532258   \n",
       "1  0.006727  0.000260  0.121569  ...  0.034483  0.000000  0.000000  0.000000   \n",
       "2  0.008228  0.001609  0.121569  ...  0.068966  0.000000  0.000000  0.016129   \n",
       "3  0.000000  0.111111  0.996078  ...  0.275862  0.258621  0.333333  0.532258   \n",
       "4  0.000000  0.125000  0.996078  ...  0.000000  0.000000  0.000000  0.000000   \n",
       "\n",
       "    36   37   38        39        40   41  \n",
       "0  0.0  0.0  0.0  0.288136  0.524590  0.0  \n",
       "1  0.0  0.0  0.0  0.016949  0.180328  0.0  \n",
       "2  0.0  0.0  0.0  0.033898  0.245902  0.0  \n",
       "3  0.0  0.0  0.0  0.254237  0.524590  0.0  \n",
       "4  0.0  0.0  0.0  0.050847  0.000000  0.0  \n",
       "\n",
       "[5 rows x 42 columns]"
      ]
     },
     "execution_count": 10,
     "metadata": {},
     "output_type": "execute_result"
    }
   ],
   "source": [
    "from sklearn import preprocessing\n",
    "from sklearn.preprocessing import MinMaxScaler\n",
    "sc = MinMaxScaler()\n",
    "x_k_1= sc.fit_transform(x_k)\n",
    "\n",
    "x = pd.DataFrame(x_k_1)\n",
    "\n",
    "x.head()"
   ]
  },
  {
   "cell_type": "code",
   "execution_count": 11,
   "id": "defcb391-aa00-4065-845c-41d88e1b216c",
   "metadata": {},
   "outputs": [],
   "source": [
    "from sklearn.model_selection import train_test_split"
   ]
  },
  {
   "cell_type": "code",
   "execution_count": 12,
   "id": "f47b7f61-c627-47f0-8892-a1f62087d01f",
   "metadata": {},
   "outputs": [],
   "source": [
    "from sklearn.model_selection import RandomizedSearchCV"
   ]
  },
  {
   "cell_type": "code",
   "execution_count": 13,
   "id": "e7a3569e-e7ee-4254-a400-28925b502c8c",
   "metadata": {},
   "outputs": [],
   "source": [
    "from sklearn.ensemble import RandomForestClassifier"
   ]
  },
  {
   "cell_type": "code",
   "execution_count": 13,
   "id": "d1a901be-b1f9-48eb-b23d-b3ea83700dd7",
   "metadata": {},
   "outputs": [
    {
     "name": "stdout",
     "output_type": "stream",
     "text": [
      "Fitting 5 folds for each of 10 candidates, totalling 50 fits\n"
     ]
    }
   ],
   "source": [
    "parameters_RF = {'n_estimators': (40,60,65,70,75,80,85,90,95,100,120),'min_samples_split' : (2,4,8,10,15,20,30)}\n",
    "                                                                                                                                     \n",
    "RF_grid  = RandomizedSearchCV( RandomForestClassifier(), param_distributions = parameters_RF, cv = 5, verbose = True,scoring='accuracy')\n",
    "result_RF=RF_grid.fit(x,y)\n",
    "  \n",
    "RF= result_RF.best_estimator_"
   ]
  },
  {
   "cell_type": "code",
   "execution_count": 14,
   "id": "445764b5-01c1-4f66-b1a0-7845c9d8008e",
   "metadata": {},
   "outputs": [
    {
     "name": "stdout",
     "output_type": "stream",
     "text": [
      "RandomForestClassifier(min_samples_split=30, n_estimators=75)\n"
     ]
    }
   ],
   "source": [
    "RF_estimator_result =result_RF.best_estimator_\n",
    "print(RF_estimator_result)"
   ]
  },
  {
   "cell_type": "code",
   "execution_count": 14,
   "id": "28042138-a098-4a73-a19d-d3c171fd930d",
   "metadata": {},
   "outputs": [],
   "source": [
    "from sklearn.naive_bayes import GaussianNB"
   ]
  },
  {
   "cell_type": "code",
   "execution_count": 17,
   "id": "6d498497-6371-4527-a926-c1c10bde904b",
   "metadata": {},
   "outputs": [
    {
     "name": "stdout",
     "output_type": "stream",
     "text": [
      "Fitting 5 folds for each of 10 candidates, totalling 50 fits\n"
     ]
    }
   ],
   "source": [
    "parameters_gb = {'var_smoothing': (1e-09,1e-08,1e-07,1e-06,1e-05,1e-04,1e-03,1e-02,1e-01,1,10,5e-09,5e-08,5e-07,5e-06,5e-05,\n",
    "                                5e-04,5e-03,5e-02,5e-01,5)}\n",
    "gb_grid  = RandomizedSearchCV( GaussianNB(), param_distributions = parameters_gb, cv = 5, verbose = True,scoring='accuracy')\n",
    "result_gb = gb_grid.fit(x,y)"
   ]
  },
  {
   "cell_type": "code",
   "execution_count": 19,
   "id": "a20d1cf7-0297-4d07-855d-5f4e36603b6c",
   "metadata": {},
   "outputs": [
    {
     "name": "stdout",
     "output_type": "stream",
     "text": [
      "GaussianNB(var_smoothing=0.05)\n"
     ]
    }
   ],
   "source": [
    "gb_estimator_result =result_gb.best_estimator_\n",
    "print(gb_estimator_result)"
   ]
  },
  {
   "cell_type": "code",
   "execution_count": 15,
   "id": "b812f639-f758-476a-8eee-73500d5aa3db",
   "metadata": {},
   "outputs": [],
   "source": [
    "from sklearn.linear_model import LogisticRegression"
   ]
  },
  {
   "cell_type": "code",
   "execution_count": 19,
   "id": "fb0147f0-3d47-46a0-8c64-f1ef493e90d2",
   "metadata": {},
   "outputs": [
    {
     "name": "stdout",
     "output_type": "stream",
     "text": [
      "Fitting 5 folds for each of 10 candidates, totalling 50 fits\n"
     ]
    }
   ],
   "source": [
    "parameters_lr = {'solver':('liblinear','newton-cg'),'random_state':(0,1),'C': (0.1,1,10),'tol': (0.01,0.001,0.0001,.1)}\n",
    "                                                                                                                                     \n",
    "lr_grid  = RandomizedSearchCV( LogisticRegression(), param_distributions = parameters_lr, cv = 5, verbose = True,scoring='accuracy')\n",
    "result_lr=lr_grid.fit(x,y)\n",
    "    \n",
    "LG_estimator_result = result_lr.best_estimator_"
   ]
  },
  {
   "cell_type": "code",
   "execution_count": 20,
   "id": "e3c2d33f-af32-4788-946c-a0a26ea6c3c1",
   "metadata": {},
   "outputs": [
    {
     "name": "stdout",
     "output_type": "stream",
     "text": [
      "LogisticRegression(C=10, random_state=0, solver='newton-cg')\n"
     ]
    }
   ],
   "source": [
    "print(LG_estimator_result)"
   ]
  },
  {
   "cell_type": "code",
   "execution_count": 16,
   "id": "cc665938-754b-4530-8228-bff35d289197",
   "metadata": {},
   "outputs": [],
   "source": [
    "from sklearn.neighbors import KNeighborsClassifier"
   ]
  },
  {
   "cell_type": "code",
   "execution_count": 22,
   "id": "e01a4b67-4408-4ec7-a522-82742ae1a4c9",
   "metadata": {},
   "outputs": [
    {
     "name": "stdout",
     "output_type": "stream",
     "text": [
      "Fitting 5 folds for each of 10 candidates, totalling 50 fits\n"
     ]
    }
   ],
   "source": [
    "parameters_knn = {'n_neighbors': (1,2,3,4,5),'leaf_size':(15,30,50,100),'p':(1,2,3)}\n",
    "knn_grid  = RandomizedSearchCV( KNeighborsClassifier(), param_distributions = parameters_knn, cv = 5, verbose = True,scoring='accuracy')\n",
    "result_knn=knn_grid.fit(x,y)\n",
    "knn_estimator_result = result_knn.best_estimator_"
   ]
  },
  {
   "cell_type": "code",
   "execution_count": 23,
   "id": "5e69dc12-5493-492a-9e0a-2ab7f90ee219",
   "metadata": {},
   "outputs": [
    {
     "name": "stdout",
     "output_type": "stream",
     "text": [
      "KNeighborsClassifier(leaf_size=15, p=1)\n"
     ]
    }
   ],
   "source": [
    "print(knn_estimator_result)"
   ]
  },
  {
   "cell_type": "code",
   "execution_count": 17,
   "id": "11d708e0-c320-4de7-9515-563ccc653174",
   "metadata": {},
   "outputs": [],
   "source": [
    "from sklearn.tree import DecisionTreeClassifier"
   ]
  },
  {
   "cell_type": "code",
   "execution_count": 31,
   "id": "68c3a760-21fe-43c3-8fb6-b67d1274c1d8",
   "metadata": {},
   "outputs": [
    {
     "name": "stdout",
     "output_type": "stream",
     "text": [
      "Fitting 5 folds for each of 10 candidates, totalling 50 fits\n"
     ]
    }
   ],
   "source": [
    "parameters_dt = {'min_samples_split' : (2,4,6,10), 'max_depth':(3,4,5,6,7,8,9,10,11,12,16,25,50,100,200)}                                                                                                                            \n",
    "DT_grid  = RandomizedSearchCV( DecisionTreeClassifier(), param_distributions = parameters_dt, cv = 5, verbose = True,scoring='accuracy')\n",
    "result_dt=DT_grid.fit(x,y)\n",
    "    \n",
    "dt_estimator_result = result_dt.best_estimator_"
   ]
  },
  {
   "cell_type": "code",
   "execution_count": 32,
   "id": "d4f96aa1-3fa9-475f-8ba8-1fec48e16eb4",
   "metadata": {},
   "outputs": [
    {
     "name": "stdout",
     "output_type": "stream",
     "text": [
      "DecisionTreeClassifier(max_depth=12, min_samples_split=4)\n"
     ]
    }
   ],
   "source": [
    "print(dt_estimator_result)"
   ]
  },
  {
   "cell_type": "code",
   "execution_count": 18,
   "id": "8b223b0c-b5d9-4f3f-abf5-0e3e612360b3",
   "metadata": {},
   "outputs": [
    {
     "name": "stdout",
     "output_type": "stream",
     "text": [
      "Collecting xgboost\n",
      "  Using cached xgboost-1.6.1-py3-none-win_amd64.whl (125.4 MB)\n",
      "Requirement already satisfied: numpy in c:\\users\\asus\\anaconda3\\lib\\site-packages (from xgboost) (1.20.3)\n",
      "Requirement already satisfied: scipy in c:\\users\\asus\\anaconda3\\lib\\site-packages (from xgboost) (1.7.1)\n",
      "Installing collected packages: xgboost\n",
      "Successfully installed xgboost-1.6.1\n",
      "Note: you may need to restart the kernel to use updated packages.\n"
     ]
    }
   ],
   "source": [
    "pip install xgboost"
   ]
  },
  {
   "cell_type": "code",
   "execution_count": 18,
   "id": "e27f606d-b59e-464c-8d6c-cb782033b79c",
   "metadata": {},
   "outputs": [],
   "source": [
    "from xgboost import XGBClassifier"
   ]
  },
  {
   "cell_type": "code",
   "execution_count": 19,
   "id": "4d7acc67-53ab-4a6f-9d06-dd867a67ed9e",
   "metadata": {},
   "outputs": [],
   "source": [
    "import xgboost as xgb"
   ]
  },
  {
   "cell_type": "code",
   "execution_count": 30,
   "id": "1ad700ef-1c52-4049-a526-2b447976fa53",
   "metadata": {},
   "outputs": [
    {
     "name": "stdout",
     "output_type": "stream",
     "text": [
      "Fitting 5 folds for each of 10 candidates, totalling 50 fits\n"
     ]
    }
   ],
   "source": [
    "parameters_xgb = {'alpha': (0.1,0.5,1,2,3,4,5),'eta': (0.3,0.001,0.1,0.5,1,3,5),'lambda': (0.1,1,5,3,0.5),\n",
    "'colsample_bytree': [0.1, 0.5, 0.8, 1], 'subsample': [0.1,0.5,1]}\n",
    "xgb_grid  = RandomizedSearchCV( XGBClassifier(), param_distributions = parameters_xgb, cv = 5, verbose = True,scoring='accuracy')\n",
    "result_xgb=xgb_grid.fit(x,y_l)\n",
    "    \n",
    "xgb_estimator_result = result_xgb.best_estimator_"
   ]
  },
  {
   "cell_type": "code",
   "execution_count": 31,
   "id": "ae82c8c9-f1f4-4219-9b67-e64c82ed2ead",
   "metadata": {},
   "outputs": [
    {
     "name": "stdout",
     "output_type": "stream",
     "text": [
      "XGBClassifier(alpha=4, base_score=0.5, booster='gbtree', callbacks=None,\n",
      "              colsample_bylevel=1, colsample_bynode=1, colsample_bytree=0.1,\n",
      "              early_stopping_rounds=None, enable_categorical=False, eta=0.3,\n",
      "              eval_metric=None, gamma=0, gpu_id=-1, grow_policy='depthwise',\n",
      "              importance_type=None, interaction_constraints='', lambda=0.1,\n",
      "              learning_rate=0.300000012, max_bin=256, max_cat_to_onehot=4,\n",
      "              max_delta_step=0, max_depth=6, max_leaves=0, min_child_weight=1,\n",
      "              missing=nan, monotone_constraints='()', n_estimators=100,\n",
      "              n_jobs=0, num_parallel_tree=1, objective='multi:softprob', ...)\n"
     ]
    }
   ],
   "source": [
    "print(xgb_estimator_result)"
   ]
  },
  {
   "cell_type": "code",
   "execution_count": 20,
   "id": "8fd40847-2a37-49fc-86be-ae08dfff42fa",
   "metadata": {},
   "outputs": [],
   "source": [
    "from sklearn.ensemble import GradientBoostingClassifier"
   ]
  },
  {
   "cell_type": "code",
   "execution_count": 43,
   "id": "3b6724c3-db6c-4655-b0f8-864ae5d4a01b",
   "metadata": {},
   "outputs": [
    {
     "name": "stdout",
     "output_type": "stream",
     "text": [
      "Fitting 5 folds for each of 10 candidates, totalling 50 fits\n",
      "[CV 1/5; 1/10] START min_samples_split=2, n_estimators=140, subsample=1.........\n",
      "[CV 1/5; 1/10] END min_samples_split=2, n_estimators=140, subsample=1;, score=0.116 total time= 9.9min\n",
      "[CV 2/5; 1/10] START min_samples_split=2, n_estimators=140, subsample=1.........\n",
      "[CV 2/5; 1/10] END min_samples_split=2, n_estimators=140, subsample=1;, score=0.828 total time= 9.9min\n",
      "[CV 3/5; 1/10] START min_samples_split=2, n_estimators=140, subsample=1.........\n",
      "[CV 3/5; 1/10] END min_samples_split=2, n_estimators=140, subsample=1;, score=0.095 total time=10.2min\n",
      "[CV 4/5; 1/10] START min_samples_split=2, n_estimators=140, subsample=1.........\n",
      "[CV 4/5; 1/10] END min_samples_split=2, n_estimators=140, subsample=1;, score=0.018 total time= 9.9min\n",
      "[CV 5/5; 1/10] START min_samples_split=2, n_estimators=140, subsample=1.........\n",
      "[CV 5/5; 1/10] END min_samples_split=2, n_estimators=140, subsample=1;, score=0.038 total time=10.2min\n",
      "[CV 1/5; 2/10] START min_samples_split=4, n_estimators=50, subsample=0.1........\n",
      "[CV 1/5; 2/10] END min_samples_split=4, n_estimators=50, subsample=0.1;, score=0.024 total time= 1.0min\n",
      "[CV 2/5; 2/10] START min_samples_split=4, n_estimators=50, subsample=0.1........\n",
      "[CV 2/5; 2/10] END min_samples_split=4, n_estimators=50, subsample=0.1;, score=0.816 total time= 1.0min\n",
      "[CV 3/5; 2/10] START min_samples_split=4, n_estimators=50, subsample=0.1........\n",
      "[CV 3/5; 2/10] END min_samples_split=4, n_estimators=50, subsample=0.1;, score=0.069 total time= 1.1min\n",
      "[CV 4/5; 2/10] START min_samples_split=4, n_estimators=50, subsample=0.1........\n",
      "[CV 4/5; 2/10] END min_samples_split=4, n_estimators=50, subsample=0.1;, score=0.806 total time= 1.1min\n",
      "[CV 5/5; 2/10] START min_samples_split=4, n_estimators=50, subsample=0.1........\n",
      "[CV 5/5; 2/10] END min_samples_split=4, n_estimators=50, subsample=0.1;, score=0.794 total time= 1.0min\n",
      "[CV 1/5; 3/10] START min_samples_split=2, n_estimators=150, subsample=1.........\n",
      "[CV 1/5; 3/10] END min_samples_split=2, n_estimators=150, subsample=1;, score=0.116 total time=11.4min\n",
      "[CV 2/5; 3/10] START min_samples_split=2, n_estimators=150, subsample=1.........\n",
      "[CV 2/5; 3/10] END min_samples_split=2, n_estimators=150, subsample=1;, score=0.828 total time=11.7min\n",
      "[CV 3/5; 3/10] START min_samples_split=2, n_estimators=150, subsample=1.........\n",
      "[CV 3/5; 3/10] END min_samples_split=2, n_estimators=150, subsample=1;, score=0.095 total time=11.7min\n",
      "[CV 4/5; 3/10] START min_samples_split=2, n_estimators=150, subsample=1.........\n",
      "[CV 4/5; 3/10] END min_samples_split=2, n_estimators=150, subsample=1;, score=0.018 total time=11.5min\n",
      "[CV 5/5; 3/10] START min_samples_split=2, n_estimators=150, subsample=1.........\n",
      "[CV 5/5; 3/10] END min_samples_split=2, n_estimators=150, subsample=1;, score=0.038 total time=11.6min\n",
      "[CV 1/5; 4/10] START min_samples_split=4, n_estimators=50, subsample=1..........\n",
      "[CV 1/5; 4/10] END min_samples_split=4, n_estimators=50, subsample=1;, score=0.116 total time= 3.9min\n",
      "[CV 2/5; 4/10] START min_samples_split=4, n_estimators=50, subsample=1..........\n",
      "[CV 2/5; 4/10] END min_samples_split=4, n_estimators=50, subsample=1;, score=0.828 total time= 3.9min\n",
      "[CV 3/5; 4/10] START min_samples_split=4, n_estimators=50, subsample=1..........\n",
      "[CV 3/5; 4/10] END min_samples_split=4, n_estimators=50, subsample=1;, score=0.095 total time= 3.8min\n",
      "[CV 4/5; 4/10] START min_samples_split=4, n_estimators=50, subsample=1..........\n",
      "[CV 4/5; 4/10] END min_samples_split=4, n_estimators=50, subsample=1;, score=0.018 total time= 3.9min\n",
      "[CV 5/5; 4/10] START min_samples_split=4, n_estimators=50, subsample=1..........\n",
      "[CV 5/5; 4/10] END min_samples_split=4, n_estimators=50, subsample=1;, score=0.038 total time= 3.9min\n",
      "[CV 1/5; 5/10] START min_samples_split=2, n_estimators=150, subsample=0.5.......\n",
      "[CV 1/5; 5/10] END min_samples_split=2, n_estimators=150, subsample=0.5;, score=0.089 total time= 7.3min\n",
      "[CV 2/5; 5/10] START min_samples_split=2, n_estimators=150, subsample=0.5.......\n",
      "[CV 2/5; 5/10] END min_samples_split=2, n_estimators=150, subsample=0.5;, score=0.835 total time= 7.2min\n",
      "[CV 3/5; 5/10] START min_samples_split=2, n_estimators=150, subsample=0.5.......\n",
      "[CV 3/5; 5/10] END min_samples_split=2, n_estimators=150, subsample=0.5;, score=0.801 total time= 7.3min\n",
      "[CV 4/5; 5/10] START min_samples_split=2, n_estimators=150, subsample=0.5.......\n",
      "[CV 4/5; 5/10] END min_samples_split=2, n_estimators=150, subsample=0.5;, score=0.846 total time= 7.3min\n",
      "[CV 5/5; 5/10] START min_samples_split=2, n_estimators=150, subsample=0.5.......\n",
      "[CV 5/5; 5/10] END min_samples_split=2, n_estimators=150, subsample=0.5;, score=0.450 total time= 6.6min\n",
      "[CV 1/5; 6/10] START min_samples_split=4, n_estimators=140, subsample=1.........\n",
      "[CV 1/5; 6/10] END min_samples_split=4, n_estimators=140, subsample=1;, score=0.116 total time= 9.1min\n",
      "[CV 2/5; 6/10] START min_samples_split=4, n_estimators=140, subsample=1.........\n",
      "[CV 2/5; 6/10] END min_samples_split=4, n_estimators=140, subsample=1;, score=0.828 total time= 9.5min\n",
      "[CV 3/5; 6/10] START min_samples_split=4, n_estimators=140, subsample=1.........\n",
      "[CV 3/5; 6/10] END min_samples_split=4, n_estimators=140, subsample=1;, score=0.095 total time= 9.1min\n",
      "[CV 4/5; 6/10] START min_samples_split=4, n_estimators=140, subsample=1.........\n",
      "[CV 4/5; 6/10] END min_samples_split=4, n_estimators=140, subsample=1;, score=0.018 total time= 9.3min\n",
      "[CV 5/5; 6/10] START min_samples_split=4, n_estimators=140, subsample=1.........\n",
      "[CV 5/5; 6/10] END min_samples_split=4, n_estimators=140, subsample=1;, score=0.038 total time= 9.3min\n",
      "[CV 1/5; 7/10] START min_samples_split=4, n_estimators=120, subsample=0.5.......\n",
      "[CV 1/5; 7/10] END min_samples_split=4, n_estimators=120, subsample=0.5;, score=0.822 total time= 4.9min\n",
      "[CV 2/5; 7/10] START min_samples_split=4, n_estimators=120, subsample=0.5.......\n",
      "[CV 2/5; 7/10] END min_samples_split=4, n_estimators=120, subsample=0.5;, score=0.824 total time= 4.9min\n",
      "[CV 3/5; 7/10] START min_samples_split=4, n_estimators=120, subsample=0.5.......\n",
      "[CV 3/5; 7/10] END min_samples_split=4, n_estimators=120, subsample=0.5;, score=0.065 total time= 4.9min\n",
      "[CV 4/5; 7/10] START min_samples_split=4, n_estimators=120, subsample=0.5.......\n",
      "[CV 4/5; 7/10] END min_samples_split=4, n_estimators=120, subsample=0.5;, score=0.090 total time= 4.9min\n",
      "[CV 5/5; 7/10] START min_samples_split=4, n_estimators=120, subsample=0.5.......\n",
      "[CV 5/5; 7/10] END min_samples_split=4, n_estimators=120, subsample=0.5;, score=0.825 total time= 4.9min\n",
      "[CV 1/5; 8/10] START min_samples_split=2, n_estimators=140, subsample=0.1.......\n",
      "[CV 1/5; 8/10] END min_samples_split=2, n_estimators=140, subsample=0.1;, score=0.810 total time= 2.7min\n",
      "[CV 2/5; 8/10] START min_samples_split=2, n_estimators=140, subsample=0.1.......\n",
      "[CV 2/5; 8/10] END min_samples_split=2, n_estimators=140, subsample=0.1;, score=0.780 total time= 2.7min\n",
      "[CV 3/5; 8/10] START min_samples_split=2, n_estimators=140, subsample=0.1.......\n",
      "[CV 3/5; 8/10] END min_samples_split=2, n_estimators=140, subsample=0.1;, score=0.813 total time= 2.7min\n",
      "[CV 4/5; 8/10] START min_samples_split=2, n_estimators=140, subsample=0.1.......\n",
      "[CV 4/5; 8/10] END min_samples_split=2, n_estimators=140, subsample=0.1;, score=0.837 total time= 2.7min\n",
      "[CV 5/5; 8/10] START min_samples_split=2, n_estimators=140, subsample=0.1.......\n",
      "[CV 5/5; 8/10] END min_samples_split=2, n_estimators=140, subsample=0.1;, score=0.806 total time= 2.7min\n",
      "[CV 1/5; 9/10] START min_samples_split=2, n_estimators=50, subsample=0.5........\n",
      "[CV 1/5; 9/10] END min_samples_split=2, n_estimators=50, subsample=0.5;, score=0.825 total time= 2.0min\n",
      "[CV 2/5; 9/10] START min_samples_split=2, n_estimators=50, subsample=0.5........\n",
      "[CV 2/5; 9/10] END min_samples_split=2, n_estimators=50, subsample=0.5;, score=0.041 total time= 2.0min\n",
      "[CV 3/5; 9/10] START min_samples_split=2, n_estimators=50, subsample=0.5........\n",
      "[CV 3/5; 9/10] END min_samples_split=2, n_estimators=50, subsample=0.5;, score=0.829 total time= 2.0min\n",
      "[CV 4/5; 9/10] START min_samples_split=2, n_estimators=50, subsample=0.5........\n",
      "[CV 4/5; 9/10] END min_samples_split=2, n_estimators=50, subsample=0.5;, score=0.016 total time= 2.0min\n",
      "[CV 5/5; 9/10] START min_samples_split=2, n_estimators=50, subsample=0.5........\n",
      "[CV 5/5; 9/10] END min_samples_split=2, n_estimators=50, subsample=0.5;, score=0.816 total time= 2.0min\n",
      "[CV 1/5; 10/10] START min_samples_split=2, n_estimators=50, subsample=0.1.......\n",
      "[CV 1/5; 10/10] END min_samples_split=2, n_estimators=50, subsample=0.1;, score=0.814 total time=  57.0s\n",
      "[CV 2/5; 10/10] START min_samples_split=2, n_estimators=50, subsample=0.1.......\n",
      "[CV 2/5; 10/10] END min_samples_split=2, n_estimators=50, subsample=0.1;, score=0.794 total time=  58.1s\n",
      "[CV 3/5; 10/10] START min_samples_split=2, n_estimators=50, subsample=0.1.......\n",
      "[CV 3/5; 10/10] END min_samples_split=2, n_estimators=50, subsample=0.1;, score=0.388 total time=  56.9s\n",
      "[CV 4/5; 10/10] START min_samples_split=2, n_estimators=50, subsample=0.1.......\n",
      "[CV 4/5; 10/10] END min_samples_split=2, n_estimators=50, subsample=0.1;, score=0.093 total time=  56.9s\n",
      "[CV 5/5; 10/10] START min_samples_split=2, n_estimators=50, subsample=0.1.......\n",
      "[CV 5/5; 10/10] END min_samples_split=2, n_estimators=50, subsample=0.1;, score=0.043 total time=  57.6s\n"
     ]
    }
   ],
   "source": [
    "parameters_grb = {'n_estimators': (50,100,120,140,150),'min_samples_split' : (2,4),'subsample' : (0.1,0.5,1)}\n",
    "                                                                                                                                     \n",
    "grb_grid  = RandomizedSearchCV( GradientBoostingClassifier(learning_rate=10000), param_distributions = parameters_grb, cv = 5, verbose = 50,scoring='accuracy')\n",
    "result=grb_grid.fit(x,y)\n",
    "    \n",
    "grb_estimator_result = result.best_estimator_"
   ]
  },
  {
   "cell_type": "code",
   "execution_count": 44,
   "id": "04d10a17-c3d3-4602-b079-5572efbf8a3d",
   "metadata": {},
   "outputs": [
    {
     "name": "stdout",
     "output_type": "stream",
     "text": [
      "GradientBoostingClassifier(learning_rate=10000, n_estimators=140, subsample=0.1)\n"
     ]
    }
   ],
   "source": [
    "print(grb_estimator_result)"
   ]
  },
  {
   "cell_type": "code",
   "execution_count": 21,
   "id": "e9ec56ee-c1bd-4643-8347-aea1ecaa10e3",
   "metadata": {},
   "outputs": [],
   "source": [
    "from sklearn.ensemble import AdaBoostClassifier"
   ]
  },
  {
   "cell_type": "code",
   "execution_count": 30,
   "id": "aa2727d7-67f9-4626-93e2-e6d5e5817f4f",
   "metadata": {},
   "outputs": [
    {
     "name": "stdout",
     "output_type": "stream",
     "text": [
      "Fitting 5 folds for each of 10 candidates, totalling 50 fits\n",
      "[CV 1/5; 1/10] START algorithm=SAMME.R, learning_rate=0.99, n_estimators=6, random_state=1\n",
      "[CV 1/5; 1/10] END algorithm=SAMME.R, learning_rate=0.99, n_estimators=6, random_state=1;, score=0.834 total time=   1.3s\n",
      "[CV 2/5; 1/10] START algorithm=SAMME.R, learning_rate=0.99, n_estimators=6, random_state=1\n",
      "[CV 2/5; 1/10] END algorithm=SAMME.R, learning_rate=0.99, n_estimators=6, random_state=1;, score=0.833 total time=   1.3s\n",
      "[CV 3/5; 1/10] START algorithm=SAMME.R, learning_rate=0.99, n_estimators=6, random_state=1\n",
      "[CV 3/5; 1/10] END algorithm=SAMME.R, learning_rate=0.99, n_estimators=6, random_state=1;, score=0.835 total time=   1.3s\n",
      "[CV 4/5; 1/10] START algorithm=SAMME.R, learning_rate=0.99, n_estimators=6, random_state=1\n",
      "[CV 4/5; 1/10] END algorithm=SAMME.R, learning_rate=0.99, n_estimators=6, random_state=1;, score=0.835 total time=   1.2s\n",
      "[CV 5/5; 1/10] START algorithm=SAMME.R, learning_rate=0.99, n_estimators=6, random_state=1\n",
      "[CV 5/5; 1/10] END algorithm=SAMME.R, learning_rate=0.99, n_estimators=6, random_state=1;, score=0.833 total time=   1.3s\n",
      "[CV 1/5; 2/10] START algorithm=SAMME, learning_rate=1.03, n_estimators=20, random_state=1\n",
      "[CV 1/5; 2/10] END algorithm=SAMME, learning_rate=1.03, n_estimators=20, random_state=1;, score=0.807 total time=   3.7s\n",
      "[CV 2/5; 2/10] START algorithm=SAMME, learning_rate=1.03, n_estimators=20, random_state=1\n",
      "[CV 2/5; 2/10] END algorithm=SAMME, learning_rate=1.03, n_estimators=20, random_state=1;, score=0.807 total time=   3.7s\n",
      "[CV 3/5; 2/10] START algorithm=SAMME, learning_rate=1.03, n_estimators=20, random_state=1\n",
      "[CV 3/5; 2/10] END algorithm=SAMME, learning_rate=1.03, n_estimators=20, random_state=1;, score=0.827 total time=   4.1s\n",
      "[CV 4/5; 2/10] START algorithm=SAMME, learning_rate=1.03, n_estimators=20, random_state=1\n",
      "[CV 4/5; 2/10] END algorithm=SAMME, learning_rate=1.03, n_estimators=20, random_state=1;, score=0.827 total time=   4.6s\n",
      "[CV 5/5; 2/10] START algorithm=SAMME, learning_rate=1.03, n_estimators=20, random_state=1\n",
      "[CV 5/5; 2/10] END algorithm=SAMME, learning_rate=1.03, n_estimators=20, random_state=1;, score=0.823 total time=   3.9s\n",
      "[CV 1/5; 3/10] START algorithm=SAMME, learning_rate=1.01, n_estimators=4, random_state=1\n",
      "[CV 1/5; 3/10] END algorithm=SAMME, learning_rate=1.01, n_estimators=4, random_state=1;, score=0.767 total time=   1.0s\n",
      "[CV 2/5; 3/10] START algorithm=SAMME, learning_rate=1.01, n_estimators=4, random_state=1\n",
      "[CV 2/5; 3/10] END algorithm=SAMME, learning_rate=1.01, n_estimators=4, random_state=1;, score=0.767 total time=   1.0s\n",
      "[CV 3/5; 3/10] START algorithm=SAMME, learning_rate=1.01, n_estimators=4, random_state=1\n",
      "[CV 3/5; 3/10] END algorithm=SAMME, learning_rate=1.01, n_estimators=4, random_state=1;, score=0.768 total time=   0.9s\n",
      "[CV 4/5; 3/10] START algorithm=SAMME, learning_rate=1.01, n_estimators=4, random_state=1\n",
      "[CV 4/5; 3/10] END algorithm=SAMME, learning_rate=1.01, n_estimators=4, random_state=1;, score=0.768 total time=   0.7s\n",
      "[CV 5/5; 3/10] START algorithm=SAMME, learning_rate=1.01, n_estimators=4, random_state=1\n",
      "[CV 5/5; 3/10] END algorithm=SAMME, learning_rate=1.01, n_estimators=4, random_state=1;, score=0.768 total time=   0.7s\n",
      "[CV 1/5; 4/10] START algorithm=SAMME, learning_rate=1.0, n_estimators=4, random_state=2\n",
      "[CV 1/5; 4/10] END algorithm=SAMME, learning_rate=1.0, n_estimators=4, random_state=2;, score=0.767 total time=   0.7s\n",
      "[CV 2/5; 4/10] START algorithm=SAMME, learning_rate=1.0, n_estimators=4, random_state=2\n",
      "[CV 2/5; 4/10] END algorithm=SAMME, learning_rate=1.0, n_estimators=4, random_state=2;, score=0.767 total time=   0.7s\n",
      "[CV 3/5; 4/10] START algorithm=SAMME, learning_rate=1.0, n_estimators=4, random_state=2\n",
      "[CV 3/5; 4/10] END algorithm=SAMME, learning_rate=1.0, n_estimators=4, random_state=2;, score=0.768 total time=   0.7s\n",
      "[CV 4/5; 4/10] START algorithm=SAMME, learning_rate=1.0, n_estimators=4, random_state=2\n",
      "[CV 4/5; 4/10] END algorithm=SAMME, learning_rate=1.0, n_estimators=4, random_state=2;, score=0.768 total time=   0.8s\n",
      "[CV 5/5; 4/10] START algorithm=SAMME, learning_rate=1.0, n_estimators=4, random_state=2\n",
      "[CV 5/5; 4/10] END algorithm=SAMME, learning_rate=1.0, n_estimators=4, random_state=2;, score=0.768 total time=   0.7s\n",
      "[CV 1/5; 5/10] START algorithm=SAMME, learning_rate=0.97, n_estimators=8, random_state=1\n",
      "[CV 1/5; 5/10] END algorithm=SAMME, learning_rate=0.97, n_estimators=8, random_state=1;, score=0.768 total time=   1.5s\n",
      "[CV 2/5; 5/10] START algorithm=SAMME, learning_rate=0.97, n_estimators=8, random_state=1\n",
      "[CV 2/5; 5/10] END algorithm=SAMME, learning_rate=0.97, n_estimators=8, random_state=1;, score=0.767 total time=   1.6s\n",
      "[CV 3/5; 5/10] START algorithm=SAMME, learning_rate=0.97, n_estimators=8, random_state=1\n",
      "[CV 3/5; 5/10] END algorithm=SAMME, learning_rate=0.97, n_estimators=8, random_state=1;, score=0.768 total time=   1.6s\n",
      "[CV 4/5; 5/10] START algorithm=SAMME, learning_rate=0.97, n_estimators=8, random_state=1\n",
      "[CV 4/5; 5/10] END algorithm=SAMME, learning_rate=0.97, n_estimators=8, random_state=1;, score=0.768 total time=   1.5s\n",
      "[CV 5/5; 5/10] START algorithm=SAMME, learning_rate=0.97, n_estimators=8, random_state=1\n",
      "[CV 5/5; 5/10] END algorithm=SAMME, learning_rate=0.97, n_estimators=8, random_state=1;, score=0.768 total time=   1.4s\n",
      "[CV 1/5; 6/10] START algorithm=SAMME.R, learning_rate=1.04, n_estimators=8, random_state=0\n",
      "[CV 1/5; 6/10] END algorithm=SAMME.R, learning_rate=1.04, n_estimators=8, random_state=0;, score=0.862 total time=   1.8s\n",
      "[CV 2/5; 6/10] START algorithm=SAMME.R, learning_rate=1.04, n_estimators=8, random_state=0\n",
      "[CV 2/5; 6/10] END algorithm=SAMME.R, learning_rate=1.04, n_estimators=8, random_state=0;, score=0.862 total time=   1.8s\n",
      "[CV 3/5; 6/10] START algorithm=SAMME.R, learning_rate=1.04, n_estimators=8, random_state=0\n",
      "[CV 3/5; 6/10] END algorithm=SAMME.R, learning_rate=1.04, n_estimators=8, random_state=0;, score=0.864 total time=   1.9s\n",
      "[CV 4/5; 6/10] START algorithm=SAMME.R, learning_rate=1.04, n_estimators=8, random_state=0\n",
      "[CV 4/5; 6/10] END algorithm=SAMME.R, learning_rate=1.04, n_estimators=8, random_state=0;, score=0.864 total time=   2.0s\n",
      "[CV 5/5; 6/10] START algorithm=SAMME.R, learning_rate=1.04, n_estimators=8, random_state=0\n",
      "[CV 5/5; 6/10] END algorithm=SAMME.R, learning_rate=1.04, n_estimators=8, random_state=0;, score=0.863 total time=   1.8s\n",
      "[CV 1/5; 7/10] START algorithm=SAMME, learning_rate=1.0, n_estimators=9, random_state=0\n",
      "[CV 1/5; 7/10] END algorithm=SAMME, learning_rate=1.0, n_estimators=9, random_state=0;, score=0.768 total time=   1.8s\n",
      "[CV 2/5; 7/10] START algorithm=SAMME, learning_rate=1.0, n_estimators=9, random_state=0\n",
      "[CV 2/5; 7/10] END algorithm=SAMME, learning_rate=1.0, n_estimators=9, random_state=0;, score=0.767 total time=   1.9s\n",
      "[CV 3/5; 7/10] START algorithm=SAMME, learning_rate=1.0, n_estimators=9, random_state=0\n",
      "[CV 3/5; 7/10] END algorithm=SAMME, learning_rate=1.0, n_estimators=9, random_state=0;, score=0.768 total time=   1.6s\n",
      "[CV 4/5; 7/10] START algorithm=SAMME, learning_rate=1.0, n_estimators=9, random_state=0\n",
      "[CV 4/5; 7/10] END algorithm=SAMME, learning_rate=1.0, n_estimators=9, random_state=0;, score=0.768 total time=   1.6s\n",
      "[CV 5/5; 7/10] START algorithm=SAMME, learning_rate=1.0, n_estimators=9, random_state=0\n",
      "[CV 5/5; 7/10] END algorithm=SAMME, learning_rate=1.0, n_estimators=9, random_state=0;, score=0.768 total time=   1.6s\n",
      "[CV 1/5; 8/10] START algorithm=SAMME.R, learning_rate=0.99, n_estimators=5, random_state=0\n",
      "[CV 1/5; 8/10] END algorithm=SAMME.R, learning_rate=0.99, n_estimators=5, random_state=0;, score=0.801 total time=   1.1s\n",
      "[CV 2/5; 8/10] START algorithm=SAMME.R, learning_rate=0.99, n_estimators=5, random_state=0\n",
      "[CV 2/5; 8/10] END algorithm=SAMME.R, learning_rate=0.99, n_estimators=5, random_state=0;, score=0.801 total time=   1.0s\n",
      "[CV 3/5; 8/10] START algorithm=SAMME.R, learning_rate=0.99, n_estimators=5, random_state=0\n",
      "[CV 3/5; 8/10] END algorithm=SAMME.R, learning_rate=0.99, n_estimators=5, random_state=0;, score=0.804 total time=   1.0s\n",
      "[CV 4/5; 8/10] START algorithm=SAMME.R, learning_rate=0.99, n_estimators=5, random_state=0\n",
      "[CV 4/5; 8/10] END algorithm=SAMME.R, learning_rate=0.99, n_estimators=5, random_state=0;, score=0.803 total time=   1.1s\n",
      "[CV 5/5; 8/10] START algorithm=SAMME.R, learning_rate=0.99, n_estimators=5, random_state=0\n",
      "[CV 5/5; 8/10] END algorithm=SAMME.R, learning_rate=0.99, n_estimators=5, random_state=0;, score=0.801 total time=   1.1s\n",
      "[CV 1/5; 9/10] START algorithm=SAMME, learning_rate=1.0, n_estimators=12, random_state=0\n",
      "[CV 1/5; 9/10] END algorithm=SAMME, learning_rate=1.0, n_estimators=12, random_state=0;, score=0.808 total time=   2.2s\n",
      "[CV 2/5; 9/10] START algorithm=SAMME, learning_rate=1.0, n_estimators=12, random_state=0\n",
      "[CV 2/5; 9/10] END algorithm=SAMME, learning_rate=1.0, n_estimators=12, random_state=0;, score=0.797 total time=   2.1s\n",
      "[CV 3/5; 9/10] START algorithm=SAMME, learning_rate=1.0, n_estimators=12, random_state=0\n",
      "[CV 3/5; 9/10] END algorithm=SAMME, learning_rate=1.0, n_estimators=12, random_state=0;, score=0.811 total time=   2.0s\n",
      "[CV 4/5; 9/10] START algorithm=SAMME, learning_rate=1.0, n_estimators=12, random_state=0\n",
      "[CV 4/5; 9/10] END algorithm=SAMME, learning_rate=1.0, n_estimators=12, random_state=0;, score=0.825 total time=   2.5s\n",
      "[CV 5/5; 9/10] START algorithm=SAMME, learning_rate=1.0, n_estimators=12, random_state=0\n",
      "[CV 5/5; 9/10] END algorithm=SAMME, learning_rate=1.0, n_estimators=12, random_state=0;, score=0.799 total time=   2.6s\n",
      "[CV 1/5; 10/10] START algorithm=SAMME.R, learning_rate=1.01, n_estimators=5, random_state=1\n",
      "[CV 1/5; 10/10] END algorithm=SAMME.R, learning_rate=1.01, n_estimators=5, random_state=1;, score=0.801 total time=   1.2s\n",
      "[CV 2/5; 10/10] START algorithm=SAMME.R, learning_rate=1.01, n_estimators=5, random_state=1\n",
      "[CV 2/5; 10/10] END algorithm=SAMME.R, learning_rate=1.01, n_estimators=5, random_state=1;, score=0.801 total time=   1.1s\n",
      "[CV 3/5; 10/10] START algorithm=SAMME.R, learning_rate=1.01, n_estimators=5, random_state=1\n",
      "[CV 3/5; 10/10] END algorithm=SAMME.R, learning_rate=1.01, n_estimators=5, random_state=1;, score=0.804 total time=   1.0s\n",
      "[CV 4/5; 10/10] START algorithm=SAMME.R, learning_rate=1.01, n_estimators=5, random_state=1\n",
      "[CV 4/5; 10/10] END algorithm=SAMME.R, learning_rate=1.01, n_estimators=5, random_state=1;, score=0.803 total time=   1.0s\n",
      "[CV 5/5; 10/10] START algorithm=SAMME.R, learning_rate=1.01, n_estimators=5, random_state=1\n",
      "[CV 5/5; 10/10] END algorithm=SAMME.R, learning_rate=1.01, n_estimators=5, random_state=1;, score=0.801 total time=   1.0s\n",
      "AdaBoostClassifier(learning_rate=1.04, n_estimators=8, random_state=0)\n",
      "0.8628924731182795\n",
      "{'random_state': 0, 'n_estimators': 8, 'learning_rate': 1.04, 'algorithm': 'SAMME.R'}\n"
     ]
    }
   ],
   "source": [
    "parameters_adaboost = {\n",
    "    'n_estimators': [2, 3, 4, 5, 6, 7, 8, 9, 10, 11, 12, 20],\n",
    "    'learning_rate': [(0.97 + x / 100) for x in range(0, 8)],\n",
    "    'algorithm': ['SAMME', 'SAMME.R'],\n",
    "    'random_state': [0, 1, 2]\n",
    "}\n",
    "\n",
    "adaboost_rcv = RandomizedSearchCV(\n",
    "    AdaBoostClassifier(),\n",
    "    param_distributions=parameters_adaboost,\n",
    "    verbose=50,\n",
    "    cv=5,\n",
    "    scoring='accuracy'\n",
    ")\n",
    "\n",
    "adaboost_result = adaboost_rcv.fit(x, y_l)\n",
    "\n",
    "print(adaboost_result.best_estimator_)\n",
    "print(adaboost_result.best_score_)\n",
    "print(adaboost_result.best_params_)"
   ]
  },
  {
   "cell_type": "code",
   "execution_count": 22,
   "id": "3a0fa48b-1955-481c-a3a7-75734993aa6f",
   "metadata": {},
   "outputs": [
    {
     "name": "stdout",
     "output_type": "stream",
     "text": [
      "Requirement already satisfied: keras-tuner in c:\\users\\asus\\anaconda3\\lib\\site-packages (1.1.2)\n",
      "Requirement already satisfied: tensorboard in c:\\users\\asus\\anaconda3\\lib\\site-packages (from keras-tuner) (2.8.0)\n",
      "Requirement already satisfied: ipython in c:\\users\\asus\\anaconda3\\lib\\site-packages (from keras-tuner) (7.29.0)\n",
      "Requirement already satisfied: packaging in c:\\users\\asus\\anaconda3\\lib\\site-packages (from keras-tuner) (21.0)\n",
      "Requirement already satisfied: numpy in c:\\users\\asus\\anaconda3\\lib\\site-packages (from keras-tuner) (1.20.3)\n",
      "Requirement already satisfied: kt-legacy in c:\\users\\asus\\anaconda3\\lib\\site-packages (from keras-tuner) (1.0.4)\n",
      "Requirement already satisfied: requests in c:\\users\\asus\\anaconda3\\lib\\site-packages (from keras-tuner) (2.26.0)\n",
      "Requirement already satisfied: prompt-toolkit!=3.0.0,!=3.0.1,<3.1.0,>=2.0.0 in c:\\users\\asus\\anaconda3\\lib\\site-packages (from ipython->keras-tuner) (3.0.20)\n",
      "Requirement already satisfied: jedi>=0.16 in c:\\users\\asus\\anaconda3\\lib\\site-packages (from ipython->keras-tuner) (0.18.0)\n",
      "Requirement already satisfied: backcall in c:\\users\\asus\\anaconda3\\lib\\site-packages (from ipython->keras-tuner) (0.2.0)\n",
      "Requirement already satisfied: colorama in c:\\users\\asus\\anaconda3\\lib\\site-packages (from ipython->keras-tuner) (0.4.4)\n",
      "Requirement already satisfied: pickleshare in c:\\users\\asus\\anaconda3\\lib\\site-packages (from ipython->keras-tuner) (0.7.5)\n",
      "Requirement already satisfied: matplotlib-inline in c:\\users\\asus\\anaconda3\\lib\\site-packages (from ipython->keras-tuner) (0.1.2)\n",
      "Requirement already satisfied: decorator in c:\\users\\asus\\anaconda3\\lib\\site-packages (from ipython->keras-tuner) (5.1.0)\n",
      "Requirement already satisfied: setuptools>=18.5 in c:\\users\\asus\\anaconda3\\lib\\site-packages (from ipython->keras-tuner) (58.0.4)\n",
      "Requirement already satisfied: pygments in c:\\users\\asus\\anaconda3\\lib\\site-packages (from ipython->keras-tuner) (2.10.0)\n",
      "Requirement already satisfied: traitlets>=4.2 in c:\\users\\asus\\anaconda3\\lib\\site-packages (from ipython->keras-tuner) (5.1.0)\n",
      "Requirement already satisfied: parso<0.9.0,>=0.8.0 in c:\\users\\asus\\anaconda3\\lib\\site-packages (from jedi>=0.16->ipython->keras-tuner) (0.8.2)\n",
      "Requirement already satisfied: wcwidth in c:\\users\\asus\\anaconda3\\lib\\site-packages (from prompt-toolkit!=3.0.0,!=3.0.1,<3.1.0,>=2.0.0->ipython->keras-tuner) (0.2.5)\n",
      "Requirement already satisfied: pyparsing>=2.0.2 in c:\\users\\asus\\anaconda3\\lib\\site-packages (from packaging->keras-tuner) (3.0.4)\n",
      "Requirement already satisfied: idna<4,>=2.5 in c:\\users\\asus\\anaconda3\\lib\\site-packages (from requests->keras-tuner) (3.2)\n",
      "Requirement already satisfied: urllib3<1.27,>=1.21.1 in c:\\users\\asus\\anaconda3\\lib\\site-packages (from requests->keras-tuner) (1.26.7)\n",
      "Requirement already satisfied: charset-normalizer~=2.0.0 in c:\\users\\asus\\anaconda3\\lib\\site-packages (from requests->keras-tuner) (2.0.4)\n",
      "Requirement already satisfied: certifi>=2017.4.17 in c:\\users\\asus\\anaconda3\\lib\\site-packages (from requests->keras-tuner) (2021.10.8)\n",
      "Requirement already satisfied: tensorboard-data-server<0.7.0,>=0.6.0 in c:\\users\\asus\\anaconda3\\lib\\site-packages (from tensorboard->keras-tuner) (0.6.1)\n",
      "Requirement already satisfied: wheel>=0.26 in c:\\users\\asus\\anaconda3\\lib\\site-packages (from tensorboard->keras-tuner) (0.37.0)\n",
      "Requirement already satisfied: markdown>=2.6.8 in c:\\users\\asus\\anaconda3\\lib\\site-packages (from tensorboard->keras-tuner) (3.3.7)\n",
      "Requirement already satisfied: grpcio>=1.24.3 in c:\\users\\asus\\anaconda3\\lib\\site-packages (from tensorboard->keras-tuner) (1.46.0)\n",
      "Requirement already satisfied: tensorboard-plugin-wit>=1.6.0 in c:\\users\\asus\\anaconda3\\lib\\site-packages (from tensorboard->keras-tuner) (1.8.1)\n",
      "Requirement already satisfied: protobuf>=3.6.0 in c:\\users\\asus\\anaconda3\\lib\\site-packages (from tensorboard->keras-tuner) (3.20.1)\n",
      "Requirement already satisfied: werkzeug>=0.11.15 in c:\\users\\asus\\anaconda3\\lib\\site-packages (from tensorboard->keras-tuner) (2.0.2)\n",
      "Requirement already satisfied: google-auth<3,>=1.6.3 in c:\\users\\asus\\anaconda3\\lib\\site-packages (from tensorboard->keras-tuner) (2.6.6)\n",
      "Requirement already satisfied: google-auth-oauthlib<0.5,>=0.4.1 in c:\\users\\asus\\anaconda3\\lib\\site-packages (from tensorboard->keras-tuner) (0.4.6)\n",
      "Requirement already satisfied: absl-py>=0.4 in c:\\users\\asus\\anaconda3\\lib\\site-packages (from tensorboard->keras-tuner) (1.0.0)\n",
      "Requirement already satisfied: six in c:\\users\\asus\\anaconda3\\lib\\site-packages (from absl-py>=0.4->tensorboard->keras-tuner) (1.16.0)\n",
      "Requirement already satisfied: cachetools<6.0,>=2.0.0 in c:\\users\\asus\\anaconda3\\lib\\site-packages (from google-auth<3,>=1.6.3->tensorboard->keras-tuner) (5.0.0)\n",
      "Requirement already satisfied: rsa<5,>=3.1.4 in c:\\users\\asus\\anaconda3\\lib\\site-packages (from google-auth<3,>=1.6.3->tensorboard->keras-tuner) (4.8)\n",
      "Requirement already satisfied: pyasn1-modules>=0.2.1 in c:\\users\\asus\\anaconda3\\lib\\site-packages (from google-auth<3,>=1.6.3->tensorboard->keras-tuner) (0.2.8)\n",
      "Requirement already satisfied: requests-oauthlib>=0.7.0 in c:\\users\\asus\\anaconda3\\lib\\site-packages (from google-auth-oauthlib<0.5,>=0.4.1->tensorboard->keras-tuner) (1.3.1)\n",
      "Requirement already satisfied: importlib-metadata>=4.4 in c:\\users\\asus\\anaconda3\\lib\\site-packages (from markdown>=2.6.8->tensorboard->keras-tuner) (4.8.1)\n",
      "Requirement already satisfied: zipp>=0.5 in c:\\users\\asus\\anaconda3\\lib\\site-packages (from importlib-metadata>=4.4->markdown>=2.6.8->tensorboard->keras-tuner) (3.6.0)\n",
      "Requirement already satisfied: pyasn1<0.5.0,>=0.4.6 in c:\\users\\asus\\anaconda3\\lib\\site-packages (from pyasn1-modules>=0.2.1->google-auth<3,>=1.6.3->tensorboard->keras-tuner) (0.4.8)\n",
      "Requirement already satisfied: oauthlib>=3.0.0 in c:\\users\\asus\\anaconda3\\lib\\site-packages (from requests-oauthlib>=0.7.0->google-auth-oauthlib<0.5,>=0.4.1->tensorboard->keras-tuner) (3.2.0)\n",
      "Note: you may need to restart the kernel to use updated packages.\n"
     ]
    }
   ],
   "source": [
    "pip install keras-tuner "
   ]
  },
  {
   "cell_type": "code",
   "execution_count": 23,
   "id": "a1b40ddc-36d6-4b40-a23e-06d69be4ba31",
   "metadata": {},
   "outputs": [],
   "source": [
    "from tensorflow import keras\n",
    "from tensorflow.keras import layers\n",
    "from keras_tuner.tuners import RandomSearch\n",
    "import keras_tuner as kt"
   ]
  },
  {
   "cell_type": "code",
   "execution_count": 24,
   "id": "5628a18f-41e8-448e-bd04-6ac4e2ec477d",
   "metadata": {},
   "outputs": [],
   "source": [
    "X_train_ann, X_test_ann, y_train_ann, y_test_ann = train_test_split(x_k_1, y_l, test_size=0.2, random_state=75)"
   ]
  },
  {
   "cell_type": "code",
   "execution_count": 25,
   "id": "e0d4062c-d704-49b5-bce9-c8aab0de65b5",
   "metadata": {},
   "outputs": [
    {
     "data": {
      "text/plain": [
       "(37200,)"
      ]
     },
     "execution_count": 25,
     "metadata": {},
     "output_type": "execute_result"
    }
   ],
   "source": [
    "y_test_ann.shape"
   ]
  },
  {
   "cell_type": "code",
   "execution_count": 26,
   "id": "8184260b-0a69-4951-acb8-b3e8d7ed3d8e",
   "metadata": {},
   "outputs": [],
   "source": [
    "def build_model_expo_with_all_final_layer_act_with_adagrad_optimizer(hp):\n",
    "  #with tf.device('/device:GPU:0'):\n",
    "    model_expo = keras.Sequential() \n",
    "    #model_expo.add(layers.Dense(30, input_dim=4, activation='relu'))\n",
    "    model_expo.add(layers. Flatten (input_dim=42))\n",
    "    \n",
    "    model_expo.add(layers.Dense(units=hp.Int('units',\n",
    "    \t\t\t\t\t min_value=25 ,\n",
    " \t\t\t\t\t max_value=150,\n",
    "   \t\t\t\t\t step=1),\n",
    "\t\t\t   activation=hp.Choice('act_1', ['relu', 'sigmoid','softmax','softplus','softsign','tanh','selu','elu','exponential'])))\n",
    "\n",
    "    model_expo.add(layers.Dense(10, activation=hp.Choice('act_2', ['relu', 'sigmoid','softmax','tanh','exponential'])))\n",
    "    model_expo.compile(optimizer=keras.optimizers.Adam(\n",
    "            hp.Choice('learning_rate', \n",
    "       \t\t      values=[.01,.05,.5,.001,.99,5.1])), loss=tf.keras.losses.SparseCategoricalCrossentropy(from_logits=True), metrics=['accuracy'])\n",
    "    return model_expo"
   ]
  },
  {
   "cell_type": "code",
   "execution_count": 27,
   "id": "de2ce162-4b7a-4ba3-a9c4-01f3d664ea64",
   "metadata": {},
   "outputs": [
    {
     "name": "stdout",
     "output_type": "stream",
     "text": [
      "INFO:tensorflow:Reloading Oracle from existing project .\\ann_adagrad_with_exponential_default2.1\\oracle.json\n",
      "INFO:tensorflow:Reloading Tuner from .\\ann_adagrad_with_exponential_default2.1\\tuner0.json\n"
     ]
    }
   ],
   "source": [
    "tuner = kt.RandomSearch(\n",
    "    build_model_expo_with_all_final_layer_act_with_adagrad_optimizer,\n",
    "    objective='val_accuracy', \n",
    "    max_trials=2500,\n",
    "    executions_per_trial=1,\n",
    "    #overwrite=True,\n",
    "    project_name='ann_adagrad_with_exponential_default2.1')"
   ]
  },
  {
   "cell_type": "code",
   "execution_count": 27,
   "id": "b0cf683c-9e34-415e-ada1-d2ef7d3784b3",
   "metadata": {},
   "outputs": [
    {
     "name": "stdout",
     "output_type": "stream",
     "text": [
      "Trial 2500 Complete [00h 00m 24s]\n",
      "val_accuracy: 0.8527957201004028\n",
      "\n",
      "Best val_accuracy So Far: 0.8770430088043213\n",
      "Total elapsed time: 01h 58m 45s\n",
      "INFO:tensorflow:Oracle triggered exit\n"
     ]
    }
   ],
   "source": [
    "tuner.search(X_train_ann, y_train_ann, epochs=5, validation_data=(X_test_ann, y_test_ann))\n",
    "best_model = tuner.get_best_models()[0]"
   ]
  },
  {
   "cell_type": "code",
   "execution_count": null,
   "id": "f647d607-e012-4886-a661-09e1e0144d77",
   "metadata": {},
   "outputs": [],
   "source": []
  }
 ],
 "metadata": {
  "kernelspec": {
   "display_name": "Python 3 (ipykernel)",
   "language": "python",
   "name": "python3"
  },
  "language_info": {
   "codemirror_mode": {
    "name": "ipython",
    "version": 3
   },
   "file_extension": ".py",
   "mimetype": "text/x-python",
   "name": "python",
   "nbconvert_exporter": "python",
   "pygments_lexer": "ipython3",
   "version": "3.9.7"
  }
 },
 "nbformat": 4,
 "nbformat_minor": 5
}
