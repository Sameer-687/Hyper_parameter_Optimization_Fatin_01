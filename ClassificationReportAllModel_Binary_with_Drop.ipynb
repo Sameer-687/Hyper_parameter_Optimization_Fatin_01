{
 "cells": [
  {
   "cell_type": "code",
   "execution_count": 1,
   "id": "b4be1851-46b9-42a5-bd2a-fdae815fd62e",
   "metadata": {},
   "outputs": [],
   "source": [
    "import numpy as np\n",
    "import pandas as pd\n",
    "import matplotlib.pyplot as plt\n",
    "import seaborn as sns\n",
    "from sklearn.model_selection import StratifiedKFold\n",
    "folds = StratifiedKFold(n_splits=10)\n",
    "from sklearn.model_selection import cross_val_score\n",
    "from sklearn.metrics import confusion_matrix\n",
    "from sklearn.metrics import precision_score, recall_score,f1_score\n",
    "from sklearn.model_selection import train_test_split\n",
    "#import tensorflow as tf\n",
    "from sklearn.metrics import roc_auc_score\n",
    "import six\n",
    "import sys\n",
    "sys.modules['sklearn.externals.six'] = six\n",
    "from sklearn import preprocessing"
   ]
  },
  {
   "cell_type": "code",
   "execution_count": 2,
   "id": "29ea1352-cfd7-42e8-a593-712349dc35b1",
   "metadata": {},
   "outputs": [],
   "source": [
    "import numpy as np\n",
    "import matplotlib.pyplot as plt\n",
    "from itertools import cycle\n",
    "\n",
    "from sklearn import svm, datasets\n",
    "from sklearn.metrics import roc_curve, auc\n",
    "from sklearn.model_selection import train_test_split\n",
    "from sklearn.preprocessing import label_binarize\n",
    "from sklearn.multiclass import OneVsRestClassifier\n",
    "from sklearn.metrics import roc_auc_score\n",
    "from joblib import Parallel, delayed\n",
    "import joblib"
   ]
  },
  {
   "cell_type": "code",
   "execution_count": 3,
   "id": "c9f0db44-a66c-41c6-9710-bde7d814303f",
   "metadata": {},
   "outputs": [
    {
     "data": {
      "text/html": [
       "<div>\n",
       "<style scoped>\n",
       "    .dataframe tbody tr th:only-of-type {\n",
       "        vertical-align: middle;\n",
       "    }\n",
       "\n",
       "    .dataframe tbody tr th {\n",
       "        vertical-align: top;\n",
       "    }\n",
       "\n",
       "    .dataframe thead th {\n",
       "        text-align: right;\n",
       "    }\n",
       "</style>\n",
       "<table border=\"1\" class=\"dataframe\">\n",
       "  <thead>\n",
       "    <tr style=\"text-align: right;\">\n",
       "      <th></th>\n",
       "      <th>id</th>\n",
       "      <th>dur</th>\n",
       "      <th>proto</th>\n",
       "      <th>service</th>\n",
       "      <th>state</th>\n",
       "      <th>spkts</th>\n",
       "      <th>dpkts</th>\n",
       "      <th>sbytes</th>\n",
       "      <th>dbytes</th>\n",
       "      <th>rate</th>\n",
       "      <th>...</th>\n",
       "      <th>ct_dst_sport_ltm</th>\n",
       "      <th>ct_dst_src_ltm</th>\n",
       "      <th>is_ftp_login</th>\n",
       "      <th>ct_ftp_cmd</th>\n",
       "      <th>ct_flw_http_mthd</th>\n",
       "      <th>ct_src_ltm</th>\n",
       "      <th>ct_srv_dst</th>\n",
       "      <th>is_sm_ips_ports</th>\n",
       "      <th>attack_cat</th>\n",
       "      <th>label</th>\n",
       "    </tr>\n",
       "  </thead>\n",
       "  <tbody>\n",
       "    <tr>\n",
       "      <th>0</th>\n",
       "      <td>1</td>\n",
       "      <td>0.121478</td>\n",
       "      <td>tcp</td>\n",
       "      <td>-</td>\n",
       "      <td>FIN</td>\n",
       "      <td>6</td>\n",
       "      <td>4</td>\n",
       "      <td>258</td>\n",
       "      <td>172</td>\n",
       "      <td>74.087490</td>\n",
       "      <td>...</td>\n",
       "      <td>1</td>\n",
       "      <td>1</td>\n",
       "      <td>0</td>\n",
       "      <td>0</td>\n",
       "      <td>0</td>\n",
       "      <td>1</td>\n",
       "      <td>1</td>\n",
       "      <td>0</td>\n",
       "      <td>Normal</td>\n",
       "      <td>0</td>\n",
       "    </tr>\n",
       "    <tr>\n",
       "      <th>1</th>\n",
       "      <td>2</td>\n",
       "      <td>0.649902</td>\n",
       "      <td>tcp</td>\n",
       "      <td>-</td>\n",
       "      <td>FIN</td>\n",
       "      <td>14</td>\n",
       "      <td>38</td>\n",
       "      <td>734</td>\n",
       "      <td>42014</td>\n",
       "      <td>78.473372</td>\n",
       "      <td>...</td>\n",
       "      <td>1</td>\n",
       "      <td>2</td>\n",
       "      <td>0</td>\n",
       "      <td>0</td>\n",
       "      <td>0</td>\n",
       "      <td>1</td>\n",
       "      <td>6</td>\n",
       "      <td>0</td>\n",
       "      <td>Normal</td>\n",
       "      <td>0</td>\n",
       "    </tr>\n",
       "    <tr>\n",
       "      <th>2</th>\n",
       "      <td>3</td>\n",
       "      <td>1.623129</td>\n",
       "      <td>tcp</td>\n",
       "      <td>-</td>\n",
       "      <td>FIN</td>\n",
       "      <td>8</td>\n",
       "      <td>16</td>\n",
       "      <td>364</td>\n",
       "      <td>13186</td>\n",
       "      <td>14.170161</td>\n",
       "      <td>...</td>\n",
       "      <td>1</td>\n",
       "      <td>3</td>\n",
       "      <td>0</td>\n",
       "      <td>0</td>\n",
       "      <td>0</td>\n",
       "      <td>2</td>\n",
       "      <td>6</td>\n",
       "      <td>0</td>\n",
       "      <td>Normal</td>\n",
       "      <td>0</td>\n",
       "    </tr>\n",
       "    <tr>\n",
       "      <th>3</th>\n",
       "      <td>4</td>\n",
       "      <td>1.681642</td>\n",
       "      <td>tcp</td>\n",
       "      <td>ftp</td>\n",
       "      <td>FIN</td>\n",
       "      <td>12</td>\n",
       "      <td>12</td>\n",
       "      <td>628</td>\n",
       "      <td>770</td>\n",
       "      <td>13.677108</td>\n",
       "      <td>...</td>\n",
       "      <td>1</td>\n",
       "      <td>3</td>\n",
       "      <td>1</td>\n",
       "      <td>1</td>\n",
       "      <td>0</td>\n",
       "      <td>2</td>\n",
       "      <td>1</td>\n",
       "      <td>0</td>\n",
       "      <td>Normal</td>\n",
       "      <td>0</td>\n",
       "    </tr>\n",
       "    <tr>\n",
       "      <th>4</th>\n",
       "      <td>5</td>\n",
       "      <td>0.449454</td>\n",
       "      <td>tcp</td>\n",
       "      <td>-</td>\n",
       "      <td>FIN</td>\n",
       "      <td>10</td>\n",
       "      <td>6</td>\n",
       "      <td>534</td>\n",
       "      <td>268</td>\n",
       "      <td>33.373826</td>\n",
       "      <td>...</td>\n",
       "      <td>1</td>\n",
       "      <td>40</td>\n",
       "      <td>0</td>\n",
       "      <td>0</td>\n",
       "      <td>0</td>\n",
       "      <td>2</td>\n",
       "      <td>39</td>\n",
       "      <td>0</td>\n",
       "      <td>Normal</td>\n",
       "      <td>0</td>\n",
       "    </tr>\n",
       "    <tr>\n",
       "      <th>...</th>\n",
       "      <td>...</td>\n",
       "      <td>...</td>\n",
       "      <td>...</td>\n",
       "      <td>...</td>\n",
       "      <td>...</td>\n",
       "      <td>...</td>\n",
       "      <td>...</td>\n",
       "      <td>...</td>\n",
       "      <td>...</td>\n",
       "      <td>...</td>\n",
       "      <td>...</td>\n",
       "      <td>...</td>\n",
       "      <td>...</td>\n",
       "      <td>...</td>\n",
       "      <td>...</td>\n",
       "      <td>...</td>\n",
       "      <td>...</td>\n",
       "      <td>...</td>\n",
       "      <td>...</td>\n",
       "      <td>...</td>\n",
       "      <td>...</td>\n",
       "    </tr>\n",
       "    <tr>\n",
       "      <th>257668</th>\n",
       "      <td>82328</td>\n",
       "      <td>0.000005</td>\n",
       "      <td>udp</td>\n",
       "      <td>-</td>\n",
       "      <td>INT</td>\n",
       "      <td>2</td>\n",
       "      <td>0</td>\n",
       "      <td>104</td>\n",
       "      <td>0</td>\n",
       "      <td>200000.005100</td>\n",
       "      <td>...</td>\n",
       "      <td>1</td>\n",
       "      <td>2</td>\n",
       "      <td>0</td>\n",
       "      <td>0</td>\n",
       "      <td>0</td>\n",
       "      <td>2</td>\n",
       "      <td>1</td>\n",
       "      <td>0</td>\n",
       "      <td>Normal</td>\n",
       "      <td>0</td>\n",
       "    </tr>\n",
       "    <tr>\n",
       "      <th>257669</th>\n",
       "      <td>82329</td>\n",
       "      <td>1.106101</td>\n",
       "      <td>tcp</td>\n",
       "      <td>-</td>\n",
       "      <td>FIN</td>\n",
       "      <td>20</td>\n",
       "      <td>8</td>\n",
       "      <td>18062</td>\n",
       "      <td>354</td>\n",
       "      <td>24.410067</td>\n",
       "      <td>...</td>\n",
       "      <td>1</td>\n",
       "      <td>1</td>\n",
       "      <td>0</td>\n",
       "      <td>0</td>\n",
       "      <td>0</td>\n",
       "      <td>3</td>\n",
       "      <td>2</td>\n",
       "      <td>0</td>\n",
       "      <td>Normal</td>\n",
       "      <td>0</td>\n",
       "    </tr>\n",
       "    <tr>\n",
       "      <th>257670</th>\n",
       "      <td>82330</td>\n",
       "      <td>0.000000</td>\n",
       "      <td>arp</td>\n",
       "      <td>-</td>\n",
       "      <td>INT</td>\n",
       "      <td>1</td>\n",
       "      <td>0</td>\n",
       "      <td>46</td>\n",
       "      <td>0</td>\n",
       "      <td>0.000000</td>\n",
       "      <td>...</td>\n",
       "      <td>1</td>\n",
       "      <td>1</td>\n",
       "      <td>0</td>\n",
       "      <td>0</td>\n",
       "      <td>0</td>\n",
       "      <td>1</td>\n",
       "      <td>1</td>\n",
       "      <td>1</td>\n",
       "      <td>Normal</td>\n",
       "      <td>0</td>\n",
       "    </tr>\n",
       "    <tr>\n",
       "      <th>257671</th>\n",
       "      <td>82331</td>\n",
       "      <td>0.000000</td>\n",
       "      <td>arp</td>\n",
       "      <td>-</td>\n",
       "      <td>INT</td>\n",
       "      <td>1</td>\n",
       "      <td>0</td>\n",
       "      <td>46</td>\n",
       "      <td>0</td>\n",
       "      <td>0.000000</td>\n",
       "      <td>...</td>\n",
       "      <td>1</td>\n",
       "      <td>1</td>\n",
       "      <td>0</td>\n",
       "      <td>0</td>\n",
       "      <td>0</td>\n",
       "      <td>1</td>\n",
       "      <td>1</td>\n",
       "      <td>1</td>\n",
       "      <td>Normal</td>\n",
       "      <td>0</td>\n",
       "    </tr>\n",
       "    <tr>\n",
       "      <th>257672</th>\n",
       "      <td>82332</td>\n",
       "      <td>0.000009</td>\n",
       "      <td>udp</td>\n",
       "      <td>-</td>\n",
       "      <td>INT</td>\n",
       "      <td>2</td>\n",
       "      <td>0</td>\n",
       "      <td>104</td>\n",
       "      <td>0</td>\n",
       "      <td>111111.107200</td>\n",
       "      <td>...</td>\n",
       "      <td>1</td>\n",
       "      <td>1</td>\n",
       "      <td>0</td>\n",
       "      <td>0</td>\n",
       "      <td>0</td>\n",
       "      <td>1</td>\n",
       "      <td>1</td>\n",
       "      <td>0</td>\n",
       "      <td>Normal</td>\n",
       "      <td>0</td>\n",
       "    </tr>\n",
       "  </tbody>\n",
       "</table>\n",
       "<p>257673 rows × 45 columns</p>\n",
       "</div>"
      ],
      "text/plain": [
       "           id       dur proto service state  spkts  dpkts  sbytes  dbytes  \\\n",
       "0           1  0.121478   tcp       -   FIN      6      4     258     172   \n",
       "1           2  0.649902   tcp       -   FIN     14     38     734   42014   \n",
       "2           3  1.623129   tcp       -   FIN      8     16     364   13186   \n",
       "3           4  1.681642   tcp     ftp   FIN     12     12     628     770   \n",
       "4           5  0.449454   tcp       -   FIN     10      6     534     268   \n",
       "...       ...       ...   ...     ...   ...    ...    ...     ...     ...   \n",
       "257668  82328  0.000005   udp       -   INT      2      0     104       0   \n",
       "257669  82329  1.106101   tcp       -   FIN     20      8   18062     354   \n",
       "257670  82330  0.000000   arp       -   INT      1      0      46       0   \n",
       "257671  82331  0.000000   arp       -   INT      1      0      46       0   \n",
       "257672  82332  0.000009   udp       -   INT      2      0     104       0   \n",
       "\n",
       "                 rate  ...  ct_dst_sport_ltm  ct_dst_src_ltm  is_ftp_login  \\\n",
       "0           74.087490  ...                 1               1             0   \n",
       "1           78.473372  ...                 1               2             0   \n",
       "2           14.170161  ...                 1               3             0   \n",
       "3           13.677108  ...                 1               3             1   \n",
       "4           33.373826  ...                 1              40             0   \n",
       "...               ...  ...               ...             ...           ...   \n",
       "257668  200000.005100  ...                 1               2             0   \n",
       "257669      24.410067  ...                 1               1             0   \n",
       "257670       0.000000  ...                 1               1             0   \n",
       "257671       0.000000  ...                 1               1             0   \n",
       "257672  111111.107200  ...                 1               1             0   \n",
       "\n",
       "        ct_ftp_cmd  ct_flw_http_mthd  ct_src_ltm  ct_srv_dst  is_sm_ips_ports  \\\n",
       "0                0                 0           1           1                0   \n",
       "1                0                 0           1           6                0   \n",
       "2                0                 0           2           6                0   \n",
       "3                1                 0           2           1                0   \n",
       "4                0                 0           2          39                0   \n",
       "...            ...               ...         ...         ...              ...   \n",
       "257668           0                 0           2           1                0   \n",
       "257669           0                 0           3           2                0   \n",
       "257670           0                 0           1           1                1   \n",
       "257671           0                 0           1           1                1   \n",
       "257672           0                 0           1           1                0   \n",
       "\n",
       "        attack_cat  label  \n",
       "0           Normal      0  \n",
       "1           Normal      0  \n",
       "2           Normal      0  \n",
       "3           Normal      0  \n",
       "4           Normal      0  \n",
       "...            ...    ...  \n",
       "257668      Normal      0  \n",
       "257669      Normal      0  \n",
       "257670      Normal      0  \n",
       "257671      Normal      0  \n",
       "257672      Normal      0  \n",
       "\n",
       "[257673 rows x 45 columns]"
      ]
     },
     "execution_count": 3,
     "metadata": {},
     "output_type": "execute_result"
    }
   ],
   "source": [
    "df = pd.read_csv(\"C__Users_Bob_Desktop_my_data.csv\")\n",
    "df"
   ]
  },
  {
   "cell_type": "code",
   "execution_count": 4,
   "id": "e19c8dfa-536f-488d-9d34-6b91e1f0ad74",
   "metadata": {},
   "outputs": [],
   "source": [
    "from sklearn.utils import shuffle\n",
    "df = shuffle(df,random_state=50)"
   ]
  },
  {
   "cell_type": "code",
   "execution_count": 5,
   "id": "f0d010e2-8425-46bf-a42a-65705f93b070",
   "metadata": {},
   "outputs": [
    {
     "data": {
      "text/plain": [
       "array([ 2,  4,  5,  7,  9,  8,  3,  0,  6, 10,  1])"
      ]
     },
     "execution_count": 5,
     "metadata": {},
     "output_type": "execute_result"
    }
   ],
   "source": [
    "from sklearn import preprocessing\n",
    "  \n",
    "# label_encoder object knows how to understand word labels.\n",
    "label_encoder1 = preprocessing.LabelEncoder()\n",
    "df['proto']= label_encoder1.fit_transform(df['proto'])\n",
    "  \n",
    "df['proto'].unique()\n",
    "label_encoder2 = preprocessing.LabelEncoder()\n",
    "df['attack_cat']= label_encoder2.fit_transform(df['attack_cat'])\n",
    "  \n",
    "df['attack_cat'].unique()\n",
    "\n",
    "label_encoder3 = preprocessing.LabelEncoder()\n",
    "df['service']= label_encoder3.fit_transform(df['service'])\n",
    "  \n",
    "df['service'].unique()\n",
    "label_encoder4 = preprocessing.LabelEncoder()\n",
    "df['state']= label_encoder4.fit_transform(df['state'])\n",
    "  \n",
    "df['state'].unique()"
   ]
  },
  {
   "cell_type": "code",
   "execution_count": 6,
   "id": "d4021b9c-a800-4991-ad4b-02757fcae66b",
   "metadata": {},
   "outputs": [],
   "source": [
    "y=df['label']\n",
    "#y1=df.iloc[:,-1]\n",
    "x_k=df.drop(['label','attack_cat','id','dwin','sloss','stcpb','dtcpb','swin','response_body_len','ct_flw_http_mthd','trans_depth','is_sm_ips_ports','is_ftp_login','ct_ftp_cmd'],axis=1)\n",
    "#y= df['attack_cat']"
   ]
  },
  {
   "cell_type": "code",
   "execution_count": 7,
   "id": "a5fcf543-0e2e-4f1d-beb3-b600783863de",
   "metadata": {},
   "outputs": [
    {
     "data": {
      "text/html": [
       "<div>\n",
       "<style scoped>\n",
       "    .dataframe tbody tr th:only-of-type {\n",
       "        vertical-align: middle;\n",
       "    }\n",
       "\n",
       "    .dataframe tbody tr th {\n",
       "        vertical-align: top;\n",
       "    }\n",
       "\n",
       "    .dataframe thead th {\n",
       "        text-align: right;\n",
       "    }\n",
       "</style>\n",
       "<table border=\"1\" class=\"dataframe\">\n",
       "  <thead>\n",
       "    <tr style=\"text-align: right;\">\n",
       "      <th></th>\n",
       "      <th>0</th>\n",
       "      <th>1</th>\n",
       "      <th>2</th>\n",
       "      <th>3</th>\n",
       "      <th>4</th>\n",
       "      <th>5</th>\n",
       "      <th>6</th>\n",
       "      <th>7</th>\n",
       "      <th>8</th>\n",
       "      <th>9</th>\n",
       "      <th>...</th>\n",
       "      <th>21</th>\n",
       "      <th>22</th>\n",
       "      <th>23</th>\n",
       "      <th>24</th>\n",
       "      <th>25</th>\n",
       "      <th>26</th>\n",
       "      <th>27</th>\n",
       "      <th>28</th>\n",
       "      <th>29</th>\n",
       "      <th>30</th>\n",
       "    </tr>\n",
       "  </thead>\n",
       "  <tbody>\n",
       "    <tr>\n",
       "      <th>0</th>\n",
       "      <td>2.881667e-05</td>\n",
       "      <td>0.901515</td>\n",
       "      <td>0.000000</td>\n",
       "      <td>0.2</td>\n",
       "      <td>0.000282</td>\n",
       "      <td>0.000363</td>\n",
       "      <td>0.000035</td>\n",
       "      <td>0.000021</td>\n",
       "      <td>0.004049</td>\n",
       "      <td>0.121569</td>\n",
       "      <td>...</td>\n",
       "      <td>0.071622</td>\n",
       "      <td>0.050667</td>\n",
       "      <td>0.161290</td>\n",
       "      <td>0.000000</td>\n",
       "      <td>0.034483</td>\n",
       "      <td>0.000000</td>\n",
       "      <td>0.000000</td>\n",
       "      <td>0.031250</td>\n",
       "      <td>0.067797</td>\n",
       "      <td>0.081967</td>\n",
       "    </tr>\n",
       "    <tr>\n",
       "      <th>1</th>\n",
       "      <td>3.751644e-02</td>\n",
       "      <td>0.856061</td>\n",
       "      <td>0.750000</td>\n",
       "      <td>0.4</td>\n",
       "      <td>0.008361</td>\n",
       "      <td>0.002723</td>\n",
       "      <td>0.006857</td>\n",
       "      <td>0.000153</td>\n",
       "      <td>0.000053</td>\n",
       "      <td>0.243137</td>\n",
       "      <td>...</td>\n",
       "      <td>0.722973</td>\n",
       "      <td>0.050000</td>\n",
       "      <td>0.000000</td>\n",
       "      <td>0.166667</td>\n",
       "      <td>0.000000</td>\n",
       "      <td>0.000000</td>\n",
       "      <td>0.000000</td>\n",
       "      <td>0.000000</td>\n",
       "      <td>0.000000</td>\n",
       "      <td>0.000000</td>\n",
       "    </tr>\n",
       "    <tr>\n",
       "      <th>2</th>\n",
       "      <td>3.369212e-02</td>\n",
       "      <td>0.856061</td>\n",
       "      <td>0.000000</td>\n",
       "      <td>0.2</td>\n",
       "      <td>0.000470</td>\n",
       "      <td>0.000182</td>\n",
       "      <td>0.000069</td>\n",
       "      <td>0.000006</td>\n",
       "      <td>0.000003</td>\n",
       "      <td>0.243137</td>\n",
       "      <td>...</td>\n",
       "      <td>0.097973</td>\n",
       "      <td>0.028667</td>\n",
       "      <td>0.016129</td>\n",
       "      <td>0.500000</td>\n",
       "      <td>0.034483</td>\n",
       "      <td>0.000000</td>\n",
       "      <td>0.000000</td>\n",
       "      <td>0.000000</td>\n",
       "      <td>0.000000</td>\n",
       "      <td>0.032787</td>\n",
       "    </tr>\n",
       "    <tr>\n",
       "      <th>3</th>\n",
       "      <td>5.000001e-08</td>\n",
       "      <td>0.901515</td>\n",
       "      <td>0.166667</td>\n",
       "      <td>0.5</td>\n",
       "      <td>0.000094</td>\n",
       "      <td>0.000000</td>\n",
       "      <td>0.000006</td>\n",
       "      <td>0.000000</td>\n",
       "      <td>0.333333</td>\n",
       "      <td>0.996078</td>\n",
       "      <td>...</td>\n",
       "      <td>0.022297</td>\n",
       "      <td>0.000000</td>\n",
       "      <td>0.467742</td>\n",
       "      <td>0.333333</td>\n",
       "      <td>0.068966</td>\n",
       "      <td>0.068966</td>\n",
       "      <td>0.088889</td>\n",
       "      <td>0.453125</td>\n",
       "      <td>0.084746</td>\n",
       "      <td>0.475410</td>\n",
       "    </tr>\n",
       "    <tr>\n",
       "      <th>4</th>\n",
       "      <td>2.057985e-02</td>\n",
       "      <td>0.856061</td>\n",
       "      <td>0.416667</td>\n",
       "      <td>0.4</td>\n",
       "      <td>0.001221</td>\n",
       "      <td>0.001634</td>\n",
       "      <td>0.000116</td>\n",
       "      <td>0.000694</td>\n",
       "      <td>0.000025</td>\n",
       "      <td>0.121569</td>\n",
       "      <td>...</td>\n",
       "      <td>0.064865</td>\n",
       "      <td>0.376667</td>\n",
       "      <td>0.016129</td>\n",
       "      <td>0.000000</td>\n",
       "      <td>0.103448</td>\n",
       "      <td>0.000000</td>\n",
       "      <td>0.000000</td>\n",
       "      <td>0.000000</td>\n",
       "      <td>0.033898</td>\n",
       "      <td>0.016393</td>\n",
       "    </tr>\n",
       "  </tbody>\n",
       "</table>\n",
       "<p>5 rows × 31 columns</p>\n",
       "</div>"
      ],
      "text/plain": [
       "             0         1         2    3         4         5         6   \\\n",
       "0  2.881667e-05  0.901515  0.000000  0.2  0.000282  0.000363  0.000035   \n",
       "1  3.751644e-02  0.856061  0.750000  0.4  0.008361  0.002723  0.006857   \n",
       "2  3.369212e-02  0.856061  0.000000  0.2  0.000470  0.000182  0.000069   \n",
       "3  5.000001e-08  0.901515  0.166667  0.5  0.000094  0.000000  0.000006   \n",
       "4  2.057985e-02  0.856061  0.416667  0.4  0.001221  0.001634  0.000116   \n",
       "\n",
       "         7         8         9   ...        21        22        23        24  \\\n",
       "0  0.000021  0.004049  0.121569  ...  0.071622  0.050667  0.161290  0.000000   \n",
       "1  0.000153  0.000053  0.243137  ...  0.722973  0.050000  0.000000  0.166667   \n",
       "2  0.000006  0.000003  0.243137  ...  0.097973  0.028667  0.016129  0.500000   \n",
       "3  0.000000  0.333333  0.996078  ...  0.022297  0.000000  0.467742  0.333333   \n",
       "4  0.000694  0.000025  0.121569  ...  0.064865  0.376667  0.016129  0.000000   \n",
       "\n",
       "         25        26        27        28        29        30  \n",
       "0  0.034483  0.000000  0.000000  0.031250  0.067797  0.081967  \n",
       "1  0.000000  0.000000  0.000000  0.000000  0.000000  0.000000  \n",
       "2  0.034483  0.000000  0.000000  0.000000  0.000000  0.032787  \n",
       "3  0.068966  0.068966  0.088889  0.453125  0.084746  0.475410  \n",
       "4  0.103448  0.000000  0.000000  0.000000  0.033898  0.016393  \n",
       "\n",
       "[5 rows x 31 columns]"
      ]
     },
     "execution_count": 7,
     "metadata": {},
     "output_type": "execute_result"
    }
   ],
   "source": [
    "from sklearn import preprocessing\n",
    "from sklearn.preprocessing import MinMaxScaler\n",
    "sc = MinMaxScaler()\n",
    "x_k_1= sc.fit_transform(x_k)\n",
    "\n",
    "x = pd.DataFrame(x_k_1)\n",
    "\n",
    "x.head()"
   ]
  },
  {
   "cell_type": "code",
   "execution_count": 8,
   "id": "20d9092e-5137-4965-937f-6620a25bf50f",
   "metadata": {},
   "outputs": [
    {
     "data": {
      "text/plain": [
       "200566    0\n",
       "226191    1\n",
       "245537    0\n",
       "198365    1\n",
       "200520    0\n",
       "Name: label, dtype: int64"
      ]
     },
     "execution_count": 8,
     "metadata": {},
     "output_type": "execute_result"
    }
   ],
   "source": [
    "y.head()"
   ]
  },
  {
   "cell_type": "code",
   "execution_count": 9,
   "id": "c58c0736-a962-47e1-9672-3d2f7f2a1145",
   "metadata": {},
   "outputs": [],
   "source": [
    "X_train, X_test, y_train, y_test = train_test_split(x, y, test_size=0.2, random_state=946,stratify=y)"
   ]
  },
  {
   "cell_type": "code",
   "execution_count": 11,
   "id": "d94ddb27-965b-46aa-ae4c-05d21001d660",
   "metadata": {},
   "outputs": [],
   "source": [
    "from sklearn.naive_bayes import GaussianNB\n",
    "Gnb = GaussianNB()"
   ]
  },
  {
   "cell_type": "code",
   "execution_count": 12,
   "id": "d306db7a-26d2-4dd9-ac54-beb82f3b2b9b",
   "metadata": {},
   "outputs": [
    {
     "data": {
      "text/plain": [
       "GaussianNB()"
      ]
     },
     "execution_count": 12,
     "metadata": {},
     "output_type": "execute_result"
    }
   ],
   "source": [
    "Gnb.fit(X_train,y_train)"
   ]
  },
  {
   "cell_type": "code",
   "execution_count": 13,
   "id": "d93a33ac-6b9e-44dc-86fe-20f73b11b204",
   "metadata": {},
   "outputs": [
    {
     "data": {
      "text/plain": [
       "['UNSW_GaussianNaiveBayes_zero_HyperParameter_Binary.pkl']"
      ]
     },
     "execution_count": 13,
     "metadata": {},
     "output_type": "execute_result"
    }
   ],
   "source": [
    "joblib.dump(Gnb, 'UNSW_GaussianNaiveBayes_zero_HyperParameter_Binary.pkl')"
   ]
  },
  {
   "cell_type": "code",
   "execution_count": 14,
   "id": "4a33305d-3476-48ff-8e81-938b617fe86d",
   "metadata": {},
   "outputs": [],
   "source": [
    "from sklearn.ensemble import RandomForestClassifier\n",
    "RF = RandomForestClassifier()"
   ]
  },
  {
   "cell_type": "code",
   "execution_count": 15,
   "id": "de5603b9-79d0-45aa-8b8b-6adaf582fd13",
   "metadata": {},
   "outputs": [
    {
     "data": {
      "text/plain": [
       "RandomForestClassifier()"
      ]
     },
     "execution_count": 15,
     "metadata": {},
     "output_type": "execute_result"
    }
   ],
   "source": [
    "RF.fit(X_train,y_train)"
   ]
  },
  {
   "cell_type": "code",
   "execution_count": 16,
   "id": "ce5c184e-1b5a-4f89-ac24-c165450b41db",
   "metadata": {},
   "outputs": [
    {
     "data": {
      "text/plain": [
       "['UNSW_RandomForestClassifier_zero_HyperParameter_Binary.pkl']"
      ]
     },
     "execution_count": 16,
     "metadata": {},
     "output_type": "execute_result"
    }
   ],
   "source": [
    "joblib.dump(RF, 'UNSW_RandomForestClassifier_zero_HyperParameter_Binary.pkl')"
   ]
  },
  {
   "cell_type": "code",
   "execution_count": 19,
   "id": "b5e91b77-a473-4169-8d89-03dc1ca7357a",
   "metadata": {},
   "outputs": [],
   "source": [
    "from sklearn.linear_model import LogisticRegression\n",
    "Lr = LogisticRegression(max_iter=1000)"
   ]
  },
  {
   "cell_type": "code",
   "execution_count": 20,
   "id": "b6e8bec5-1cde-4597-a4ac-8f5f7d69acde",
   "metadata": {},
   "outputs": [
    {
     "data": {
      "text/plain": [
       "LogisticRegression(max_iter=1000)"
      ]
     },
     "execution_count": 20,
     "metadata": {},
     "output_type": "execute_result"
    }
   ],
   "source": [
    "Lr.fit(X_train,y_train)"
   ]
  },
  {
   "cell_type": "code",
   "execution_count": 21,
   "id": "94348eb9-0e29-48ea-b53c-965844657a4a",
   "metadata": {},
   "outputs": [
    {
     "data": {
      "text/plain": [
       "['UNSW_LogisticRegression_zero_HyperParameter_binary.pkl']"
      ]
     },
     "execution_count": 21,
     "metadata": {},
     "output_type": "execute_result"
    }
   ],
   "source": [
    "joblib.dump(Lr, 'UNSW_LogisticRegression_zero_HyperParameter_binary.pkl')"
   ]
  },
  {
   "cell_type": "code",
   "execution_count": 22,
   "id": "6133dd8a-9aff-4bfa-8520-e1d0d0f5c9ba",
   "metadata": {},
   "outputs": [],
   "source": [
    "from sklearn.neighbors import KNeighborsClassifier\n",
    "Knn = KNeighborsClassifier()"
   ]
  },
  {
   "cell_type": "code",
   "execution_count": 23,
   "id": "37f24663-9d02-494a-8457-ae76e47e75ec",
   "metadata": {},
   "outputs": [
    {
     "data": {
      "text/plain": [
       "KNeighborsClassifier()"
      ]
     },
     "execution_count": 23,
     "metadata": {},
     "output_type": "execute_result"
    }
   ],
   "source": [
    "Knn.fit(X_train,y_train)"
   ]
  },
  {
   "cell_type": "code",
   "execution_count": 24,
   "id": "e274f86b-5ae8-4b6a-b20b-0d7ea40ae9ad",
   "metadata": {},
   "outputs": [
    {
     "data": {
      "text/plain": [
       "['UNSW_KNeighborsClassifier_zero_HyperParameter_binary.pkl']"
      ]
     },
     "execution_count": 24,
     "metadata": {},
     "output_type": "execute_result"
    }
   ],
   "source": [
    "joblib.dump(Knn, 'UNSW_KNeighborsClassifier_zero_HyperParameter_binary.pkl')"
   ]
  },
  {
   "cell_type": "code",
   "execution_count": 59,
   "id": "2cb2f6b4-d934-43bb-b128-acd406d1a874",
   "metadata": {},
   "outputs": [],
   "source": [
    "from sklearn.tree import DecisionTreeClassifier\n",
    "Dt = DecisionTreeClassifier()"
   ]
  },
  {
   "cell_type": "code",
   "execution_count": 60,
   "id": "9a0bc74d-0303-4d57-bbf6-0020c16a6922",
   "metadata": {},
   "outputs": [
    {
     "data": {
      "text/plain": [
       "DecisionTreeClassifier()"
      ]
     },
     "execution_count": 60,
     "metadata": {},
     "output_type": "execute_result"
    }
   ],
   "source": [
    "Dt.fit(X_train,y_train)"
   ]
  },
  {
   "cell_type": "code",
   "execution_count": 61,
   "id": "caf56205-98dc-4eff-a4f8-cc6fd9ff6a1d",
   "metadata": {},
   "outputs": [
    {
     "data": {
      "text/plain": [
       "['UNSW_DecisionTreeClassifier_zero_HyperParameter_binary.pkl']"
      ]
     },
     "execution_count": 61,
     "metadata": {},
     "output_type": "execute_result"
    }
   ],
   "source": [
    "joblib.dump(Dt, 'UNSW_DecisionTreeClassifier_zero_HyperParameter_binary.pkl')"
   ]
  },
  {
   "cell_type": "code",
   "execution_count": null,
   "id": "9c9778b0-d2bb-4d11-bf3c-967520d5c533",
   "metadata": {},
   "outputs": [],
   "source": []
  },
  {
   "cell_type": "code",
   "execution_count": null,
   "id": "de20292e-1da9-49f8-93f1-2190f8d5c1e2",
   "metadata": {},
   "outputs": [],
   "source": []
  },
  {
   "cell_type": "code",
   "execution_count": 10,
   "id": "e29660cc-4540-4858-9bd4-5e0461d66b3f",
   "metadata": {},
   "outputs": [],
   "source": [
    "from xgboost import XGBClassifier\n",
    "import xgboost as xgb"
   ]
  },
  {
   "cell_type": "code",
   "execution_count": 11,
   "id": "19f08287-d6aa-42dc-8a31-57836cf9fa32",
   "metadata": {},
   "outputs": [],
   "source": [
    "Xg = XGBClassifier()"
   ]
  },
  {
   "cell_type": "code",
   "execution_count": 12,
   "id": "f44750d1-eb83-4a0f-a15d-c25a05d08677",
   "metadata": {},
   "outputs": [
    {
     "data": {
      "text/plain": [
       "XGBClassifier(base_score=0.5, booster='gbtree', callbacks=None,\n",
       "              colsample_bylevel=1, colsample_bynode=1, colsample_bytree=1,\n",
       "              early_stopping_rounds=None, enable_categorical=False,\n",
       "              eval_metric=None, gamma=0, gpu_id=-1, grow_policy='depthwise',\n",
       "              importance_type=None, interaction_constraints='',\n",
       "              learning_rate=0.300000012, max_bin=256, max_cat_to_onehot=4,\n",
       "              max_delta_step=0, max_depth=6, max_leaves=0, min_child_weight=1,\n",
       "              missing=nan, monotone_constraints='()', n_estimators=100,\n",
       "              n_jobs=0, num_parallel_tree=1, predictor='auto', random_state=0,\n",
       "              reg_alpha=0, reg_lambda=1, ...)"
      ]
     },
     "execution_count": 12,
     "metadata": {},
     "output_type": "execute_result"
    }
   ],
   "source": [
    "Xg.fit(X_train,y_train)"
   ]
  },
  {
   "cell_type": "code",
   "execution_count": 13,
   "id": "dd455177-b73f-4304-b4c1-1b0e252a085c",
   "metadata": {},
   "outputs": [
    {
     "data": {
      "text/plain": [
       "['UNSW_XGBclassifer_Zero_HyperParameter_binary.pkl']"
      ]
     },
     "execution_count": 13,
     "metadata": {},
     "output_type": "execute_result"
    }
   ],
   "source": [
    "joblib.dump(Xg, 'UNSW_XGBclassifer_Zero_HyperParameter_binary.pkl')"
   ]
  },
  {
   "cell_type": "code",
   "execution_count": 25,
   "id": "19e6e3a4-5830-4cd7-ab12-2a70f10ab17e",
   "metadata": {},
   "outputs": [],
   "source": [
    "from sklearn.ensemble import AdaBoostClassifier\n",
    "Ada = AdaBoostClassifier()"
   ]
  },
  {
   "cell_type": "code",
   "execution_count": 26,
   "id": "6400c674-031b-4ae7-a466-62c2dbe51218",
   "metadata": {},
   "outputs": [
    {
     "data": {
      "text/plain": [
       "AdaBoostClassifier()"
      ]
     },
     "execution_count": 26,
     "metadata": {},
     "output_type": "execute_result"
    }
   ],
   "source": [
    "Ada.fit(X_train,y_train)"
   ]
  },
  {
   "cell_type": "code",
   "execution_count": 27,
   "id": "29412adc-8799-44ad-94dd-9ca8e55009dc",
   "metadata": {},
   "outputs": [
    {
     "data": {
      "text/plain": [
       "['UNSW_AdaBoostClassifier_Zero_HyperParameter_binary.pkl']"
      ]
     },
     "execution_count": 27,
     "metadata": {},
     "output_type": "execute_result"
    }
   ],
   "source": [
    "joblib.dump(Ada, 'UNSW_AdaBoostClassifier_Zero_HyperParameter_binary.pkl')"
   ]
  },
  {
   "cell_type": "code",
   "execution_count": 90,
   "id": "7a117350-917d-4f4b-be2f-402c014bda46",
   "metadata": {},
   "outputs": [],
   "source": [
    "from sklearn.ensemble import GradientBoostingClassifier\n",
    "gradboost=GradientBoostingClassifier()"
   ]
  },
  {
   "cell_type": "code",
   "execution_count": 91,
   "id": "9949e482-6b57-4a71-9e9f-7cba59b8110f",
   "metadata": {},
   "outputs": [
    {
     "data": {
      "text/plain": [
       "GradientBoostingClassifier()"
      ]
     },
     "execution_count": 91,
     "metadata": {},
     "output_type": "execute_result"
    }
   ],
   "source": [
    "gradboost.fit(X_train,y_train)"
   ]
  },
  {
   "cell_type": "code",
   "execution_count": 92,
   "id": "a742337b-64d5-4317-94d1-471a7049b724",
   "metadata": {},
   "outputs": [
    {
     "data": {
      "text/plain": [
       "['UNSW_GradientBoostingClassifier_Zero_HyperParameter_binary.pkl']"
      ]
     },
     "execution_count": 92,
     "metadata": {},
     "output_type": "execute_result"
    }
   ],
   "source": [
    "joblib.dump(gradboost,'UNSW_GradientBoostingClassifier_Zero_HyperParameter_binary.pkl')"
   ]
  },
  {
   "cell_type": "code",
   "execution_count": 32,
   "id": "9bcaac7c-a830-4e6b-a8ab-45d871a4eb65",
   "metadata": {},
   "outputs": [],
   "source": [
    "from sklearn.ensemble import ExtraTreesClassifier\n",
    "Ex_tree = ExtraTreesClassifier()"
   ]
  },
  {
   "cell_type": "code",
   "execution_count": 33,
   "id": "39ccc9d2-fb7d-4778-a81f-b693f30e36ac",
   "metadata": {},
   "outputs": [
    {
     "data": {
      "text/plain": [
       "ExtraTreesClassifier()"
      ]
     },
     "execution_count": 33,
     "metadata": {},
     "output_type": "execute_result"
    }
   ],
   "source": [
    "Ex_tree.fit(X_train,y_train)"
   ]
  },
  {
   "cell_type": "code",
   "execution_count": 34,
   "id": "7c1f7224-f745-41db-a747-4b38a7715da3",
   "metadata": {},
   "outputs": [
    {
     "data": {
      "text/plain": [
       "['UNSW_ExtraTreesClassifier_zero_HyperParameter_binary.pkl']"
      ]
     },
     "execution_count": 34,
     "metadata": {},
     "output_type": "execute_result"
    }
   ],
   "source": [
    "joblib.dump(Ex_tree, 'UNSW_ExtraTreesClassifier_zero_HyperParameter_binary.pkl')"
   ]
  },
  {
   "cell_type": "code",
   "execution_count": null,
   "id": "61980be6-72e0-460d-b15e-f90e8fb79fd1",
   "metadata": {},
   "outputs": [],
   "source": []
  },
  {
   "cell_type": "code",
   "execution_count": 19,
   "id": "5e55ed5d-f4db-4a6c-ba7a-30b54807505c",
   "metadata": {},
   "outputs": [],
   "source": [
    "def binary_roc_plotter(testX,testy,model,model_name):\n",
    "            yhat = model.predict_proba(testX)\n",
    "            # retrieve just the probabilities for the positive class\n",
    "            pos_probs = yhat[:, 1]\n",
    "            # plot no skill roc curve\n",
    "            plt.plot([0, 1], [0, 1], linestyle='--', label='No Skill')\n",
    "            # calculate roc curve for model\n",
    "            fpr, tpr, _ = roc_curve(testy, pos_probs)\n",
    "            # plot model roc curve\n",
    "            plt.plot(fpr, tpr, linestyle='--',label=model_name)\n",
    "            # axis labels\n",
    "            plt.xlabel('False Positive Rate')\n",
    "            plt.ylabel('True Positive Rate')\n",
    "            # show the legend\n",
    "            plt.legend()\n",
    "            # show the plot\n",
    "            plt.show()"
   ]
  },
  {
   "cell_type": "markdown",
   "id": "e543ec00-6555-417a-9ebd-037a2812180d",
   "metadata": {},
   "source": [
    "Testing GaussNB"
   ]
  },
  {
   "cell_type": "code",
   "execution_count": 36,
   "id": "de830b46-9349-4088-ad75-8f9fe5109851",
   "metadata": {},
   "outputs": [],
   "source": [
    "predict_gnb = Gnb.predict(X_test)"
   ]
  },
  {
   "cell_type": "code",
   "execution_count": 37,
   "id": "eef269e1-4908-4f4b-ba13-2ecd9baf2ef9",
   "metadata": {},
   "outputs": [
    {
     "data": {
      "text/plain": [
       "0.7625691277772387"
      ]
     },
     "execution_count": 37,
     "metadata": {},
     "output_type": "execute_result"
    }
   ],
   "source": [
    "Gnb.score(X_test,y_test)"
   ]
  },
  {
   "cell_type": "code",
   "execution_count": 16,
   "id": "03fcafc1-118c-4abd-9d17-7630c992fd68",
   "metadata": {},
   "outputs": [],
   "source": [
    "from sklearn.metrics import classification_report"
   ]
  },
  {
   "cell_type": "code",
   "execution_count": 39,
   "id": "babf32ec-9b82-49b6-b627-f6f5774f0da6",
   "metadata": {},
   "outputs": [
    {
     "name": "stdout",
     "output_type": "stream",
     "text": [
      "Classification Report: GaussNB \n",
      "               precision    recall  f1-score   support\n",
      "\n",
      "           0    0.61883   0.89091   0.73035     18600\n",
      "           1    0.91804   0.69009   0.78791     32935\n",
      "\n",
      "    accuracy                        0.76257     51535\n",
      "   macro avg    0.76844   0.79050   0.75913     51535\n",
      "weighted avg    0.81005   0.76257   0.76714     51535\n",
      "\n"
     ]
    }
   ],
   "source": [
    "print(\"Classification Report: GaussNB \\n\", classification_report(y_test, predict_gnb,digits=5))"
   ]
  },
  {
   "cell_type": "code",
   "execution_count": 40,
   "id": "b8c22b92-97d4-45bc-9d20-af9321839673",
   "metadata": {},
   "outputs": [
    {
     "data": {
      "image/png": "[encoded data removed]",
      "text/plain": [
       "<Figure size 432x288 with 1 Axes>"
      ]
     },
     "metadata": {
      "needs_background": "light"
     },
     "output_type": "display_data"
    }
   ],
   "source": [
    "binary_roc_plotter(X_test,y_test,Gnb,'GausianNB')"
   ]
  },
  {
   "cell_type": "code",
   "execution_count": 41,
   "id": "26cb01d7-2856-4c36-81d0-5684d05ffa5e",
   "metadata": {},
   "outputs": [
    {
     "data": {
      "text/plain": [
       "0.8893486249389886"
      ]
     },
     "execution_count": 41,
     "metadata": {},
     "output_type": "execute_result"
    }
   ],
   "source": [
    "roc_auc_score(y_test, Gnb.predict_proba(X_test)[:, 1])"
   ]
  },
  {
   "cell_type": "code",
   "execution_count": 48,
   "id": "bb8477cb-1a41-4a43-b2ce-63b3db42c593",
   "metadata": {},
   "outputs": [
    {
     "name": "stdout",
     "output_type": "stream",
     "text": [
      "Confusion Matrix: GaussNB_binary \n",
      " [[16571  2029]\n",
      " [10207 22728]]\n"
     ]
    }
   ],
   "source": [
    "from sklearn.metrics import confusion_matrix\n",
    "CM_GaussNB_binary = confusion_matrix(y_test,predict_gnb)\n",
    "print('Confusion Matrix: GaussNB_binary \\n',CM_GaussNB_binary)"
   ]
  },
  {
   "cell_type": "markdown",
   "id": "9be37e34-db5b-46be-b184-a4ff893ddb67",
   "metadata": {},
   "source": [
    "Testing Random Forest"
   ]
  },
  {
   "cell_type": "code",
   "execution_count": 43,
   "id": "7dee1ec1-b114-40f7-bf5b-ed4538d86138",
   "metadata": {},
   "outputs": [
    {
     "data": {
      "text/plain": [
       "0.9518385563209469"
      ]
     },
     "execution_count": 43,
     "metadata": {},
     "output_type": "execute_result"
    }
   ],
   "source": [
    "predict_RF = RF.predict(X_test)\n",
    "RF.score(X_test,y_test)"
   ]
  },
  {
   "cell_type": "code",
   "execution_count": 44,
   "id": "bb9d9909-c9a0-488b-af6d-acaad96169bb",
   "metadata": {},
   "outputs": [
    {
     "name": "stdout",
     "output_type": "stream",
     "text": [
      "Classification Report: Random Forest \n",
      "               precision    recall  f1-score   support\n",
      "\n",
      "           0    0.93170   0.93511   0.93340     18600\n",
      "           1    0.96328   0.96129   0.96228     32935\n",
      "\n",
      "    accuracy                        0.95184     51535\n",
      "   macro avg    0.94749   0.94820   0.94784     51535\n",
      "weighted avg    0.95188   0.95184   0.95186     51535\n",
      "\n"
     ]
    }
   ],
   "source": [
    "print(\"Classification Report: Random Forest \\n\", classification_report(y_test, predict_RF,digits=5))"
   ]
  },
  {
   "cell_type": "code",
   "execution_count": 45,
   "id": "895606cb-6157-43ff-b5ff-75fe9381743b",
   "metadata": {},
   "outputs": [
    {
     "data": {
      "image/png": "[encoded data removed]",
      "text/plain": [
       "<Figure size 432x288 with 1 Axes>"
      ]
     },
     "metadata": {
      "needs_background": "light"
     },
     "output_type": "display_data"
    }
   ],
   "source": [
    "binary_roc_plotter(X_test,y_test,RF,'RandomForest')"
   ]
  },
  {
   "cell_type": "code",
   "execution_count": 46,
   "id": "de18f410-83c5-4615-ac5a-7570a66403d9",
   "metadata": {},
   "outputs": [
    {
     "data": {
      "text/plain": [
       "0.9923052452615203"
      ]
     },
     "execution_count": 46,
     "metadata": {},
     "output_type": "execute_result"
    }
   ],
   "source": [
    "roc_auc_score(y_test, RF.predict_proba(X_test)[:, 1])"
   ]
  },
  {
   "cell_type": "code",
   "execution_count": 47,
   "id": "678aa1dd-f794-4949-b12c-a3328f7c7ba8",
   "metadata": {},
   "outputs": [
    {
     "name": "stdout",
     "output_type": "stream",
     "text": [
      "Confusion Matrix: Random Forest binary \n",
      " [[17393  1207]\n",
      " [ 1275 31660]]\n"
     ]
    }
   ],
   "source": [
    "from sklearn.metrics import confusion_matrix\n",
    "CM_RF_binary = confusion_matrix(y_test,predict_RF)\n",
    "print('Confusion Matrix: Random Forest binary \\n',CM_RF_binary)"
   ]
  },
  {
   "cell_type": "code",
   "execution_count": null,
   "id": "61e01b6a-91eb-4e42-baaf-8510613e0308",
   "metadata": {},
   "outputs": [],
   "source": []
  },
  {
   "cell_type": "code",
   "execution_count": 49,
   "id": "3eec317f-4264-4788-bcea-3aeb1c149447",
   "metadata": {},
   "outputs": [
    {
     "data": {
      "text/plain": [
       "0.8673328805666052"
      ]
     },
     "execution_count": 49,
     "metadata": {},
     "output_type": "execute_result"
    }
   ],
   "source": [
    "predict_lr = Lr.predict(X_test)\n",
    "Lr.score(X_test,y_test)"
   ]
  },
  {
   "cell_type": "code",
   "execution_count": 50,
   "id": "8f97ef8a-d29f-42f9-84a3-d49be3d89046",
   "metadata": {},
   "outputs": [
    {
     "name": "stdout",
     "output_type": "stream",
     "text": [
      "Classification Report: Logistic Regression \n",
      "               precision    recall  f1-score   support\n",
      "\n",
      "           0    0.90364   0.70790   0.79389     18600\n",
      "           1    0.85302   0.95737   0.90219     32935\n",
      "\n",
      "    accuracy                        0.86733     51535\n",
      "   macro avg    0.87833   0.83264   0.84804     51535\n",
      "weighted avg    0.87129   0.86733   0.86310     51535\n",
      "\n"
     ]
    }
   ],
   "source": [
    "print(\"Classification Report: Logistic Regression \\n\", classification_report(y_test, predict_lr,digits=5))"
   ]
  },
  {
   "cell_type": "code",
   "execution_count": 51,
   "id": "e6d3eeb5-52f7-4e1b-87ba-6b422e7b6b52",
   "metadata": {},
   "outputs": [
    {
     "data": {
      "image/png": "[encoded data removed]",
      "text/plain": [
       "<Figure size 432x288 with 1 Axes>"
      ]
     },
     "metadata": {
      "needs_background": "light"
     },
     "output_type": "display_data"
    }
   ],
   "source": [
    "binary_roc_plotter(X_test,y_test,Lr,'LogisticRegression')"
   ]
  },
  {
   "cell_type": "code",
   "execution_count": 52,
   "id": "b1d31839-9ff6-44a6-899d-fa58d29e977b",
   "metadata": {},
   "outputs": [
    {
     "data": {
      "text/plain": [
       "0.935092526661345"
      ]
     },
     "execution_count": 52,
     "metadata": {},
     "output_type": "execute_result"
    }
   ],
   "source": [
    "roc_auc_score(y_test, Lr.predict_proba(X_test)[:, 1])"
   ]
  },
  {
   "cell_type": "code",
   "execution_count": 53,
   "id": "f0f949ff-07c9-4cd2-97b8-0ebff9936797",
   "metadata": {},
   "outputs": [
    {
     "name": "stdout",
     "output_type": "stream",
     "text": [
      "Confusion Matrix: Logistic Regression binary \n",
      " [[13167  5433]\n",
      " [ 1404 31531]]\n"
     ]
    }
   ],
   "source": [
    "from sklearn.metrics import confusion_matrix\n",
    "CM_LR_binary = confusion_matrix(y_test,predict_lr)\n",
    "print('Confusion Matrix: Logistic Regression binary \\n',CM_LR_binary)"
   ]
  },
  {
   "cell_type": "code",
   "execution_count": null,
   "id": "42ef058c-daa2-44dc-9943-ee05e7bfd0b7",
   "metadata": {},
   "outputs": [],
   "source": []
  },
  {
   "cell_type": "code",
   "execution_count": 54,
   "id": "388cbd60-d5a0-43da-af81-5dce08611bba",
   "metadata": {},
   "outputs": [
    {
     "data": {
      "text/plain": [
       "0.936606189967983"
      ]
     },
     "execution_count": 54,
     "metadata": {},
     "output_type": "execute_result"
    }
   ],
   "source": [
    "predict_knn = Knn.predict(X_test)\n",
    "Knn.score(X_test,y_test)"
   ]
  },
  {
   "cell_type": "code",
   "execution_count": 55,
   "id": "0bf65310-55ed-4623-9a4e-42263716c827",
   "metadata": {},
   "outputs": [
    {
     "name": "stdout",
     "output_type": "stream",
     "text": [
      "Classification Report: KNN \n",
      "               precision    recall  f1-score   support\n",
      "\n",
      "           0    0.90925   0.91575   0.91249     18600\n",
      "           1    0.95223   0.94838   0.95030     32935\n",
      "\n",
      "    accuracy                        0.93661     51535\n",
      "   macro avg    0.93074   0.93207   0.93140     51535\n",
      "weighted avg    0.93672   0.93661   0.93665     51535\n",
      "\n"
     ]
    }
   ],
   "source": [
    "print(\"Classification Report: KNN \\n\", classification_report(y_test, predict_knn,digits=5))"
   ]
  },
  {
   "cell_type": "code",
   "execution_count": 56,
   "id": "0ab3b9e0-bfc8-4387-bec3-6ea411427e2d",
   "metadata": {},
   "outputs": [
    {
     "data": {
      "image/png": "[encoded data removed]",
      "text/plain": [
       "<Figure size 432x288 with 1 Axes>"
      ]
     },
     "metadata": {
      "needs_background": "light"
     },
     "output_type": "display_data"
    }
   ],
   "source": [
    "binary_roc_plotter(X_test,y_test,Knn,'KNN')"
   ]
  },
  {
   "cell_type": "code",
   "execution_count": 57,
   "id": "3df0e311-e54f-44cc-9358-20b002802f11",
   "metadata": {},
   "outputs": [
    {
     "data": {
      "text/plain": [
       "0.9795980613492525"
      ]
     },
     "execution_count": 57,
     "metadata": {},
     "output_type": "execute_result"
    }
   ],
   "source": [
    "roc_auc_score(y_test, Knn.predict_proba(X_test)[:, 1])"
   ]
  },
  {
   "cell_type": "code",
   "execution_count": 58,
   "id": "9877bf2f-b4f7-4c79-9318-c7710f3c90d6",
   "metadata": {},
   "outputs": [
    {
     "name": "stdout",
     "output_type": "stream",
     "text": [
      "Confusion Matrix: KNN binary \n",
      " [[17033  1567]\n",
      " [ 1700 31235]]\n"
     ]
    }
   ],
   "source": [
    "from sklearn.metrics import confusion_matrix\n",
    "CM_knn_binary = confusion_matrix(y_test,predict_knn)\n",
    "print('Confusion Matrix: KNN binary \\n',CM_knn_binary)"
   ]
  },
  {
   "cell_type": "code",
   "execution_count": null,
   "id": "a7b4ceb0-fbb3-486a-a364-bf7a7a1fe774",
   "metadata": {},
   "outputs": [],
   "source": []
  },
  {
   "cell_type": "code",
   "execution_count": 62,
   "id": "699c15b7-b52b-45ad-87d5-c8f1aab98cd0",
   "metadata": {},
   "outputs": [
    {
     "data": {
      "text/plain": [
       "0.9385660230911032"
      ]
     },
     "execution_count": 62,
     "metadata": {},
     "output_type": "execute_result"
    }
   ],
   "source": [
    "predict_dt = Dt.predict(X_test)\n",
    "Dt.score(X_test,y_test)"
   ]
  },
  {
   "cell_type": "code",
   "execution_count": 63,
   "id": "9fa97335-dcc3-4726-9c03-163b1d74da14",
   "metadata": {},
   "outputs": [
    {
     "name": "stdout",
     "output_type": "stream",
     "text": [
      "Classification Report: Decision Tree \n",
      "               precision    recall  f1-score   support\n",
      "\n",
      "           0    0.91512   0.91462   0.91487     18600\n",
      "           1    0.95180   0.95209   0.95194     32935\n",
      "\n",
      "    accuracy                        0.93857     51535\n",
      "   macro avg    0.93346   0.93336   0.93341     51535\n",
      "weighted avg    0.93856   0.93857   0.93856     51535\n",
      "\n"
     ]
    }
   ],
   "source": [
    "print(\"Classification Report: Decision Tree \\n\", classification_report(y_test, predict_dt,digits=5))"
   ]
  },
  {
   "cell_type": "code",
   "execution_count": 64,
   "id": "a4323d8f-7c61-4295-a45b-99d491895291",
   "metadata": {},
   "outputs": [
    {
     "data": {
      "image/png": "[encoded data removed]",
      "text/plain": [
       "<Figure size 432x288 with 1 Axes>"
      ]
     },
     "metadata": {
      "needs_background": "light"
     },
     "output_type": "display_data"
    }
   ],
   "source": [
    "binary_roc_plotter(X_test,y_test,Dt,'Decision Tree')"
   ]
  },
  {
   "cell_type": "code",
   "execution_count": 65,
   "id": "728a43bf-42e4-4bcb-8e05-9c1b5784fedb",
   "metadata": {},
   "outputs": [
    {
     "data": {
      "text/plain": [
       "0.9353926314621012"
      ]
     },
     "execution_count": 65,
     "metadata": {},
     "output_type": "execute_result"
    }
   ],
   "source": [
    "roc_auc_score(y_test, Dt.predict_proba(X_test)[:, 1])"
   ]
  },
  {
   "cell_type": "code",
   "execution_count": 66,
   "id": "71038d9d-ae7c-45ba-b9c5-73942bbbe25f",
   "metadata": {},
   "outputs": [
    {
     "name": "stdout",
     "output_type": "stream",
     "text": [
      "Confusion Matrix: Decision Tree binary \n",
      " [[17012  1588]\n",
      " [ 1578 31357]]\n"
     ]
    }
   ],
   "source": [
    "from sklearn.metrics import confusion_matrix\n",
    "CM_dt_binary = confusion_matrix(y_test,predict_dt)\n",
    "print('Confusion Matrix: Decision Tree binary \\n',CM_dt_binary)"
   ]
  },
  {
   "cell_type": "code",
   "execution_count": null,
   "id": "e0a9b457-3199-4dbc-af09-2b578f9827f4",
   "metadata": {},
   "outputs": [],
   "source": []
  },
  {
   "cell_type": "code",
   "execution_count": 67,
   "id": "e3e9c566-546d-4395-a0aa-9b6886b8fb19",
   "metadata": {},
   "outputs": [
    {
     "data": {
      "text/plain": [
       "0.9249054040943049"
      ]
     },
     "execution_count": 67,
     "metadata": {},
     "output_type": "execute_result"
    }
   ],
   "source": [
    "predict_ada = Ada.predict(X_test)\n",
    "Ada.score(X_test,y_test)"
   ]
  },
  {
   "cell_type": "code",
   "execution_count": 68,
   "id": "19be4e81-7d9b-4837-ba09-b56b3b161af2",
   "metadata": {},
   "outputs": [
    {
     "name": "stdout",
     "output_type": "stream",
     "text": [
      "Classification Report: Adaboost \n",
      "               precision    recall  f1-score   support\n",
      "\n",
      "           0    0.89571   0.89629   0.89600     18600\n",
      "           1    0.94141   0.94107   0.94124     32935\n",
      "\n",
      "    accuracy                        0.92491     51535\n",
      "   macro avg    0.91856   0.91868   0.91862     51535\n",
      "weighted avg    0.92492   0.92491   0.92491     51535\n",
      "\n"
     ]
    }
   ],
   "source": [
    "print(\"Classification Report: Adaboost \\n\", classification_report(y_test, predict_ada,digits=5))"
   ]
  },
  {
   "cell_type": "code",
   "execution_count": 69,
   "id": "5062d1ac-fdc9-4a7a-8c31-54afa81b291f",
   "metadata": {},
   "outputs": [
    {
     "data": {
      "image/png": "[encoded data removed]",
      "text/plain": [
       "<Figure size 432x288 with 1 Axes>"
      ]
     },
     "metadata": {
      "needs_background": "light"
     },
     "output_type": "display_data"
    }
   ],
   "source": [
    "binary_roc_plotter(X_test,y_test,Ada,'Adaboost')"
   ]
  },
  {
   "cell_type": "code",
   "execution_count": 70,
   "id": "709668f6-69f1-4fe7-80c0-617e7513a3e8",
   "metadata": {},
   "outputs": [
    {
     "data": {
      "text/plain": [
       "0.9831167206178347"
      ]
     },
     "execution_count": 70,
     "metadata": {},
     "output_type": "execute_result"
    }
   ],
   "source": [
    "roc_auc_score(y_test, Ada.predict_proba(X_test)[:, 1])"
   ]
  },
  {
   "cell_type": "code",
   "execution_count": 71,
   "id": "49d4f2c2-89b9-479c-9c97-85f3a1da733d",
   "metadata": {},
   "outputs": [
    {
     "name": "stdout",
     "output_type": "stream",
     "text": [
      "Confusion Matrix: Adaboost binary \n",
      " [[16671  1929]\n",
      " [ 1941 30994]]\n"
     ]
    }
   ],
   "source": [
    "from sklearn.metrics import confusion_matrix\n",
    "CM_ada_binary = confusion_matrix(y_test,predict_ada)\n",
    "print('Confusion Matrix: Adaboost binary \\n',CM_ada_binary)"
   ]
  },
  {
   "cell_type": "code",
   "execution_count": null,
   "id": "dbcdd20e-d332-4343-86f4-c256a64bf379",
   "metadata": {},
   "outputs": [],
   "source": []
  },
  {
   "cell_type": "code",
   "execution_count": 93,
   "id": "d487dbfd-9f45-4d0f-abc1-18bf9286120d",
   "metadata": {},
   "outputs": [
    {
     "data": {
      "text/plain": [
       "0.9318327350344426"
      ]
     },
     "execution_count": 93,
     "metadata": {},
     "output_type": "execute_result"
    }
   ],
   "source": [
    "predict_gradboost = gradboost.predict(X_test)\n",
    "gradboost.score(X_test,y_test)"
   ]
  },
  {
   "cell_type": "code",
   "execution_count": 94,
   "id": "bcbcbc48-694b-43bc-8cac-f747411f13cb",
   "metadata": {},
   "outputs": [
    {
     "name": "stdout",
     "output_type": "stream",
     "text": [
      "Classification Report: GradientBoost \n",
      "               precision    recall  f1-score   support\n",
      "\n",
      "           0    0.91075   0.89925   0.90496     18600\n",
      "           1    0.94350   0.95024   0.94686     32935\n",
      "\n",
      "    accuracy                        0.93183     51535\n",
      "   macro avg    0.92713   0.92474   0.92591     51535\n",
      "weighted avg    0.93168   0.93183   0.93174     51535\n",
      "\n"
     ]
    }
   ],
   "source": [
    "print(\"Classification Report: GradientBoost \\n\", classification_report(y_test, predict_gradboost,digits=5))"
   ]
  },
  {
   "cell_type": "code",
   "execution_count": 95,
   "id": "d16179dd-9777-4c2f-9c8f-fd53a06ac900",
   "metadata": {},
   "outputs": [
    {
     "data": {
      "image/png": "[encoded data removed]",
      "text/plain": [
       "<Figure size 432x288 with 1 Axes>"
      ]
     },
     "metadata": {
      "needs_background": "light"
     },
     "output_type": "display_data"
    }
   ],
   "source": [
    "binary_roc_plotter(X_test,y_test,gradboost,'Gradientboost')"
   ]
  },
  {
   "cell_type": "code",
   "execution_count": 96,
   "id": "95dcc711-da7f-424a-87c4-499c69f2fd59",
   "metadata": {},
   "outputs": [
    {
     "data": {
      "text/plain": [
       "0.9864406104562425"
      ]
     },
     "execution_count": 96,
     "metadata": {},
     "output_type": "execute_result"
    }
   ],
   "source": [
    "roc_auc_score(y_test, gradboost.predict_proba(X_test)[:, 1])"
   ]
  },
  {
   "cell_type": "code",
   "execution_count": 97,
   "id": "8ffab8e9-2bcb-409e-bd55-ed7a92d677e2",
   "metadata": {},
   "outputs": [
    {
     "name": "stdout",
     "output_type": "stream",
     "text": [
      "Confusion Matrix: Gradientboost binary \n",
      " [[16726  1874]\n",
      " [ 1639 31296]]\n"
     ]
    }
   ],
   "source": [
    "from sklearn.metrics import confusion_matrix\n",
    "CM_gradboost_binary = confusion_matrix(y_test,predict_gradboost)\n",
    "print('Confusion Matrix: Gradientboost binary \\n',CM_gradboost_binary)"
   ]
  },
  {
   "cell_type": "code",
   "execution_count": null,
   "id": "dda3d945-3148-4b8f-8690-42579a2688a7",
   "metadata": {},
   "outputs": [],
   "source": []
  },
  {
   "cell_type": "code",
   "execution_count": 14,
   "id": "d05a78f4-4443-43ea-9980-9f38ad798396",
   "metadata": {},
   "outputs": [
    {
     "data": {
      "text/plain": [
       "0.9482099543999224"
      ]
     },
     "execution_count": 14,
     "metadata": {},
     "output_type": "execute_result"
    }
   ],
   "source": [
    "predict_xg = Xg.predict(X_test)\n",
    "Xg.score(X_test,y_test)"
   ]
  },
  {
   "cell_type": "code",
   "execution_count": 17,
   "id": "0b472af9-0b98-48d5-8358-8c43aeee8144",
   "metadata": {},
   "outputs": [
    {
     "name": "stdout",
     "output_type": "stream",
     "text": [
      "Classification Report: \n",
      "               precision    recall  f1-score   support\n",
      "\n",
      "           0    0.91913   0.93914   0.92903     18600\n",
      "           1    0.96520   0.95333   0.95923     32935\n",
      "\n",
      "    accuracy                        0.94821     51535\n",
      "   macro avg    0.94216   0.94624   0.94413     51535\n",
      "weighted avg    0.94857   0.94821   0.94833     51535\n",
      "\n"
     ]
    }
   ],
   "source": [
    "print(\"Classification Report: \\n\", classification_report(y_test, predict_xg,digits=5))"
   ]
  },
  {
   "cell_type": "code",
   "execution_count": 20,
   "id": "34078f4a-6b32-432b-bb58-d068f3988936",
   "metadata": {},
   "outputs": [
    {
     "data": {
      "image/png": "[encoded data removed]",
      "text/plain": [
       "<Figure size 432x288 with 1 Axes>"
      ]
     },
     "metadata": {
      "needs_background": "light"
     },
     "output_type": "display_data"
    }
   ],
   "source": [
    "binary_roc_plotter(X_test,y_test,Xg,'XGboost')"
   ]
  },
  {
   "cell_type": "code",
   "execution_count": 21,
   "id": "8f50a1d7-3a9e-4e69-9fa2-7750edb2b338",
   "metadata": {},
   "outputs": [
    {
     "data": {
      "text/plain": [
       "0.9917454157831244"
      ]
     },
     "execution_count": 21,
     "metadata": {},
     "output_type": "execute_result"
    }
   ],
   "source": [
    "roc_auc_score(y_test, Xg.predict_proba(X_test)[:, 1])"
   ]
  },
  {
   "cell_type": "code",
   "execution_count": 22,
   "id": "84bee6bc-d923-41d6-b44f-2b3f581d7a01",
   "metadata": {},
   "outputs": [
    {
     "name": "stdout",
     "output_type": "stream",
     "text": [
      "Confusion Matrix: XGboost binary \n",
      " [[17468  1132]\n",
      " [ 1537 31398]]\n"
     ]
    }
   ],
   "source": [
    "from sklearn.metrics import confusion_matrix\n",
    "CM_xgb_binary = confusion_matrix(y_test,predict_xg)\n",
    "print('Confusion Matrix: XGboost binary \\n',CM_xgb_binary)"
   ]
  },
  {
   "cell_type": "code",
   "execution_count": null,
   "id": "625a61e7-44e1-41be-84d3-159685b2bdb4",
   "metadata": {},
   "outputs": [],
   "source": []
  },
  {
   "cell_type": "code",
   "execution_count": 85,
   "id": "b45feed6-0fce-4de4-8fc3-c3a47c8da252",
   "metadata": {},
   "outputs": [
    {
     "data": {
      "text/plain": [
       "0.9491025516639178"
      ]
     },
     "execution_count": 85,
     "metadata": {},
     "output_type": "execute_result"
    }
   ],
   "source": [
    "predict_extree = Ex_tree.predict(X_test)\n",
    "Ex_tree.score(X_test,y_test)"
   ]
  },
  {
   "cell_type": "code",
   "execution_count": 86,
   "id": "3b245140-3a8c-4b21-b3a0-d746ce79d458",
   "metadata": {},
   "outputs": [
    {
     "name": "stdout",
     "output_type": "stream",
     "text": [
      "Classification Report: EXTRA tree  \n",
      "               precision    recall  f1-score   support\n",
      "\n",
      "           0    0.92731   0.93204   0.92967     18600\n",
      "           1    0.96151   0.95874   0.96012     32935\n",
      "\n",
      "    accuracy                        0.94910     51535\n",
      "   macro avg    0.94441   0.94539   0.94490     51535\n",
      "weighted avg    0.94917   0.94910   0.94913     51535\n",
      "\n"
     ]
    }
   ],
   "source": [
    "print(\"Classification Report: EXTRA tree  \\n\", classification_report(y_test, predict_extree,digits=5))"
   ]
  },
  {
   "cell_type": "code",
   "execution_count": 87,
   "id": "f163a0b7-49c5-4771-a715-a72d070b22f9",
   "metadata": {},
   "outputs": [
    {
     "data": {
      "image/png": "[encoded data removed]",
      "text/plain": [
       "<Figure size 432x288 with 1 Axes>"
      ]
     },
     "metadata": {
      "needs_background": "light"
     },
     "output_type": "display_data"
    }
   ],
   "source": [
    "binary_roc_plotter(X_test,y_test,Ex_tree,'EXTRA tree')"
   ]
  },
  {
   "cell_type": "code",
   "execution_count": 88,
   "id": "b70326ca-4148-4d35-aca6-b8d49993c68e",
   "metadata": {},
   "outputs": [
    {
     "data": {
      "text/plain": [
       "0.9901079529408693"
      ]
     },
     "execution_count": 88,
     "metadata": {},
     "output_type": "execute_result"
    }
   ],
   "source": [
    "roc_auc_score(y_test, Ex_tree.predict_proba(X_test)[:, 1])"
   ]
  },
  {
   "cell_type": "code",
   "execution_count": 89,
   "id": "3f92e46f-4e91-4551-98b3-b31488a161c5",
   "metadata": {},
   "outputs": [
    {
     "name": "stdout",
     "output_type": "stream",
     "text": [
      "Confusion Matrix: EXTRA tree binary \n",
      " [[17336  1264]\n",
      " [ 1359 31576]]\n"
     ]
    }
   ],
   "source": [
    "from sklearn.metrics import confusion_matrix\n",
    "CM_Ex_tree_binary = confusion_matrix(y_test,predict_extree)\n",
    "print('Confusion Matrix: EXTRA tree binary \\n',CM_Ex_tree_binary)"
   ]
  },
  {
   "cell_type": "code",
   "execution_count": null,
   "id": "490c8952-87c4-446d-9ba4-184c47b87142",
   "metadata": {},
   "outputs": [],
   "source": []
  }
 ],
 "metadata": {
  "kernelspec": {
   "display_name": "Python 3 (ipykernel)",
   "language": "python",
   "name": "python3"
  },
  "language_info": {
   "codemirror_mode": {
    "name": "ipython",
    "version": 3
   },
   "file_extension": ".py",
   "mimetype": "text/x-python",
   "name": "python",
   "nbconvert_exporter": "python",
   "pygments_lexer": "ipython3",
   "version": "3.9.12"
  }
 },
 "nbformat": 4,
 "nbformat_minor": 5
}
