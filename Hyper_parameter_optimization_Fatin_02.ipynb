{
 "cells": [
  {
   "cell_type": "code",
   "execution_count": 1,
   "id": "7bc091f5-f3d9-47f2-9b32-2d4ce6200384",
   "metadata": {},
   "outputs": [
    {
     "name": "stderr",
     "output_type": "stream",
     "text": [
      "2022-06-05 20:47:50.225953: W tensorflow/stream_executor/platform/default/dso_loader.cc:64] Could not load dynamic library 'libcudart.so.11.0'; dlerror: libcudart.so.11.0: cannot open shared object file: No such file or directory\n",
      "2022-06-05 20:47:50.226028: I tensorflow/stream_executor/cuda/cudart_stub.cc:29] Ignore above cudart dlerror if you do not have a GPU set up on your machine.\n"
     ]
    }
   ],
   "source": [
    "import numpy as np\n",
    "import pandas as pd\n",
    "import matplotlib.pyplot as plt\n",
    "import seaborn as sns\n",
    "from sklearn.model_selection import StratifiedKFold\n",
    "folds = StratifiedKFold(n_splits=10)\n",
    "from sklearn.model_selection import cross_val_score\n",
    "from sklearn.metrics import confusion_matrix\n",
    "from sklearn.metrics import precision_score, recall_score,f1_score\n",
    "from sklearn.model_selection import train_test_split\n",
    "import tensorflow as tf\n",
    "from sklearn.metrics import roc_auc_score\n",
    "import six\n",
    "import sys\n",
    "sys.modules['sklearn.externals.six'] = six"
   ]
  },
  {
   "cell_type": "code",
   "execution_count": 3,
   "id": "380b998e-8c1c-4ace-bebe-754b9215adf8",
   "metadata": {},
   "outputs": [
    {
     "data": {
      "text/html": [
       "<div>\n",
       "<style scoped>\n",
       "    .dataframe tbody tr th:only-of-type {\n",
       "        vertical-align: middle;\n",
       "    }\n",
       "\n",
       "    .dataframe tbody tr th {\n",
       "        vertical-align: top;\n",
       "    }\n",
       "\n",
       "    .dataframe thead th {\n",
       "        text-align: right;\n",
       "    }\n",
       "</style>\n",
       "<table border=\"1\" class=\"dataframe\">\n",
       "  <thead>\n",
       "    <tr style=\"text-align: right;\">\n",
       "      <th></th>\n",
       "      <th>Unnamed: 0</th>\n",
       "      <th>dur</th>\n",
       "      <th>proto</th>\n",
       "      <th>service</th>\n",
       "      <th>state</th>\n",
       "      <th>spkts</th>\n",
       "      <th>dpkts</th>\n",
       "      <th>sbytes</th>\n",
       "      <th>dbytes</th>\n",
       "      <th>rate</th>\n",
       "      <th>...</th>\n",
       "      <th>ct_dst_sport_ltm</th>\n",
       "      <th>ct_dst_src_ltm</th>\n",
       "      <th>is_ftp_login</th>\n",
       "      <th>ct_ftp_cmd</th>\n",
       "      <th>ct_flw_http_mthd</th>\n",
       "      <th>ct_src_ltm</th>\n",
       "      <th>ct_srv_dst</th>\n",
       "      <th>is_sm_ips_ports</th>\n",
       "      <th>attack_cat</th>\n",
       "      <th>label</th>\n",
       "    </tr>\n",
       "  </thead>\n",
       "  <tbody>\n",
       "    <tr>\n",
       "      <th>0</th>\n",
       "      <td>0</td>\n",
       "      <td>0.121478</td>\n",
       "      <td>tcp</td>\n",
       "      <td>-</td>\n",
       "      <td>FIN</td>\n",
       "      <td>6</td>\n",
       "      <td>4</td>\n",
       "      <td>258</td>\n",
       "      <td>172</td>\n",
       "      <td>74.087490</td>\n",
       "      <td>...</td>\n",
       "      <td>1</td>\n",
       "      <td>1</td>\n",
       "      <td>0</td>\n",
       "      <td>0</td>\n",
       "      <td>0</td>\n",
       "      <td>1</td>\n",
       "      <td>1</td>\n",
       "      <td>0</td>\n",
       "      <td>Normal</td>\n",
       "      <td>0</td>\n",
       "    </tr>\n",
       "    <tr>\n",
       "      <th>1</th>\n",
       "      <td>1</td>\n",
       "      <td>0.649902</td>\n",
       "      <td>tcp</td>\n",
       "      <td>-</td>\n",
       "      <td>FIN</td>\n",
       "      <td>14</td>\n",
       "      <td>38</td>\n",
       "      <td>734</td>\n",
       "      <td>42014</td>\n",
       "      <td>78.473372</td>\n",
       "      <td>...</td>\n",
       "      <td>1</td>\n",
       "      <td>2</td>\n",
       "      <td>0</td>\n",
       "      <td>0</td>\n",
       "      <td>0</td>\n",
       "      <td>1</td>\n",
       "      <td>6</td>\n",
       "      <td>0</td>\n",
       "      <td>Normal</td>\n",
       "      <td>0</td>\n",
       "    </tr>\n",
       "    <tr>\n",
       "      <th>2</th>\n",
       "      <td>2</td>\n",
       "      <td>1.623129</td>\n",
       "      <td>tcp</td>\n",
       "      <td>-</td>\n",
       "      <td>FIN</td>\n",
       "      <td>8</td>\n",
       "      <td>16</td>\n",
       "      <td>364</td>\n",
       "      <td>13186</td>\n",
       "      <td>14.170161</td>\n",
       "      <td>...</td>\n",
       "      <td>1</td>\n",
       "      <td>3</td>\n",
       "      <td>0</td>\n",
       "      <td>0</td>\n",
       "      <td>0</td>\n",
       "      <td>2</td>\n",
       "      <td>6</td>\n",
       "      <td>0</td>\n",
       "      <td>Normal</td>\n",
       "      <td>0</td>\n",
       "    </tr>\n",
       "    <tr>\n",
       "      <th>3</th>\n",
       "      <td>3</td>\n",
       "      <td>1.681642</td>\n",
       "      <td>tcp</td>\n",
       "      <td>ftp</td>\n",
       "      <td>FIN</td>\n",
       "      <td>12</td>\n",
       "      <td>12</td>\n",
       "      <td>628</td>\n",
       "      <td>770</td>\n",
       "      <td>13.677108</td>\n",
       "      <td>...</td>\n",
       "      <td>1</td>\n",
       "      <td>3</td>\n",
       "      <td>1</td>\n",
       "      <td>1</td>\n",
       "      <td>0</td>\n",
       "      <td>2</td>\n",
       "      <td>1</td>\n",
       "      <td>0</td>\n",
       "      <td>Normal</td>\n",
       "      <td>0</td>\n",
       "    </tr>\n",
       "    <tr>\n",
       "      <th>4</th>\n",
       "      <td>4</td>\n",
       "      <td>0.449454</td>\n",
       "      <td>tcp</td>\n",
       "      <td>-</td>\n",
       "      <td>FIN</td>\n",
       "      <td>10</td>\n",
       "      <td>6</td>\n",
       "      <td>534</td>\n",
       "      <td>268</td>\n",
       "      <td>33.373826</td>\n",
       "      <td>...</td>\n",
       "      <td>1</td>\n",
       "      <td>40</td>\n",
       "      <td>0</td>\n",
       "      <td>0</td>\n",
       "      <td>0</td>\n",
       "      <td>2</td>\n",
       "      <td>39</td>\n",
       "      <td>0</td>\n",
       "      <td>Normal</td>\n",
       "      <td>0</td>\n",
       "    </tr>\n",
       "    <tr>\n",
       "      <th>...</th>\n",
       "      <td>...</td>\n",
       "      <td>...</td>\n",
       "      <td>...</td>\n",
       "      <td>...</td>\n",
       "      <td>...</td>\n",
       "      <td>...</td>\n",
       "      <td>...</td>\n",
       "      <td>...</td>\n",
       "      <td>...</td>\n",
       "      <td>...</td>\n",
       "      <td>...</td>\n",
       "      <td>...</td>\n",
       "      <td>...</td>\n",
       "      <td>...</td>\n",
       "      <td>...</td>\n",
       "      <td>...</td>\n",
       "      <td>...</td>\n",
       "      <td>...</td>\n",
       "      <td>...</td>\n",
       "      <td>...</td>\n",
       "      <td>...</td>\n",
       "    </tr>\n",
       "    <tr>\n",
       "      <th>185995</th>\n",
       "      <td>185995</td>\n",
       "      <td>0.000008</td>\n",
       "      <td>udp</td>\n",
       "      <td>dns</td>\n",
       "      <td>INT</td>\n",
       "      <td>2</td>\n",
       "      <td>0</td>\n",
       "      <td>114</td>\n",
       "      <td>0</td>\n",
       "      <td>125000.000300</td>\n",
       "      <td>...</td>\n",
       "      <td>15</td>\n",
       "      <td>42</td>\n",
       "      <td>0</td>\n",
       "      <td>0</td>\n",
       "      <td>0</td>\n",
       "      <td>30</td>\n",
       "      <td>42</td>\n",
       "      <td>0</td>\n",
       "      <td>Generic</td>\n",
       "      <td>1</td>\n",
       "    </tr>\n",
       "    <tr>\n",
       "      <th>185996</th>\n",
       "      <td>185996</td>\n",
       "      <td>0.000008</td>\n",
       "      <td>udp</td>\n",
       "      <td>dns</td>\n",
       "      <td>INT</td>\n",
       "      <td>2</td>\n",
       "      <td>0</td>\n",
       "      <td>114</td>\n",
       "      <td>0</td>\n",
       "      <td>125000.000300</td>\n",
       "      <td>...</td>\n",
       "      <td>23</td>\n",
       "      <td>35</td>\n",
       "      <td>0</td>\n",
       "      <td>0</td>\n",
       "      <td>0</td>\n",
       "      <td>35</td>\n",
       "      <td>35</td>\n",
       "      <td>0</td>\n",
       "      <td>Generic</td>\n",
       "      <td>1</td>\n",
       "    </tr>\n",
       "    <tr>\n",
       "      <th>185997</th>\n",
       "      <td>185997</td>\n",
       "      <td>0.000008</td>\n",
       "      <td>udp</td>\n",
       "      <td>dns</td>\n",
       "      <td>INT</td>\n",
       "      <td>2</td>\n",
       "      <td>0</td>\n",
       "      <td>114</td>\n",
       "      <td>0</td>\n",
       "      <td>125000.000300</td>\n",
       "      <td>...</td>\n",
       "      <td>23</td>\n",
       "      <td>35</td>\n",
       "      <td>0</td>\n",
       "      <td>0</td>\n",
       "      <td>0</td>\n",
       "      <td>35</td>\n",
       "      <td>35</td>\n",
       "      <td>0</td>\n",
       "      <td>Generic</td>\n",
       "      <td>1</td>\n",
       "    </tr>\n",
       "    <tr>\n",
       "      <th>185998</th>\n",
       "      <td>185998</td>\n",
       "      <td>0.000008</td>\n",
       "      <td>udp</td>\n",
       "      <td>dns</td>\n",
       "      <td>INT</td>\n",
       "      <td>2</td>\n",
       "      <td>0</td>\n",
       "      <td>114</td>\n",
       "      <td>0</td>\n",
       "      <td>125000.000300</td>\n",
       "      <td>...</td>\n",
       "      <td>23</td>\n",
       "      <td>35</td>\n",
       "      <td>0</td>\n",
       "      <td>0</td>\n",
       "      <td>0</td>\n",
       "      <td>35</td>\n",
       "      <td>35</td>\n",
       "      <td>0</td>\n",
       "      <td>Generic</td>\n",
       "      <td>1</td>\n",
       "    </tr>\n",
       "    <tr>\n",
       "      <th>185999</th>\n",
       "      <td>185999</td>\n",
       "      <td>0.000008</td>\n",
       "      <td>udp</td>\n",
       "      <td>dns</td>\n",
       "      <td>INT</td>\n",
       "      <td>2</td>\n",
       "      <td>0</td>\n",
       "      <td>114</td>\n",
       "      <td>0</td>\n",
       "      <td>125000.000300</td>\n",
       "      <td>...</td>\n",
       "      <td>23</td>\n",
       "      <td>35</td>\n",
       "      <td>0</td>\n",
       "      <td>0</td>\n",
       "      <td>0</td>\n",
       "      <td>35</td>\n",
       "      <td>35</td>\n",
       "      <td>0</td>\n",
       "      <td>Generic</td>\n",
       "      <td>1</td>\n",
       "    </tr>\n",
       "  </tbody>\n",
       "</table>\n",
       "<p>186000 rows × 45 columns</p>\n",
       "</div>"
      ],
      "text/plain": [
       "        Unnamed: 0       dur proto service state  spkts  dpkts  sbytes  \\\n",
       "0                0  0.121478   tcp       -   FIN      6      4     258   \n",
       "1                1  0.649902   tcp       -   FIN     14     38     734   \n",
       "2                2  1.623129   tcp       -   FIN      8     16     364   \n",
       "3                3  1.681642   tcp     ftp   FIN     12     12     628   \n",
       "4                4  0.449454   tcp       -   FIN     10      6     534   \n",
       "...            ...       ...   ...     ...   ...    ...    ...     ...   \n",
       "185995      185995  0.000008   udp     dns   INT      2      0     114   \n",
       "185996      185996  0.000008   udp     dns   INT      2      0     114   \n",
       "185997      185997  0.000008   udp     dns   INT      2      0     114   \n",
       "185998      185998  0.000008   udp     dns   INT      2      0     114   \n",
       "185999      185999  0.000008   udp     dns   INT      2      0     114   \n",
       "\n",
       "        dbytes           rate  ...  ct_dst_sport_ltm  ct_dst_src_ltm  \\\n",
       "0          172      74.087490  ...                 1               1   \n",
       "1        42014      78.473372  ...                 1               2   \n",
       "2        13186      14.170161  ...                 1               3   \n",
       "3          770      13.677108  ...                 1               3   \n",
       "4          268      33.373826  ...                 1              40   \n",
       "...        ...            ...  ...               ...             ...   \n",
       "185995       0  125000.000300  ...                15              42   \n",
       "185996       0  125000.000300  ...                23              35   \n",
       "185997       0  125000.000300  ...                23              35   \n",
       "185998       0  125000.000300  ...                23              35   \n",
       "185999       0  125000.000300  ...                23              35   \n",
       "\n",
       "        is_ftp_login  ct_ftp_cmd  ct_flw_http_mthd  ct_src_ltm  ct_srv_dst  \\\n",
       "0                  0           0                 0           1           1   \n",
       "1                  0           0                 0           1           6   \n",
       "2                  0           0                 0           2           6   \n",
       "3                  1           1                 0           2           1   \n",
       "4                  0           0                 0           2          39   \n",
       "...              ...         ...               ...         ...         ...   \n",
       "185995             0           0                 0          30          42   \n",
       "185996             0           0                 0          35          35   \n",
       "185997             0           0                 0          35          35   \n",
       "185998             0           0                 0          35          35   \n",
       "185999             0           0                 0          35          35   \n",
       "\n",
       "        is_sm_ips_ports  attack_cat  label  \n",
       "0                     0      Normal      0  \n",
       "1                     0      Normal      0  \n",
       "2                     0      Normal      0  \n",
       "3                     0      Normal      0  \n",
       "4                     0      Normal      0  \n",
       "...                 ...         ...    ...  \n",
       "185995                0     Generic      1  \n",
       "185996                0     Generic      1  \n",
       "185997                0     Generic      1  \n",
       "185998                0     Generic      1  \n",
       "185999                0     Generic      1  \n",
       "\n",
       "[186000 rows x 45 columns]"
      ]
     },
     "execution_count": 3,
     "metadata": {},
     "output_type": "execute_result"
    }
   ],
   "source": [
    "df = pd.read_csv(\"UNSW_undersampled_and_reversed.csv\")\n",
    "df"
   ]
  },
  {
   "cell_type": "code",
   "execution_count": 4,
   "id": "33231769-1a80-4b33-a670-21084ad56240",
   "metadata": {},
   "outputs": [],
   "source": [
    "from sklearn.utils import shuffle\n",
    "df = shuffle(df,random_state=50)"
   ]
  },
  {
   "cell_type": "code",
   "execution_count": 5,
   "id": "0c6c5c4f-cbdd-42a9-94e3-1f61cf615f2d",
   "metadata": {},
   "outputs": [],
   "source": [
    "from sklearn import preprocessing"
   ]
  },
  {
   "cell_type": "code",
   "execution_count": 6,
   "id": "6ee571bb-9892-4057-8902-3ddb9eb0403a",
   "metadata": {},
   "outputs": [
    {
     "data": {
      "text/plain": [
       "array([4, 3, 1, 6, 2, 7, 0, 5, 8, 9])"
      ]
     },
     "execution_count": 6,
     "metadata": {},
     "output_type": "execute_result"
    }
   ],
   "source": [
    "label_encoder1 = preprocessing.LabelEncoder()\n",
    "df['proto']= label_encoder1.fit_transform(df['proto'])\n",
    "  \n",
    "df['proto'].unique()\n",
    "label_encoder2 = preprocessing.LabelEncoder()\n",
    "df['attack_cat']= label_encoder2.fit_transform(df['attack_cat'])\n",
    "  \n",
    "df['attack_cat'].unique()\n",
    "label_encoder3 = preprocessing.LabelEncoder()\n",
    "df['service']= label_encoder3.fit_transform(df['service'])\n",
    "  \n",
    "df['service'].unique()\n",
    "label_encoder4 = preprocessing.LabelEncoder()\n",
    "df['state']= label_encoder4.fit_transform(df['state'])\n",
    "  \n",
    "df['state'].unique()"
   ]
  },
  {
   "cell_type": "code",
   "execution_count": 7,
   "id": "03c26628-185e-49c9-9025-31398abfbf88",
   "metadata": {},
   "outputs": [],
   "source": [
    "y=df['attack_cat']\n",
    "#y1=df.iloc[:,-1]\n",
    "x_k=df.drop(['label','attack_cat','Unnamed: 0'],axis=1)\n",
    "#y= df['attack_cat']"
   ]
  },
  {
   "cell_type": "code",
   "execution_count": 8,
   "id": "769dfd66-1174-422c-b2d7-81270f8e5826",
   "metadata": {},
   "outputs": [
    {
     "data": {
      "text/plain": [
       "array([5, 6, 6, ..., 5, 0, 5])"
      ]
     },
     "execution_count": 8,
     "metadata": {},
     "output_type": "execute_result"
    }
   ],
   "source": [
    "from sklearn import preprocessing\n",
    "le = preprocessing.LabelEncoder()\n",
    "y_l = le.fit_transform(y)\n",
    "y_l"
   ]
  },
  {
   "cell_type": "code",
   "execution_count": 29,
   "id": "ae09683c",
   "metadata": {},
   "outputs": [
    {
     "data": {
      "text/plain": [
       "array([5, 6, 7, 2, 4, 0, 3, 1, 8, 9])"
      ]
     },
     "execution_count": 29,
     "metadata": {},
     "output_type": "execute_result"
    }
   ],
   "source": [
    "pd.unique(y)"
   ]
  },
  {
   "cell_type": "code",
   "execution_count": 9,
   "id": "7fc2f208-62a8-4c80-94e1-f59bacf22b63",
   "metadata": {},
   "outputs": [
    {
     "data": {
      "text/html": [
       "<div>\n",
       "<style scoped>\n",
       "    .dataframe tbody tr th:only-of-type {\n",
       "        vertical-align: middle;\n",
       "    }\n",
       "\n",
       "    .dataframe tbody tr th {\n",
       "        vertical-align: top;\n",
       "    }\n",
       "\n",
       "    .dataframe thead th {\n",
       "        text-align: right;\n",
       "    }\n",
       "</style>\n",
       "<table border=\"1\" class=\"dataframe\">\n",
       "  <thead>\n",
       "    <tr style=\"text-align: right;\">\n",
       "      <th></th>\n",
       "      <th>0</th>\n",
       "      <th>1</th>\n",
       "      <th>2</th>\n",
       "      <th>3</th>\n",
       "      <th>4</th>\n",
       "      <th>5</th>\n",
       "      <th>6</th>\n",
       "      <th>7</th>\n",
       "      <th>8</th>\n",
       "      <th>9</th>\n",
       "      <th>...</th>\n",
       "      <th>32</th>\n",
       "      <th>33</th>\n",
       "      <th>34</th>\n",
       "      <th>35</th>\n",
       "      <th>36</th>\n",
       "      <th>37</th>\n",
       "      <th>38</th>\n",
       "      <th>39</th>\n",
       "      <th>40</th>\n",
       "      <th>41</th>\n",
       "    </tr>\n",
       "  </thead>\n",
       "  <tbody>\n",
       "    <tr>\n",
       "      <th>0</th>\n",
       "      <td>1.333334e-07</td>\n",
       "      <td>0.901515</td>\n",
       "      <td>0.2</td>\n",
       "      <td>0.444444</td>\n",
       "      <td>0.001451</td>\n",
       "      <td>0.000000</td>\n",
       "      <td>0.000265</td>\n",
       "      <td>0.000000</td>\n",
       "      <td>0.125000</td>\n",
       "      <td>0.996078</td>\n",
       "      <td>...</td>\n",
       "      <td>0.310345</td>\n",
       "      <td>0.275862</td>\n",
       "      <td>0.355556</td>\n",
       "      <td>0.532258</td>\n",
       "      <td>0.0</td>\n",
       "      <td>0.0</td>\n",
       "      <td>0.0</td>\n",
       "      <td>0.288136</td>\n",
       "      <td>0.524590</td>\n",
       "      <td>0.0</td>\n",
       "    </tr>\n",
       "    <tr>\n",
       "      <th>1</th>\n",
       "      <td>1.581304e-02</td>\n",
       "      <td>0.856061</td>\n",
       "      <td>0.0</td>\n",
       "      <td>0.333333</td>\n",
       "      <td>0.175617</td>\n",
       "      <td>0.073427</td>\n",
       "      <td>0.022980</td>\n",
       "      <td>0.006727</td>\n",
       "      <td>0.000260</td>\n",
       "      <td>0.121569</td>\n",
       "      <td>...</td>\n",
       "      <td>0.034483</td>\n",
       "      <td>0.000000</td>\n",
       "      <td>0.000000</td>\n",
       "      <td>0.000000</td>\n",
       "      <td>0.0</td>\n",
       "      <td>0.0</td>\n",
       "      <td>0.0</td>\n",
       "      <td>0.016949</td>\n",
       "      <td>0.180328</td>\n",
       "      <td>0.0</td>\n",
       "    </tr>\n",
       "    <tr>\n",
       "      <th>2</th>\n",
       "      <td>7.977668e-04</td>\n",
       "      <td>0.856061</td>\n",
       "      <td>0.0</td>\n",
       "      <td>0.333333</td>\n",
       "      <td>0.053701</td>\n",
       "      <td>0.023310</td>\n",
       "      <td>0.007119</td>\n",
       "      <td>0.008228</td>\n",
       "      <td>0.001609</td>\n",
       "      <td>0.121569</td>\n",
       "      <td>...</td>\n",
       "      <td>0.068966</td>\n",
       "      <td>0.000000</td>\n",
       "      <td>0.000000</td>\n",
       "      <td>0.016129</td>\n",
       "      <td>0.0</td>\n",
       "      <td>0.0</td>\n",
       "      <td>0.0</td>\n",
       "      <td>0.033898</td>\n",
       "      <td>0.245902</td>\n",
       "      <td>0.0</td>\n",
       "    </tr>\n",
       "    <tr>\n",
       "      <th>3</th>\n",
       "      <td>1.500000e-07</td>\n",
       "      <td>0.901515</td>\n",
       "      <td>0.2</td>\n",
       "      <td>0.444444</td>\n",
       "      <td>0.001451</td>\n",
       "      <td>0.000000</td>\n",
       "      <td>0.000265</td>\n",
       "      <td>0.000000</td>\n",
       "      <td>0.111111</td>\n",
       "      <td>0.996078</td>\n",
       "      <td>...</td>\n",
       "      <td>0.275862</td>\n",
       "      <td>0.258621</td>\n",
       "      <td>0.333333</td>\n",
       "      <td>0.532258</td>\n",
       "      <td>0.0</td>\n",
       "      <td>0.0</td>\n",
       "      <td>0.0</td>\n",
       "      <td>0.254237</td>\n",
       "      <td>0.524590</td>\n",
       "      <td>0.0</td>\n",
       "    </tr>\n",
       "    <tr>\n",
       "      <th>4</th>\n",
       "      <td>1.333334e-07</td>\n",
       "      <td>0.901515</td>\n",
       "      <td>0.0</td>\n",
       "      <td>0.444444</td>\n",
       "      <td>0.001451</td>\n",
       "      <td>0.000000</td>\n",
       "      <td>0.000425</td>\n",
       "      <td>0.000000</td>\n",
       "      <td>0.125000</td>\n",
       "      <td>0.996078</td>\n",
       "      <td>...</td>\n",
       "      <td>0.000000</td>\n",
       "      <td>0.000000</td>\n",
       "      <td>0.000000</td>\n",
       "      <td>0.000000</td>\n",
       "      <td>0.0</td>\n",
       "      <td>0.0</td>\n",
       "      <td>0.0</td>\n",
       "      <td>0.050847</td>\n",
       "      <td>0.000000</td>\n",
       "      <td>0.0</td>\n",
       "    </tr>\n",
       "  </tbody>\n",
       "</table>\n",
       "<p>5 rows × 42 columns</p>\n",
       "</div>"
      ],
      "text/plain": [
       "             0         1    2         3         4         5         6   \\\n",
       "0  1.333334e-07  0.901515  0.2  0.444444  0.001451  0.000000  0.000265   \n",
       "1  1.581304e-02  0.856061  0.0  0.333333  0.175617  0.073427  0.022980   \n",
       "2  7.977668e-04  0.856061  0.0  0.333333  0.053701  0.023310  0.007119   \n",
       "3  1.500000e-07  0.901515  0.2  0.444444  0.001451  0.000000  0.000265   \n",
       "4  1.333334e-07  0.901515  0.0  0.444444  0.001451  0.000000  0.000425   \n",
       "\n",
       "         7         8         9   ...        32        33        34        35  \\\n",
       "0  0.000000  0.125000  0.996078  ...  0.310345  0.275862  0.355556  0.532258   \n",
       "1  0.006727  0.000260  0.121569  ...  0.034483  0.000000  0.000000  0.000000   \n",
       "2  0.008228  0.001609  0.121569  ...  0.068966  0.000000  0.000000  0.016129   \n",
       "3  0.000000  0.111111  0.996078  ...  0.275862  0.258621  0.333333  0.532258   \n",
       "4  0.000000  0.125000  0.996078  ...  0.000000  0.000000  0.000000  0.000000   \n",
       "\n",
       "    36   37   38        39        40   41  \n",
       "0  0.0  0.0  0.0  0.288136  0.524590  0.0  \n",
       "1  0.0  0.0  0.0  0.016949  0.180328  0.0  \n",
       "2  0.0  0.0  0.0  0.033898  0.245902  0.0  \n",
       "3  0.0  0.0  0.0  0.254237  0.524590  0.0  \n",
       "4  0.0  0.0  0.0  0.050847  0.000000  0.0  \n",
       "\n",
       "[5 rows x 42 columns]"
      ]
     },
     "execution_count": 9,
     "metadata": {},
     "output_type": "execute_result"
    }
   ],
   "source": [
    "from sklearn import preprocessing\n",
    "from sklearn.preprocessing import MinMaxScaler\n",
    "sc = MinMaxScaler()\n",
    "x_k_1= sc.fit_transform(x_k)\n",
    "\n",
    "x = pd.DataFrame(x_k_1)\n",
    "\n",
    "x.head()"
   ]
  },
  {
   "cell_type": "code",
   "execution_count": 13,
   "id": "defcb391-aa00-4065-845c-41d88e1b216c",
   "metadata": {},
   "outputs": [],
   "source": [
    "from sklearn.model_selection import train_test_split"
   ]
  },
  {
   "cell_type": "code",
   "execution_count": 14,
   "id": "f47b7f61-c627-47f0-8892-a1f62087d01f",
   "metadata": {},
   "outputs": [],
   "source": [
    "from sklearn.model_selection import RandomizedSearchCV"
   ]
  },
  {
   "cell_type": "code",
   "execution_count": 18,
   "id": "e7a3569e-e7ee-4254-a400-28925b502c8c",
   "metadata": {},
   "outputs": [],
   "source": [
    "from sklearn.ensemble import RandomForestClassifier"
   ]
  },
  {
   "cell_type": "code",
   "execution_count": 13,
   "id": "d1a901be-b1f9-48eb-b23d-b3ea83700dd7",
   "metadata": {},
   "outputs": [
    {
     "name": "stdout",
     "output_type": "stream",
     "text": [
      "Fitting 5 folds for each of 10 candidates, totalling 50 fits\n"
     ]
    }
   ],
   "source": [
    "parameters_RF = {'n_estimators': (40,60,65,70,75,80,85,90,95,100,120),'min_samples_split' : (2,4,8,10,15,20,30)}\n",
    "                                                                                                                                     \n",
    "RF_grid  = RandomizedSearchCV( RandomForestClassifier(), param_distributions = parameters_RF, cv = 5, verbose = True,scoring='accuracy')\n",
    "result_RF=RF_grid.fit(x,y)\n",
    "  \n",
    "RF= result_RF.best_estimator_"
   ]
  },
  {
   "cell_type": "code",
   "execution_count": 14,
   "id": "445764b5-01c1-4f66-b1a0-7845c9d8008e",
   "metadata": {},
   "outputs": [
    {
     "name": "stdout",
     "output_type": "stream",
     "text": [
      "RandomForestClassifier(min_samples_split=30, n_estimators=75)\n"
     ]
    }
   ],
   "source": [
    "RF_estimator_result =result_RF.best_estimator_\n",
    "print(RF_estimator_result)"
   ]
  },
  {
   "cell_type": "code",
   "execution_count": 19,
   "id": "28042138-a098-4a73-a19d-d3c171fd930d",
   "metadata": {},
   "outputs": [],
   "source": [
    "from sklearn.naive_bayes import GaussianNB"
   ]
  },
  {
   "cell_type": "code",
   "execution_count": 16,
   "id": "6d498497-6371-4527-a926-c1c10bde904b",
   "metadata": {},
   "outputs": [
    {
     "name": "stdout",
     "output_type": "stream",
     "text": [
      "Fitting 5 folds for each of 10 candidates, totalling 50 fits\n"
     ]
    }
   ],
   "source": [
    "parameters_gb = {'var_smoothing': (1e-09,1e-08,1e-07,1e-06,1e-05,1e-04,1e-03,1e-02,1e-01,1,10,5e-09,5e-08,5e-07,5e-06,5e-05,\n",
    "                                5e-04,5e-03,5e-02,5e-01,5)}\n",
    "gb_grid  = RandomizedSearchCV( GaussianNB(), param_distributions = parameters_gb, cv = 5, verbose = True,scoring='accuracy')\n",
    "result_gb = gb_grid.fit(x,y)"
   ]
  },
  {
   "cell_type": "code",
   "execution_count": 17,
   "id": "a20d1cf7-0297-4d07-855d-5f4e36603b6c",
   "metadata": {},
   "outputs": [
    {
     "name": "stdout",
     "output_type": "stream",
     "text": [
      "GaussianNB(var_smoothing=0.1)\n"
     ]
    }
   ],
   "source": [
    "gb_estimator_result =result_gb.best_estimator_\n",
    "print(gb_estimator_result)"
   ]
  },
  {
   "cell_type": "code",
   "execution_count": 20,
   "id": "b812f639-f758-476a-8eee-73500d5aa3db",
   "metadata": {},
   "outputs": [],
   "source": [
    "from sklearn.linear_model import LogisticRegression"
   ]
  },
  {
   "cell_type": "code",
   "execution_count": 19,
   "id": "fb0147f0-3d47-46a0-8c64-f1ef493e90d2",
   "metadata": {},
   "outputs": [
    {
     "name": "stdout",
     "output_type": "stream",
     "text": [
      "Fitting 5 folds for each of 10 candidates, totalling 50 fits\n"
     ]
    }
   ],
   "source": [
    "parameters_lr = {'solver':('liblinear','newton-cg'),'random_state':(0,1),'C': (0.1,1,10),'tol': (0.01,0.001,0.0001,.1)}\n",
    "                                                                                                                                     \n",
    "lr_grid  = RandomizedSearchCV( LogisticRegression(), param_distributions = parameters_lr, cv = 5, verbose = True,scoring='accuracy')\n",
    "result_lr=lr_grid.fit(x,y)\n",
    "    \n",
    "LG_estimator_result = result_lr.best_estimator_"
   ]
  },
  {
   "cell_type": "code",
   "execution_count": 20,
   "id": "e3c2d33f-af32-4788-946c-a0a26ea6c3c1",
   "metadata": {},
   "outputs": [
    {
     "name": "stdout",
     "output_type": "stream",
     "text": [
      "LogisticRegression(C=10, random_state=0, solver='newton-cg')\n"
     ]
    }
   ],
   "source": [
    "print(LG_estimator_result)"
   ]
  },
  {
   "cell_type": "code",
   "execution_count": 21,
   "id": "cc665938-754b-4530-8228-bff35d289197",
   "metadata": {},
   "outputs": [],
   "source": [
    "from sklearn.neighbors import KNeighborsClassifier"
   ]
  },
  {
   "cell_type": "code",
   "execution_count": 22,
   "id": "e01a4b67-4408-4ec7-a522-82742ae1a4c9",
   "metadata": {},
   "outputs": [
    {
     "name": "stdout",
     "output_type": "stream",
     "text": [
      "Fitting 5 folds for each of 10 candidates, totalling 50 fits\n"
     ]
    }
   ],
   "source": [
    "parameters_knn = {'n_neighbors': (1,2,3,4,5),'leaf_size':(15,30,50,100),'p':(1,2,3)}\n",
    "knn_grid  = RandomizedSearchCV( KNeighborsClassifier(), param_distributions = parameters_knn, cv = 5, verbose = True,scoring='accuracy')\n",
    "result_knn=knn_grid.fit(x,y)\n",
    "knn_estimator_result = result_knn.best_estimator_"
   ]
  },
  {
   "cell_type": "code",
   "execution_count": 23,
   "id": "5e69dc12-5493-492a-9e0a-2ab7f90ee219",
   "metadata": {},
   "outputs": [
    {
     "name": "stdout",
     "output_type": "stream",
     "text": [
      "KNeighborsClassifier(leaf_size=15, p=1)\n"
     ]
    }
   ],
   "source": [
    "print(knn_estimator_result)"
   ]
  },
  {
   "cell_type": "code",
   "execution_count": 22,
   "id": "11d708e0-c320-4de7-9515-563ccc653174",
   "metadata": {},
   "outputs": [],
   "source": [
    "from sklearn.tree import DecisionTreeClassifier"
   ]
  },
  {
   "cell_type": "code",
   "execution_count": 31,
   "id": "68c3a760-21fe-43c3-8fb6-b67d1274c1d8",
   "metadata": {},
   "outputs": [
    {
     "name": "stdout",
     "output_type": "stream",
     "text": [
      "Fitting 5 folds for each of 10 candidates, totalling 50 fits\n"
     ]
    }
   ],
   "source": [
    "parameters_dt = {'min_samples_split' : (2,4,6,10), 'max_depth':(3,4,5,6,7,8,9,10,11,12,16,25,50,100,200)}                                                                                                                            \n",
    "DT_grid  = RandomizedSearchCV( DecisionTreeClassifier(), param_distributions = parameters_dt, cv = 5, verbose = True,scoring='accuracy')\n",
    "result_dt=DT_grid.fit(x,y)\n",
    "    \n",
    "dt_estimator_result = result_dt.best_estimator_"
   ]
  },
  {
   "cell_type": "code",
   "execution_count": 32,
   "id": "d4f96aa1-3fa9-475f-8ba8-1fec48e16eb4",
   "metadata": {},
   "outputs": [
    {
     "name": "stdout",
     "output_type": "stream",
     "text": [
      "DecisionTreeClassifier(max_depth=12, min_samples_split=4)\n"
     ]
    }
   ],
   "source": [
    "print(dt_estimator_result)"
   ]
  },
  {
   "cell_type": "code",
   "execution_count": 10,
   "id": "e27f606d-b59e-464c-8d6c-cb782033b79c",
   "metadata": {},
   "outputs": [],
   "source": [
    "from xgboost import XGBClassifier"
   ]
  },
  {
   "cell_type": "code",
   "execution_count": 11,
   "id": "4d7acc67-53ab-4a6f-9d06-dd867a67ed9e",
   "metadata": {},
   "outputs": [],
   "source": [
    "import xgboost as xgb"
   ]
  },
  {
   "cell_type": "code",
   "execution_count": 15,
   "id": "d4bfbec9",
   "metadata": {},
   "outputs": [
    {
     "name": "stdout",
     "output_type": "stream",
     "text": [
      "Fitting 5 folds for each of 10 candidates, totalling 50 fits\n"
     ]
    },
    {
     "ename": "KeyboardInterrupt",
     "evalue": "",
     "output_type": "error",
     "traceback": [
      "\u001b[0;31m---------------------------------------------------------------------------\u001b[0m",
      "\u001b[0;31mKeyboardInterrupt\u001b[0m                         Traceback (most recent call last)",
      "\u001b[1;32m/home/lizard/Downloads/UNSW code/Hyper_parameter_Optimization_Fatin_01/Hyper_parameter_optimization_Fatin_02.ipynb Cell 28'\u001b[0m in \u001b[0;36m<cell line: 4>\u001b[0;34m()\u001b[0m\n\u001b[1;32m      <a href='vscode-notebook-cell:/home/lizard/Downloads/UNSW%20code/Hyper_parameter_Optimization_Fatin_01/Hyper_parameter_optimization_Fatin_02.ipynb#ch0000042?line=0'>1</a>\u001b[0m parameters_xgb \u001b[39m=\u001b[39m {\u001b[39m'\u001b[39m\u001b[39malpha\u001b[39m\u001b[39m'\u001b[39m: (\u001b[39m0.1\u001b[39m,\u001b[39m0.5\u001b[39m,\u001b[39m1\u001b[39m,\u001b[39m2\u001b[39m,\u001b[39m3\u001b[39m,\u001b[39m4\u001b[39m,\u001b[39m5\u001b[39m),\u001b[39m'\u001b[39m\u001b[39meta\u001b[39m\u001b[39m'\u001b[39m: (\u001b[39m0.3\u001b[39m,\u001b[39m0.001\u001b[39m,\u001b[39m0.1\u001b[39m,\u001b[39m0.5\u001b[39m,\u001b[39m1\u001b[39m,\u001b[39m3\u001b[39m,\u001b[39m5\u001b[39m),\u001b[39m'\u001b[39m\u001b[39mlambda\u001b[39m\u001b[39m'\u001b[39m: (\u001b[39m0.1\u001b[39m,\u001b[39m1\u001b[39m,\u001b[39m5\u001b[39m,\u001b[39m3\u001b[39m,\u001b[39m0.5\u001b[39m),\n\u001b[1;32m      <a href='vscode-notebook-cell:/home/lizard/Downloads/UNSW%20code/Hyper_parameter_Optimization_Fatin_01/Hyper_parameter_optimization_Fatin_02.ipynb#ch0000042?line=1'>2</a>\u001b[0m \u001b[39m'\u001b[39m\u001b[39mcolsample_bytree\u001b[39m\u001b[39m'\u001b[39m: [\u001b[39m0.1\u001b[39m, \u001b[39m0.5\u001b[39m, \u001b[39m0.8\u001b[39m, \u001b[39m1\u001b[39m], \u001b[39m'\u001b[39m\u001b[39msubsample\u001b[39m\u001b[39m'\u001b[39m: [\u001b[39m0.1\u001b[39m,\u001b[39m0.5\u001b[39m,\u001b[39m1\u001b[39m]}\n\u001b[1;32m      <a href='vscode-notebook-cell:/home/lizard/Downloads/UNSW%20code/Hyper_parameter_Optimization_Fatin_01/Hyper_parameter_optimization_Fatin_02.ipynb#ch0000042?line=2'>3</a>\u001b[0m xgb_grid  \u001b[39m=\u001b[39m RandomizedSearchCV( XGBClassifier(), param_distributions \u001b[39m=\u001b[39m parameters_xgb, cv \u001b[39m=\u001b[39m \u001b[39m5\u001b[39m, verbose \u001b[39m=\u001b[39m \u001b[39mTrue\u001b[39;00m,scoring\u001b[39m=\u001b[39m\u001b[39m'\u001b[39m\u001b[39maccuracy\u001b[39m\u001b[39m'\u001b[39m)\n\u001b[0;32m----> <a href='vscode-notebook-cell:/home/lizard/Downloads/UNSW%20code/Hyper_parameter_Optimization_Fatin_01/Hyper_parameter_optimization_Fatin_02.ipynb#ch0000042?line=3'>4</a>\u001b[0m result_xgb\u001b[39m=\u001b[39mxgb_grid\u001b[39m.\u001b[39mfit(x,y_l)\n\u001b[1;32m      <a href='vscode-notebook-cell:/home/lizard/Downloads/UNSW%20code/Hyper_parameter_Optimization_Fatin_01/Hyper_parameter_optimization_Fatin_02.ipynb#ch0000042?line=5'>6</a>\u001b[0m xgb_estimator_result \u001b[39m=\u001b[39m result_xgb\u001b[39m.\u001b[39mbest_estimator_\n",
      "File \u001b[0;32m~/.local/lib/python3.8/site-packages/sklearn/model_selection/_search.py:875\u001b[0m, in \u001b[0;36mBaseSearchCV.fit\u001b[0;34m(self, X, y, groups, **fit_params)\u001b[0m\n\u001b[1;32m    <a href='file:///home/lizard/.local/lib/python3.8/site-packages/sklearn/model_selection/_search.py?line=868'>869</a>\u001b[0m     results \u001b[39m=\u001b[39m \u001b[39mself\u001b[39m\u001b[39m.\u001b[39m_format_results(\n\u001b[1;32m    <a href='file:///home/lizard/.local/lib/python3.8/site-packages/sklearn/model_selection/_search.py?line=869'>870</a>\u001b[0m         all_candidate_params, n_splits, all_out, all_more_results\n\u001b[1;32m    <a href='file:///home/lizard/.local/lib/python3.8/site-packages/sklearn/model_selection/_search.py?line=870'>871</a>\u001b[0m     )\n\u001b[1;32m    <a href='file:///home/lizard/.local/lib/python3.8/site-packages/sklearn/model_selection/_search.py?line=872'>873</a>\u001b[0m     \u001b[39mreturn\u001b[39;00m results\n\u001b[0;32m--> <a href='file:///home/lizard/.local/lib/python3.8/site-packages/sklearn/model_selection/_search.py?line=874'>875</a>\u001b[0m \u001b[39mself\u001b[39;49m\u001b[39m.\u001b[39;49m_run_search(evaluate_candidates)\n\u001b[1;32m    <a href='file:///home/lizard/.local/lib/python3.8/site-packages/sklearn/model_selection/_search.py?line=876'>877</a>\u001b[0m \u001b[39m# multimetric is determined here because in the case of a callable\u001b[39;00m\n\u001b[1;32m    <a href='file:///home/lizard/.local/lib/python3.8/site-packages/sklearn/model_selection/_search.py?line=877'>878</a>\u001b[0m \u001b[39m# self.scoring the return type is only known after calling\u001b[39;00m\n\u001b[1;32m    <a href='file:///home/lizard/.local/lib/python3.8/site-packages/sklearn/model_selection/_search.py?line=878'>879</a>\u001b[0m first_test_score \u001b[39m=\u001b[39m all_out[\u001b[39m0\u001b[39m][\u001b[39m\"\u001b[39m\u001b[39mtest_scores\u001b[39m\u001b[39m\"\u001b[39m]\n",
      "File \u001b[0;32m~/.local/lib/python3.8/site-packages/sklearn/model_selection/_search.py:1749\u001b[0m, in \u001b[0;36mRandomizedSearchCV._run_search\u001b[0;34m(self, evaluate_candidates)\u001b[0m\n\u001b[1;32m   <a href='file:///home/lizard/.local/lib/python3.8/site-packages/sklearn/model_selection/_search.py?line=1746'>1747</a>\u001b[0m \u001b[39mdef\u001b[39;00m \u001b[39m_run_search\u001b[39m(\u001b[39mself\u001b[39m, evaluate_candidates):\n\u001b[1;32m   <a href='file:///home/lizard/.local/lib/python3.8/site-packages/sklearn/model_selection/_search.py?line=1747'>1748</a>\u001b[0m     \u001b[39m\"\"\"Search n_iter candidates from param_distributions\"\"\"\u001b[39;00m\n\u001b[0;32m-> <a href='file:///home/lizard/.local/lib/python3.8/site-packages/sklearn/model_selection/_search.py?line=1748'>1749</a>\u001b[0m     evaluate_candidates(\n\u001b[1;32m   <a href='file:///home/lizard/.local/lib/python3.8/site-packages/sklearn/model_selection/_search.py?line=1749'>1750</a>\u001b[0m         ParameterSampler(\n\u001b[1;32m   <a href='file:///home/lizard/.local/lib/python3.8/site-packages/sklearn/model_selection/_search.py?line=1750'>1751</a>\u001b[0m             \u001b[39mself\u001b[39;49m\u001b[39m.\u001b[39;49mparam_distributions, \u001b[39mself\u001b[39;49m\u001b[39m.\u001b[39;49mn_iter, random_state\u001b[39m=\u001b[39;49m\u001b[39mself\u001b[39;49m\u001b[39m.\u001b[39;49mrandom_state\n\u001b[1;32m   <a href='file:///home/lizard/.local/lib/python3.8/site-packages/sklearn/model_selection/_search.py?line=1751'>1752</a>\u001b[0m         )\n\u001b[1;32m   <a href='file:///home/lizard/.local/lib/python3.8/site-packages/sklearn/model_selection/_search.py?line=1752'>1753</a>\u001b[0m     )\n",
      "File \u001b[0;32m~/.local/lib/python3.8/site-packages/sklearn/model_selection/_search.py:822\u001b[0m, in \u001b[0;36mBaseSearchCV.fit.<locals>.evaluate_candidates\u001b[0;34m(candidate_params, cv, more_results)\u001b[0m\n\u001b[1;32m    <a href='file:///home/lizard/.local/lib/python3.8/site-packages/sklearn/model_selection/_search.py?line=813'>814</a>\u001b[0m \u001b[39mif\u001b[39;00m \u001b[39mself\u001b[39m\u001b[39m.\u001b[39mverbose \u001b[39m>\u001b[39m \u001b[39m0\u001b[39m:\n\u001b[1;32m    <a href='file:///home/lizard/.local/lib/python3.8/site-packages/sklearn/model_selection/_search.py?line=814'>815</a>\u001b[0m     \u001b[39mprint\u001b[39m(\n\u001b[1;32m    <a href='file:///home/lizard/.local/lib/python3.8/site-packages/sklearn/model_selection/_search.py?line=815'>816</a>\u001b[0m         \u001b[39m\"\u001b[39m\u001b[39mFitting \u001b[39m\u001b[39m{0}\u001b[39;00m\u001b[39m folds for each of \u001b[39m\u001b[39m{1}\u001b[39;00m\u001b[39m candidates,\u001b[39m\u001b[39m\"\u001b[39m\n\u001b[1;32m    <a href='file:///home/lizard/.local/lib/python3.8/site-packages/sklearn/model_selection/_search.py?line=816'>817</a>\u001b[0m         \u001b[39m\"\u001b[39m\u001b[39m totalling \u001b[39m\u001b[39m{2}\u001b[39;00m\u001b[39m fits\u001b[39m\u001b[39m\"\u001b[39m\u001b[39m.\u001b[39mformat(\n\u001b[1;32m    <a href='file:///home/lizard/.local/lib/python3.8/site-packages/sklearn/model_selection/_search.py?line=817'>818</a>\u001b[0m             n_splits, n_candidates, n_candidates \u001b[39m*\u001b[39m n_splits\n\u001b[1;32m    <a href='file:///home/lizard/.local/lib/python3.8/site-packages/sklearn/model_selection/_search.py?line=818'>819</a>\u001b[0m         )\n\u001b[1;32m    <a href='file:///home/lizard/.local/lib/python3.8/site-packages/sklearn/model_selection/_search.py?line=819'>820</a>\u001b[0m     )\n\u001b[0;32m--> <a href='file:///home/lizard/.local/lib/python3.8/site-packages/sklearn/model_selection/_search.py?line=821'>822</a>\u001b[0m out \u001b[39m=\u001b[39m parallel(\n\u001b[1;32m    <a href='file:///home/lizard/.local/lib/python3.8/site-packages/sklearn/model_selection/_search.py?line=822'>823</a>\u001b[0m     delayed(_fit_and_score)(\n\u001b[1;32m    <a href='file:///home/lizard/.local/lib/python3.8/site-packages/sklearn/model_selection/_search.py?line=823'>824</a>\u001b[0m         clone(base_estimator),\n\u001b[1;32m    <a href='file:///home/lizard/.local/lib/python3.8/site-packages/sklearn/model_selection/_search.py?line=824'>825</a>\u001b[0m         X,\n\u001b[1;32m    <a href='file:///home/lizard/.local/lib/python3.8/site-packages/sklearn/model_selection/_search.py?line=825'>826</a>\u001b[0m         y,\n\u001b[1;32m    <a href='file:///home/lizard/.local/lib/python3.8/site-packages/sklearn/model_selection/_search.py?line=826'>827</a>\u001b[0m         train\u001b[39m=\u001b[39;49mtrain,\n\u001b[1;32m    <a href='file:///home/lizard/.local/lib/python3.8/site-packages/sklearn/model_selection/_search.py?line=827'>828</a>\u001b[0m         test\u001b[39m=\u001b[39;49mtest,\n\u001b[1;32m    <a href='file:///home/lizard/.local/lib/python3.8/site-packages/sklearn/model_selection/_search.py?line=828'>829</a>\u001b[0m         parameters\u001b[39m=\u001b[39;49mparameters,\n\u001b[1;32m    <a href='file:///home/lizard/.local/lib/python3.8/site-packages/sklearn/model_selection/_search.py?line=829'>830</a>\u001b[0m         split_progress\u001b[39m=\u001b[39;49m(split_idx, n_splits),\n\u001b[1;32m    <a href='file:///home/lizard/.local/lib/python3.8/site-packages/sklearn/model_selection/_search.py?line=830'>831</a>\u001b[0m         candidate_progress\u001b[39m=\u001b[39;49m(cand_idx, n_candidates),\n\u001b[1;32m    <a href='file:///home/lizard/.local/lib/python3.8/site-packages/sklearn/model_selection/_search.py?line=831'>832</a>\u001b[0m         \u001b[39m*\u001b[39;49m\u001b[39m*\u001b[39;49mfit_and_score_kwargs,\n\u001b[1;32m    <a href='file:///home/lizard/.local/lib/python3.8/site-packages/sklearn/model_selection/_search.py?line=832'>833</a>\u001b[0m     )\n\u001b[1;32m    <a href='file:///home/lizard/.local/lib/python3.8/site-packages/sklearn/model_selection/_search.py?line=833'>834</a>\u001b[0m     \u001b[39mfor\u001b[39;49;00m (cand_idx, parameters), (split_idx, (train, test)) \u001b[39min\u001b[39;49;00m product(\n\u001b[1;32m    <a href='file:///home/lizard/.local/lib/python3.8/site-packages/sklearn/model_selection/_search.py?line=834'>835</a>\u001b[0m         \u001b[39menumerate\u001b[39;49m(candidate_params), \u001b[39menumerate\u001b[39;49m(cv\u001b[39m.\u001b[39;49msplit(X, y, groups))\n\u001b[1;32m    <a href='file:///home/lizard/.local/lib/python3.8/site-packages/sklearn/model_selection/_search.py?line=835'>836</a>\u001b[0m     )\n\u001b[1;32m    <a href='file:///home/lizard/.local/lib/python3.8/site-packages/sklearn/model_selection/_search.py?line=836'>837</a>\u001b[0m )\n\u001b[1;32m    <a href='file:///home/lizard/.local/lib/python3.8/site-packages/sklearn/model_selection/_search.py?line=838'>839</a>\u001b[0m \u001b[39mif\u001b[39;00m \u001b[39mlen\u001b[39m(out) \u001b[39m<\u001b[39m \u001b[39m1\u001b[39m:\n\u001b[1;32m    <a href='file:///home/lizard/.local/lib/python3.8/site-packages/sklearn/model_selection/_search.py?line=839'>840</a>\u001b[0m     \u001b[39mraise\u001b[39;00m \u001b[39mValueError\u001b[39;00m(\n\u001b[1;32m    <a href='file:///home/lizard/.local/lib/python3.8/site-packages/sklearn/model_selection/_search.py?line=840'>841</a>\u001b[0m         \u001b[39m\"\u001b[39m\u001b[39mNo fits were performed. \u001b[39m\u001b[39m\"\u001b[39m\n\u001b[1;32m    <a href='file:///home/lizard/.local/lib/python3.8/site-packages/sklearn/model_selection/_search.py?line=841'>842</a>\u001b[0m         \u001b[39m\"\u001b[39m\u001b[39mWas the CV iterator empty? \u001b[39m\u001b[39m\"\u001b[39m\n\u001b[1;32m    <a href='file:///home/lizard/.local/lib/python3.8/site-packages/sklearn/model_selection/_search.py?line=842'>843</a>\u001b[0m         \u001b[39m\"\u001b[39m\u001b[39mWere there no candidates?\u001b[39m\u001b[39m\"\u001b[39m\n\u001b[1;32m    <a href='file:///home/lizard/.local/lib/python3.8/site-packages/sklearn/model_selection/_search.py?line=843'>844</a>\u001b[0m     )\n",
      "File \u001b[0;32m~/.local/lib/python3.8/site-packages/joblib/parallel.py:1046\u001b[0m, in \u001b[0;36mParallel.__call__\u001b[0;34m(self, iterable)\u001b[0m\n\u001b[1;32m   <a href='file:///home/lizard/.local/lib/python3.8/site-packages/joblib/parallel.py?line=1042'>1043</a>\u001b[0m \u001b[39mif\u001b[39;00m \u001b[39mself\u001b[39m\u001b[39m.\u001b[39mdispatch_one_batch(iterator):\n\u001b[1;32m   <a href='file:///home/lizard/.local/lib/python3.8/site-packages/joblib/parallel.py?line=1043'>1044</a>\u001b[0m     \u001b[39mself\u001b[39m\u001b[39m.\u001b[39m_iterating \u001b[39m=\u001b[39m \u001b[39mself\u001b[39m\u001b[39m.\u001b[39m_original_iterator \u001b[39mis\u001b[39;00m \u001b[39mnot\u001b[39;00m \u001b[39mNone\u001b[39;00m\n\u001b[0;32m-> <a href='file:///home/lizard/.local/lib/python3.8/site-packages/joblib/parallel.py?line=1045'>1046</a>\u001b[0m \u001b[39mwhile\u001b[39;00m \u001b[39mself\u001b[39;49m\u001b[39m.\u001b[39;49mdispatch_one_batch(iterator):\n\u001b[1;32m   <a href='file:///home/lizard/.local/lib/python3.8/site-packages/joblib/parallel.py?line=1046'>1047</a>\u001b[0m     \u001b[39mpass\u001b[39;00m\n\u001b[1;32m   <a href='file:///home/lizard/.local/lib/python3.8/site-packages/joblib/parallel.py?line=1048'>1049</a>\u001b[0m \u001b[39mif\u001b[39;00m pre_dispatch \u001b[39m==\u001b[39m \u001b[39m\"\u001b[39m\u001b[39mall\u001b[39m\u001b[39m\"\u001b[39m \u001b[39mor\u001b[39;00m n_jobs \u001b[39m==\u001b[39m \u001b[39m1\u001b[39m:\n\u001b[1;32m   <a href='file:///home/lizard/.local/lib/python3.8/site-packages/joblib/parallel.py?line=1049'>1050</a>\u001b[0m     \u001b[39m# The iterable was consumed all at once by the above for loop.\u001b[39;00m\n\u001b[1;32m   <a href='file:///home/lizard/.local/lib/python3.8/site-packages/joblib/parallel.py?line=1050'>1051</a>\u001b[0m     \u001b[39m# No need to wait for async callbacks to trigger to\u001b[39;00m\n\u001b[1;32m   <a href='file:///home/lizard/.local/lib/python3.8/site-packages/joblib/parallel.py?line=1051'>1052</a>\u001b[0m     \u001b[39m# consumption.\u001b[39;00m\n",
      "File \u001b[0;32m~/.local/lib/python3.8/site-packages/joblib/parallel.py:861\u001b[0m, in \u001b[0;36mParallel.dispatch_one_batch\u001b[0;34m(self, iterator)\u001b[0m\n\u001b[1;32m    <a href='file:///home/lizard/.local/lib/python3.8/site-packages/joblib/parallel.py?line=858'>859</a>\u001b[0m     \u001b[39mreturn\u001b[39;00m \u001b[39mFalse\u001b[39;00m\n\u001b[1;32m    <a href='file:///home/lizard/.local/lib/python3.8/site-packages/joblib/parallel.py?line=859'>860</a>\u001b[0m \u001b[39melse\u001b[39;00m:\n\u001b[0;32m--> <a href='file:///home/lizard/.local/lib/python3.8/site-packages/joblib/parallel.py?line=860'>861</a>\u001b[0m     \u001b[39mself\u001b[39;49m\u001b[39m.\u001b[39;49m_dispatch(tasks)\n\u001b[1;32m    <a href='file:///home/lizard/.local/lib/python3.8/site-packages/joblib/parallel.py?line=861'>862</a>\u001b[0m     \u001b[39mreturn\u001b[39;00m \u001b[39mTrue\u001b[39;00m\n",
      "File \u001b[0;32m~/.local/lib/python3.8/site-packages/joblib/parallel.py:779\u001b[0m, in \u001b[0;36mParallel._dispatch\u001b[0;34m(self, batch)\u001b[0m\n\u001b[1;32m    <a href='file:///home/lizard/.local/lib/python3.8/site-packages/joblib/parallel.py?line=776'>777</a>\u001b[0m \u001b[39mwith\u001b[39;00m \u001b[39mself\u001b[39m\u001b[39m.\u001b[39m_lock:\n\u001b[1;32m    <a href='file:///home/lizard/.local/lib/python3.8/site-packages/joblib/parallel.py?line=777'>778</a>\u001b[0m     job_idx \u001b[39m=\u001b[39m \u001b[39mlen\u001b[39m(\u001b[39mself\u001b[39m\u001b[39m.\u001b[39m_jobs)\n\u001b[0;32m--> <a href='file:///home/lizard/.local/lib/python3.8/site-packages/joblib/parallel.py?line=778'>779</a>\u001b[0m     job \u001b[39m=\u001b[39m \u001b[39mself\u001b[39;49m\u001b[39m.\u001b[39;49m_backend\u001b[39m.\u001b[39;49mapply_async(batch, callback\u001b[39m=\u001b[39;49mcb)\n\u001b[1;32m    <a href='file:///home/lizard/.local/lib/python3.8/site-packages/joblib/parallel.py?line=779'>780</a>\u001b[0m     \u001b[39m# A job can complete so quickly than its callback is\u001b[39;00m\n\u001b[1;32m    <a href='file:///home/lizard/.local/lib/python3.8/site-packages/joblib/parallel.py?line=780'>781</a>\u001b[0m     \u001b[39m# called before we get here, causing self._jobs to\u001b[39;00m\n\u001b[1;32m    <a href='file:///home/lizard/.local/lib/python3.8/site-packages/joblib/parallel.py?line=781'>782</a>\u001b[0m     \u001b[39m# grow. To ensure correct results ordering, .insert is\u001b[39;00m\n\u001b[1;32m    <a href='file:///home/lizard/.local/lib/python3.8/site-packages/joblib/parallel.py?line=782'>783</a>\u001b[0m     \u001b[39m# used (rather than .append) in the following line\u001b[39;00m\n\u001b[1;32m    <a href='file:///home/lizard/.local/lib/python3.8/site-packages/joblib/parallel.py?line=783'>784</a>\u001b[0m     \u001b[39mself\u001b[39m\u001b[39m.\u001b[39m_jobs\u001b[39m.\u001b[39minsert(job_idx, job)\n",
      "File \u001b[0;32m~/.local/lib/python3.8/site-packages/joblib/_parallel_backends.py:208\u001b[0m, in \u001b[0;36mSequentialBackend.apply_async\u001b[0;34m(self, func, callback)\u001b[0m\n\u001b[1;32m    <a href='file:///home/lizard/.local/lib/python3.8/site-packages/joblib/_parallel_backends.py?line=205'>206</a>\u001b[0m \u001b[39mdef\u001b[39;00m \u001b[39mapply_async\u001b[39m(\u001b[39mself\u001b[39m, func, callback\u001b[39m=\u001b[39m\u001b[39mNone\u001b[39;00m):\n\u001b[1;32m    <a href='file:///home/lizard/.local/lib/python3.8/site-packages/joblib/_parallel_backends.py?line=206'>207</a>\u001b[0m     \u001b[39m\"\"\"Schedule a func to be run\"\"\"\u001b[39;00m\n\u001b[0;32m--> <a href='file:///home/lizard/.local/lib/python3.8/site-packages/joblib/_parallel_backends.py?line=207'>208</a>\u001b[0m     result \u001b[39m=\u001b[39m ImmediateResult(func)\n\u001b[1;32m    <a href='file:///home/lizard/.local/lib/python3.8/site-packages/joblib/_parallel_backends.py?line=208'>209</a>\u001b[0m     \u001b[39mif\u001b[39;00m callback:\n\u001b[1;32m    <a href='file:///home/lizard/.local/lib/python3.8/site-packages/joblib/_parallel_backends.py?line=209'>210</a>\u001b[0m         callback(result)\n",
      "File \u001b[0;32m~/.local/lib/python3.8/site-packages/joblib/_parallel_backends.py:572\u001b[0m, in \u001b[0;36mImmediateResult.__init__\u001b[0;34m(self, batch)\u001b[0m\n\u001b[1;32m    <a href='file:///home/lizard/.local/lib/python3.8/site-packages/joblib/_parallel_backends.py?line=568'>569</a>\u001b[0m \u001b[39mdef\u001b[39;00m \u001b[39m__init__\u001b[39m(\u001b[39mself\u001b[39m, batch):\n\u001b[1;32m    <a href='file:///home/lizard/.local/lib/python3.8/site-packages/joblib/_parallel_backends.py?line=569'>570</a>\u001b[0m     \u001b[39m# Don't delay the application, to avoid keeping the input\u001b[39;00m\n\u001b[1;32m    <a href='file:///home/lizard/.local/lib/python3.8/site-packages/joblib/_parallel_backends.py?line=570'>571</a>\u001b[0m     \u001b[39m# arguments in memory\u001b[39;00m\n\u001b[0;32m--> <a href='file:///home/lizard/.local/lib/python3.8/site-packages/joblib/_parallel_backends.py?line=571'>572</a>\u001b[0m     \u001b[39mself\u001b[39m\u001b[39m.\u001b[39mresults \u001b[39m=\u001b[39m batch()\n",
      "File \u001b[0;32m~/.local/lib/python3.8/site-packages/joblib/parallel.py:262\u001b[0m, in \u001b[0;36mBatchedCalls.__call__\u001b[0;34m(self)\u001b[0m\n\u001b[1;32m    <a href='file:///home/lizard/.local/lib/python3.8/site-packages/joblib/parallel.py?line=257'>258</a>\u001b[0m \u001b[39mdef\u001b[39;00m \u001b[39m__call__\u001b[39m(\u001b[39mself\u001b[39m):\n\u001b[1;32m    <a href='file:///home/lizard/.local/lib/python3.8/site-packages/joblib/parallel.py?line=258'>259</a>\u001b[0m     \u001b[39m# Set the default nested backend to self._backend but do not set the\u001b[39;00m\n\u001b[1;32m    <a href='file:///home/lizard/.local/lib/python3.8/site-packages/joblib/parallel.py?line=259'>260</a>\u001b[0m     \u001b[39m# change the default number of processes to -1\u001b[39;00m\n\u001b[1;32m    <a href='file:///home/lizard/.local/lib/python3.8/site-packages/joblib/parallel.py?line=260'>261</a>\u001b[0m     \u001b[39mwith\u001b[39;00m parallel_backend(\u001b[39mself\u001b[39m\u001b[39m.\u001b[39m_backend, n_jobs\u001b[39m=\u001b[39m\u001b[39mself\u001b[39m\u001b[39m.\u001b[39m_n_jobs):\n\u001b[0;32m--> <a href='file:///home/lizard/.local/lib/python3.8/site-packages/joblib/parallel.py?line=261'>262</a>\u001b[0m         \u001b[39mreturn\u001b[39;00m [func(\u001b[39m*\u001b[39margs, \u001b[39m*\u001b[39m\u001b[39m*\u001b[39mkwargs)\n\u001b[1;32m    <a href='file:///home/lizard/.local/lib/python3.8/site-packages/joblib/parallel.py?line=262'>263</a>\u001b[0m                 \u001b[39mfor\u001b[39;00m func, args, kwargs \u001b[39min\u001b[39;00m \u001b[39mself\u001b[39m\u001b[39m.\u001b[39mitems]\n",
      "File \u001b[0;32m~/.local/lib/python3.8/site-packages/joblib/parallel.py:262\u001b[0m, in \u001b[0;36m<listcomp>\u001b[0;34m(.0)\u001b[0m\n\u001b[1;32m    <a href='file:///home/lizard/.local/lib/python3.8/site-packages/joblib/parallel.py?line=257'>258</a>\u001b[0m \u001b[39mdef\u001b[39;00m \u001b[39m__call__\u001b[39m(\u001b[39mself\u001b[39m):\n\u001b[1;32m    <a href='file:///home/lizard/.local/lib/python3.8/site-packages/joblib/parallel.py?line=258'>259</a>\u001b[0m     \u001b[39m# Set the default nested backend to self._backend but do not set the\u001b[39;00m\n\u001b[1;32m    <a href='file:///home/lizard/.local/lib/python3.8/site-packages/joblib/parallel.py?line=259'>260</a>\u001b[0m     \u001b[39m# change the default number of processes to -1\u001b[39;00m\n\u001b[1;32m    <a href='file:///home/lizard/.local/lib/python3.8/site-packages/joblib/parallel.py?line=260'>261</a>\u001b[0m     \u001b[39mwith\u001b[39;00m parallel_backend(\u001b[39mself\u001b[39m\u001b[39m.\u001b[39m_backend, n_jobs\u001b[39m=\u001b[39m\u001b[39mself\u001b[39m\u001b[39m.\u001b[39m_n_jobs):\n\u001b[0;32m--> <a href='file:///home/lizard/.local/lib/python3.8/site-packages/joblib/parallel.py?line=261'>262</a>\u001b[0m         \u001b[39mreturn\u001b[39;00m [func(\u001b[39m*\u001b[39;49margs, \u001b[39m*\u001b[39;49m\u001b[39m*\u001b[39;49mkwargs)\n\u001b[1;32m    <a href='file:///home/lizard/.local/lib/python3.8/site-packages/joblib/parallel.py?line=262'>263</a>\u001b[0m                 \u001b[39mfor\u001b[39;00m func, args, kwargs \u001b[39min\u001b[39;00m \u001b[39mself\u001b[39m\u001b[39m.\u001b[39mitems]\n",
      "File \u001b[0;32m~/.local/lib/python3.8/site-packages/sklearn/utils/fixes.py:117\u001b[0m, in \u001b[0;36m_FuncWrapper.__call__\u001b[0;34m(self, *args, **kwargs)\u001b[0m\n\u001b[1;32m    <a href='file:///home/lizard/.local/lib/python3.8/site-packages/sklearn/utils/fixes.py?line=114'>115</a>\u001b[0m \u001b[39mdef\u001b[39;00m \u001b[39m__call__\u001b[39m(\u001b[39mself\u001b[39m, \u001b[39m*\u001b[39margs, \u001b[39m*\u001b[39m\u001b[39m*\u001b[39mkwargs):\n\u001b[1;32m    <a href='file:///home/lizard/.local/lib/python3.8/site-packages/sklearn/utils/fixes.py?line=115'>116</a>\u001b[0m     \u001b[39mwith\u001b[39;00m config_context(\u001b[39m*\u001b[39m\u001b[39m*\u001b[39m\u001b[39mself\u001b[39m\u001b[39m.\u001b[39mconfig):\n\u001b[0;32m--> <a href='file:///home/lizard/.local/lib/python3.8/site-packages/sklearn/utils/fixes.py?line=116'>117</a>\u001b[0m         \u001b[39mreturn\u001b[39;00m \u001b[39mself\u001b[39;49m\u001b[39m.\u001b[39;49mfunction(\u001b[39m*\u001b[39;49margs, \u001b[39m*\u001b[39;49m\u001b[39m*\u001b[39;49mkwargs)\n",
      "File \u001b[0;32m~/.local/lib/python3.8/site-packages/sklearn/model_selection/_validation.py:686\u001b[0m, in \u001b[0;36m_fit_and_score\u001b[0;34m(estimator, X, y, scorer, train, test, verbose, parameters, fit_params, return_train_score, return_parameters, return_n_test_samples, return_times, return_estimator, split_progress, candidate_progress, error_score)\u001b[0m\n\u001b[1;32m    <a href='file:///home/lizard/.local/lib/python3.8/site-packages/sklearn/model_selection/_validation.py?line=683'>684</a>\u001b[0m         estimator\u001b[39m.\u001b[39mfit(X_train, \u001b[39m*\u001b[39m\u001b[39m*\u001b[39mfit_params)\n\u001b[1;32m    <a href='file:///home/lizard/.local/lib/python3.8/site-packages/sklearn/model_selection/_validation.py?line=684'>685</a>\u001b[0m     \u001b[39melse\u001b[39;00m:\n\u001b[0;32m--> <a href='file:///home/lizard/.local/lib/python3.8/site-packages/sklearn/model_selection/_validation.py?line=685'>686</a>\u001b[0m         estimator\u001b[39m.\u001b[39;49mfit(X_train, y_train, \u001b[39m*\u001b[39;49m\u001b[39m*\u001b[39;49mfit_params)\n\u001b[1;32m    <a href='file:///home/lizard/.local/lib/python3.8/site-packages/sklearn/model_selection/_validation.py?line=687'>688</a>\u001b[0m \u001b[39mexcept\u001b[39;00m \u001b[39mException\u001b[39;00m:\n\u001b[1;32m    <a href='file:///home/lizard/.local/lib/python3.8/site-packages/sklearn/model_selection/_validation.py?line=688'>689</a>\u001b[0m     \u001b[39m# Note fit time as time until error\u001b[39;00m\n\u001b[1;32m    <a href='file:///home/lizard/.local/lib/python3.8/site-packages/sklearn/model_selection/_validation.py?line=689'>690</a>\u001b[0m     fit_time \u001b[39m=\u001b[39m time\u001b[39m.\u001b[39mtime() \u001b[39m-\u001b[39m start_time\n",
      "File \u001b[0;32m~/.local/lib/python3.8/site-packages/xgboost/core.py:532\u001b[0m, in \u001b[0;36m_deprecate_positional_args.<locals>.inner_f\u001b[0;34m(*args, **kwargs)\u001b[0m\n\u001b[1;32m    <a href='file:///home/lizard/.local/lib/python3.8/site-packages/xgboost/core.py?line=529'>530</a>\u001b[0m \u001b[39mfor\u001b[39;00m k, arg \u001b[39min\u001b[39;00m \u001b[39mzip\u001b[39m(sig\u001b[39m.\u001b[39mparameters, args):\n\u001b[1;32m    <a href='file:///home/lizard/.local/lib/python3.8/site-packages/xgboost/core.py?line=530'>531</a>\u001b[0m     kwargs[k] \u001b[39m=\u001b[39m arg\n\u001b[0;32m--> <a href='file:///home/lizard/.local/lib/python3.8/site-packages/xgboost/core.py?line=531'>532</a>\u001b[0m \u001b[39mreturn\u001b[39;00m f(\u001b[39m*\u001b[39;49m\u001b[39m*\u001b[39;49mkwargs)\n",
      "File \u001b[0;32m~/.local/lib/python3.8/site-packages/xgboost/sklearn.py:1400\u001b[0m, in \u001b[0;36mXGBClassifier.fit\u001b[0;34m(self, X, y, sample_weight, base_margin, eval_set, eval_metric, early_stopping_rounds, verbose, xgb_model, sample_weight_eval_set, base_margin_eval_set, feature_weights, callbacks)\u001b[0m\n\u001b[1;32m   <a href='file:///home/lizard/.local/lib/python3.8/site-packages/xgboost/sklearn.py?line=1378'>1379</a>\u001b[0m model, metric, params, early_stopping_rounds, callbacks \u001b[39m=\u001b[39m \u001b[39mself\u001b[39m\u001b[39m.\u001b[39m_configure_fit(\n\u001b[1;32m   <a href='file:///home/lizard/.local/lib/python3.8/site-packages/xgboost/sklearn.py?line=1379'>1380</a>\u001b[0m     xgb_model, eval_metric, params, early_stopping_rounds, callbacks\n\u001b[1;32m   <a href='file:///home/lizard/.local/lib/python3.8/site-packages/xgboost/sklearn.py?line=1380'>1381</a>\u001b[0m )\n\u001b[1;32m   <a href='file:///home/lizard/.local/lib/python3.8/site-packages/xgboost/sklearn.py?line=1381'>1382</a>\u001b[0m train_dmatrix, evals \u001b[39m=\u001b[39m _wrap_evaluation_matrices(\n\u001b[1;32m   <a href='file:///home/lizard/.local/lib/python3.8/site-packages/xgboost/sklearn.py?line=1382'>1383</a>\u001b[0m     missing\u001b[39m=\u001b[39m\u001b[39mself\u001b[39m\u001b[39m.\u001b[39mmissing,\n\u001b[1;32m   <a href='file:///home/lizard/.local/lib/python3.8/site-packages/xgboost/sklearn.py?line=1383'>1384</a>\u001b[0m     X\u001b[39m=\u001b[39mX,\n\u001b[0;32m   (...)\u001b[0m\n\u001b[1;32m   <a href='file:///home/lizard/.local/lib/python3.8/site-packages/xgboost/sklearn.py?line=1396'>1397</a>\u001b[0m     enable_categorical\u001b[39m=\u001b[39m\u001b[39mself\u001b[39m\u001b[39m.\u001b[39menable_categorical,\n\u001b[1;32m   <a href='file:///home/lizard/.local/lib/python3.8/site-packages/xgboost/sklearn.py?line=1397'>1398</a>\u001b[0m )\n\u001b[0;32m-> <a href='file:///home/lizard/.local/lib/python3.8/site-packages/xgboost/sklearn.py?line=1399'>1400</a>\u001b[0m \u001b[39mself\u001b[39m\u001b[39m.\u001b[39m_Booster \u001b[39m=\u001b[39m train(\n\u001b[1;32m   <a href='file:///home/lizard/.local/lib/python3.8/site-packages/xgboost/sklearn.py?line=1400'>1401</a>\u001b[0m     params,\n\u001b[1;32m   <a href='file:///home/lizard/.local/lib/python3.8/site-packages/xgboost/sklearn.py?line=1401'>1402</a>\u001b[0m     train_dmatrix,\n\u001b[1;32m   <a href='file:///home/lizard/.local/lib/python3.8/site-packages/xgboost/sklearn.py?line=1402'>1403</a>\u001b[0m     \u001b[39mself\u001b[39;49m\u001b[39m.\u001b[39;49mget_num_boosting_rounds(),\n\u001b[1;32m   <a href='file:///home/lizard/.local/lib/python3.8/site-packages/xgboost/sklearn.py?line=1403'>1404</a>\u001b[0m     evals\u001b[39m=\u001b[39;49mevals,\n\u001b[1;32m   <a href='file:///home/lizard/.local/lib/python3.8/site-packages/xgboost/sklearn.py?line=1404'>1405</a>\u001b[0m     early_stopping_rounds\u001b[39m=\u001b[39;49mearly_stopping_rounds,\n\u001b[1;32m   <a href='file:///home/lizard/.local/lib/python3.8/site-packages/xgboost/sklearn.py?line=1405'>1406</a>\u001b[0m     evals_result\u001b[39m=\u001b[39;49mevals_result,\n\u001b[1;32m   <a href='file:///home/lizard/.local/lib/python3.8/site-packages/xgboost/sklearn.py?line=1406'>1407</a>\u001b[0m     obj\u001b[39m=\u001b[39;49mobj,\n\u001b[1;32m   <a href='file:///home/lizard/.local/lib/python3.8/site-packages/xgboost/sklearn.py?line=1407'>1408</a>\u001b[0m     custom_metric\u001b[39m=\u001b[39;49mmetric,\n\u001b[1;32m   <a href='file:///home/lizard/.local/lib/python3.8/site-packages/xgboost/sklearn.py?line=1408'>1409</a>\u001b[0m     verbose_eval\u001b[39m=\u001b[39;49mverbose,\n\u001b[1;32m   <a href='file:///home/lizard/.local/lib/python3.8/site-packages/xgboost/sklearn.py?line=1409'>1410</a>\u001b[0m     xgb_model\u001b[39m=\u001b[39;49mmodel,\n\u001b[1;32m   <a href='file:///home/lizard/.local/lib/python3.8/site-packages/xgboost/sklearn.py?line=1410'>1411</a>\u001b[0m     callbacks\u001b[39m=\u001b[39;49mcallbacks,\n\u001b[1;32m   <a href='file:///home/lizard/.local/lib/python3.8/site-packages/xgboost/sklearn.py?line=1411'>1412</a>\u001b[0m )\n\u001b[1;32m   <a href='file:///home/lizard/.local/lib/python3.8/site-packages/xgboost/sklearn.py?line=1413'>1414</a>\u001b[0m \u001b[39mif\u001b[39;00m \u001b[39mnot\u001b[39;00m callable(\u001b[39mself\u001b[39m\u001b[39m.\u001b[39mobjective):\n\u001b[1;32m   <a href='file:///home/lizard/.local/lib/python3.8/site-packages/xgboost/sklearn.py?line=1414'>1415</a>\u001b[0m     \u001b[39mself\u001b[39m\u001b[39m.\u001b[39mobjective \u001b[39m=\u001b[39m params[\u001b[39m\"\u001b[39m\u001b[39mobjective\u001b[39m\u001b[39m\"\u001b[39m]\n",
      "File \u001b[0;32m~/.local/lib/python3.8/site-packages/xgboost/core.py:532\u001b[0m, in \u001b[0;36m_deprecate_positional_args.<locals>.inner_f\u001b[0;34m(*args, **kwargs)\u001b[0m\n\u001b[1;32m    <a href='file:///home/lizard/.local/lib/python3.8/site-packages/xgboost/core.py?line=529'>530</a>\u001b[0m \u001b[39mfor\u001b[39;00m k, arg \u001b[39min\u001b[39;00m \u001b[39mzip\u001b[39m(sig\u001b[39m.\u001b[39mparameters, args):\n\u001b[1;32m    <a href='file:///home/lizard/.local/lib/python3.8/site-packages/xgboost/core.py?line=530'>531</a>\u001b[0m     kwargs[k] \u001b[39m=\u001b[39m arg\n\u001b[0;32m--> <a href='file:///home/lizard/.local/lib/python3.8/site-packages/xgboost/core.py?line=531'>532</a>\u001b[0m \u001b[39mreturn\u001b[39;00m f(\u001b[39m*\u001b[39;49m\u001b[39m*\u001b[39;49mkwargs)\n",
      "File \u001b[0;32m~/.local/lib/python3.8/site-packages/xgboost/training.py:181\u001b[0m, in \u001b[0;36mtrain\u001b[0;34m(params, dtrain, num_boost_round, evals, obj, feval, maximize, early_stopping_rounds, evals_result, verbose_eval, xgb_model, callbacks, custom_metric)\u001b[0m\n\u001b[1;32m    <a href='file:///home/lizard/.local/lib/python3.8/site-packages/xgboost/training.py?line=178'>179</a>\u001b[0m \u001b[39mif\u001b[39;00m cb_container\u001b[39m.\u001b[39mbefore_iteration(bst, i, dtrain, evals):\n\u001b[1;32m    <a href='file:///home/lizard/.local/lib/python3.8/site-packages/xgboost/training.py?line=179'>180</a>\u001b[0m     \u001b[39mbreak\u001b[39;00m\n\u001b[0;32m--> <a href='file:///home/lizard/.local/lib/python3.8/site-packages/xgboost/training.py?line=180'>181</a>\u001b[0m bst\u001b[39m.\u001b[39;49mupdate(dtrain, i, obj)\n\u001b[1;32m    <a href='file:///home/lizard/.local/lib/python3.8/site-packages/xgboost/training.py?line=181'>182</a>\u001b[0m \u001b[39mif\u001b[39;00m cb_container\u001b[39m.\u001b[39mafter_iteration(bst, i, dtrain, evals):\n\u001b[1;32m    <a href='file:///home/lizard/.local/lib/python3.8/site-packages/xgboost/training.py?line=182'>183</a>\u001b[0m     \u001b[39mbreak\u001b[39;00m\n",
      "File \u001b[0;32m~/.local/lib/python3.8/site-packages/xgboost/core.py:1733\u001b[0m, in \u001b[0;36mBooster.update\u001b[0;34m(self, dtrain, iteration, fobj)\u001b[0m\n\u001b[1;32m   <a href='file:///home/lizard/.local/lib/python3.8/site-packages/xgboost/core.py?line=1729'>1730</a>\u001b[0m \u001b[39mself\u001b[39m\u001b[39m.\u001b[39m_validate_features(dtrain)\n\u001b[1;32m   <a href='file:///home/lizard/.local/lib/python3.8/site-packages/xgboost/core.py?line=1731'>1732</a>\u001b[0m \u001b[39mif\u001b[39;00m fobj \u001b[39mis\u001b[39;00m \u001b[39mNone\u001b[39;00m:\n\u001b[0;32m-> <a href='file:///home/lizard/.local/lib/python3.8/site-packages/xgboost/core.py?line=1732'>1733</a>\u001b[0m     _check_call(_LIB\u001b[39m.\u001b[39;49mXGBoosterUpdateOneIter(\u001b[39mself\u001b[39;49m\u001b[39m.\u001b[39;49mhandle,\n\u001b[1;32m   <a href='file:///home/lizard/.local/lib/python3.8/site-packages/xgboost/core.py?line=1733'>1734</a>\u001b[0m                                             ctypes\u001b[39m.\u001b[39;49mc_int(iteration),\n\u001b[1;32m   <a href='file:///home/lizard/.local/lib/python3.8/site-packages/xgboost/core.py?line=1734'>1735</a>\u001b[0m                                             dtrain\u001b[39m.\u001b[39;49mhandle))\n\u001b[1;32m   <a href='file:///home/lizard/.local/lib/python3.8/site-packages/xgboost/core.py?line=1735'>1736</a>\u001b[0m \u001b[39melse\u001b[39;00m:\n\u001b[1;32m   <a href='file:///home/lizard/.local/lib/python3.8/site-packages/xgboost/core.py?line=1736'>1737</a>\u001b[0m     pred \u001b[39m=\u001b[39m \u001b[39mself\u001b[39m\u001b[39m.\u001b[39mpredict(dtrain, output_margin\u001b[39m=\u001b[39m\u001b[39mTrue\u001b[39;00m, training\u001b[39m=\u001b[39m\u001b[39mTrue\u001b[39;00m)\n",
      "\u001b[0;31mKeyboardInterrupt\u001b[0m: "
     ]
    }
   ],
   "source": [
    "parameters_xgb = {'alpha': (0.1,0.5,1,2,3,4,5),'eta': (0.3,0.001,0.1,0.5,1,3,5),'lambda': (0.1,1,5,3,0.5),\n",
    "'colsample_bytree': [0.1, 0.5, 0.8, 1], 'subsample': [0.1,0.5,1]}\n",
    "xgb_grid  = RandomizedSearchCV( XGBClassifier(), param_distributions = parameters_xgb, cv = 5, verbose = True,scoring='accuracy')\n",
    "result_xgb=xgb_grid.fit(x,y_l)\n",
    "    \n",
    "xgb_estimator_result = result_xgb.best_estimator_"
   ]
  },
  {
   "cell_type": "code",
   "execution_count": null,
   "id": "45bf5da3",
   "metadata": {},
   "outputs": [],
   "source": [
    "print(xgb_estimator_result)"
   ]
  },
  {
   "cell_type": "code",
   "execution_count": 20,
   "id": "8fd40847-2a37-49fc-86be-ae08dfff42fa",
   "metadata": {},
   "outputs": [],
   "source": [
    "from sklearn.ensemble import GradientBoostingClassifier"
   ]
  },
  {
   "cell_type": "code",
   "execution_count": 43,
   "id": "3b6724c3-db6c-4655-b0f8-864ae5d4a01b",
   "metadata": {},
   "outputs": [
    {
     "name": "stdout",
     "output_type": "stream",
     "text": [
      "Fitting 5 folds for each of 10 candidates, totalling 50 fits\n",
      "[CV 1/5; 1/10] START min_samples_split=2, n_estimators=140, subsample=1.........\n",
      "[CV 1/5; 1/10] END min_samples_split=2, n_estimators=140, subsample=1;, score=0.116 total time= 9.9min\n",
      "[CV 2/5; 1/10] START min_samples_split=2, n_estimators=140, subsample=1.........\n",
      "[CV 2/5; 1/10] END min_samples_split=2, n_estimators=140, subsample=1;, score=0.828 total time= 9.9min\n",
      "[CV 3/5; 1/10] START min_samples_split=2, n_estimators=140, subsample=1.........\n",
      "[CV 3/5; 1/10] END min_samples_split=2, n_estimators=140, subsample=1;, score=0.095 total time=10.2min\n",
      "[CV 4/5; 1/10] START min_samples_split=2, n_estimators=140, subsample=1.........\n",
      "[CV 4/5; 1/10] END min_samples_split=2, n_estimators=140, subsample=1;, score=0.018 total time= 9.9min\n",
      "[CV 5/5; 1/10] START min_samples_split=2, n_estimators=140, subsample=1.........\n",
      "[CV 5/5; 1/10] END min_samples_split=2, n_estimators=140, subsample=1;, score=0.038 total time=10.2min\n",
      "[CV 1/5; 2/10] START min_samples_split=4, n_estimators=50, subsample=0.1........\n",
      "[CV 1/5; 2/10] END min_samples_split=4, n_estimators=50, subsample=0.1;, score=0.024 total time= 1.0min\n",
      "[CV 2/5; 2/10] START min_samples_split=4, n_estimators=50, subsample=0.1........\n",
      "[CV 2/5; 2/10] END min_samples_split=4, n_estimators=50, subsample=0.1;, score=0.816 total time= 1.0min\n",
      "[CV 3/5; 2/10] START min_samples_split=4, n_estimators=50, subsample=0.1........\n",
      "[CV 3/5; 2/10] END min_samples_split=4, n_estimators=50, subsample=0.1;, score=0.069 total time= 1.1min\n",
      "[CV 4/5; 2/10] START min_samples_split=4, n_estimators=50, subsample=0.1........\n",
      "[CV 4/5; 2/10] END min_samples_split=4, n_estimators=50, subsample=0.1;, score=0.806 total time= 1.1min\n",
      "[CV 5/5; 2/10] START min_samples_split=4, n_estimators=50, subsample=0.1........\n",
      "[CV 5/5; 2/10] END min_samples_split=4, n_estimators=50, subsample=0.1;, score=0.794 total time= 1.0min\n",
      "[CV 1/5; 3/10] START min_samples_split=2, n_estimators=150, subsample=1.........\n",
      "[CV 1/5; 3/10] END min_samples_split=2, n_estimators=150, subsample=1;, score=0.116 total time=11.4min\n",
      "[CV 2/5; 3/10] START min_samples_split=2, n_estimators=150, subsample=1.........\n",
      "[CV 2/5; 3/10] END min_samples_split=2, n_estimators=150, subsample=1;, score=0.828 total time=11.7min\n",
      "[CV 3/5; 3/10] START min_samples_split=2, n_estimators=150, subsample=1.........\n",
      "[CV 3/5; 3/10] END min_samples_split=2, n_estimators=150, subsample=1;, score=0.095 total time=11.7min\n",
      "[CV 4/5; 3/10] START min_samples_split=2, n_estimators=150, subsample=1.........\n",
      "[CV 4/5; 3/10] END min_samples_split=2, n_estimators=150, subsample=1;, score=0.018 total time=11.5min\n",
      "[CV 5/5; 3/10] START min_samples_split=2, n_estimators=150, subsample=1.........\n",
      "[CV 5/5; 3/10] END min_samples_split=2, n_estimators=150, subsample=1;, score=0.038 total time=11.6min\n",
      "[CV 1/5; 4/10] START min_samples_split=4, n_estimators=50, subsample=1..........\n",
      "[CV 1/5; 4/10] END min_samples_split=4, n_estimators=50, subsample=1;, score=0.116 total time= 3.9min\n",
      "[CV 2/5; 4/10] START min_samples_split=4, n_estimators=50, subsample=1..........\n",
      "[CV 2/5; 4/10] END min_samples_split=4, n_estimators=50, subsample=1;, score=0.828 total time= 3.9min\n",
      "[CV 3/5; 4/10] START min_samples_split=4, n_estimators=50, subsample=1..........\n",
      "[CV 3/5; 4/10] END min_samples_split=4, n_estimators=50, subsample=1;, score=0.095 total time= 3.8min\n",
      "[CV 4/5; 4/10] START min_samples_split=4, n_estimators=50, subsample=1..........\n",
      "[CV 4/5; 4/10] END min_samples_split=4, n_estimators=50, subsample=1;, score=0.018 total time= 3.9min\n",
      "[CV 5/5; 4/10] START min_samples_split=4, n_estimators=50, subsample=1..........\n",
      "[CV 5/5; 4/10] END min_samples_split=4, n_estimators=50, subsample=1;, score=0.038 total time= 3.9min\n",
      "[CV 1/5; 5/10] START min_samples_split=2, n_estimators=150, subsample=0.5.......\n",
      "[CV 1/5; 5/10] END min_samples_split=2, n_estimators=150, subsample=0.5;, score=0.089 total time= 7.3min\n",
      "[CV 2/5; 5/10] START min_samples_split=2, n_estimators=150, subsample=0.5.......\n",
      "[CV 2/5; 5/10] END min_samples_split=2, n_estimators=150, subsample=0.5;, score=0.835 total time= 7.2min\n",
      "[CV 3/5; 5/10] START min_samples_split=2, n_estimators=150, subsample=0.5.......\n",
      "[CV 3/5; 5/10] END min_samples_split=2, n_estimators=150, subsample=0.5;, score=0.801 total time= 7.3min\n",
      "[CV 4/5; 5/10] START min_samples_split=2, n_estimators=150, subsample=0.5.......\n",
      "[CV 4/5; 5/10] END min_samples_split=2, n_estimators=150, subsample=0.5;, score=0.846 total time= 7.3min\n",
      "[CV 5/5; 5/10] START min_samples_split=2, n_estimators=150, subsample=0.5.......\n",
      "[CV 5/5; 5/10] END min_samples_split=2, n_estimators=150, subsample=0.5;, score=0.450 total time= 6.6min\n",
      "[CV 1/5; 6/10] START min_samples_split=4, n_estimators=140, subsample=1.........\n",
      "[CV 1/5; 6/10] END min_samples_split=4, n_estimators=140, subsample=1;, score=0.116 total time= 9.1min\n",
      "[CV 2/5; 6/10] START min_samples_split=4, n_estimators=140, subsample=1.........\n",
      "[CV 2/5; 6/10] END min_samples_split=4, n_estimators=140, subsample=1;, score=0.828 total time= 9.5min\n",
      "[CV 3/5; 6/10] START min_samples_split=4, n_estimators=140, subsample=1.........\n",
      "[CV 3/5; 6/10] END min_samples_split=4, n_estimators=140, subsample=1;, score=0.095 total time= 9.1min\n",
      "[CV 4/5; 6/10] START min_samples_split=4, n_estimators=140, subsample=1.........\n",
      "[CV 4/5; 6/10] END min_samples_split=4, n_estimators=140, subsample=1;, score=0.018 total time= 9.3min\n",
      "[CV 5/5; 6/10] START min_samples_split=4, n_estimators=140, subsample=1.........\n",
      "[CV 5/5; 6/10] END min_samples_split=4, n_estimators=140, subsample=1;, score=0.038 total time= 9.3min\n",
      "[CV 1/5; 7/10] START min_samples_split=4, n_estimators=120, subsample=0.5.......\n",
      "[CV 1/5; 7/10] END min_samples_split=4, n_estimators=120, subsample=0.5;, score=0.822 total time= 4.9min\n",
      "[CV 2/5; 7/10] START min_samples_split=4, n_estimators=120, subsample=0.5.......\n",
      "[CV 2/5; 7/10] END min_samples_split=4, n_estimators=120, subsample=0.5;, score=0.824 total time= 4.9min\n",
      "[CV 3/5; 7/10] START min_samples_split=4, n_estimators=120, subsample=0.5.......\n",
      "[CV 3/5; 7/10] END min_samples_split=4, n_estimators=120, subsample=0.5;, score=0.065 total time= 4.9min\n",
      "[CV 4/5; 7/10] START min_samples_split=4, n_estimators=120, subsample=0.5.......\n",
      "[CV 4/5; 7/10] END min_samples_split=4, n_estimators=120, subsample=0.5;, score=0.090 total time= 4.9min\n",
      "[CV 5/5; 7/10] START min_samples_split=4, n_estimators=120, subsample=0.5.......\n",
      "[CV 5/5; 7/10] END min_samples_split=4, n_estimators=120, subsample=0.5;, score=0.825 total time= 4.9min\n",
      "[CV 1/5; 8/10] START min_samples_split=2, n_estimators=140, subsample=0.1.......\n",
      "[CV 1/5; 8/10] END min_samples_split=2, n_estimators=140, subsample=0.1;, score=0.810 total time= 2.7min\n",
      "[CV 2/5; 8/10] START min_samples_split=2, n_estimators=140, subsample=0.1.......\n",
      "[CV 2/5; 8/10] END min_samples_split=2, n_estimators=140, subsample=0.1;, score=0.780 total time= 2.7min\n",
      "[CV 3/5; 8/10] START min_samples_split=2, n_estimators=140, subsample=0.1.......\n",
      "[CV 3/5; 8/10] END min_samples_split=2, n_estimators=140, subsample=0.1;, score=0.813 total time= 2.7min\n",
      "[CV 4/5; 8/10] START min_samples_split=2, n_estimators=140, subsample=0.1.......\n",
      "[CV 4/5; 8/10] END min_samples_split=2, n_estimators=140, subsample=0.1;, score=0.837 total time= 2.7min\n",
      "[CV 5/5; 8/10] START min_samples_split=2, n_estimators=140, subsample=0.1.......\n",
      "[CV 5/5; 8/10] END min_samples_split=2, n_estimators=140, subsample=0.1;, score=0.806 total time= 2.7min\n",
      "[CV 1/5; 9/10] START min_samples_split=2, n_estimators=50, subsample=0.5........\n",
      "[CV 1/5; 9/10] END min_samples_split=2, n_estimators=50, subsample=0.5;, score=0.825 total time= 2.0min\n",
      "[CV 2/5; 9/10] START min_samples_split=2, n_estimators=50, subsample=0.5........\n",
      "[CV 2/5; 9/10] END min_samples_split=2, n_estimators=50, subsample=0.5;, score=0.041 total time= 2.0min\n",
      "[CV 3/5; 9/10] START min_samples_split=2, n_estimators=50, subsample=0.5........\n",
      "[CV 3/5; 9/10] END min_samples_split=2, n_estimators=50, subsample=0.5;, score=0.829 total time= 2.0min\n",
      "[CV 4/5; 9/10] START min_samples_split=2, n_estimators=50, subsample=0.5........\n",
      "[CV 4/5; 9/10] END min_samples_split=2, n_estimators=50, subsample=0.5;, score=0.016 total time= 2.0min\n",
      "[CV 5/5; 9/10] START min_samples_split=2, n_estimators=50, subsample=0.5........\n",
      "[CV 5/5; 9/10] END min_samples_split=2, n_estimators=50, subsample=0.5;, score=0.816 total time= 2.0min\n",
      "[CV 1/5; 10/10] START min_samples_split=2, n_estimators=50, subsample=0.1.......\n",
      "[CV 1/5; 10/10] END min_samples_split=2, n_estimators=50, subsample=0.1;, score=0.814 total time=  57.0s\n",
      "[CV 2/5; 10/10] START min_samples_split=2, n_estimators=50, subsample=0.1.......\n",
      "[CV 2/5; 10/10] END min_samples_split=2, n_estimators=50, subsample=0.1;, score=0.794 total time=  58.1s\n",
      "[CV 3/5; 10/10] START min_samples_split=2, n_estimators=50, subsample=0.1.......\n",
      "[CV 3/5; 10/10] END min_samples_split=2, n_estimators=50, subsample=0.1;, score=0.388 total time=  56.9s\n",
      "[CV 4/5; 10/10] START min_samples_split=2, n_estimators=50, subsample=0.1.......\n",
      "[CV 4/5; 10/10] END min_samples_split=2, n_estimators=50, subsample=0.1;, score=0.093 total time=  56.9s\n",
      "[CV 5/5; 10/10] START min_samples_split=2, n_estimators=50, subsample=0.1.......\n",
      "[CV 5/5; 10/10] END min_samples_split=2, n_estimators=50, subsample=0.1;, score=0.043 total time=  57.6s\n"
     ]
    }
   ],
   "source": [
    "parameters_grb = {'n_estimators': (50,100,120,140,150),'min_samples_split' : (2,4),'subsample' : (0.1,0.5,1)}\n",
    "                                                                                                                                     \n",
    "grb_grid  = RandomizedSearchCV( GradientBoostingClassifier(learning_rate=10000), param_distributions = parameters_grb, cv = 5, verbose = 50,scoring='accuracy')\n",
    "result=grb_grid.fit(x,y)\n",
    "    \n",
    "grb_estimator_result = result.best_estimator_"
   ]
  },
  {
   "cell_type": "code",
   "execution_count": 44,
   "id": "04d10a17-c3d3-4602-b079-5572efbf8a3d",
   "metadata": {},
   "outputs": [
    {
     "name": "stdout",
     "output_type": "stream",
     "text": [
      "GradientBoostingClassifier(learning_rate=10000, n_estimators=140, subsample=0.1)\n"
     ]
    }
   ],
   "source": [
    "print(grb_estimator_result)"
   ]
  },
  {
   "cell_type": "code",
   "execution_count": 16,
   "id": "e9ec56ee-c1bd-4643-8347-aea1ecaa10e3",
   "metadata": {},
   "outputs": [],
   "source": [
    "from sklearn.ensemble import AdaBoostClassifier"
   ]
  },
  {
   "cell_type": "code",
   "execution_count": 17,
   "id": "aa2727d7-67f9-4626-93e2-e6d5e5817f4f",
   "metadata": {},
   "outputs": [
    {
     "name": "stdout",
     "output_type": "stream",
     "text": [
      "Fitting 5 folds for each of 10 candidates, totalling 50 fits\n",
      "[CV 1/5; 1/10] START algorithm=SAMME.R, learning_rate=1.03, n_estimators=9, random_state=2\n",
      "[CV 1/5; 1/10] END algorithm=SAMME.R, learning_rate=1.03, n_estimators=9, random_state=2;, score=0.864 total time=   4.1s\n",
      "[CV 2/5; 1/10] START algorithm=SAMME.R, learning_rate=1.03, n_estimators=9, random_state=2\n",
      "[CV 2/5; 1/10] END algorithm=SAMME.R, learning_rate=1.03, n_estimators=9, random_state=2;, score=0.863 total time=   3.9s\n",
      "[CV 3/5; 1/10] START algorithm=SAMME.R, learning_rate=1.03, n_estimators=9, random_state=2\n"
     ]
    },
    {
     "ename": "KeyboardInterrupt",
     "evalue": "",
     "output_type": "error",
     "traceback": [
      "\u001b[0;31m---------------------------------------------------------------------------\u001b[0m",
      "\u001b[0;31mKeyboardInterrupt\u001b[0m                         Traceback (most recent call last)",
      "\u001b[1;32m/home/lizard/Downloads/UNSW code/Hyper_parameter_Optimization_Fatin_01/Hyper_parameter_optimization_Fatin_02.ipynb Cell 34'\u001b[0m in \u001b[0;36m<cell line: 16>\u001b[0;34m()\u001b[0m\n\u001b[1;32m      <a href='vscode-notebook-cell:/home/lizard/Downloads/UNSW%20code/Hyper_parameter_Optimization_Fatin_01/Hyper_parameter_optimization_Fatin_02.ipynb#ch0000033?line=0'>1</a>\u001b[0m parameters_adaboost \u001b[39m=\u001b[39m {\n\u001b[1;32m      <a href='vscode-notebook-cell:/home/lizard/Downloads/UNSW%20code/Hyper_parameter_Optimization_Fatin_01/Hyper_parameter_optimization_Fatin_02.ipynb#ch0000033?line=1'>2</a>\u001b[0m     \u001b[39m'\u001b[39m\u001b[39mn_estimators\u001b[39m\u001b[39m'\u001b[39m: [\u001b[39m2\u001b[39m, \u001b[39m3\u001b[39m, \u001b[39m4\u001b[39m, \u001b[39m5\u001b[39m, \u001b[39m6\u001b[39m, \u001b[39m7\u001b[39m, \u001b[39m8\u001b[39m, \u001b[39m9\u001b[39m, \u001b[39m10\u001b[39m, \u001b[39m11\u001b[39m, \u001b[39m12\u001b[39m, \u001b[39m20\u001b[39m],\n\u001b[1;32m      <a href='vscode-notebook-cell:/home/lizard/Downloads/UNSW%20code/Hyper_parameter_Optimization_Fatin_01/Hyper_parameter_optimization_Fatin_02.ipynb#ch0000033?line=2'>3</a>\u001b[0m     \u001b[39m'\u001b[39m\u001b[39mlearning_rate\u001b[39m\u001b[39m'\u001b[39m: [(\u001b[39m0.97\u001b[39m \u001b[39m+\u001b[39m x \u001b[39m/\u001b[39m \u001b[39m100\u001b[39m) \u001b[39mfor\u001b[39;00m x \u001b[39min\u001b[39;00m \u001b[39mrange\u001b[39m(\u001b[39m0\u001b[39m, \u001b[39m8\u001b[39m)],\n\u001b[1;32m      <a href='vscode-notebook-cell:/home/lizard/Downloads/UNSW%20code/Hyper_parameter_Optimization_Fatin_01/Hyper_parameter_optimization_Fatin_02.ipynb#ch0000033?line=3'>4</a>\u001b[0m     \u001b[39m'\u001b[39m\u001b[39malgorithm\u001b[39m\u001b[39m'\u001b[39m: [\u001b[39m'\u001b[39m\u001b[39mSAMME\u001b[39m\u001b[39m'\u001b[39m, \u001b[39m'\u001b[39m\u001b[39mSAMME.R\u001b[39m\u001b[39m'\u001b[39m],\n\u001b[1;32m      <a href='vscode-notebook-cell:/home/lizard/Downloads/UNSW%20code/Hyper_parameter_Optimization_Fatin_01/Hyper_parameter_optimization_Fatin_02.ipynb#ch0000033?line=4'>5</a>\u001b[0m     \u001b[39m'\u001b[39m\u001b[39mrandom_state\u001b[39m\u001b[39m'\u001b[39m: [\u001b[39m0\u001b[39m, \u001b[39m1\u001b[39m, \u001b[39m2\u001b[39m]\n\u001b[1;32m      <a href='vscode-notebook-cell:/home/lizard/Downloads/UNSW%20code/Hyper_parameter_Optimization_Fatin_01/Hyper_parameter_optimization_Fatin_02.ipynb#ch0000033?line=5'>6</a>\u001b[0m }\n\u001b[1;32m      <a href='vscode-notebook-cell:/home/lizard/Downloads/UNSW%20code/Hyper_parameter_Optimization_Fatin_01/Hyper_parameter_optimization_Fatin_02.ipynb#ch0000033?line=7'>8</a>\u001b[0m adaboost_rcv \u001b[39m=\u001b[39m RandomizedSearchCV(\n\u001b[1;32m      <a href='vscode-notebook-cell:/home/lizard/Downloads/UNSW%20code/Hyper_parameter_Optimization_Fatin_01/Hyper_parameter_optimization_Fatin_02.ipynb#ch0000033?line=8'>9</a>\u001b[0m     AdaBoostClassifier(),\n\u001b[1;32m     <a href='vscode-notebook-cell:/home/lizard/Downloads/UNSW%20code/Hyper_parameter_Optimization_Fatin_01/Hyper_parameter_optimization_Fatin_02.ipynb#ch0000033?line=9'>10</a>\u001b[0m     param_distributions\u001b[39m=\u001b[39mparameters_adaboost,\n\u001b[0;32m   (...)\u001b[0m\n\u001b[1;32m     <a href='vscode-notebook-cell:/home/lizard/Downloads/UNSW%20code/Hyper_parameter_Optimization_Fatin_01/Hyper_parameter_optimization_Fatin_02.ipynb#ch0000033?line=12'>13</a>\u001b[0m     scoring\u001b[39m=\u001b[39m\u001b[39m'\u001b[39m\u001b[39maccuracy\u001b[39m\u001b[39m'\u001b[39m\n\u001b[1;32m     <a href='vscode-notebook-cell:/home/lizard/Downloads/UNSW%20code/Hyper_parameter_Optimization_Fatin_01/Hyper_parameter_optimization_Fatin_02.ipynb#ch0000033?line=13'>14</a>\u001b[0m )\n\u001b[0;32m---> <a href='vscode-notebook-cell:/home/lizard/Downloads/UNSW%20code/Hyper_parameter_Optimization_Fatin_01/Hyper_parameter_optimization_Fatin_02.ipynb#ch0000033?line=15'>16</a>\u001b[0m adaboost_result \u001b[39m=\u001b[39m adaboost_rcv\u001b[39m.\u001b[39mfit(x, y_l)\n\u001b[1;32m     <a href='vscode-notebook-cell:/home/lizard/Downloads/UNSW%20code/Hyper_parameter_Optimization_Fatin_01/Hyper_parameter_optimization_Fatin_02.ipynb#ch0000033?line=17'>18</a>\u001b[0m \u001b[39mprint\u001b[39m(adaboost_result\u001b[39m.\u001b[39mbest_estimator_)\n\u001b[1;32m     <a href='vscode-notebook-cell:/home/lizard/Downloads/UNSW%20code/Hyper_parameter_Optimization_Fatin_01/Hyper_parameter_optimization_Fatin_02.ipynb#ch0000033?line=18'>19</a>\u001b[0m \u001b[39mprint\u001b[39m(adaboost_result\u001b[39m.\u001b[39mbest_score_)\n",
      "File \u001b[0;32m~/.local/lib/python3.8/site-packages/sklearn/model_selection/_search.py:875\u001b[0m, in \u001b[0;36mBaseSearchCV.fit\u001b[0;34m(self, X, y, groups, **fit_params)\u001b[0m\n\u001b[1;32m    <a href='file:///home/lizard/.local/lib/python3.8/site-packages/sklearn/model_selection/_search.py?line=868'>869</a>\u001b[0m     results \u001b[39m=\u001b[39m \u001b[39mself\u001b[39m\u001b[39m.\u001b[39m_format_results(\n\u001b[1;32m    <a href='file:///home/lizard/.local/lib/python3.8/site-packages/sklearn/model_selection/_search.py?line=869'>870</a>\u001b[0m         all_candidate_params, n_splits, all_out, all_more_results\n\u001b[1;32m    <a href='file:///home/lizard/.local/lib/python3.8/site-packages/sklearn/model_selection/_search.py?line=870'>871</a>\u001b[0m     )\n\u001b[1;32m    <a href='file:///home/lizard/.local/lib/python3.8/site-packages/sklearn/model_selection/_search.py?line=872'>873</a>\u001b[0m     \u001b[39mreturn\u001b[39;00m results\n\u001b[0;32m--> <a href='file:///home/lizard/.local/lib/python3.8/site-packages/sklearn/model_selection/_search.py?line=874'>875</a>\u001b[0m \u001b[39mself\u001b[39;49m\u001b[39m.\u001b[39;49m_run_search(evaluate_candidates)\n\u001b[1;32m    <a href='file:///home/lizard/.local/lib/python3.8/site-packages/sklearn/model_selection/_search.py?line=876'>877</a>\u001b[0m \u001b[39m# multimetric is determined here because in the case of a callable\u001b[39;00m\n\u001b[1;32m    <a href='file:///home/lizard/.local/lib/python3.8/site-packages/sklearn/model_selection/_search.py?line=877'>878</a>\u001b[0m \u001b[39m# self.scoring the return type is only known after calling\u001b[39;00m\n\u001b[1;32m    <a href='file:///home/lizard/.local/lib/python3.8/site-packages/sklearn/model_selection/_search.py?line=878'>879</a>\u001b[0m first_test_score \u001b[39m=\u001b[39m all_out[\u001b[39m0\u001b[39m][\u001b[39m\"\u001b[39m\u001b[39mtest_scores\u001b[39m\u001b[39m\"\u001b[39m]\n",
      "File \u001b[0;32m~/.local/lib/python3.8/site-packages/sklearn/model_selection/_search.py:1749\u001b[0m, in \u001b[0;36mRandomizedSearchCV._run_search\u001b[0;34m(self, evaluate_candidates)\u001b[0m\n\u001b[1;32m   <a href='file:///home/lizard/.local/lib/python3.8/site-packages/sklearn/model_selection/_search.py?line=1746'>1747</a>\u001b[0m \u001b[39mdef\u001b[39;00m \u001b[39m_run_search\u001b[39m(\u001b[39mself\u001b[39m, evaluate_candidates):\n\u001b[1;32m   <a href='file:///home/lizard/.local/lib/python3.8/site-packages/sklearn/model_selection/_search.py?line=1747'>1748</a>\u001b[0m     \u001b[39m\"\"\"Search n_iter candidates from param_distributions\"\"\"\u001b[39;00m\n\u001b[0;32m-> <a href='file:///home/lizard/.local/lib/python3.8/site-packages/sklearn/model_selection/_search.py?line=1748'>1749</a>\u001b[0m     evaluate_candidates(\n\u001b[1;32m   <a href='file:///home/lizard/.local/lib/python3.8/site-packages/sklearn/model_selection/_search.py?line=1749'>1750</a>\u001b[0m         ParameterSampler(\n\u001b[1;32m   <a href='file:///home/lizard/.local/lib/python3.8/site-packages/sklearn/model_selection/_search.py?line=1750'>1751</a>\u001b[0m             \u001b[39mself\u001b[39;49m\u001b[39m.\u001b[39;49mparam_distributions, \u001b[39mself\u001b[39;49m\u001b[39m.\u001b[39;49mn_iter, random_state\u001b[39m=\u001b[39;49m\u001b[39mself\u001b[39;49m\u001b[39m.\u001b[39;49mrandom_state\n\u001b[1;32m   <a href='file:///home/lizard/.local/lib/python3.8/site-packages/sklearn/model_selection/_search.py?line=1751'>1752</a>\u001b[0m         )\n\u001b[1;32m   <a href='file:///home/lizard/.local/lib/python3.8/site-packages/sklearn/model_selection/_search.py?line=1752'>1753</a>\u001b[0m     )\n",
      "File \u001b[0;32m~/.local/lib/python3.8/site-packages/sklearn/model_selection/_search.py:822\u001b[0m, in \u001b[0;36mBaseSearchCV.fit.<locals>.evaluate_candidates\u001b[0;34m(candidate_params, cv, more_results)\u001b[0m\n\u001b[1;32m    <a href='file:///home/lizard/.local/lib/python3.8/site-packages/sklearn/model_selection/_search.py?line=813'>814</a>\u001b[0m \u001b[39mif\u001b[39;00m \u001b[39mself\u001b[39m\u001b[39m.\u001b[39mverbose \u001b[39m>\u001b[39m \u001b[39m0\u001b[39m:\n\u001b[1;32m    <a href='file:///home/lizard/.local/lib/python3.8/site-packages/sklearn/model_selection/_search.py?line=814'>815</a>\u001b[0m     \u001b[39mprint\u001b[39m(\n\u001b[1;32m    <a href='file:///home/lizard/.local/lib/python3.8/site-packages/sklearn/model_selection/_search.py?line=815'>816</a>\u001b[0m         \u001b[39m\"\u001b[39m\u001b[39mFitting \u001b[39m\u001b[39m{0}\u001b[39;00m\u001b[39m folds for each of \u001b[39m\u001b[39m{1}\u001b[39;00m\u001b[39m candidates,\u001b[39m\u001b[39m\"\u001b[39m\n\u001b[1;32m    <a href='file:///home/lizard/.local/lib/python3.8/site-packages/sklearn/model_selection/_search.py?line=816'>817</a>\u001b[0m         \u001b[39m\"\u001b[39m\u001b[39m totalling \u001b[39m\u001b[39m{2}\u001b[39;00m\u001b[39m fits\u001b[39m\u001b[39m\"\u001b[39m\u001b[39m.\u001b[39mformat(\n\u001b[1;32m    <a href='file:///home/lizard/.local/lib/python3.8/site-packages/sklearn/model_selection/_search.py?line=817'>818</a>\u001b[0m             n_splits, n_candidates, n_candidates \u001b[39m*\u001b[39m n_splits\n\u001b[1;32m    <a href='file:///home/lizard/.local/lib/python3.8/site-packages/sklearn/model_selection/_search.py?line=818'>819</a>\u001b[0m         )\n\u001b[1;32m    <a href='file:///home/lizard/.local/lib/python3.8/site-packages/sklearn/model_selection/_search.py?line=819'>820</a>\u001b[0m     )\n\u001b[0;32m--> <a href='file:///home/lizard/.local/lib/python3.8/site-packages/sklearn/model_selection/_search.py?line=821'>822</a>\u001b[0m out \u001b[39m=\u001b[39m parallel(\n\u001b[1;32m    <a href='file:///home/lizard/.local/lib/python3.8/site-packages/sklearn/model_selection/_search.py?line=822'>823</a>\u001b[0m     delayed(_fit_and_score)(\n\u001b[1;32m    <a href='file:///home/lizard/.local/lib/python3.8/site-packages/sklearn/model_selection/_search.py?line=823'>824</a>\u001b[0m         clone(base_estimator),\n\u001b[1;32m    <a href='file:///home/lizard/.local/lib/python3.8/site-packages/sklearn/model_selection/_search.py?line=824'>825</a>\u001b[0m         X,\n\u001b[1;32m    <a href='file:///home/lizard/.local/lib/python3.8/site-packages/sklearn/model_selection/_search.py?line=825'>826</a>\u001b[0m         y,\n\u001b[1;32m    <a href='file:///home/lizard/.local/lib/python3.8/site-packages/sklearn/model_selection/_search.py?line=826'>827</a>\u001b[0m         train\u001b[39m=\u001b[39;49mtrain,\n\u001b[1;32m    <a href='file:///home/lizard/.local/lib/python3.8/site-packages/sklearn/model_selection/_search.py?line=827'>828</a>\u001b[0m         test\u001b[39m=\u001b[39;49mtest,\n\u001b[1;32m    <a href='file:///home/lizard/.local/lib/python3.8/site-packages/sklearn/model_selection/_search.py?line=828'>829</a>\u001b[0m         parameters\u001b[39m=\u001b[39;49mparameters,\n\u001b[1;32m    <a href='file:///home/lizard/.local/lib/python3.8/site-packages/sklearn/model_selection/_search.py?line=829'>830</a>\u001b[0m         split_progress\u001b[39m=\u001b[39;49m(split_idx, n_splits),\n\u001b[1;32m    <a href='file:///home/lizard/.local/lib/python3.8/site-packages/sklearn/model_selection/_search.py?line=830'>831</a>\u001b[0m         candidate_progress\u001b[39m=\u001b[39;49m(cand_idx, n_candidates),\n\u001b[1;32m    <a href='file:///home/lizard/.local/lib/python3.8/site-packages/sklearn/model_selection/_search.py?line=831'>832</a>\u001b[0m         \u001b[39m*\u001b[39;49m\u001b[39m*\u001b[39;49mfit_and_score_kwargs,\n\u001b[1;32m    <a href='file:///home/lizard/.local/lib/python3.8/site-packages/sklearn/model_selection/_search.py?line=832'>833</a>\u001b[0m     )\n\u001b[1;32m    <a href='file:///home/lizard/.local/lib/python3.8/site-packages/sklearn/model_selection/_search.py?line=833'>834</a>\u001b[0m     \u001b[39mfor\u001b[39;49;00m (cand_idx, parameters), (split_idx, (train, test)) \u001b[39min\u001b[39;49;00m product(\n\u001b[1;32m    <a href='file:///home/lizard/.local/lib/python3.8/site-packages/sklearn/model_selection/_search.py?line=834'>835</a>\u001b[0m         \u001b[39menumerate\u001b[39;49m(candidate_params), \u001b[39menumerate\u001b[39;49m(cv\u001b[39m.\u001b[39;49msplit(X, y, groups))\n\u001b[1;32m    <a href='file:///home/lizard/.local/lib/python3.8/site-packages/sklearn/model_selection/_search.py?line=835'>836</a>\u001b[0m     )\n\u001b[1;32m    <a href='file:///home/lizard/.local/lib/python3.8/site-packages/sklearn/model_selection/_search.py?line=836'>837</a>\u001b[0m )\n\u001b[1;32m    <a href='file:///home/lizard/.local/lib/python3.8/site-packages/sklearn/model_selection/_search.py?line=838'>839</a>\u001b[0m \u001b[39mif\u001b[39;00m \u001b[39mlen\u001b[39m(out) \u001b[39m<\u001b[39m \u001b[39m1\u001b[39m:\n\u001b[1;32m    <a href='file:///home/lizard/.local/lib/python3.8/site-packages/sklearn/model_selection/_search.py?line=839'>840</a>\u001b[0m     \u001b[39mraise\u001b[39;00m \u001b[39mValueError\u001b[39;00m(\n\u001b[1;32m    <a href='file:///home/lizard/.local/lib/python3.8/site-packages/sklearn/model_selection/_search.py?line=840'>841</a>\u001b[0m         \u001b[39m\"\u001b[39m\u001b[39mNo fits were performed. \u001b[39m\u001b[39m\"\u001b[39m\n\u001b[1;32m    <a href='file:///home/lizard/.local/lib/python3.8/site-packages/sklearn/model_selection/_search.py?line=841'>842</a>\u001b[0m         \u001b[39m\"\u001b[39m\u001b[39mWas the CV iterator empty? \u001b[39m\u001b[39m\"\u001b[39m\n\u001b[1;32m    <a href='file:///home/lizard/.local/lib/python3.8/site-packages/sklearn/model_selection/_search.py?line=842'>843</a>\u001b[0m         \u001b[39m\"\u001b[39m\u001b[39mWere there no candidates?\u001b[39m\u001b[39m\"\u001b[39m\n\u001b[1;32m    <a href='file:///home/lizard/.local/lib/python3.8/site-packages/sklearn/model_selection/_search.py?line=843'>844</a>\u001b[0m     )\n",
      "File \u001b[0;32m~/.local/lib/python3.8/site-packages/joblib/parallel.py:1046\u001b[0m, in \u001b[0;36mParallel.__call__\u001b[0;34m(self, iterable)\u001b[0m\n\u001b[1;32m   <a href='file:///home/lizard/.local/lib/python3.8/site-packages/joblib/parallel.py?line=1042'>1043</a>\u001b[0m \u001b[39mif\u001b[39;00m \u001b[39mself\u001b[39m\u001b[39m.\u001b[39mdispatch_one_batch(iterator):\n\u001b[1;32m   <a href='file:///home/lizard/.local/lib/python3.8/site-packages/joblib/parallel.py?line=1043'>1044</a>\u001b[0m     \u001b[39mself\u001b[39m\u001b[39m.\u001b[39m_iterating \u001b[39m=\u001b[39m \u001b[39mself\u001b[39m\u001b[39m.\u001b[39m_original_iterator \u001b[39mis\u001b[39;00m \u001b[39mnot\u001b[39;00m \u001b[39mNone\u001b[39;00m\n\u001b[0;32m-> <a href='file:///home/lizard/.local/lib/python3.8/site-packages/joblib/parallel.py?line=1045'>1046</a>\u001b[0m \u001b[39mwhile\u001b[39;00m \u001b[39mself\u001b[39;49m\u001b[39m.\u001b[39;49mdispatch_one_batch(iterator):\n\u001b[1;32m   <a href='file:///home/lizard/.local/lib/python3.8/site-packages/joblib/parallel.py?line=1046'>1047</a>\u001b[0m     \u001b[39mpass\u001b[39;00m\n\u001b[1;32m   <a href='file:///home/lizard/.local/lib/python3.8/site-packages/joblib/parallel.py?line=1048'>1049</a>\u001b[0m \u001b[39mif\u001b[39;00m pre_dispatch \u001b[39m==\u001b[39m \u001b[39m\"\u001b[39m\u001b[39mall\u001b[39m\u001b[39m\"\u001b[39m \u001b[39mor\u001b[39;00m n_jobs \u001b[39m==\u001b[39m \u001b[39m1\u001b[39m:\n\u001b[1;32m   <a href='file:///home/lizard/.local/lib/python3.8/site-packages/joblib/parallel.py?line=1049'>1050</a>\u001b[0m     \u001b[39m# The iterable was consumed all at once by the above for loop.\u001b[39;00m\n\u001b[1;32m   <a href='file:///home/lizard/.local/lib/python3.8/site-packages/joblib/parallel.py?line=1050'>1051</a>\u001b[0m     \u001b[39m# No need to wait for async callbacks to trigger to\u001b[39;00m\n\u001b[1;32m   <a href='file:///home/lizard/.local/lib/python3.8/site-packages/joblib/parallel.py?line=1051'>1052</a>\u001b[0m     \u001b[39m# consumption.\u001b[39;00m\n",
      "File \u001b[0;32m~/.local/lib/python3.8/site-packages/joblib/parallel.py:861\u001b[0m, in \u001b[0;36mParallel.dispatch_one_batch\u001b[0;34m(self, iterator)\u001b[0m\n\u001b[1;32m    <a href='file:///home/lizard/.local/lib/python3.8/site-packages/joblib/parallel.py?line=858'>859</a>\u001b[0m     \u001b[39mreturn\u001b[39;00m \u001b[39mFalse\u001b[39;00m\n\u001b[1;32m    <a href='file:///home/lizard/.local/lib/python3.8/site-packages/joblib/parallel.py?line=859'>860</a>\u001b[0m \u001b[39melse\u001b[39;00m:\n\u001b[0;32m--> <a href='file:///home/lizard/.local/lib/python3.8/site-packages/joblib/parallel.py?line=860'>861</a>\u001b[0m     \u001b[39mself\u001b[39;49m\u001b[39m.\u001b[39;49m_dispatch(tasks)\n\u001b[1;32m    <a href='file:///home/lizard/.local/lib/python3.8/site-packages/joblib/parallel.py?line=861'>862</a>\u001b[0m     \u001b[39mreturn\u001b[39;00m \u001b[39mTrue\u001b[39;00m\n",
      "File \u001b[0;32m~/.local/lib/python3.8/site-packages/joblib/parallel.py:779\u001b[0m, in \u001b[0;36mParallel._dispatch\u001b[0;34m(self, batch)\u001b[0m\n\u001b[1;32m    <a href='file:///home/lizard/.local/lib/python3.8/site-packages/joblib/parallel.py?line=776'>777</a>\u001b[0m \u001b[39mwith\u001b[39;00m \u001b[39mself\u001b[39m\u001b[39m.\u001b[39m_lock:\n\u001b[1;32m    <a href='file:///home/lizard/.local/lib/python3.8/site-packages/joblib/parallel.py?line=777'>778</a>\u001b[0m     job_idx \u001b[39m=\u001b[39m \u001b[39mlen\u001b[39m(\u001b[39mself\u001b[39m\u001b[39m.\u001b[39m_jobs)\n\u001b[0;32m--> <a href='file:///home/lizard/.local/lib/python3.8/site-packages/joblib/parallel.py?line=778'>779</a>\u001b[0m     job \u001b[39m=\u001b[39m \u001b[39mself\u001b[39;49m\u001b[39m.\u001b[39;49m_backend\u001b[39m.\u001b[39;49mapply_async(batch, callback\u001b[39m=\u001b[39;49mcb)\n\u001b[1;32m    <a href='file:///home/lizard/.local/lib/python3.8/site-packages/joblib/parallel.py?line=779'>780</a>\u001b[0m     \u001b[39m# A job can complete so quickly than its callback is\u001b[39;00m\n\u001b[1;32m    <a href='file:///home/lizard/.local/lib/python3.8/site-packages/joblib/parallel.py?line=780'>781</a>\u001b[0m     \u001b[39m# called before we get here, causing self._jobs to\u001b[39;00m\n\u001b[1;32m    <a href='file:///home/lizard/.local/lib/python3.8/site-packages/joblib/parallel.py?line=781'>782</a>\u001b[0m     \u001b[39m# grow. To ensure correct results ordering, .insert is\u001b[39;00m\n\u001b[1;32m    <a href='file:///home/lizard/.local/lib/python3.8/site-packages/joblib/parallel.py?line=782'>783</a>\u001b[0m     \u001b[39m# used (rather than .append) in the following line\u001b[39;00m\n\u001b[1;32m    <a href='file:///home/lizard/.local/lib/python3.8/site-packages/joblib/parallel.py?line=783'>784</a>\u001b[0m     \u001b[39mself\u001b[39m\u001b[39m.\u001b[39m_jobs\u001b[39m.\u001b[39minsert(job_idx, job)\n",
      "File \u001b[0;32m~/.local/lib/python3.8/site-packages/joblib/_parallel_backends.py:208\u001b[0m, in \u001b[0;36mSequentialBackend.apply_async\u001b[0;34m(self, func, callback)\u001b[0m\n\u001b[1;32m    <a href='file:///home/lizard/.local/lib/python3.8/site-packages/joblib/_parallel_backends.py?line=205'>206</a>\u001b[0m \u001b[39mdef\u001b[39;00m \u001b[39mapply_async\u001b[39m(\u001b[39mself\u001b[39m, func, callback\u001b[39m=\u001b[39m\u001b[39mNone\u001b[39;00m):\n\u001b[1;32m    <a href='file:///home/lizard/.local/lib/python3.8/site-packages/joblib/_parallel_backends.py?line=206'>207</a>\u001b[0m     \u001b[39m\"\"\"Schedule a func to be run\"\"\"\u001b[39;00m\n\u001b[0;32m--> <a href='file:///home/lizard/.local/lib/python3.8/site-packages/joblib/_parallel_backends.py?line=207'>208</a>\u001b[0m     result \u001b[39m=\u001b[39m ImmediateResult(func)\n\u001b[1;32m    <a href='file:///home/lizard/.local/lib/python3.8/site-packages/joblib/_parallel_backends.py?line=208'>209</a>\u001b[0m     \u001b[39mif\u001b[39;00m callback:\n\u001b[1;32m    <a href='file:///home/lizard/.local/lib/python3.8/site-packages/joblib/_parallel_backends.py?line=209'>210</a>\u001b[0m         callback(result)\n",
      "File \u001b[0;32m~/.local/lib/python3.8/site-packages/joblib/_parallel_backends.py:572\u001b[0m, in \u001b[0;36mImmediateResult.__init__\u001b[0;34m(self, batch)\u001b[0m\n\u001b[1;32m    <a href='file:///home/lizard/.local/lib/python3.8/site-packages/joblib/_parallel_backends.py?line=568'>569</a>\u001b[0m \u001b[39mdef\u001b[39;00m \u001b[39m__init__\u001b[39m(\u001b[39mself\u001b[39m, batch):\n\u001b[1;32m    <a href='file:///home/lizard/.local/lib/python3.8/site-packages/joblib/_parallel_backends.py?line=569'>570</a>\u001b[0m     \u001b[39m# Don't delay the application, to avoid keeping the input\u001b[39;00m\n\u001b[1;32m    <a href='file:///home/lizard/.local/lib/python3.8/site-packages/joblib/_parallel_backends.py?line=570'>571</a>\u001b[0m     \u001b[39m# arguments in memory\u001b[39;00m\n\u001b[0;32m--> <a href='file:///home/lizard/.local/lib/python3.8/site-packages/joblib/_parallel_backends.py?line=571'>572</a>\u001b[0m     \u001b[39mself\u001b[39m\u001b[39m.\u001b[39mresults \u001b[39m=\u001b[39m batch()\n",
      "File \u001b[0;32m~/.local/lib/python3.8/site-packages/joblib/parallel.py:262\u001b[0m, in \u001b[0;36mBatchedCalls.__call__\u001b[0;34m(self)\u001b[0m\n\u001b[1;32m    <a href='file:///home/lizard/.local/lib/python3.8/site-packages/joblib/parallel.py?line=257'>258</a>\u001b[0m \u001b[39mdef\u001b[39;00m \u001b[39m__call__\u001b[39m(\u001b[39mself\u001b[39m):\n\u001b[1;32m    <a href='file:///home/lizard/.local/lib/python3.8/site-packages/joblib/parallel.py?line=258'>259</a>\u001b[0m     \u001b[39m# Set the default nested backend to self._backend but do not set the\u001b[39;00m\n\u001b[1;32m    <a href='file:///home/lizard/.local/lib/python3.8/site-packages/joblib/parallel.py?line=259'>260</a>\u001b[0m     \u001b[39m# change the default number of processes to -1\u001b[39;00m\n\u001b[1;32m    <a href='file:///home/lizard/.local/lib/python3.8/site-packages/joblib/parallel.py?line=260'>261</a>\u001b[0m     \u001b[39mwith\u001b[39;00m parallel_backend(\u001b[39mself\u001b[39m\u001b[39m.\u001b[39m_backend, n_jobs\u001b[39m=\u001b[39m\u001b[39mself\u001b[39m\u001b[39m.\u001b[39m_n_jobs):\n\u001b[0;32m--> <a href='file:///home/lizard/.local/lib/python3.8/site-packages/joblib/parallel.py?line=261'>262</a>\u001b[0m         \u001b[39mreturn\u001b[39;00m [func(\u001b[39m*\u001b[39margs, \u001b[39m*\u001b[39m\u001b[39m*\u001b[39mkwargs)\n\u001b[1;32m    <a href='file:///home/lizard/.local/lib/python3.8/site-packages/joblib/parallel.py?line=262'>263</a>\u001b[0m                 \u001b[39mfor\u001b[39;00m func, args, kwargs \u001b[39min\u001b[39;00m \u001b[39mself\u001b[39m\u001b[39m.\u001b[39mitems]\n",
      "File \u001b[0;32m~/.local/lib/python3.8/site-packages/joblib/parallel.py:262\u001b[0m, in \u001b[0;36m<listcomp>\u001b[0;34m(.0)\u001b[0m\n\u001b[1;32m    <a href='file:///home/lizard/.local/lib/python3.8/site-packages/joblib/parallel.py?line=257'>258</a>\u001b[0m \u001b[39mdef\u001b[39;00m \u001b[39m__call__\u001b[39m(\u001b[39mself\u001b[39m):\n\u001b[1;32m    <a href='file:///home/lizard/.local/lib/python3.8/site-packages/joblib/parallel.py?line=258'>259</a>\u001b[0m     \u001b[39m# Set the default nested backend to self._backend but do not set the\u001b[39;00m\n\u001b[1;32m    <a href='file:///home/lizard/.local/lib/python3.8/site-packages/joblib/parallel.py?line=259'>260</a>\u001b[0m     \u001b[39m# change the default number of processes to -1\u001b[39;00m\n\u001b[1;32m    <a href='file:///home/lizard/.local/lib/python3.8/site-packages/joblib/parallel.py?line=260'>261</a>\u001b[0m     \u001b[39mwith\u001b[39;00m parallel_backend(\u001b[39mself\u001b[39m\u001b[39m.\u001b[39m_backend, n_jobs\u001b[39m=\u001b[39m\u001b[39mself\u001b[39m\u001b[39m.\u001b[39m_n_jobs):\n\u001b[0;32m--> <a href='file:///home/lizard/.local/lib/python3.8/site-packages/joblib/parallel.py?line=261'>262</a>\u001b[0m         \u001b[39mreturn\u001b[39;00m [func(\u001b[39m*\u001b[39;49margs, \u001b[39m*\u001b[39;49m\u001b[39m*\u001b[39;49mkwargs)\n\u001b[1;32m    <a href='file:///home/lizard/.local/lib/python3.8/site-packages/joblib/parallel.py?line=262'>263</a>\u001b[0m                 \u001b[39mfor\u001b[39;00m func, args, kwargs \u001b[39min\u001b[39;00m \u001b[39mself\u001b[39m\u001b[39m.\u001b[39mitems]\n",
      "File \u001b[0;32m~/.local/lib/python3.8/site-packages/sklearn/utils/fixes.py:117\u001b[0m, in \u001b[0;36m_FuncWrapper.__call__\u001b[0;34m(self, *args, **kwargs)\u001b[0m\n\u001b[1;32m    <a href='file:///home/lizard/.local/lib/python3.8/site-packages/sklearn/utils/fixes.py?line=114'>115</a>\u001b[0m \u001b[39mdef\u001b[39;00m \u001b[39m__call__\u001b[39m(\u001b[39mself\u001b[39m, \u001b[39m*\u001b[39margs, \u001b[39m*\u001b[39m\u001b[39m*\u001b[39mkwargs):\n\u001b[1;32m    <a href='file:///home/lizard/.local/lib/python3.8/site-packages/sklearn/utils/fixes.py?line=115'>116</a>\u001b[0m     \u001b[39mwith\u001b[39;00m config_context(\u001b[39m*\u001b[39m\u001b[39m*\u001b[39m\u001b[39mself\u001b[39m\u001b[39m.\u001b[39mconfig):\n\u001b[0;32m--> <a href='file:///home/lizard/.local/lib/python3.8/site-packages/sklearn/utils/fixes.py?line=116'>117</a>\u001b[0m         \u001b[39mreturn\u001b[39;00m \u001b[39mself\u001b[39;49m\u001b[39m.\u001b[39;49mfunction(\u001b[39m*\u001b[39;49margs, \u001b[39m*\u001b[39;49m\u001b[39m*\u001b[39;49mkwargs)\n",
      "File \u001b[0;32m~/.local/lib/python3.8/site-packages/sklearn/model_selection/_validation.py:686\u001b[0m, in \u001b[0;36m_fit_and_score\u001b[0;34m(estimator, X, y, scorer, train, test, verbose, parameters, fit_params, return_train_score, return_parameters, return_n_test_samples, return_times, return_estimator, split_progress, candidate_progress, error_score)\u001b[0m\n\u001b[1;32m    <a href='file:///home/lizard/.local/lib/python3.8/site-packages/sklearn/model_selection/_validation.py?line=683'>684</a>\u001b[0m         estimator\u001b[39m.\u001b[39mfit(X_train, \u001b[39m*\u001b[39m\u001b[39m*\u001b[39mfit_params)\n\u001b[1;32m    <a href='file:///home/lizard/.local/lib/python3.8/site-packages/sklearn/model_selection/_validation.py?line=684'>685</a>\u001b[0m     \u001b[39melse\u001b[39;00m:\n\u001b[0;32m--> <a href='file:///home/lizard/.local/lib/python3.8/site-packages/sklearn/model_selection/_validation.py?line=685'>686</a>\u001b[0m         estimator\u001b[39m.\u001b[39;49mfit(X_train, y_train, \u001b[39m*\u001b[39;49m\u001b[39m*\u001b[39;49mfit_params)\n\u001b[1;32m    <a href='file:///home/lizard/.local/lib/python3.8/site-packages/sklearn/model_selection/_validation.py?line=687'>688</a>\u001b[0m \u001b[39mexcept\u001b[39;00m \u001b[39mException\u001b[39;00m:\n\u001b[1;32m    <a href='file:///home/lizard/.local/lib/python3.8/site-packages/sklearn/model_selection/_validation.py?line=688'>689</a>\u001b[0m     \u001b[39m# Note fit time as time until error\u001b[39;00m\n\u001b[1;32m    <a href='file:///home/lizard/.local/lib/python3.8/site-packages/sklearn/model_selection/_validation.py?line=689'>690</a>\u001b[0m     fit_time \u001b[39m=\u001b[39m time\u001b[39m.\u001b[39mtime() \u001b[39m-\u001b[39m start_time\n",
      "File \u001b[0;32m~/.local/lib/python3.8/site-packages/sklearn/ensemble/_weight_boosting.py:506\u001b[0m, in \u001b[0;36mAdaBoostClassifier.fit\u001b[0;34m(self, X, y, sample_weight)\u001b[0m\n\u001b[1;32m    <a href='file:///home/lizard/.local/lib/python3.8/site-packages/sklearn/ensemble/_weight_boosting.py?line=499'>500</a>\u001b[0m     \u001b[39mraise\u001b[39;00m \u001b[39mValueError\u001b[39;00m(\n\u001b[1;32m    <a href='file:///home/lizard/.local/lib/python3.8/site-packages/sklearn/ensemble/_weight_boosting.py?line=500'>501</a>\u001b[0m         \u001b[39m\"\u001b[39m\u001b[39mAlgorithm must be \u001b[39m\u001b[39m'\u001b[39m\u001b[39mSAMME\u001b[39m\u001b[39m'\u001b[39m\u001b[39m or \u001b[39m\u001b[39m'\u001b[39m\u001b[39mSAMME.R\u001b[39m\u001b[39m'\u001b[39m\u001b[39m.\u001b[39m\u001b[39m\"\u001b[39m\n\u001b[1;32m    <a href='file:///home/lizard/.local/lib/python3.8/site-packages/sklearn/ensemble/_weight_boosting.py?line=501'>502</a>\u001b[0m         \u001b[39mf\u001b[39m\u001b[39m\"\u001b[39m\u001b[39m Got \u001b[39m\u001b[39m{\u001b[39;00m\u001b[39mself\u001b[39m\u001b[39m.\u001b[39malgorithm\u001b[39m!r}\u001b[39;00m\u001b[39m instead.\u001b[39m\u001b[39m\"\u001b[39m\n\u001b[1;32m    <a href='file:///home/lizard/.local/lib/python3.8/site-packages/sklearn/ensemble/_weight_boosting.py?line=502'>503</a>\u001b[0m     )\n\u001b[1;32m    <a href='file:///home/lizard/.local/lib/python3.8/site-packages/sklearn/ensemble/_weight_boosting.py?line=504'>505</a>\u001b[0m \u001b[39m# Fit\u001b[39;00m\n\u001b[0;32m--> <a href='file:///home/lizard/.local/lib/python3.8/site-packages/sklearn/ensemble/_weight_boosting.py?line=505'>506</a>\u001b[0m \u001b[39mreturn\u001b[39;00m \u001b[39msuper\u001b[39;49m()\u001b[39m.\u001b[39;49mfit(X, y, sample_weight)\n",
      "File \u001b[0;32m~/.local/lib/python3.8/site-packages/sklearn/ensemble/_weight_boosting.py:160\u001b[0m, in \u001b[0;36mBaseWeightBoosting.fit\u001b[0;34m(self, X, y, sample_weight)\u001b[0m\n\u001b[1;32m    <a href='file:///home/lizard/.local/lib/python3.8/site-packages/sklearn/ensemble/_weight_boosting.py?line=155'>156</a>\u001b[0m random_state \u001b[39m=\u001b[39m check_random_state(\u001b[39mself\u001b[39m\u001b[39m.\u001b[39mrandom_state)\n\u001b[1;32m    <a href='file:///home/lizard/.local/lib/python3.8/site-packages/sklearn/ensemble/_weight_boosting.py?line=157'>158</a>\u001b[0m \u001b[39mfor\u001b[39;00m iboost \u001b[39min\u001b[39;00m \u001b[39mrange\u001b[39m(\u001b[39mself\u001b[39m\u001b[39m.\u001b[39mn_estimators):\n\u001b[1;32m    <a href='file:///home/lizard/.local/lib/python3.8/site-packages/sklearn/ensemble/_weight_boosting.py?line=158'>159</a>\u001b[0m     \u001b[39m# Boosting step\u001b[39;00m\n\u001b[0;32m--> <a href='file:///home/lizard/.local/lib/python3.8/site-packages/sklearn/ensemble/_weight_boosting.py?line=159'>160</a>\u001b[0m     sample_weight, estimator_weight, estimator_error \u001b[39m=\u001b[39m \u001b[39mself\u001b[39;49m\u001b[39m.\u001b[39;49m_boost(\n\u001b[1;32m    <a href='file:///home/lizard/.local/lib/python3.8/site-packages/sklearn/ensemble/_weight_boosting.py?line=160'>161</a>\u001b[0m         iboost, X, y, sample_weight, random_state\n\u001b[1;32m    <a href='file:///home/lizard/.local/lib/python3.8/site-packages/sklearn/ensemble/_weight_boosting.py?line=161'>162</a>\u001b[0m     )\n\u001b[1;32m    <a href='file:///home/lizard/.local/lib/python3.8/site-packages/sklearn/ensemble/_weight_boosting.py?line=163'>164</a>\u001b[0m     \u001b[39m# Early termination\u001b[39;00m\n\u001b[1;32m    <a href='file:///home/lizard/.local/lib/python3.8/site-packages/sklearn/ensemble/_weight_boosting.py?line=164'>165</a>\u001b[0m     \u001b[39mif\u001b[39;00m sample_weight \u001b[39mis\u001b[39;00m \u001b[39mNone\u001b[39;00m:\n",
      "File \u001b[0;32m~/.local/lib/python3.8/site-packages/sklearn/ensemble/_weight_boosting.py:568\u001b[0m, in \u001b[0;36mAdaBoostClassifier._boost\u001b[0;34m(self, iboost, X, y, sample_weight, random_state)\u001b[0m\n\u001b[1;32m    <a href='file:///home/lizard/.local/lib/python3.8/site-packages/sklearn/ensemble/_weight_boosting.py?line=528'>529</a>\u001b[0m \u001b[39m\"\"\"Implement a single boost.\u001b[39;00m\n\u001b[1;32m    <a href='file:///home/lizard/.local/lib/python3.8/site-packages/sklearn/ensemble/_weight_boosting.py?line=529'>530</a>\u001b[0m \n\u001b[1;32m    <a href='file:///home/lizard/.local/lib/python3.8/site-packages/sklearn/ensemble/_weight_boosting.py?line=530'>531</a>\u001b[0m \u001b[39mPerform a single boost according to the real multi-class SAMME.R\u001b[39;00m\n\u001b[0;32m   (...)\u001b[0m\n\u001b[1;32m    <a href='file:///home/lizard/.local/lib/python3.8/site-packages/sklearn/ensemble/_weight_boosting.py?line=564'>565</a>\u001b[0m \u001b[39m    If None then boosting has terminated early.\u001b[39;00m\n\u001b[1;32m    <a href='file:///home/lizard/.local/lib/python3.8/site-packages/sklearn/ensemble/_weight_boosting.py?line=565'>566</a>\u001b[0m \u001b[39m\"\"\"\u001b[39;00m\n\u001b[1;32m    <a href='file:///home/lizard/.local/lib/python3.8/site-packages/sklearn/ensemble/_weight_boosting.py?line=566'>567</a>\u001b[0m \u001b[39mif\u001b[39;00m \u001b[39mself\u001b[39m\u001b[39m.\u001b[39malgorithm \u001b[39m==\u001b[39m \u001b[39m\"\u001b[39m\u001b[39mSAMME.R\u001b[39m\u001b[39m\"\u001b[39m:\n\u001b[0;32m--> <a href='file:///home/lizard/.local/lib/python3.8/site-packages/sklearn/ensemble/_weight_boosting.py?line=567'>568</a>\u001b[0m     \u001b[39mreturn\u001b[39;00m \u001b[39mself\u001b[39;49m\u001b[39m.\u001b[39;49m_boost_real(iboost, X, y, sample_weight, random_state)\n\u001b[1;32m    <a href='file:///home/lizard/.local/lib/python3.8/site-packages/sklearn/ensemble/_weight_boosting.py?line=569'>570</a>\u001b[0m \u001b[39melse\u001b[39;00m:  \u001b[39m# elif self.algorithm == \"SAMME\":\u001b[39;00m\n\u001b[1;32m    <a href='file:///home/lizard/.local/lib/python3.8/site-packages/sklearn/ensemble/_weight_boosting.py?line=570'>571</a>\u001b[0m     \u001b[39mreturn\u001b[39;00m \u001b[39mself\u001b[39m\u001b[39m.\u001b[39m_boost_discrete(iboost, X, y, sample_weight, random_state)\n",
      "File \u001b[0;32m~/.local/lib/python3.8/site-packages/sklearn/ensemble/_weight_boosting.py:577\u001b[0m, in \u001b[0;36mAdaBoostClassifier._boost_real\u001b[0;34m(self, iboost, X, y, sample_weight, random_state)\u001b[0m\n\u001b[1;32m    <a href='file:///home/lizard/.local/lib/python3.8/site-packages/sklearn/ensemble/_weight_boosting.py?line=573'>574</a>\u001b[0m \u001b[39m\"\"\"Implement a single boost using the SAMME.R real algorithm.\"\"\"\u001b[39;00m\n\u001b[1;32m    <a href='file:///home/lizard/.local/lib/python3.8/site-packages/sklearn/ensemble/_weight_boosting.py?line=574'>575</a>\u001b[0m estimator \u001b[39m=\u001b[39m \u001b[39mself\u001b[39m\u001b[39m.\u001b[39m_make_estimator(random_state\u001b[39m=\u001b[39mrandom_state)\n\u001b[0;32m--> <a href='file:///home/lizard/.local/lib/python3.8/site-packages/sklearn/ensemble/_weight_boosting.py?line=576'>577</a>\u001b[0m estimator\u001b[39m.\u001b[39;49mfit(X, y, sample_weight\u001b[39m=\u001b[39;49msample_weight)\n\u001b[1;32m    <a href='file:///home/lizard/.local/lib/python3.8/site-packages/sklearn/ensemble/_weight_boosting.py?line=578'>579</a>\u001b[0m y_predict_proba \u001b[39m=\u001b[39m estimator\u001b[39m.\u001b[39mpredict_proba(X)\n\u001b[1;32m    <a href='file:///home/lizard/.local/lib/python3.8/site-packages/sklearn/ensemble/_weight_boosting.py?line=580'>581</a>\u001b[0m \u001b[39mif\u001b[39;00m iboost \u001b[39m==\u001b[39m \u001b[39m0\u001b[39m:\n",
      "File \u001b[0;32m~/.local/lib/python3.8/site-packages/sklearn/tree/_classes.py:969\u001b[0m, in \u001b[0;36mDecisionTreeClassifier.fit\u001b[0;34m(self, X, y, sample_weight, check_input)\u001b[0m\n\u001b[1;32m    <a href='file:///home/lizard/.local/lib/python3.8/site-packages/sklearn/tree/_classes.py?line=938'>939</a>\u001b[0m \u001b[39mdef\u001b[39;00m \u001b[39mfit\u001b[39m(\u001b[39mself\u001b[39m, X, y, sample_weight\u001b[39m=\u001b[39m\u001b[39mNone\u001b[39;00m, check_input\u001b[39m=\u001b[39m\u001b[39mTrue\u001b[39;00m):\n\u001b[1;32m    <a href='file:///home/lizard/.local/lib/python3.8/site-packages/sklearn/tree/_classes.py?line=939'>940</a>\u001b[0m     \u001b[39m\"\"\"Build a decision tree classifier from the training set (X, y).\u001b[39;00m\n\u001b[1;32m    <a href='file:///home/lizard/.local/lib/python3.8/site-packages/sklearn/tree/_classes.py?line=940'>941</a>\u001b[0m \n\u001b[1;32m    <a href='file:///home/lizard/.local/lib/python3.8/site-packages/sklearn/tree/_classes.py?line=941'>942</a>\u001b[0m \u001b[39m    Parameters\u001b[39;00m\n\u001b[0;32m   (...)\u001b[0m\n\u001b[1;32m    <a href='file:///home/lizard/.local/lib/python3.8/site-packages/sklearn/tree/_classes.py?line=965'>966</a>\u001b[0m \u001b[39m        Fitted estimator.\u001b[39;00m\n\u001b[1;32m    <a href='file:///home/lizard/.local/lib/python3.8/site-packages/sklearn/tree/_classes.py?line=966'>967</a>\u001b[0m \u001b[39m    \"\"\"\u001b[39;00m\n\u001b[0;32m--> <a href='file:///home/lizard/.local/lib/python3.8/site-packages/sklearn/tree/_classes.py?line=968'>969</a>\u001b[0m     \u001b[39msuper\u001b[39;49m()\u001b[39m.\u001b[39;49mfit(\n\u001b[1;32m    <a href='file:///home/lizard/.local/lib/python3.8/site-packages/sklearn/tree/_classes.py?line=969'>970</a>\u001b[0m         X,\n\u001b[1;32m    <a href='file:///home/lizard/.local/lib/python3.8/site-packages/sklearn/tree/_classes.py?line=970'>971</a>\u001b[0m         y,\n\u001b[1;32m    <a href='file:///home/lizard/.local/lib/python3.8/site-packages/sklearn/tree/_classes.py?line=971'>972</a>\u001b[0m         sample_weight\u001b[39m=\u001b[39;49msample_weight,\n\u001b[1;32m    <a href='file:///home/lizard/.local/lib/python3.8/site-packages/sklearn/tree/_classes.py?line=972'>973</a>\u001b[0m         check_input\u001b[39m=\u001b[39;49mcheck_input,\n\u001b[1;32m    <a href='file:///home/lizard/.local/lib/python3.8/site-packages/sklearn/tree/_classes.py?line=973'>974</a>\u001b[0m     )\n\u001b[1;32m    <a href='file:///home/lizard/.local/lib/python3.8/site-packages/sklearn/tree/_classes.py?line=974'>975</a>\u001b[0m     \u001b[39mreturn\u001b[39;00m \u001b[39mself\u001b[39m\n",
      "File \u001b[0;32m~/.local/lib/python3.8/site-packages/sklearn/tree/_classes.py:458\u001b[0m, in \u001b[0;36mBaseDecisionTree.fit\u001b[0;34m(self, X, y, sample_weight, check_input)\u001b[0m\n\u001b[1;32m    <a href='file:///home/lizard/.local/lib/python3.8/site-packages/sklearn/tree/_classes.py?line=446'>447</a>\u001b[0m \u001b[39melse\u001b[39;00m:\n\u001b[1;32m    <a href='file:///home/lizard/.local/lib/python3.8/site-packages/sklearn/tree/_classes.py?line=447'>448</a>\u001b[0m     builder \u001b[39m=\u001b[39m BestFirstTreeBuilder(\n\u001b[1;32m    <a href='file:///home/lizard/.local/lib/python3.8/site-packages/sklearn/tree/_classes.py?line=448'>449</a>\u001b[0m         splitter,\n\u001b[1;32m    <a href='file:///home/lizard/.local/lib/python3.8/site-packages/sklearn/tree/_classes.py?line=449'>450</a>\u001b[0m         min_samples_split,\n\u001b[0;32m   (...)\u001b[0m\n\u001b[1;32m    <a href='file:///home/lizard/.local/lib/python3.8/site-packages/sklearn/tree/_classes.py?line=454'>455</a>\u001b[0m         \u001b[39mself\u001b[39m\u001b[39m.\u001b[39mmin_impurity_decrease,\n\u001b[1;32m    <a href='file:///home/lizard/.local/lib/python3.8/site-packages/sklearn/tree/_classes.py?line=455'>456</a>\u001b[0m     )\n\u001b[0;32m--> <a href='file:///home/lizard/.local/lib/python3.8/site-packages/sklearn/tree/_classes.py?line=457'>458</a>\u001b[0m builder\u001b[39m.\u001b[39;49mbuild(\u001b[39mself\u001b[39;49m\u001b[39m.\u001b[39;49mtree_, X, y, sample_weight)\n\u001b[1;32m    <a href='file:///home/lizard/.local/lib/python3.8/site-packages/sklearn/tree/_classes.py?line=459'>460</a>\u001b[0m \u001b[39mif\u001b[39;00m \u001b[39mself\u001b[39m\u001b[39m.\u001b[39mn_outputs_ \u001b[39m==\u001b[39m \u001b[39m1\u001b[39m \u001b[39mand\u001b[39;00m is_classifier(\u001b[39mself\u001b[39m):\n\u001b[1;32m    <a href='file:///home/lizard/.local/lib/python3.8/site-packages/sklearn/tree/_classes.py?line=460'>461</a>\u001b[0m     \u001b[39mself\u001b[39m\u001b[39m.\u001b[39mn_classes_ \u001b[39m=\u001b[39m \u001b[39mself\u001b[39m\u001b[39m.\u001b[39mn_classes_[\u001b[39m0\u001b[39m]\n",
      "\u001b[0;31mKeyboardInterrupt\u001b[0m: "
     ]
    }
   ],
   "source": [
    "parameters_adaboost = {\n",
    "    'n_estimators': [2, 3, 4, 5, 6, 7, 8, 9, 10, 11, 12, 20],\n",
    "    'learning_rate': [(0.97 + x / 100) for x in range(0, 8)],\n",
    "    'algorithm': ['SAMME', 'SAMME.R'],\n",
    "    'random_state': [0, 1, 2]\n",
    "}\n",
    "\n",
    "adaboost_rcv = RandomizedSearchCV(\n",
    "    AdaBoostClassifier(),\n",
    "    param_distributions=parameters_adaboost,\n",
    "    verbose=50,\n",
    "    cv=5,\n",
    "    scoring='accuracy'\n",
    ")\n",
    "\n",
    "adaboost_result = adaboost_rcv.fit(x, y_l)\n",
    "\n",
    "print(adaboost_result.best_estimator_)\n",
    "print(adaboost_result.best_score_)\n",
    "print(adaboost_result.best_params_)"
   ]
  },
  {
   "cell_type": "code",
   "execution_count": 48,
   "id": "3a0fa48b-1955-481c-a3a7-75734993aa6f",
   "metadata": {},
   "outputs": [
    {
     "name": "stdout",
     "output_type": "stream",
     "text": [
      "Collecting keras-tuner\n",
      "  Downloading keras_tuner-1.1.2-py3-none-any.whl (133 kB)\n",
      "Requirement already satisfied: numpy in c:\\users\\asus\\anaconda3\\lib\\site-packages (from keras-tuner) (1.20.3)\n",
      "Requirement already satisfied: packaging in c:\\users\\asus\\anaconda3\\lib\\site-packages (from keras-tuner) (21.0)\n",
      "Collecting kt-legacy\n",
      "  Downloading kt_legacy-1.0.4-py3-none-any.whl (9.6 kB)\n",
      "Requirement already satisfied: requests in c:\\users\\asus\\anaconda3\\lib\\site-packages (from keras-tuner) (2.26.0)\n",
      "Requirement already satisfied: ipython in c:\\users\\asus\\anaconda3\\lib\\site-packages (from keras-tuner) (7.29.0)\n",
      "Requirement already satisfied: tensorboard in c:\\users\\asus\\anaconda3\\lib\\site-packages (from keras-tuner) (2.8.0)\n",
      "Requirement already satisfied: colorama in c:\\users\\asus\\anaconda3\\lib\\site-packages (from ipython->keras-tuner) (0.4.4)\n",
      "Requirement already satisfied: prompt-toolkit!=3.0.0,!=3.0.1,<3.1.0,>=2.0.0 in c:\\users\\asus\\anaconda3\\lib\\site-packages (from ipython->keras-tuner) (3.0.20)\n",
      "Requirement already satisfied: traitlets>=4.2 in c:\\users\\asus\\anaconda3\\lib\\site-packages (from ipython->keras-tuner) (5.1.0)\n",
      "Requirement already satisfied: pickleshare in c:\\users\\asus\\anaconda3\\lib\\site-packages (from ipython->keras-tuner) (0.7.5)\n",
      "Requirement already satisfied: jedi>=0.16 in c:\\users\\asus\\anaconda3\\lib\\site-packages (from ipython->keras-tuner) (0.18.0)\n",
      "Requirement already satisfied: matplotlib-inline in c:\\users\\asus\\anaconda3\\lib\\site-packages (from ipython->keras-tuner) (0.1.2)\n",
      "Requirement already satisfied: backcall in c:\\users\\asus\\anaconda3\\lib\\site-packages (from ipython->keras-tuner) (0.2.0)\n",
      "Requirement already satisfied: pygments in c:\\users\\asus\\anaconda3\\lib\\site-packages (from ipython->keras-tuner) (2.10.0)\n",
      "Requirement already satisfied: setuptools>=18.5 in c:\\users\\asus\\anaconda3\\lib\\site-packages (from ipython->keras-tuner) (58.0.4)\n",
      "Requirement already satisfied: decorator in c:\\users\\asus\\anaconda3\\lib\\site-packages (from ipython->keras-tuner) (5.1.0)\n",
      "Requirement already satisfied: parso<0.9.0,>=0.8.0 in c:\\users\\asus\\anaconda3\\lib\\site-packages (from jedi>=0.16->ipython->keras-tuner) (0.8.2)\n",
      "Requirement already satisfied: wcwidth in c:\\users\\asus\\anaconda3\\lib\\site-packages (from prompt-toolkit!=3.0.0,!=3.0.1,<3.1.0,>=2.0.0->ipython->keras-tuner) (0.2.5)\n",
      "Requirement already satisfied: pyparsing>=2.0.2 in c:\\users\\asus\\anaconda3\\lib\\site-packages (from packaging->keras-tuner) (3.0.4)\n",
      "Requirement already satisfied: idna<4,>=2.5 in c:\\users\\asus\\anaconda3\\lib\\site-packages (from requests->keras-tuner) (3.2)\n",
      "Requirement already satisfied: certifi>=2017.4.17 in c:\\users\\asus\\anaconda3\\lib\\site-packages (from requests->keras-tuner) (2021.10.8)\n",
      "Requirement already satisfied: urllib3<1.27,>=1.21.1 in c:\\users\\asus\\anaconda3\\lib\\site-packages (from requests->keras-tuner) (1.26.7)\n",
      "Requirement already satisfied: charset-normalizer~=2.0.0 in c:\\users\\asus\\anaconda3\\lib\\site-packages (from requests->keras-tuner) (2.0.4)\n",
      "Requirement already satisfied: tensorboard-data-server<0.7.0,>=0.6.0 in c:\\users\\asus\\anaconda3\\lib\\site-packages (from tensorboard->keras-tuner) (0.6.1)\n",
      "Requirement already satisfied: google-auth<3,>=1.6.3 in c:\\users\\asus\\anaconda3\\lib\\site-packages (from tensorboard->keras-tuner) (2.6.6)\n",
      "Requirement already satisfied: absl-py>=0.4 in c:\\users\\asus\\anaconda3\\lib\\site-packages (from tensorboard->keras-tuner) (1.0.0)\n",
      "Requirement already satisfied: werkzeug>=0.11.15 in c:\\users\\asus\\anaconda3\\lib\\site-packages (from tensorboard->keras-tuner) (2.0.2)\n",
      "Requirement already satisfied: grpcio>=1.24.3 in c:\\users\\asus\\anaconda3\\lib\\site-packages (from tensorboard->keras-tuner) (1.46.0)\n",
      "Requirement already satisfied: google-auth-oauthlib<0.5,>=0.4.1 in c:\\users\\asus\\anaconda3\\lib\\site-packages (from tensorboard->keras-tuner) (0.4.6)\n",
      "Requirement already satisfied: tensorboard-plugin-wit>=1.6.0 in c:\\users\\asus\\anaconda3\\lib\\site-packages (from tensorboard->keras-tuner) (1.8.1)\n",
      "Requirement already satisfied: markdown>=2.6.8 in c:\\users\\asus\\anaconda3\\lib\\site-packages (from tensorboard->keras-tuner) (3.3.7)\n",
      "Requirement already satisfied: wheel>=0.26 in c:\\users\\asus\\anaconda3\\lib\\site-packages (from tensorboard->keras-tuner) (0.37.0)\n",
      "Requirement already satisfied: protobuf>=3.6.0 in c:\\users\\asus\\anaconda3\\lib\\site-packages (from tensorboard->keras-tuner) (3.20.1)\n",
      "Requirement already satisfied: six in c:\\users\\asus\\anaconda3\\lib\\site-packages (from absl-py>=0.4->tensorboard->keras-tuner) (1.16.0)\n",
      "Requirement already satisfied: cachetools<6.0,>=2.0.0 in c:\\users\\asus\\anaconda3\\lib\\site-packages (from google-auth<3,>=1.6.3->tensorboard->keras-tuner) (5.0.0)\n",
      "Requirement already satisfied: rsa<5,>=3.1.4 in c:\\users\\asus\\anaconda3\\lib\\site-packages (from google-auth<3,>=1.6.3->tensorboard->keras-tuner) (4.8)\n",
      "Requirement already satisfied: pyasn1-modules>=0.2.1 in c:\\users\\asus\\anaconda3\\lib\\site-packages (from google-auth<3,>=1.6.3->tensorboard->keras-tuner) (0.2.8)\n",
      "Requirement already satisfied: requests-oauthlib>=0.7.0 in c:\\users\\asus\\anaconda3\\lib\\site-packages (from google-auth-oauthlib<0.5,>=0.4.1->tensorboard->keras-tuner) (1.3.1)\n",
      "Requirement already satisfied: importlib-metadata>=4.4 in c:\\users\\asus\\anaconda3\\lib\\site-packages (from markdown>=2.6.8->tensorboard->keras-tuner) (4.8.1)\n",
      "Requirement already satisfied: zipp>=0.5 in c:\\users\\asus\\anaconda3\\lib\\site-packages (from importlib-metadata>=4.4->markdown>=2.6.8->tensorboard->keras-tuner) (3.6.0)\n",
      "Requirement already satisfied: pyasn1<0.5.0,>=0.4.6 in c:\\users\\asus\\anaconda3\\lib\\site-packages (from pyasn1-modules>=0.2.1->google-auth<3,>=1.6.3->tensorboard->keras-tuner) (0.4.8)\n",
      "Requirement already satisfied: oauthlib>=3.0.0 in c:\\users\\asus\\anaconda3\\lib\\site-packages (from requests-oauthlib>=0.7.0->google-auth-oauthlib<0.5,>=0.4.1->tensorboard->keras-tuner) (3.2.0)\n",
      "Installing collected packages: kt-legacy, keras-tuner\n",
      "Successfully installed keras-tuner-1.1.2 kt-legacy-1.0.4\n",
      "Note: you may need to restart the kernel to use updated packages.\n"
     ]
    }
   ],
   "source": [
    "pip install keras-tuner "
   ]
  },
  {
   "cell_type": "code",
   "execution_count": 18,
   "id": "a1b40ddc-36d6-4b40-a23e-06d69be4ba31",
   "metadata": {},
   "outputs": [],
   "source": [
    "from tensorflow import keras\n",
    "from tensorflow.keras import layers\n",
    "from keras_tuner.tuners import RandomSearch\n",
    "import keras_tuner as kt"
   ]
  },
  {
   "cell_type": "code",
   "execution_count": 19,
   "id": "63323aa7",
   "metadata": {},
   "outputs": [],
   "source": [
    "X_train_ann, X_test_ann, y_train_ann, y_test_ann = train_test_split(x_k_1, y_l, test_size=0.2, random_state=75)"
   ]
  },
  {
   "cell_type": "code",
   "execution_count": 23,
   "id": "01aadfb0",
   "metadata": {},
   "outputs": [
    {
     "data": {
      "text/plain": [
       "(37200,)"
      ]
     },
     "execution_count": 23,
     "metadata": {},
     "output_type": "execute_result"
    }
   ],
   "source": [
    "y_test_ann.shape"
   ]
  },
  {
   "cell_type": "code",
   "execution_count": 22,
   "id": "8184260b-0a69-4951-acb8-b3e8d7ed3d8e",
   "metadata": {},
   "outputs": [],
   "source": [
    "def build_model_expo_with_all_final_layer_act_with_adagrad_optimizer(hp):\n",
    "  #with tf.device('/device:GPU:0'):\n",
    "    model_expo = keras.Sequential() \n",
    "    #model_expo.add(layers.Dense(30, input_dim=4, activation='relu'))\n",
    "    model_expo.add(layers. Flatten (input_dim=42))\n",
    "    \n",
    "    model_expo.add(layers.Dense(units=hp.Int('units',\n",
    "    \t\t\t\t\t min_value=25 ,\n",
    " \t\t\t\t\t max_value=150,\n",
    "   \t\t\t\t\t step=1),\n",
    "\t\t\t   activation=hp.Choice('act_1', ['relu', 'sigmoid','softmax','softplus','softsign','tanh','selu','elu','exponential'])))\n",
    "\n",
    "    model_expo.add(layers.Dense(10, activation=hp.Choice('act_2', ['relu', 'sigmoid','softmax','tanh','exponential'])))\n",
    "    model_expo.compile(optimizer=keras.optimizers.Adam(\n",
    "            hp.Choice('learning_rate', \n",
    "       \t\t      values=[.01,.05,.5,.001,.99,5.1])), loss=tf.keras.losses.SparseCategoricalCrossentropy(from_logits=True), metrics=['accuracy'])\n",
    "    return model_expo"
   ]
  },
  {
   "cell_type": "code",
   "execution_count": 30,
   "id": "3918bebf",
   "metadata": {},
   "outputs": [
    {
     "name": "stderr",
     "output_type": "stream",
     "text": [
      "2022-06-05 22:09:20.209190: E tensorflow/stream_executor/cuda/cuda_driver.cc:271] failed call to cuInit: CUDA_ERROR_NO_DEVICE: no CUDA-capable device is detected\n",
      "2022-06-05 22:09:20.210214: I tensorflow/stream_executor/cuda/cuda_diagnostics.cc:156] kernel driver does not appear to be running on this host (lizard-Lenovo-ideapad-320-15IKB): /proc/driver/nvidia/version does not exist\n",
      "2022-06-05 22:09:20.214304: I tensorflow/core/platform/cpu_feature_guard.cc:193] This TensorFlow binary is optimized with oneAPI Deep Neural Network Library (oneDNN) to use the following CPU instructions in performance-critical operations:  AVX2 FMA\n",
      "To enable them in other operations, rebuild TensorFlow with the appropriate compiler flags.\n"
     ]
    }
   ],
   "source": [
    "tuner = kt.RandomSearch(\n",
    "    build_model_expo_with_all_final_layer_act_with_adagrad_optimizer,\n",
    "    objective='val_accuracy', \n",
    "    max_trials=2500,\n",
    "    executions_per_trial=1,\n",
    "    #overwrite=True,\n",
    "    project_name='ann_adagrad_with_exponential_default2.1')\n"
   ]
  },
  {
   "cell_type": "code",
   "execution_count": 31,
   "id": "0e6f30a0",
   "metadata": {},
   "outputs": [
    {
     "name": "stdout",
     "output_type": "stream",
     "text": [
      "\n",
      "Search: Running Trial #1\n",
      "\n",
      "Value             |Best Value So Far |Hyperparameter\n",
      "83                |?                 |units\n",
      "softplus          |?                 |act_1\n",
      "exponential       |?                 |act_2\n",
      "0.01              |?                 |learning_rate\n",
      "\n",
      "Epoch 1/5\n",
      "2038/4650 [============>.................] - ETA: 6s - loss: 0.5450 - accuracy: 0.8247"
     ]
    },
    {
     "ename": "KeyboardInterrupt",
     "evalue": "",
     "output_type": "error",
     "traceback": [
      "\u001b[0;31m---------------------------------------------------------------------------\u001b[0m",
      "\u001b[0;31mKeyboardInterrupt\u001b[0m                         Traceback (most recent call last)",
      "\u001b[1;32m/home/lizard/Downloads/UNSW code/Hyper_parameter_Optimization_Fatin_01/Hyper_parameter_optimization_Fatin_02.ipynb Cell 42'\u001b[0m in \u001b[0;36m<cell line: 1>\u001b[0;34m()\u001b[0m\n\u001b[0;32m----> <a href='vscode-notebook-cell:/home/lizard/Downloads/UNSW%20code/Hyper_parameter_Optimization_Fatin_01/Hyper_parameter_optimization_Fatin_02.ipynb#ch0000040?line=0'>1</a>\u001b[0m tuner\u001b[39m.\u001b[39msearch(X_train_ann, y_train_ann, epochs\u001b[39m=\u001b[39m\u001b[39m5\u001b[39m, validation_data\u001b[39m=\u001b[39m(X_test_ann, y_test_ann))\n\u001b[1;32m      <a href='vscode-notebook-cell:/home/lizard/Downloads/UNSW%20code/Hyper_parameter_Optimization_Fatin_01/Hyper_parameter_optimization_Fatin_02.ipynb#ch0000040?line=1'>2</a>\u001b[0m best_model \u001b[39m=\u001b[39m tuner\u001b[39m.\u001b[39mget_best_models()[\u001b[39m0\u001b[39m]\n",
      "File \u001b[0;32m~/.local/lib/python3.8/site-packages/keras_tuner/engine/base_tuner.py:179\u001b[0m, in \u001b[0;36mBaseTuner.search\u001b[0;34m(self, *fit_args, **fit_kwargs)\u001b[0m\n\u001b[1;32m    <a href='file:///home/lizard/.local/lib/python3.8/site-packages/keras_tuner/engine/base_tuner.py?line=175'>176</a>\u001b[0m     \u001b[39mcontinue\u001b[39;00m\n\u001b[1;32m    <a href='file:///home/lizard/.local/lib/python3.8/site-packages/keras_tuner/engine/base_tuner.py?line=177'>178</a>\u001b[0m \u001b[39mself\u001b[39m\u001b[39m.\u001b[39mon_trial_begin(trial)\n\u001b[0;32m--> <a href='file:///home/lizard/.local/lib/python3.8/site-packages/keras_tuner/engine/base_tuner.py?line=178'>179</a>\u001b[0m results \u001b[39m=\u001b[39m \u001b[39mself\u001b[39;49m\u001b[39m.\u001b[39;49mrun_trial(trial, \u001b[39m*\u001b[39;49mfit_args, \u001b[39m*\u001b[39;49m\u001b[39m*\u001b[39;49mfit_kwargs)\n\u001b[1;32m    <a href='file:///home/lizard/.local/lib/python3.8/site-packages/keras_tuner/engine/base_tuner.py?line=179'>180</a>\u001b[0m \u001b[39m# `results` is None indicates user updated oracle in `run_trial()`.\u001b[39;00m\n\u001b[1;32m    <a href='file:///home/lizard/.local/lib/python3.8/site-packages/keras_tuner/engine/base_tuner.py?line=180'>181</a>\u001b[0m \u001b[39mif\u001b[39;00m results \u001b[39mis\u001b[39;00m \u001b[39mNone\u001b[39;00m:\n",
      "File \u001b[0;32m~/.local/lib/python3.8/site-packages/keras_tuner/engine/tuner.py:294\u001b[0m, in \u001b[0;36mTuner.run_trial\u001b[0;34m(self, trial, *args, **kwargs)\u001b[0m\n\u001b[1;32m    <a href='file:///home/lizard/.local/lib/python3.8/site-packages/keras_tuner/engine/tuner.py?line=291'>292</a>\u001b[0m     callbacks\u001b[39m.\u001b[39mappend(model_checkpoint)\n\u001b[1;32m    <a href='file:///home/lizard/.local/lib/python3.8/site-packages/keras_tuner/engine/tuner.py?line=292'>293</a>\u001b[0m     copied_kwargs[\u001b[39m\"\u001b[39m\u001b[39mcallbacks\u001b[39m\u001b[39m\"\u001b[39m] \u001b[39m=\u001b[39m callbacks\n\u001b[0;32m--> <a href='file:///home/lizard/.local/lib/python3.8/site-packages/keras_tuner/engine/tuner.py?line=293'>294</a>\u001b[0m     obj_value \u001b[39m=\u001b[39m \u001b[39mself\u001b[39;49m\u001b[39m.\u001b[39;49m_build_and_fit_model(trial, \u001b[39m*\u001b[39;49margs, \u001b[39m*\u001b[39;49m\u001b[39m*\u001b[39;49mcopied_kwargs)\n\u001b[1;32m    <a href='file:///home/lizard/.local/lib/python3.8/site-packages/keras_tuner/engine/tuner.py?line=295'>296</a>\u001b[0m     histories\u001b[39m.\u001b[39mappend(obj_value)\n\u001b[1;32m    <a href='file:///home/lizard/.local/lib/python3.8/site-packages/keras_tuner/engine/tuner.py?line=296'>297</a>\u001b[0m \u001b[39mreturn\u001b[39;00m histories\n",
      "File \u001b[0;32m~/.local/lib/python3.8/site-packages/keras_tuner/engine/tuner.py:222\u001b[0m, in \u001b[0;36mTuner._build_and_fit_model\u001b[0;34m(self, trial, *args, **kwargs)\u001b[0m\n\u001b[1;32m    <a href='file:///home/lizard/.local/lib/python3.8/site-packages/keras_tuner/engine/tuner.py?line=219'>220</a>\u001b[0m hp \u001b[39m=\u001b[39m trial\u001b[39m.\u001b[39mhyperparameters\n\u001b[1;32m    <a href='file:///home/lizard/.local/lib/python3.8/site-packages/keras_tuner/engine/tuner.py?line=220'>221</a>\u001b[0m model \u001b[39m=\u001b[39m \u001b[39mself\u001b[39m\u001b[39m.\u001b[39m_try_build(hp)\n\u001b[0;32m--> <a href='file:///home/lizard/.local/lib/python3.8/site-packages/keras_tuner/engine/tuner.py?line=221'>222</a>\u001b[0m results \u001b[39m=\u001b[39m \u001b[39mself\u001b[39;49m\u001b[39m.\u001b[39;49mhypermodel\u001b[39m.\u001b[39;49mfit(hp, model, \u001b[39m*\u001b[39;49margs, \u001b[39m*\u001b[39;49m\u001b[39m*\u001b[39;49mkwargs)\n\u001b[1;32m    <a href='file:///home/lizard/.local/lib/python3.8/site-packages/keras_tuner/engine/tuner.py?line=222'>223</a>\u001b[0m \u001b[39mreturn\u001b[39;00m tuner_utils\u001b[39m.\u001b[39mconvert_to_metrics_dict(\n\u001b[1;32m    <a href='file:///home/lizard/.local/lib/python3.8/site-packages/keras_tuner/engine/tuner.py?line=223'>224</a>\u001b[0m     results, \u001b[39mself\u001b[39m\u001b[39m.\u001b[39moracle\u001b[39m.\u001b[39mobjective, \u001b[39m\"\u001b[39m\u001b[39mHyperModel.fit()\u001b[39m\u001b[39m\"\u001b[39m\n\u001b[1;32m    <a href='file:///home/lizard/.local/lib/python3.8/site-packages/keras_tuner/engine/tuner.py?line=224'>225</a>\u001b[0m )\n",
      "File \u001b[0;32m~/.local/lib/python3.8/site-packages/keras_tuner/engine/hypermodel.py:137\u001b[0m, in \u001b[0;36mHyperModel.fit\u001b[0;34m(self, hp, model, *args, **kwargs)\u001b[0m\n\u001b[1;32m    <a href='file:///home/lizard/.local/lib/python3.8/site-packages/keras_tuner/engine/hypermodel.py?line=112'>113</a>\u001b[0m \u001b[39mdef\u001b[39;00m \u001b[39mfit\u001b[39m(\u001b[39mself\u001b[39m, hp, model, \u001b[39m*\u001b[39margs, \u001b[39m*\u001b[39m\u001b[39m*\u001b[39mkwargs):\n\u001b[1;32m    <a href='file:///home/lizard/.local/lib/python3.8/site-packages/keras_tuner/engine/hypermodel.py?line=113'>114</a>\u001b[0m     \u001b[39m\"\"\"Train the model.\u001b[39;00m\n\u001b[1;32m    <a href='file:///home/lizard/.local/lib/python3.8/site-packages/keras_tuner/engine/hypermodel.py?line=114'>115</a>\u001b[0m \n\u001b[1;32m    <a href='file:///home/lizard/.local/lib/python3.8/site-packages/keras_tuner/engine/hypermodel.py?line=115'>116</a>\u001b[0m \u001b[39m    Args:\u001b[39;00m\n\u001b[0;32m   (...)\u001b[0m\n\u001b[1;32m    <a href='file:///home/lizard/.local/lib/python3.8/site-packages/keras_tuner/engine/hypermodel.py?line=134'>135</a>\u001b[0m \u001b[39m        If return a float, it should be the `objective` value.\u001b[39;00m\n\u001b[1;32m    <a href='file:///home/lizard/.local/lib/python3.8/site-packages/keras_tuner/engine/hypermodel.py?line=135'>136</a>\u001b[0m \u001b[39m    \"\"\"\u001b[39;00m\n\u001b[0;32m--> <a href='file:///home/lizard/.local/lib/python3.8/site-packages/keras_tuner/engine/hypermodel.py?line=136'>137</a>\u001b[0m     \u001b[39mreturn\u001b[39;00m model\u001b[39m.\u001b[39;49mfit(\u001b[39m*\u001b[39;49margs, \u001b[39m*\u001b[39;49m\u001b[39m*\u001b[39;49mkwargs)\n",
      "File \u001b[0;32m~/.local/lib/python3.8/site-packages/keras/utils/traceback_utils.py:64\u001b[0m, in \u001b[0;36mfilter_traceback.<locals>.error_handler\u001b[0;34m(*args, **kwargs)\u001b[0m\n\u001b[1;32m     <a href='file:///home/lizard/.local/lib/python3.8/site-packages/keras/utils/traceback_utils.py?line=61'>62</a>\u001b[0m filtered_tb \u001b[39m=\u001b[39m \u001b[39mNone\u001b[39;00m\n\u001b[1;32m     <a href='file:///home/lizard/.local/lib/python3.8/site-packages/keras/utils/traceback_utils.py?line=62'>63</a>\u001b[0m \u001b[39mtry\u001b[39;00m:\n\u001b[0;32m---> <a href='file:///home/lizard/.local/lib/python3.8/site-packages/keras/utils/traceback_utils.py?line=63'>64</a>\u001b[0m   \u001b[39mreturn\u001b[39;00m fn(\u001b[39m*\u001b[39;49margs, \u001b[39m*\u001b[39;49m\u001b[39m*\u001b[39;49mkwargs)\n\u001b[1;32m     <a href='file:///home/lizard/.local/lib/python3.8/site-packages/keras/utils/traceback_utils.py?line=64'>65</a>\u001b[0m \u001b[39mexcept\u001b[39;00m \u001b[39mException\u001b[39;00m \u001b[39mas\u001b[39;00m e:  \u001b[39m# pylint: disable=broad-except\u001b[39;00m\n\u001b[1;32m     <a href='file:///home/lizard/.local/lib/python3.8/site-packages/keras/utils/traceback_utils.py?line=65'>66</a>\u001b[0m   filtered_tb \u001b[39m=\u001b[39m _process_traceback_frames(e\u001b[39m.\u001b[39m__traceback__)\n",
      "File \u001b[0;32m~/.local/lib/python3.8/site-packages/keras/engine/training.py:1409\u001b[0m, in \u001b[0;36mModel.fit\u001b[0;34m(self, x, y, batch_size, epochs, verbose, callbacks, validation_split, validation_data, shuffle, class_weight, sample_weight, initial_epoch, steps_per_epoch, validation_steps, validation_batch_size, validation_freq, max_queue_size, workers, use_multiprocessing)\u001b[0m\n\u001b[1;32m   <a href='file:///home/lizard/.local/lib/python3.8/site-packages/keras/engine/training.py?line=1401'>1402</a>\u001b[0m \u001b[39mwith\u001b[39;00m tf\u001b[39m.\u001b[39mprofiler\u001b[39m.\u001b[39mexperimental\u001b[39m.\u001b[39mTrace(\n\u001b[1;32m   <a href='file:///home/lizard/.local/lib/python3.8/site-packages/keras/engine/training.py?line=1402'>1403</a>\u001b[0m     \u001b[39m'\u001b[39m\u001b[39mtrain\u001b[39m\u001b[39m'\u001b[39m,\n\u001b[1;32m   <a href='file:///home/lizard/.local/lib/python3.8/site-packages/keras/engine/training.py?line=1403'>1404</a>\u001b[0m     epoch_num\u001b[39m=\u001b[39mepoch,\n\u001b[1;32m   <a href='file:///home/lizard/.local/lib/python3.8/site-packages/keras/engine/training.py?line=1404'>1405</a>\u001b[0m     step_num\u001b[39m=\u001b[39mstep,\n\u001b[1;32m   <a href='file:///home/lizard/.local/lib/python3.8/site-packages/keras/engine/training.py?line=1405'>1406</a>\u001b[0m     batch_size\u001b[39m=\u001b[39mbatch_size,\n\u001b[1;32m   <a href='file:///home/lizard/.local/lib/python3.8/site-packages/keras/engine/training.py?line=1406'>1407</a>\u001b[0m     _r\u001b[39m=\u001b[39m\u001b[39m1\u001b[39m):\n\u001b[1;32m   <a href='file:///home/lizard/.local/lib/python3.8/site-packages/keras/engine/training.py?line=1407'>1408</a>\u001b[0m   callbacks\u001b[39m.\u001b[39mon_train_batch_begin(step)\n\u001b[0;32m-> <a href='file:///home/lizard/.local/lib/python3.8/site-packages/keras/engine/training.py?line=1408'>1409</a>\u001b[0m   tmp_logs \u001b[39m=\u001b[39m \u001b[39mself\u001b[39;49m\u001b[39m.\u001b[39;49mtrain_function(iterator)\n\u001b[1;32m   <a href='file:///home/lizard/.local/lib/python3.8/site-packages/keras/engine/training.py?line=1409'>1410</a>\u001b[0m   \u001b[39mif\u001b[39;00m data_handler\u001b[39m.\u001b[39mshould_sync:\n\u001b[1;32m   <a href='file:///home/lizard/.local/lib/python3.8/site-packages/keras/engine/training.py?line=1410'>1411</a>\u001b[0m     context\u001b[39m.\u001b[39masync_wait()\n",
      "File \u001b[0;32m~/.local/lib/python3.8/site-packages/tensorflow/python/util/traceback_utils.py:150\u001b[0m, in \u001b[0;36mfilter_traceback.<locals>.error_handler\u001b[0;34m(*args, **kwargs)\u001b[0m\n\u001b[1;32m    <a href='file:///home/lizard/.local/lib/python3.8/site-packages/tensorflow/python/util/traceback_utils.py?line=147'>148</a>\u001b[0m filtered_tb \u001b[39m=\u001b[39m \u001b[39mNone\u001b[39;00m\n\u001b[1;32m    <a href='file:///home/lizard/.local/lib/python3.8/site-packages/tensorflow/python/util/traceback_utils.py?line=148'>149</a>\u001b[0m \u001b[39mtry\u001b[39;00m:\n\u001b[0;32m--> <a href='file:///home/lizard/.local/lib/python3.8/site-packages/tensorflow/python/util/traceback_utils.py?line=149'>150</a>\u001b[0m   \u001b[39mreturn\u001b[39;00m fn(\u001b[39m*\u001b[39;49margs, \u001b[39m*\u001b[39;49m\u001b[39m*\u001b[39;49mkwargs)\n\u001b[1;32m    <a href='file:///home/lizard/.local/lib/python3.8/site-packages/tensorflow/python/util/traceback_utils.py?line=150'>151</a>\u001b[0m \u001b[39mexcept\u001b[39;00m \u001b[39mException\u001b[39;00m \u001b[39mas\u001b[39;00m e:\n\u001b[1;32m    <a href='file:///home/lizard/.local/lib/python3.8/site-packages/tensorflow/python/util/traceback_utils.py?line=151'>152</a>\u001b[0m   filtered_tb \u001b[39m=\u001b[39m _process_traceback_frames(e\u001b[39m.\u001b[39m__traceback__)\n",
      "File \u001b[0;32m~/.local/lib/python3.8/site-packages/tensorflow/python/eager/def_function.py:915\u001b[0m, in \u001b[0;36mFunction.__call__\u001b[0;34m(self, *args, **kwds)\u001b[0m\n\u001b[1;32m    <a href='file:///home/lizard/.local/lib/python3.8/site-packages/tensorflow/python/eager/def_function.py?line=911'>912</a>\u001b[0m compiler \u001b[39m=\u001b[39m \u001b[39m\"\u001b[39m\u001b[39mxla\u001b[39m\u001b[39m\"\u001b[39m \u001b[39mif\u001b[39;00m \u001b[39mself\u001b[39m\u001b[39m.\u001b[39m_jit_compile \u001b[39melse\u001b[39;00m \u001b[39m\"\u001b[39m\u001b[39mnonXla\u001b[39m\u001b[39m\"\u001b[39m\n\u001b[1;32m    <a href='file:///home/lizard/.local/lib/python3.8/site-packages/tensorflow/python/eager/def_function.py?line=913'>914</a>\u001b[0m \u001b[39mwith\u001b[39;00m OptionalXlaContext(\u001b[39mself\u001b[39m\u001b[39m.\u001b[39m_jit_compile):\n\u001b[0;32m--> <a href='file:///home/lizard/.local/lib/python3.8/site-packages/tensorflow/python/eager/def_function.py?line=914'>915</a>\u001b[0m   result \u001b[39m=\u001b[39m \u001b[39mself\u001b[39;49m\u001b[39m.\u001b[39;49m_call(\u001b[39m*\u001b[39;49margs, \u001b[39m*\u001b[39;49m\u001b[39m*\u001b[39;49mkwds)\n\u001b[1;32m    <a href='file:///home/lizard/.local/lib/python3.8/site-packages/tensorflow/python/eager/def_function.py?line=916'>917</a>\u001b[0m new_tracing_count \u001b[39m=\u001b[39m \u001b[39mself\u001b[39m\u001b[39m.\u001b[39mexperimental_get_tracing_count()\n\u001b[1;32m    <a href='file:///home/lizard/.local/lib/python3.8/site-packages/tensorflow/python/eager/def_function.py?line=917'>918</a>\u001b[0m without_tracing \u001b[39m=\u001b[39m (tracing_count \u001b[39m==\u001b[39m new_tracing_count)\n",
      "File \u001b[0;32m~/.local/lib/python3.8/site-packages/tensorflow/python/eager/def_function.py:947\u001b[0m, in \u001b[0;36mFunction._call\u001b[0;34m(self, *args, **kwds)\u001b[0m\n\u001b[1;32m    <a href='file:///home/lizard/.local/lib/python3.8/site-packages/tensorflow/python/eager/def_function.py?line=943'>944</a>\u001b[0m   \u001b[39mself\u001b[39m\u001b[39m.\u001b[39m_lock\u001b[39m.\u001b[39mrelease()\n\u001b[1;32m    <a href='file:///home/lizard/.local/lib/python3.8/site-packages/tensorflow/python/eager/def_function.py?line=944'>945</a>\u001b[0m   \u001b[39m# In this case we have created variables on the first call, so we run the\u001b[39;00m\n\u001b[1;32m    <a href='file:///home/lizard/.local/lib/python3.8/site-packages/tensorflow/python/eager/def_function.py?line=945'>946</a>\u001b[0m   \u001b[39m# defunned version which is guaranteed to never create variables.\u001b[39;00m\n\u001b[0;32m--> <a href='file:///home/lizard/.local/lib/python3.8/site-packages/tensorflow/python/eager/def_function.py?line=946'>947</a>\u001b[0m   \u001b[39mreturn\u001b[39;00m \u001b[39mself\u001b[39;49m\u001b[39m.\u001b[39;49m_stateless_fn(\u001b[39m*\u001b[39;49margs, \u001b[39m*\u001b[39;49m\u001b[39m*\u001b[39;49mkwds)  \u001b[39m# pylint: disable=not-callable\u001b[39;00m\n\u001b[1;32m    <a href='file:///home/lizard/.local/lib/python3.8/site-packages/tensorflow/python/eager/def_function.py?line=947'>948</a>\u001b[0m \u001b[39melif\u001b[39;00m \u001b[39mself\u001b[39m\u001b[39m.\u001b[39m_stateful_fn \u001b[39mis\u001b[39;00m \u001b[39mnot\u001b[39;00m \u001b[39mNone\u001b[39;00m:\n\u001b[1;32m    <a href='file:///home/lizard/.local/lib/python3.8/site-packages/tensorflow/python/eager/def_function.py?line=948'>949</a>\u001b[0m   \u001b[39m# Release the lock early so that multiple threads can perform the call\u001b[39;00m\n\u001b[1;32m    <a href='file:///home/lizard/.local/lib/python3.8/site-packages/tensorflow/python/eager/def_function.py?line=949'>950</a>\u001b[0m   \u001b[39m# in parallel.\u001b[39;00m\n\u001b[1;32m    <a href='file:///home/lizard/.local/lib/python3.8/site-packages/tensorflow/python/eager/def_function.py?line=950'>951</a>\u001b[0m   \u001b[39mself\u001b[39m\u001b[39m.\u001b[39m_lock\u001b[39m.\u001b[39mrelease()\n",
      "File \u001b[0;32m~/.local/lib/python3.8/site-packages/tensorflow/python/eager/function.py:2453\u001b[0m, in \u001b[0;36mFunction.__call__\u001b[0;34m(self, *args, **kwargs)\u001b[0m\n\u001b[1;32m   <a href='file:///home/lizard/.local/lib/python3.8/site-packages/tensorflow/python/eager/function.py?line=2449'>2450</a>\u001b[0m \u001b[39mwith\u001b[39;00m \u001b[39mself\u001b[39m\u001b[39m.\u001b[39m_lock:\n\u001b[1;32m   <a href='file:///home/lizard/.local/lib/python3.8/site-packages/tensorflow/python/eager/function.py?line=2450'>2451</a>\u001b[0m   (graph_function,\n\u001b[1;32m   <a href='file:///home/lizard/.local/lib/python3.8/site-packages/tensorflow/python/eager/function.py?line=2451'>2452</a>\u001b[0m    filtered_flat_args) \u001b[39m=\u001b[39m \u001b[39mself\u001b[39m\u001b[39m.\u001b[39m_maybe_define_function(args, kwargs)\n\u001b[0;32m-> <a href='file:///home/lizard/.local/lib/python3.8/site-packages/tensorflow/python/eager/function.py?line=2452'>2453</a>\u001b[0m \u001b[39mreturn\u001b[39;00m graph_function\u001b[39m.\u001b[39;49m_call_flat(\n\u001b[1;32m   <a href='file:///home/lizard/.local/lib/python3.8/site-packages/tensorflow/python/eager/function.py?line=2453'>2454</a>\u001b[0m     filtered_flat_args, captured_inputs\u001b[39m=\u001b[39;49mgraph_function\u001b[39m.\u001b[39;49mcaptured_inputs)\n",
      "File \u001b[0;32m~/.local/lib/python3.8/site-packages/tensorflow/python/eager/function.py:1860\u001b[0m, in \u001b[0;36mConcreteFunction._call_flat\u001b[0;34m(self, args, captured_inputs, cancellation_manager)\u001b[0m\n\u001b[1;32m   <a href='file:///home/lizard/.local/lib/python3.8/site-packages/tensorflow/python/eager/function.py?line=1855'>1856</a>\u001b[0m possible_gradient_type \u001b[39m=\u001b[39m gradients_util\u001b[39m.\u001b[39mPossibleTapeGradientTypes(args)\n\u001b[1;32m   <a href='file:///home/lizard/.local/lib/python3.8/site-packages/tensorflow/python/eager/function.py?line=1856'>1857</a>\u001b[0m \u001b[39mif\u001b[39;00m (possible_gradient_type \u001b[39m==\u001b[39m gradients_util\u001b[39m.\u001b[39mPOSSIBLE_GRADIENT_TYPES_NONE\n\u001b[1;32m   <a href='file:///home/lizard/.local/lib/python3.8/site-packages/tensorflow/python/eager/function.py?line=1857'>1858</a>\u001b[0m     \u001b[39mand\u001b[39;00m executing_eagerly):\n\u001b[1;32m   <a href='file:///home/lizard/.local/lib/python3.8/site-packages/tensorflow/python/eager/function.py?line=1858'>1859</a>\u001b[0m   \u001b[39m# No tape is watching; skip to running the function.\u001b[39;00m\n\u001b[0;32m-> <a href='file:///home/lizard/.local/lib/python3.8/site-packages/tensorflow/python/eager/function.py?line=1859'>1860</a>\u001b[0m   \u001b[39mreturn\u001b[39;00m \u001b[39mself\u001b[39m\u001b[39m.\u001b[39m_build_call_outputs(\u001b[39mself\u001b[39;49m\u001b[39m.\u001b[39;49m_inference_function\u001b[39m.\u001b[39;49mcall(\n\u001b[1;32m   <a href='file:///home/lizard/.local/lib/python3.8/site-packages/tensorflow/python/eager/function.py?line=1860'>1861</a>\u001b[0m       ctx, args, cancellation_manager\u001b[39m=\u001b[39;49mcancellation_manager))\n\u001b[1;32m   <a href='file:///home/lizard/.local/lib/python3.8/site-packages/tensorflow/python/eager/function.py?line=1861'>1862</a>\u001b[0m forward_backward \u001b[39m=\u001b[39m \u001b[39mself\u001b[39m\u001b[39m.\u001b[39m_select_forward_and_backward_functions(\n\u001b[1;32m   <a href='file:///home/lizard/.local/lib/python3.8/site-packages/tensorflow/python/eager/function.py?line=1862'>1863</a>\u001b[0m     args,\n\u001b[1;32m   <a href='file:///home/lizard/.local/lib/python3.8/site-packages/tensorflow/python/eager/function.py?line=1863'>1864</a>\u001b[0m     possible_gradient_type,\n\u001b[1;32m   <a href='file:///home/lizard/.local/lib/python3.8/site-packages/tensorflow/python/eager/function.py?line=1864'>1865</a>\u001b[0m     executing_eagerly)\n\u001b[1;32m   <a href='file:///home/lizard/.local/lib/python3.8/site-packages/tensorflow/python/eager/function.py?line=1865'>1866</a>\u001b[0m forward_function, args_with_tangents \u001b[39m=\u001b[39m forward_backward\u001b[39m.\u001b[39mforward()\n",
      "File \u001b[0;32m~/.local/lib/python3.8/site-packages/tensorflow/python/eager/function.py:497\u001b[0m, in \u001b[0;36m_EagerDefinedFunction.call\u001b[0;34m(self, ctx, args, cancellation_manager)\u001b[0m\n\u001b[1;32m    <a href='file:///home/lizard/.local/lib/python3.8/site-packages/tensorflow/python/eager/function.py?line=494'>495</a>\u001b[0m \u001b[39mwith\u001b[39;00m _InterpolateFunctionError(\u001b[39mself\u001b[39m):\n\u001b[1;32m    <a href='file:///home/lizard/.local/lib/python3.8/site-packages/tensorflow/python/eager/function.py?line=495'>496</a>\u001b[0m   \u001b[39mif\u001b[39;00m cancellation_manager \u001b[39mis\u001b[39;00m \u001b[39mNone\u001b[39;00m:\n\u001b[0;32m--> <a href='file:///home/lizard/.local/lib/python3.8/site-packages/tensorflow/python/eager/function.py?line=496'>497</a>\u001b[0m     outputs \u001b[39m=\u001b[39m execute\u001b[39m.\u001b[39;49mexecute(\n\u001b[1;32m    <a href='file:///home/lizard/.local/lib/python3.8/site-packages/tensorflow/python/eager/function.py?line=497'>498</a>\u001b[0m         \u001b[39mstr\u001b[39;49m(\u001b[39mself\u001b[39;49m\u001b[39m.\u001b[39;49msignature\u001b[39m.\u001b[39;49mname),\n\u001b[1;32m    <a href='file:///home/lizard/.local/lib/python3.8/site-packages/tensorflow/python/eager/function.py?line=498'>499</a>\u001b[0m         num_outputs\u001b[39m=\u001b[39;49m\u001b[39mself\u001b[39;49m\u001b[39m.\u001b[39;49m_num_outputs,\n\u001b[1;32m    <a href='file:///home/lizard/.local/lib/python3.8/site-packages/tensorflow/python/eager/function.py?line=499'>500</a>\u001b[0m         inputs\u001b[39m=\u001b[39;49margs,\n\u001b[1;32m    <a href='file:///home/lizard/.local/lib/python3.8/site-packages/tensorflow/python/eager/function.py?line=500'>501</a>\u001b[0m         attrs\u001b[39m=\u001b[39;49mattrs,\n\u001b[1;32m    <a href='file:///home/lizard/.local/lib/python3.8/site-packages/tensorflow/python/eager/function.py?line=501'>502</a>\u001b[0m         ctx\u001b[39m=\u001b[39;49mctx)\n\u001b[1;32m    <a href='file:///home/lizard/.local/lib/python3.8/site-packages/tensorflow/python/eager/function.py?line=502'>503</a>\u001b[0m   \u001b[39melse\u001b[39;00m:\n\u001b[1;32m    <a href='file:///home/lizard/.local/lib/python3.8/site-packages/tensorflow/python/eager/function.py?line=503'>504</a>\u001b[0m     outputs \u001b[39m=\u001b[39m execute\u001b[39m.\u001b[39mexecute_with_cancellation(\n\u001b[1;32m    <a href='file:///home/lizard/.local/lib/python3.8/site-packages/tensorflow/python/eager/function.py?line=504'>505</a>\u001b[0m         \u001b[39mstr\u001b[39m(\u001b[39mself\u001b[39m\u001b[39m.\u001b[39msignature\u001b[39m.\u001b[39mname),\n\u001b[1;32m    <a href='file:///home/lizard/.local/lib/python3.8/site-packages/tensorflow/python/eager/function.py?line=505'>506</a>\u001b[0m         num_outputs\u001b[39m=\u001b[39m\u001b[39mself\u001b[39m\u001b[39m.\u001b[39m_num_outputs,\n\u001b[0;32m   (...)\u001b[0m\n\u001b[1;32m    <a href='file:///home/lizard/.local/lib/python3.8/site-packages/tensorflow/python/eager/function.py?line=508'>509</a>\u001b[0m         ctx\u001b[39m=\u001b[39mctx,\n\u001b[1;32m    <a href='file:///home/lizard/.local/lib/python3.8/site-packages/tensorflow/python/eager/function.py?line=509'>510</a>\u001b[0m         cancellation_manager\u001b[39m=\u001b[39mcancellation_manager)\n",
      "File \u001b[0;32m~/.local/lib/python3.8/site-packages/tensorflow/python/eager/execute.py:54\u001b[0m, in \u001b[0;36mquick_execute\u001b[0;34m(op_name, num_outputs, inputs, attrs, ctx, name)\u001b[0m\n\u001b[1;32m     <a href='file:///home/lizard/.local/lib/python3.8/site-packages/tensorflow/python/eager/execute.py?line=51'>52</a>\u001b[0m \u001b[39mtry\u001b[39;00m:\n\u001b[1;32m     <a href='file:///home/lizard/.local/lib/python3.8/site-packages/tensorflow/python/eager/execute.py?line=52'>53</a>\u001b[0m   ctx\u001b[39m.\u001b[39mensure_initialized()\n\u001b[0;32m---> <a href='file:///home/lizard/.local/lib/python3.8/site-packages/tensorflow/python/eager/execute.py?line=53'>54</a>\u001b[0m   tensors \u001b[39m=\u001b[39m pywrap_tfe\u001b[39m.\u001b[39;49mTFE_Py_Execute(ctx\u001b[39m.\u001b[39;49m_handle, device_name, op_name,\n\u001b[1;32m     <a href='file:///home/lizard/.local/lib/python3.8/site-packages/tensorflow/python/eager/execute.py?line=54'>55</a>\u001b[0m                                       inputs, attrs, num_outputs)\n\u001b[1;32m     <a href='file:///home/lizard/.local/lib/python3.8/site-packages/tensorflow/python/eager/execute.py?line=55'>56</a>\u001b[0m \u001b[39mexcept\u001b[39;00m core\u001b[39m.\u001b[39m_NotOkStatusException \u001b[39mas\u001b[39;00m e:\n\u001b[1;32m     <a href='file:///home/lizard/.local/lib/python3.8/site-packages/tensorflow/python/eager/execute.py?line=56'>57</a>\u001b[0m   \u001b[39mif\u001b[39;00m name \u001b[39mis\u001b[39;00m \u001b[39mnot\u001b[39;00m \u001b[39mNone\u001b[39;00m:\n",
      "\u001b[0;31mKeyboardInterrupt\u001b[0m: "
     ]
    }
   ],
   "source": [
    "tuner.search(X_train_ann, y_train_ann, epochs=5, validation_data=(X_test_ann, y_test_ann))\n",
    "best_model = tuner.get_best_models()[0]"
   ]
  }
 ],
 "metadata": {
  "kernelspec": {
   "display_name": "Python 3.8.10 64-bit",
   "language": "python",
   "name": "python3"
  },
  "language_info": {
   "codemirror_mode": {
    "name": "ipython",
    "version": 3
   },
   "file_extension": ".py",
   "mimetype": "text/x-python",
   "name": "python",
   "nbconvert_exporter": "python",
   "pygments_lexer": "ipython3",
   "version": "3.8.10"
  },
  "vscode": {
   "interpreter": {
    "hash": "916dbcbb3f70747c44a77c7bcd40155683ae19c65e1c03b4aa3499c5328201f1"
   }
  }
 },
 "nbformat": 4,
 "nbformat_minor": 5
}
